{
 "cells": [
  {
   "cell_type": "markdown",
   "id": "c64544a1",
   "metadata": {},
   "source": [
    "# Empirical Analysis\n",
    "\n",
    "# Table of Contents\n",
    "\n",
    "* [Section 1: Static Analysis, constant $\\beta$](#static_analysis)\n",
    "\n",
    "    * [Section 1.1: Static OLS](#static_ols)\n",
    "  \n",
    "        * [Section 1.1.1: Daily]\n",
    "    \n",
    "        * [Section 1.1.2: Weekly]\n",
    "    \n",
    "        * [Section 1.1.3: Weekday]\n",
    "        \n",
    "    * [Section 1.2: Subsample Analysis](#subsample)\n",
    "  \n",
    "        * [Section 1.2.1: Daily]\n",
    "    \n",
    "        * [Section 1.2.2: Weekly]\n",
    "    \n",
    "        * [Section 1.2.3: Weekday]\n",
    "        \n",
    "    * [Section 1.3: Autocorrelation Investigation](#static_auto)\n",
    "        \n",
    "        * [Section 1.3.1: Daily]\n",
    "    \n",
    "        * [Section 1.3.2: Weekly]\n",
    "    \n",
    "        * [Section 1.3.3: Weekday]\n",
    "    \n",
    "    * [Section 1.4: Adjusted Case Numbers](#static_adjust_case)\n",
    "        \n",
    "        * [Section 1.4.1: Daily]\n",
    "    \n",
    "        * [Section 1.4.2: Weekly]\n",
    "    \n",
    "        * [Section 1.4.3: Weekday]   \n",
    "        \n",
    "       \n",
    "* [Section 2: Dynamic Analysis, time-varying $\\beta$](#dynamic_analysis)\n",
    "\n",
    "     * [Section 2.1: Rolling OLS](#dynamic_rolling_ols)\n",
    "    \n",
    "        * [Section 2.1.1: Daily]\n",
    "  \n",
    "        * [Section 2.1.2: Weekly]\n",
    "  \n",
    "        * [Section 2.1.3: Weekday]\n",
    "        \n",
    "     * [Section 2.2: Score Model](#dynamic_score_model)\n",
    "\n",
    "        * [Section 2.2.1: Daily]\n",
    "    \n",
    "        * [Section 2.2.2: Weekly]\n",
    "      \n",
    "        * [Section 2.2.3: Weekday]\n",
    "      \n",
    "     * [Section 2.3: Score Out-of-sample Forecast](#dynamic_out_sample)\n",
    "     \n",
    "        * [Section 2.3.1: Daily]\n",
    "   \n",
    "        * [Section 2.3.2: Weekly]\n",
    "  \n",
    "        * [Section 2.3.3: Weekday]\n",
    "      \n",
    "     * [Section 2.4: Score Adjusted Case Numbers](#dynamic_adjust_case)\n",
    "      \n",
    "        * [Section 2.4.1: Daily]\n",
    " \n",
    "        * [Section 2.4.2: Weekly]\n",
    "  \n",
    "        * [Section 2.4.3: Weekday]\n",
    "        \n",
    "     * [Section 2.5: Autocorrelation Investigation](#dynamic_auto)\n",
    "        \n",
    "        * [Section 2.5.1: Daily]\n",
    "        \n",
    "        * [Section 2.5.2: Weekly]\n",
    "        \n",
    "        * [Section 2.5.3: Weekday]\n",
    "  \n",
    "  \n",
    "* [Section 3: Municipality Data Analysis, Panel Data](#muni_analysis)\n",
    "\n",
    "     * [Section 3.1: Static Analysis](#muni_static_analysis)\n",
    "    \n",
    "         * [Section 3.1.1: Daily]\n",
    "  \n",
    "         * [Section 3.1.2: Weekly]\n",
    "  \n",
    "         * [Section 3.1.3: Weekday]\n",
    "    \n",
    "     * [Section 3.2: Dynamic Analysis](#muni_dynamic_analysis)\n",
    "    \n",
    "         * [Section 3.2.1: Daily]\n",
    " \n",
    "         * [Section 3.2.2: Weekly]\n",
    "  \n",
    "         * [Section 3.2.3: Weekday]\n",
    "         \n",
    "     * [Section 3.3: Explore Correlation between $\\beta$ and Data](#beta_and_data)\n",
    "  "
   ]
  },
  {
   "cell_type": "code",
   "execution_count": null,
   "id": "57414cf6",
   "metadata": {},
   "outputs": [],
   "source": [
    "using CSV, DataFrames, Plots, StatsPlots, Dates, GLM;\n",
    "using Pipe, StatsPlots, Underscores, Statistics, StatsBase, RollingFunctions;"
   ]
  },
  {
   "cell_type": "code",
   "execution_count": null,
   "id": "10fe2074",
   "metadata": {},
   "outputs": [],
   "source": [
    "# import data and clean\n",
    "date_of_first_obs = Date(\"2020-07-01\");\n",
    "windowsize = 7; # set window size for aggregating data into windowsize-ly data\n",
    "sub_sample_size = 90;  # 3-months\n",
    "\n",
    "daily = CSV.File(\"pos.csv\") |> DataFrame;\n",
    "n = nrow(daily);\n",
    "delete!(daily, n-1:n);  # last two rows contain some words instead of data, remomve them\n",
    "daily = rename(daily, :Tested => :Nt, :NewPositive => :Ct) |> DataFrame; # rename Nt and Ct\n",
    "daily.Nt .= replace.(daily.Nt, \".\" => \"\");  # There are dots in numbers, i.e. one thousand is written as 1.000, remove dots\n",
    "daily.Nt .= replace.(daily.Nt, \" \" => \"\");\n",
    "daily.Ct .= replace.(daily.Ct, \".\" => \"\");\n",
    "daily.Ct .= replace.(daily.Ct, \" \" => \"\");\n",
    "daily.Nt = parse.(Int, daily.Nt); # change data type from string to integers\n",
    "daily.Ct = parse.(Int, daily.Ct);\n",
    "daily.logNt = log.(daily.Nt); # create log(Nt)\n",
    "daily.logCt = log.(daily.Ct); # create log(Ct)\n",
    "daily.ratio = daily.Ct ./ daily.Nt; # calculate positive ratio\n",
    "daily.ratio = replace!(daily.ratio, NaN => 0); # NaN are created bc some Nt=0, replace NaN with 0\n",
    "daily.Date = Date.(daily.Date, \"yyyy-mm-dd\"); # change data type of Date from string to Date\n",
    "n = nrow(daily);\n",
    "\n",
    "# create daily data set \n",
    "national_daily = @pipe daily |> \n",
    "subset(_, :logCt => c -> .!isinf.(c)) |> \n",
    "select(_, :Date, :logCt, :logNt, :Ct, :Nt) |>\n",
    "transform(_, :logCt => (x -> x - lag(x)) => :diff_logCt, \n",
    "             :logNt => (x -> x - lag(x)) => :diff_logNt) |>\n",
    "dropmissing(_) |>\n",
    "subset(_, :Date => ByRow(D -> D >= date_of_first_obs)); # drop data before 2020-07-01 ;\n",
    "N_daily = nrow(national_daily);\n",
    "\n",
    "# create rolling weekly data set\n",
    "national_weekly = select(daily,\n",
    "    :Date,\n",
    "    :Nt => (v -> runmean(v, windowsize) * windowsize) => :Nt, \n",
    "    :Ct => (v -> runmean(v, windowsize) * windowsize) => :Ct)\n",
    "delete!(national_weekly, 1: (windowsize - 1));\n",
    "national_weekly = @pipe national_weekly |> \n",
    "transform(_, :Nt => (x -> log.(x)) => :logNt,\n",
    "             :Ct => (x -> log.(x)) => :logCt) |> \n",
    "subset(_, :logCt => c -> .!isinf.(c)) |> \n",
    "transform(_, :logCt => (x -> x - lag(x)) => :diff_logCt, \n",
    "             :logNt => (x -> x - lag(x)) => :diff_logNt) |> \n",
    "dropmissing(_) |>\n",
    "subset(_, :Date => ByRow(D -> D >= date_of_first_obs)); # drop data before 2020-07-01 ;\n",
    "N_weekly = nrow(national_weekly);\n",
    "\n",
    "# create weekday data set, 7-day difference\n",
    "national_7dd = @pipe daily |> \n",
    "subset(_, :logCt => c -> .!isinf.(c)) |> \n",
    "select(_, :Date, :logCt, :logNt, :Ct, :Nt) |>\n",
    "transform(_, :logCt => (x -> x - lag(x, 7)) => :diff_logCt, \n",
    "             :logNt => (x -> x - lag(x, 7)) => :diff_logNt) |>\n",
    "dropmissing(_) |>\n",
    "subset(_, :Date => ByRow(D -> D >= date_of_first_obs)); # drop data before 2020-07-01 ;\n",
    "N_7dd = nrow(national_7dd);\n",
    "\n",
    "# add sub-sample index to data sets\n",
    "national_daily.subsample = string.(Int.(repeat(1:ceil(N_daily/sub_sample_size), \n",
    "            inner = sub_sample_size)[1:N_daily]));\n",
    "national_weekly.subsample = string.(Int.(repeat(1:ceil(N_weekly/sub_sample_size), \n",
    "            inner = sub_sample_size)[1:N_weekly]));\n",
    "national_7dd.subsample = string.(Int.(repeat(1:ceil(N_7dd/sub_sample_size), \n",
    "            inner = sub_sample_size)[1:N_7dd]));"
   ]
  },
  {
   "cell_type": "markdown",
   "id": "2af9b390",
   "metadata": {},
   "source": [
    "# Section 1: Static Analysis, constant $\\beta$ <a class=\"anchor\" id=\"static_analysis\"></a>\n",
    "\n",
    "Define $N_t$ as number of tests conducted at day $t$; $C_t$ as number of observed positive cases at day $t$.\n",
    "\n",
    "Let $c_t = \\log C_t$ and $n_t = \\log N_t$, then \n",
    "\n",
    "$$\\Delta c_t = \\beta \\Delta n_t + U_t.$$\n",
    "\n",
    "In each of the subsections below, there will be time plots of the key variables, scatter plots of $\\Delta c_t$ against\n",
    "$\\Delta n_t$, OLS estimation results; where in the scatter plots, the vertical and horizontal lines show the 0.5% and 99.5% quantile of x and y axis respectively."
   ]
  },
  {
   "cell_type": "markdown",
   "id": "08c5e968",
   "metadata": {},
   "source": [
    "## Section 1.1: Static OLS<a class=\"anchor\" id=\"static_ols\"></a>"
   ]
  },
  {
   "cell_type": "markdown",
   "id": "294115c1",
   "metadata": {},
   "source": [
    "### Section 1.1.1: Daily"
   ]
  },
  {
   "cell_type": "code",
   "execution_count": null,
   "id": "352e380c",
   "metadata": {
    "scrolled": true
   },
   "outputs": [],
   "source": [
    "pnt_daily = @df national_daily plot(:Date, :Nt, yaxis = :log, ylabel = \"Nt values\",\n",
    "    label = \"log(Nt)\", color = \"blue\", leg = :bottomright);\n",
    "pct_daily = @df national_daily plot(:Date, :Ct, yaxis = :log, ylabel = \"Ct values\",\n",
    "    label = \"log(Ct)\", color = \"red\", leg = :bottomright);\n",
    "plot(pnt_daily, pct_daily, layout = (1, 2), size = (700, 300))"
   ]
  },
  {
   "cell_type": "code",
   "execution_count": null,
   "id": "ec8bcd0b",
   "metadata": {},
   "outputs": [],
   "source": [
    "pdnt_daily = @df national_daily plot(:Date, :diff_logNt, \n",
    "    label = \"Δ nt\", color = \"blue\", leg = :bottomright);\n",
    "pdct_daily = @df national_daily plot(:Date, :diff_logCt, \n",
    "    label = \"Δ ct\", color = \"red\", leg = :bottomright);\n",
    "plot(pdnt_daily, pdct_daily, layout = (1, 2), size = (900, 300))"
   ]
  },
  {
   "cell_type": "code",
   "execution_count": null,
   "id": "bc010a9a",
   "metadata": {},
   "outputs": [],
   "source": [
    "ols_national_daily = lm(@formula(diff_logCt ~ diff_logNt), national_daily)"
   ]
  },
  {
   "cell_type": "code",
   "execution_count": null,
   "id": "96c3bdf3",
   "metadata": {},
   "outputs": [],
   "source": [
    "@df national_daily scatter(:diff_logNt, :diff_logCt, label=:none)\n",
    "@df national_daily plot!(:diff_logNt, :diff_logNt * coef(ols_national_daily)[2], \n",
    "                      label = string(\"(slope = \",round(coef(ols_national_daily)[2], digits=3), \")\"),\n",
    "                       xlabel = \"Δ nt\",\n",
    "                      ylabel = \"Δ ct\",\n",
    "                      title = \"Daily\")\n",
    "@df national_daily hline!([quantile(:diff_logCt, 0.005)], color = :blue, label=:none)\n",
    "@df national_daily hline!([quantile(:diff_logCt, 0.995)], color = :blue, label=:none)\n",
    "@df national_daily vline!([quantile(:diff_logNt, 0.005)], color = :blue, label=:none)\n",
    "@df national_daily vline!([quantile(:diff_logNt, 0.995)], color = :blue, label=:none)"
   ]
  },
  {
   "cell_type": "markdown",
   "id": "68ed9006",
   "metadata": {},
   "source": [
    "### Section 1.1.2: Weekly"
   ]
  },
  {
   "cell_type": "code",
   "execution_count": null,
   "id": "16802b0d",
   "metadata": {},
   "outputs": [],
   "source": [
    "pnt_weekly = @df national_weekly plot(:Date, :Nt, yaxis = :log, ylabel = \"Nt values\",\n",
    "    label = \"log(Nt)\", color = \"blue\", leg = :bottomright);\n",
    "pct_weekly = @df national_weekly plot(:Date, :Ct, yaxis = :log, ylabel = \"Ct values\",\n",
    "    label = \"log(Ct)\", color = \"red\", leg = :bottomright);\n",
    "plot(pnt_weekly, pct_weekly, layout = (1, 2), size = (700, 300))"
   ]
  },
  {
   "cell_type": "code",
   "execution_count": null,
   "id": "6f587a1e",
   "metadata": {},
   "outputs": [],
   "source": [
    "pdnt_weekly = @df national_weekly plot(:Date, :diff_logNt, \n",
    "    label = \"Δ nt\", color = \"blue\", leg = :bottomright);\n",
    "pdct_weekly = @df national_weekly plot(:Date, :diff_logCt, \n",
    "    label = \"Δ ct\", color = \"red\", leg = :bottomright);\n",
    "plot(pdnt_weekly, pdct_weekly, layout = (1, 2), size = (900, 300))"
   ]
  },
  {
   "cell_type": "code",
   "execution_count": null,
   "id": "345abf9a",
   "metadata": {},
   "outputs": [],
   "source": [
    "ols_national_weekly = lm(@formula(diff_logCt ~ diff_logNt), national_weekly)"
   ]
  },
  {
   "cell_type": "code",
   "execution_count": null,
   "id": "d8f960ab",
   "metadata": {},
   "outputs": [],
   "source": [
    "@df national_weekly scatter(:diff_logNt, :diff_logCt, label=:none)\n",
    "@df national_weekly plot!(:diff_logNt, :diff_logNt * coef(ols_national_weekly)[2], \n",
    "                      label = string(\"(slope = \",round(coef(ols_national_weekly)[2],digits=3), \")\"),\n",
    "                       xlabel = \"Δ nt\",\n",
    "                      ylabel = \"Δ ct\",\n",
    "                      title = \"Weekly\")\n",
    "@df national_weekly hline!([quantile(:diff_logCt, 0.005)], color = :blue, label=:none)\n",
    "@df national_weekly hline!([quantile(:diff_logCt, 0.995)], color = :blue, label=:none)\n",
    "@df national_weekly vline!([quantile(:diff_logNt, 0.005)], color = :blue, label=:none)\n",
    "@df national_weekly vline!([quantile(:diff_logNt, 0.995)], color = :blue, label=:none)"
   ]
  },
  {
   "cell_type": "markdown",
   "id": "6531df4a",
   "metadata": {},
   "source": [
    "### Section 1.1.3: Weekday"
   ]
  },
  {
   "cell_type": "code",
   "execution_count": null,
   "id": "087bdfb4",
   "metadata": {},
   "outputs": [],
   "source": [
    "pdnt_7dd = @df national_7dd plot(:Date, :Nt, yaxis = :log, ylabel = \"Nt values\",\n",
    "    label = \"Δ nt\", color = \"blue\", leg = :bottomright);\n",
    "pdct_7dd = @df national_7dd plot(:Date, :Ct, yaxis = :log, ylabel = \"Ct values\",\n",
    "    label = \"Δ ct\", color = \"red\", leg = :bottomright);\n",
    "plot(pdnt_7dd, pdct_7dd, layout = (1, 2), size = (700, 300))"
   ]
  },
  {
   "cell_type": "code",
   "execution_count": null,
   "id": "7b6500b1",
   "metadata": {},
   "outputs": [],
   "source": [
    "ols_national_7dd = lm(@formula(diff_logCt ~ diff_logNt), national_7dd)"
   ]
  },
  {
   "cell_type": "code",
   "execution_count": null,
   "id": "bc127ccb",
   "metadata": {},
   "outputs": [],
   "source": [
    "@df national_7dd scatter(:diff_logNt, :diff_logCt, label=:none)\n",
    "@df national_7dd plot!(:diff_logNt, :diff_logNt * coef(ols_national_7dd)[2], \n",
    "                      label = string(\"(slope = \",round(coef(ols_national_7dd)[2],digits=3), \")\"),\n",
    "                       xlabel = \"Δ7 nt\",\n",
    "                      ylabel = \"Δ7 ct\",\n",
    "                      title = \"Weekday\")\n",
    "@df national_7dd hline!([quantile(:diff_logCt, 0.005)], color = :blue, label=:none)\n",
    "@df national_7dd hline!([quantile(:diff_logCt, 0.995)], color = :blue, label=:none)\n",
    "@df national_7dd vline!([quantile(:diff_logNt, 0.005)], color = :blue, label=:none)\n",
    "@df national_7dd vline!([quantile(:diff_logNt, 0.995)], color = :blue, label=:none)"
   ]
  },
  {
   "cell_type": "markdown",
   "id": "25d3e2b3",
   "metadata": {},
   "source": [
    "## Section 1.2: Subsample Analysis <a class=\"anchor\" id=\"subsample\"></a>\n",
    "\n",
    "In this section, we divide the national data into subsamples, and redo the static analysis."
   ]
  },
  {
   "cell_type": "markdown",
   "id": "93453cf4",
   "metadata": {},
   "source": [
    "### Section 1.2.1: Daily "
   ]
  },
  {
   "cell_type": "code",
   "execution_count": null,
   "id": "894ed66b",
   "metadata": {},
   "outputs": [],
   "source": [
    "lm(@formula(diff_logCt ~ 0 + subsample + diff_logNt & subsample), national_daily)"
   ]
  },
  {
   "cell_type": "code",
   "execution_count": null,
   "id": "9352f916",
   "metadata": {},
   "outputs": [],
   "source": [
    "p = [];\n",
    "national_daily_subsample = groupby(national_daily, :subsample);\n",
    "p_i = 0;\n",
    "for g in national_daily_subsample\n",
    "    p_i = p_i + 1;\n",
    "    start_date = g.Date[1];\n",
    "    ols = lm(@formula(diff_logCt ~ diff_logNt), g);\n",
    "    pg = @df g scatter(:diff_logNt, :diff_logCt, label=:none)\n",
    "         @df g plot!(:diff_logNt, :diff_logNt * coef(ols)[2], \n",
    "                      label = string(\"(slope = \",round(coef(ols)[2],digits=3), \")\"),\n",
    "                       xlabel = \"Δ nt\",\n",
    "                      ylabel = \"Δ ct\",\n",
    "                      title = string(\"Sample \", p_i, \" from \", start_date))\n",
    "    push!(p, pg)\n",
    "end\n",
    "plot(p..., size = (700, 3000), layout = (Int(length(p)), 1))"
   ]
  },
  {
   "cell_type": "markdown",
   "id": "e0e0ef97",
   "metadata": {},
   "source": [
    "### Section 1.2.2: Weekly"
   ]
  },
  {
   "cell_type": "code",
   "execution_count": null,
   "id": "9fcae10f",
   "metadata": {},
   "outputs": [],
   "source": [
    "lm(@formula(diff_logCt ~ 0 + subsample + diff_logNt & subsample), national_weekly)"
   ]
  },
  {
   "cell_type": "code",
   "execution_count": null,
   "id": "dc7e4cf3",
   "metadata": {},
   "outputs": [],
   "source": [
    "pW = [];\n",
    "national_weekly_subsample = groupby(national_weekly, :subsample);\n",
    "p_i = 0;\n",
    "for g in national_weekly_subsample\n",
    "    p_i = p_i + 1;\n",
    "    start_date = g.Date[1];\n",
    "    ols = lm(@formula(diff_logCt ~ diff_logNt), g);\n",
    "    pg = @df g scatter(:diff_logNt, :diff_logCt, label=:none)\n",
    "         @df g plot!(:diff_logNt, :diff_logNt * coef(ols)[2], \n",
    "                      label = string(\"(slope = \",round(coef(ols)[2],digits=3), \")\"),\n",
    "                       xlabel = \"Δ nt\",\n",
    "                      ylabel = \"Δ ct\",\n",
    "                      title = string(\"Sample \", p_i, \" from \", start_date))\n",
    "    push!(pW, pg)\n",
    "end\n",
    "plot(pW..., size = (700, 3000), layout = (Int(length(p)), 1))"
   ]
  },
  {
   "cell_type": "markdown",
   "id": "ebc4112f",
   "metadata": {},
   "source": [
    "### Section 1.2.3: Weekday"
   ]
  },
  {
   "cell_type": "code",
   "execution_count": null,
   "id": "1bb0140c",
   "metadata": {},
   "outputs": [],
   "source": [
    "lm(@formula(diff_logCt ~ 0 + subsample + diff_logNt & subsample), national_7dd)"
   ]
  },
  {
   "cell_type": "code",
   "execution_count": null,
   "id": "9eb930dc",
   "metadata": {},
   "outputs": [],
   "source": [
    "p7dd = [];\n",
    "national_7dd_subsample = groupby(national_7dd, :subsample);\n",
    "p_i = 0;\n",
    "for g in national_7dd_subsample\n",
    "    start_date = g.Date[1];\n",
    "    p_i = p_i + 1;\n",
    "    ols = lm(@formula(diff_logCt ~ diff_logNt), g);\n",
    "    pg = @df g scatter(:diff_logNt, :diff_logCt, label=:none)\n",
    "         @df g plot!(:diff_logNt, :diff_logNt * coef(ols)[2], \n",
    "                      label = string(\"(slope = \",round(coef(ols)[2],digits=3), \")\"),\n",
    "                       xlabel = \"Δ nt\",\n",
    "                      ylabel = \"Δ ct\",\n",
    "                      title = string(\"Sample \", p_i, \" from \", start_date))\n",
    "    push!(p7dd, pg)\n",
    "end\n",
    "plot(p7dd..., size = (600, 3000), layout = (Int(length(p)), 1))"
   ]
  },
  {
   "cell_type": "markdown",
   "id": "0977a7fc",
   "metadata": {},
   "source": [
    "## Section 1.3: Autocorrelation Investigation<a class=\"anchor\" id=\"static_auto\"></a>"
   ]
  },
  {
   "cell_type": "markdown",
   "id": "76ce2c6d",
   "metadata": {},
   "source": [
    "### Section 1.3.1: Daily"
   ]
  },
  {
   "cell_type": "code",
   "execution_count": null,
   "id": "141d4e17",
   "metadata": {},
   "outputs": [],
   "source": [
    "p1 = plot(bar(autocor(national_daily.diff_logCt, 1:30),  label = :none), \n",
    "    xlabel = \"lag\", title = \"ACF of Δ ct\");\n",
    "p2 = plot(bar(autocor(national_daily.diff_logNt, 1:30),  label = :none), \n",
    "    xlabel = \"lag\", title = \"ACF of Δ nt\");\n",
    "national_daily.ut = national_daily.diff_logCt .- national_daily.diff_logNt * coef(ols_national_daily)[2];\n",
    "p3 = plot(bar(autocor(national_daily.ut, 1:30),  label = :none), \n",
    "    xlabel = \"lag\", title = \"ACF of ut\");\n",
    "plot(p1, p2, p3, layout = (1, 3),  ylims = (-0.5, 0.8), size = (900, 400))"
   ]
  },
  {
   "cell_type": "markdown",
   "id": "e802bfe1",
   "metadata": {},
   "source": [
    "### Section 1.3.2: Weekly"
   ]
  },
  {
   "cell_type": "code",
   "execution_count": null,
   "id": "23334382",
   "metadata": {},
   "outputs": [],
   "source": [
    "p1 = plot(bar(autocor(national_weekly.diff_logCt, 1:30),  label = :none), \n",
    "    xlabel = \"lag\", title = \"ACF of Δ ct\");\n",
    "p2 = plot(bar(autocor(national_weekly.diff_logNt, 1:30),  label = :none), \n",
    "    xlabel = \"lag\", title = \"ACF of Δ nt\");\n",
    "national_weekly.ut = national_weekly.diff_logCt .- national_weekly.diff_logNt * coef(ols_national_weekly)[2];\n",
    "p3 = plot(bar(autocor(national_weekly.ut, 1:30),  label = :none), \n",
    "    xlabel = \"lag\", title = \"ACF of ut\");\n",
    "plot(p1, p2, p3, layout = (1, 3), ylims = (-0.1, 0.85), size = (900, 400))"
   ]
  },
  {
   "cell_type": "markdown",
   "id": "eaf1a1cd",
   "metadata": {},
   "source": [
    "### Section 1.3.3: Weekday"
   ]
  },
  {
   "cell_type": "code",
   "execution_count": null,
   "id": "be700920",
   "metadata": {},
   "outputs": [],
   "source": [
    "p1 = plot(bar(autocor(national_7dd.diff_logCt, 1:30),  label = :none), \n",
    "    xlabel = \"lag\", title = \"ACF of Δ ct\");\n",
    "p2 = plot(bar(autocor(national_7dd.diff_logNt, 1:30),  label = :none), \n",
    "    xlabel = \"lag\", title = \"ACF of Δ nt\");\n",
    "national_7dd.ut = national_7dd.diff_logCt .- national_7dd.diff_logNt * coef(ols_national_7dd)[2];\n",
    "p3 = plot(bar(autocor(national_7dd.ut, 1:30),  label = :none), \n",
    "    xlabel = \"lag\", title = \"ACF of ut\");\n",
    "plot(p1, p2, p3, layout = (1, 3), ylims = (-0.1, 0.85), size = (900, 400))"
   ]
  },
  {
   "cell_type": "markdown",
   "id": "535d2ec8",
   "metadata": {},
   "source": [
    "## Section 1.4: Adjusted Case Numbers<a class=\"anchor\" id=\"static_adjust_case\"></a>\n",
    "\n",
    "For a fixed N,\n",
    "\n",
    "$$\\tilde{C} = C \\left( \\frac{N}{N_t} \\right)^{\\hat{\\beta}}.$$"
   ]
  },
  {
   "cell_type": "markdown",
   "id": "eb5776c5",
   "metadata": {},
   "source": [
    "### Section 1.4.1: Daily"
   ]
  },
  {
   "cell_type": "code",
   "execution_count": null,
   "id": "12fa90e1",
   "metadata": {},
   "outputs": [],
   "source": [
    "fixN_daily = 100000;\n",
    "national_daily.C_tilde = national_daily.Ct .* (fixN_daily ./ national_daily.Nt) .^ coef(ols_national_daily)[2];\n",
    "@df filter(:C_tilde => C_tilde -> !isnan(C_tilde), national_daily) plot(:Date, :C_tilde, yaxis = :log, \n",
    "    label = \"OLS Adjusted log(Ct)\", xlabel = \"Date\", ylabel = \"Values of Ct\")\n",
    "@df filter(:C_tilde => C_tilde -> !isnan(C_tilde), national_daily) plot!(:Date, :Ct, yaxis = :log, \n",
    "    label = \"Observed log(Ct)\", leg = :bottomright)"
   ]
  },
  {
   "cell_type": "markdown",
   "id": "818d1071",
   "metadata": {},
   "source": [
    "### Section 1.4.2: Weekly"
   ]
  },
  {
   "cell_type": "code",
   "execution_count": null,
   "id": "4d9c2008",
   "metadata": {},
   "outputs": [],
   "source": [
    "fixN_weekly = fixN_daily * 7;\n",
    "national_weekly.C_tilde = national_weekly.Ct .* (fixN_weekly ./ national_weekly.Nt) .^ coef(ols_national_weekly)[2];\n",
    "@df filter(:C_tilde => C_tilde -> !isnan(C_tilde), national_weekly) plot(:Date, :C_tilde, yaxis = :log, \n",
    "    label = \"OLS Adjusted log(Ct)\", xlabel = \"Date\", ylabel = \"Values of Ct\")\n",
    "@df filter(:C_tilde => C_tilde -> !isnan(C_tilde), national_weekly) plot!(:Date, :Ct, yaxis = :log, \n",
    "    label = \"Observed log(Ct)\", leg = :bottomright)"
   ]
  },
  {
   "cell_type": "markdown",
   "id": "16f8611a",
   "metadata": {},
   "source": [
    "### Section 1.4.3: Weekday"
   ]
  },
  {
   "cell_type": "code",
   "execution_count": null,
   "id": "f60817a8",
   "metadata": {},
   "outputs": [],
   "source": [
    "fixN_7dd = fixN_daily;\n",
    "national_7dd.C_tilde = national_7dd.Ct .* (fixN_7dd ./ national_7dd.Nt) .^ coef(ols_national_7dd)[2];\n",
    "@df filter(:C_tilde => C_tilde -> !isnan(C_tilde), national_7dd) plot(:Date, :C_tilde, yaxis = :log, \n",
    "    label = \"OLS Adjusted log(Ct)\", xlabel = \"Date\", ylabel = \"Values of Ct\")\n",
    "@df filter(:C_tilde => C_tilde -> !isnan(C_tilde), national_7dd) plot!(:Date, :Ct, yaxis = :log, \n",
    "    label = \"Observed log(Ct)\", leg = :bottomright)"
   ]
  },
  {
   "cell_type": "markdown",
   "id": "b1427a29",
   "metadata": {},
   "source": [
    "# Section 2: Dynamic Analysis, time-varying $\\beta$ <a class=\"anchor\" id=\"dynamic_analysis\"></a>"
   ]
  },
  {
   "cell_type": "markdown",
   "id": "9f818db1",
   "metadata": {},
   "source": [
    "## Section 2.1: Rolling OLS <a class=\"anchor\" id=\"dynamic_rolling_ols\"></a>"
   ]
  },
  {
   "cell_type": "code",
   "execution_count": null,
   "id": "d6ee387b",
   "metadata": {},
   "outputs": [],
   "source": [
    "nobs = 30;  # Number of observation in each estimation window, bigger window smoother\n",
    "\n",
    "roll_beta_national_daily = [];\n",
    "roll_beta_national_weekly = [];\n",
    "roll_beta_national_7dd = [];\n",
    "\n",
    "for i in 1:(N_daily - nobs + 1)\n",
    "    v = @pipe national_daily[i : i + nobs - 1, :] |>\n",
    "    lm(@formula(diff_logCt ~ diff_logNt), _) |>\n",
    "    coef(_)[2] |>\n",
    "    round(_, digits = 3)\n",
    "    push!(roll_beta_national_daily, v)\n",
    "end\n",
    "\n",
    "\n",
    "for i in 1:(N_weekly - nobs + 1)\n",
    "    v = @pipe national_weekly[i : i + nobs - 1, :] |>\n",
    "    lm(@formula(diff_logCt ~ diff_logNt), _) |>\n",
    "    coef(_)[2] |>\n",
    "    round(_, digits = 3)\n",
    "    push!(roll_beta_national_weekly, v)\n",
    "end\n",
    "\n",
    "for i in 1:(N_7dd - nobs + 1)\n",
    "    v = @pipe national_7dd[i : i + nobs - 1, :] |>\n",
    "    lm(@formula(diff_logCt ~ diff_logNt), _) |>\n",
    "    coef(_)[2] |>\n",
    "    round(_, digits = 3)\n",
    "    push!(roll_beta_national_7dd, v)\n",
    "end"
   ]
  },
  {
   "cell_type": "markdown",
   "id": "70dd3aac",
   "metadata": {},
   "source": [
    "### Section 2.1.1: Daily "
   ]
  },
  {
   "cell_type": "code",
   "execution_count": null,
   "id": "596ec3e7",
   "metadata": {},
   "outputs": [],
   "source": [
    "plot(national_daily.Date[1:(N_daily - nobs + 1)], roll_beta_national_daily, \n",
    "label = :none,\n",
    "xlabel = \"First day of each window\",\n",
    "ylabel = \"Rolling OLS \\\\beta_t\")"
   ]
  },
  {
   "cell_type": "markdown",
   "id": "162b62db",
   "metadata": {},
   "source": [
    "### Section 2.1.2: Weekly"
   ]
  },
  {
   "cell_type": "code",
   "execution_count": null,
   "id": "35f5c6ef",
   "metadata": {},
   "outputs": [],
   "source": [
    "plot(national_weekly.Date[1:(N_weekly - nobs + 1)], roll_beta_national_weekly, \n",
    "label = :none,\n",
    "xlabel = \"First day of each window\",\n",
    "ylabel = \"Rolling OLS \\\\beta_t\")"
   ]
  },
  {
   "cell_type": "markdown",
   "id": "87489a2a",
   "metadata": {},
   "source": [
    "### Section 2.1.3: Weekday"
   ]
  },
  {
   "cell_type": "code",
   "execution_count": null,
   "id": "fdb49094",
   "metadata": {},
   "outputs": [],
   "source": [
    "plot(national_7dd.Date[1:(N_7dd - nobs + 1)], roll_beta_national_7dd, \n",
    "label = :none,\n",
    "xlabel = \"First day of each window\",\n",
    "ylabel = \"Rolling OLS \\\\beta_t\")"
   ]
  },
  {
   "cell_type": "markdown",
   "id": "af8b96d2",
   "metadata": {},
   "source": [
    "## Section 2.2: Score Model<a class=\"anchor\" id=\"dynamic_score_model\"></a>\n",
    "\n",
    "\n",
    "Assume normal errors, $\\Delta \\log \\hat{C_t^*} \\sim N(0, \\sigma^2)$. \n",
    "\n",
    "Simplify notation, $y_t = \\Delta \\log C_t$ and $x_t = \\Delta \\log N_t$.\n",
    "\n",
    "To ensure $\\beta$ is between 0 to 1, re-parameterize it as $$\\beta_t = \\frac{1}{1 + \\exp(-\\theta_t)}.$$\n",
    "\n",
    "The log-likelihood is:\n",
    "\n",
    "$$\n",
    "\\ell(\\theta_t) \\propto - T \\log(\\sigma^2) \n",
    "- \n",
    "\\frac{1}{\\sigma^2} \n",
    "\\sum_{t=1}^T \\left(y_t - \\frac{x_t}{1 + \\exp(-\\theta_t)}\\right)^2\n",
    ";$$\n",
    "\n",
    "The score is:\n",
    "\n",
    "$$\n",
    "\\frac{\\partial \\ell}{\\partial \\theta_t} \n",
    "= \n",
    "\\frac{x_t}{\\sigma^2  \\exp(\\theta_t) \\left( 1 + \\exp(-\\theta_t) \\right)^2}\n",
    "\\left(  y_t - \\frac{x_t}{1 + \\exp(-\\theta_t)}  \\right) \n",
    ";$$\n",
    "\n",
    "The hessian is:\n",
    "\n",
    "$$\n",
    "\\frac{\\partial^2 \\ell}{\\partial \\theta_t^2} \n",
    "= \n",
    "\\frac{x_t}{\\sigma^2  \\exp(\\theta_t) (1 + \\exp(-\\theta_t))^2}\n",
    "\\left(\n",
    "\\frac{2 y_t}{\\exp(\\theta_t)  (1 + \\exp(-\\theta_t))}\n",
    "-\n",
    "y_t\n",
    "-\n",
    "\\frac{3 x_t}{\\exp(\\theta_t) (1 + \\exp(-\\theta_t))^2}\n",
    "+\n",
    "\\frac{x_t}{1 + \\exp(-\\theta_t)}\n",
    "\\right)\n",
    ";$$\n",
    "\n",
    "Define\n",
    "$$\n",
    "\\psi(\\theta_t) =\n",
    "\\frac{\\frac{\\partial \\ell}{\\partial \\theta_t}}{\\sqrt{- \\frac{\\partial^2 \\ell}{\\partial \\theta_t^2}}}\n",
    ",$$\n",
    "\n",
    "The model is (new version):\n",
    "\n",
    "$$\n",
    "\\theta_{t+1} = \\omega + \\phi \\theta_t + \\alpha \\psi(\\theta_t)\n",
    ".$$"
   ]
  },
  {
   "cell_type": "code",
   "execution_count": null,
   "id": "9ec44391",
   "metadata": {
    "scrolled": true
   },
   "outputs": [],
   "source": [
    "using Optim;\n",
    "function logL(θ, data)    # Note: This function returns negative logL, not logL.\n",
    "    x = data.diff_logNt;\n",
    "    y = data.diff_logCt;\n",
    "    T = nrow(data);\n",
    "    ω = θ[1]; \n",
    "    ϕ = θ[2];\n",
    "    α = θ[3]; \n",
    "    σ = θ[4];\n",
    "    θ0 = θ[5];\n",
    "    θ = [];\n",
    "    push!(θ, θ0);\n",
    "    \n",
    "    for i in 1:(T-1)\n",
    "        score = x[i] / (σ^2 * exp(θ[i]) * (1 + exp(-θ[i]))^2) * (y[i] - x[i] / (1 + exp(-θ[i])));\n",
    "        \n",
    "        hessian = x[i] / (σ^2 * exp(θ[i]) * (1 + exp(-θ[i]))^2) *\n",
    "        (2 * y[i] / (exp(θ[i]) (1 + exp(-θ[i]))) - \n",
    "            y[i] - \n",
    "            3 * x[i] / (exp(θ[i]) * (1 + exp(-θ[i]))^2) + \n",
    "            x[i] /  (1 + exp(-θ[i])));\n",
    "        \n",
    "        psi = score / sqrt(-hessian);\n",
    "        newθ = ω + ϕ * θ[i] + α * psi;\n",
    "        push!(θ, newθ) \n",
    "    end\n",
    "    \n",
    "    ll = T * log(σ^2) + sum(y .- x ./ (1 + exp.(-θ))) / (σ^2)\n",
    "    return ll     \n",
    "end"
   ]
  },
  {
   "cell_type": "markdown",
   "id": "68a44581",
   "metadata": {},
   "source": [
    "Coding notes: \n",
    "\n",
    "Checked by CS people, these two functions are totally fine, no efficiency issues. No is any memory wasted at all. The reason why I make theta and logL as two separate functions is to calculate $\\hat{\\beta}$ (i.e. to reuse the first half) later on once I have estimated parameters. But these two functions together is equivalent to a combined function where $\\beta$ is just a middle product, so $\\beta$ will not be kept anywhere in the system but will be destroyed after implementing the function because logL does not return $\\beta$.\n",
    "\n",
    "Even if the function is implemented many times during optimization, there is always at most only one $\\beta$ in the system. On the other hand, if a global $\\beta$ is created outside the function and then get updated, it will always be kept in the system, i.e. always takes some memory, though the space taken is small.\n",
    "\n",
    "The two chunks below are just to show that even if the function logL is called and successfully operated, the middle-product variable $\\beta$ will not be kept, but rather be dropped. "
   ]
  },
  {
   "cell_type": "code",
   "execution_count": null,
   "id": "3751cb7c",
   "metadata": {},
   "outputs": [],
   "source": [
    "logL([0, 1, 1, 0.2, 0.6], national_daily)"
   ]
  },
  {
   "cell_type": "code",
   "execution_count": null,
   "id": "ea9aff67",
   "metadata": {},
   "outputs": [],
   "source": [
    "β"
   ]
  },
  {
   "cell_type": "markdown",
   "id": "39e8665b",
   "metadata": {},
   "source": [
    "### Section 2.2.1: Daily"
   ]
  },
  {
   "cell_type": "code",
   "execution_count": null,
   "id": "be75133e",
   "metadata": {},
   "outputs": [],
   "source": [
    "θ_national_daily = [0, 1, 1, 0.2, 0.6];\n",
    "obj_national_daily = θ_national_daily -> logL(θ_national_daily, national_daily) \n",
    "res_national_daily = optimize(obj_national_daily, θ_national_daily)\n",
    "Optim.minimizer(res_national_daily)  # Estimated parameters"
   ]
  },
  {
   "cell_type": "code",
   "execution_count": null,
   "id": "2efbbec3",
   "metadata": {},
   "outputs": [],
   "source": [
    "ScoreBetaHat_national_daily = ScoreBeta(Optim.minimizer(res_national_daily), national_daily);\n",
    "plot(national_daily.Date, ScoreBetaHat_national_daily, \n",
    "label = :none,\n",
    "xlabel = \"Date\",\n",
    "ylabel = \"Score \\\\beta_t\")"
   ]
  },
  {
   "cell_type": "markdown",
   "id": "284572c3",
   "metadata": {},
   "source": [
    "### Section 2.2.2: Weekly"
   ]
  },
  {
   "cell_type": "code",
   "execution_count": null,
   "id": "02cc531a",
   "metadata": {},
   "outputs": [],
   "source": [
    "θ_national_weekly = [0, 1, 1, 0.2, 0.6];\n",
    "obj_national_weekly = θ_national_weekly -> logL(θ_national_weekly, national_weekly) \n",
    "res_national_weekly = optimize(obj_national_weekly, θ_national_weekly)\n",
    "Optim.minimizer(res_national_weekly)  # Estimated parameters"
   ]
  },
  {
   "cell_type": "code",
   "execution_count": null,
   "id": "7ffe808c",
   "metadata": {},
   "outputs": [],
   "source": [
    "ScoreBetaHat_national_weekly = ScoreBeta(Optim.minimizer(res_national_weekly), national_weekly);\n",
    "plot(national_weekly.Date, ScoreBetaHat_national_weekly, \n",
    "label = :none,\n",
    "xlabel = \"Date\",\n",
    "ylabel = \"Score \\\\beta_t\")"
   ]
  },
  {
   "cell_type": "markdown",
   "id": "01f47135",
   "metadata": {},
   "source": [
    "### Section 2.2.3: Weekday"
   ]
  },
  {
   "cell_type": "code",
   "execution_count": null,
   "id": "b6390bfa",
   "metadata": {},
   "outputs": [],
   "source": [
    "θ_national_7dd = [0, 1, 1, 0.2, 0.6];\n",
    "obj_national_7dd = θ_national_7dd -> logL(θ_national_7dd, national_7dd) \n",
    "res_national_7dd = optimize(obj_national_7dd, θ_national_7dd)\n",
    "Optim.minimizer(res_national_7dd)  # Estimated parameters"
   ]
  },
  {
   "cell_type": "code",
   "execution_count": null,
   "id": "553e8e3d",
   "metadata": {},
   "outputs": [],
   "source": [
    "ScoreBetaHat_national_7dd = ScoreBeta(Optim.minimizer(res_national_7dd), national_7dd);\n",
    "plot(national_7dd.Date, ScoreBetaHat_national_7dd, \n",
    "label = :none,\n",
    "xlabel = \"Date\",\n",
    "ylabel = \"Score \\\\beta_t\")"
   ]
  },
  {
   "cell_type": "markdown",
   "id": "6b070b53",
   "metadata": {},
   "source": [
    "## Section 2.3: Score Out-of-sample Forecast<a class=\"anchor\" id=\"dynamic_out_sample\"></a>\n",
    "\n",
    "The name \"step\" in my code means the sample size of data kept for out-of-sample forecast.\n",
    "\n",
    "If step = 10, I estimate $\\beta$ for 10 times. The first time, I use all data but the last 10 for estimation, and then make one out-of-sample forecast for the last 10th observation; The second time, I use all data but the last 9 for estimation, and only make one step ahead forecast for the last 9th observation; ... Repeat until I have all out-of-sample forecast for the 10 observations.\n",
    "\n",
    "The graph shows observed $\\Delta log C_t$ in blue and predicted in red. "
   ]
  },
  {
   "cell_type": "code",
   "execution_count": null,
   "id": "ffcb0583",
   "metadata": {},
   "outputs": [],
   "source": [
    "step = 100;  # choose sample size to be forecasted\n",
    "function ScoreOutFcast(step, data)\n",
    "    n = nrow(data);\n",
    "    yhat = [];\n",
    "    θ = [0, 1, 1, 0.2, 0.6];\n",
    "    for i in 1:step\n",
    "        ss = n - step + i - 1;\n",
    "        train = data[1:ss, :];\n",
    "        x = train.diff_logNt;\n",
    "        y = train.diff_logCt;\n",
    "        obj = θ -> logL(θ, train);\n",
    "        res = optimize(obj, θ);\n",
    "        θ = Optim.minimizer(res);\n",
    "        β =  ScoreBeta(θ, train);\n",
    "        ω = θ[1]; \n",
    "        ϕ = θ[2];\n",
    "        α = θ[3];\n",
    "        σ = θ[4];\n",
    "        βt1 = ω + ϕ * β[ss] + α * sign(x[ss]) * (y[ss] - β[ss] * x[ss]) / σ;\n",
    "        xt1 = data.diff_logNt[ss + 1];\n",
    "        yt1hat = βt1 * xt1;\n",
    "        push!(yhat, yt1hat)\n",
    "    end\n",
    "    return yhat\n",
    "end    \n",
    "ScoreYHat_national_daily = ScoreOutFcast(step, national_daily);\n",
    "ScoreYHat_national_weekly = ScoreOutFcast(step, national_weekly);\n",
    "ScoreYHat_national_7dd = ScoreOutFcast(step, national_7dd);"
   ]
  },
  {
   "cell_type": "markdown",
   "id": "d28de796",
   "metadata": {},
   "source": [
    "### Section 2.3.1: Daily"
   ]
  },
  {
   "cell_type": "code",
   "execution_count": null,
   "id": "a5448a8d",
   "metadata": {},
   "outputs": [],
   "source": [
    "plot(national_daily.Date[N_daily - step + 1: N_daily], \n",
    "    national_daily.diff_logCt[N_daily - step + 1: N_daily],\n",
    "    color = :blue,\n",
    "    xlabel = \"Date\",\n",
    "    ylabel = \"\\\\Delta log Ct\",\n",
    "    label = \"real\")\n",
    "plot!(national_daily.Date[N_daily - step + 1: N_daily], \n",
    "    ScoreYHat_national_daily,\n",
    "    color = :red,\n",
    "    label = \"fitted\", leg = :topleft)"
   ]
  },
  {
   "cell_type": "markdown",
   "id": "6b4d00e9",
   "metadata": {},
   "source": [
    "### Section 2.3.2: Weekly"
   ]
  },
  {
   "cell_type": "code",
   "execution_count": null,
   "id": "e1508b7e",
   "metadata": {},
   "outputs": [],
   "source": [
    "plot(national_weekly.Date[N_weekly - step + 1: N_weekly], \n",
    "    national_weekly.diff_logCt[N_weekly - step + 1: N_weekly],\n",
    "    color = :blue,\n",
    "    xlabel = \"Date\",\n",
    "    ylabel = \"\\\\Delta log Ct\",\n",
    "    label = \"real\")\n",
    "plot!(national_weekly.Date[N_weekly - step + 1: N_weekly], \n",
    "    ScoreYHat_national_weekly,\n",
    "    color = :red,\n",
    "    label = \"fitted\", leg = :bottomleft)"
   ]
  },
  {
   "cell_type": "markdown",
   "id": "a9417c8e",
   "metadata": {},
   "source": [
    "### Section 2.3.3: Weekday"
   ]
  },
  {
   "cell_type": "code",
   "execution_count": null,
   "id": "a3ef3850",
   "metadata": {},
   "outputs": [],
   "source": [
    "plot(national_7dd.Date[N_7dd - step + 1: N_7dd], \n",
    "    national_7dd.diff_logCt[N_7dd - step + 1: N_7dd],\n",
    "    color = :blue,\n",
    "    xlabel = \"Date\",\n",
    "    ylabel = \"\\\\Delta log Ct\",\n",
    "    label = \"real\")\n",
    "plot!(national_7dd.Date[N_7dd - step + 1: N_7dd], \n",
    "    ScoreYHat_national_7dd,\n",
    "    color = :red,\n",
    "    label = \"fitted\", leg = :bottomleft)"
   ]
  },
  {
   "cell_type": "markdown",
   "id": "e9383fd7",
   "metadata": {},
   "source": [
    "## Section 2.4: Score Adjusted Case Numbers<a class=\"anchor\" id=\"dynamic_adjust_case\"></a>\n",
    "\n",
    "$$\\tilde{C} = C \\left( \\frac{N}{N_t} \\right)^{\\hat{\\beta_t}}$$"
   ]
  },
  {
   "cell_type": "markdown",
   "id": "7fedf5c9",
   "metadata": {},
   "source": [
    "### Section 2.4.1: Daily"
   ]
  },
  {
   "cell_type": "code",
   "execution_count": null,
   "id": "676e5918",
   "metadata": {},
   "outputs": [],
   "source": [
    "national_daily.ScoreBetaHat = ScoreBetaHat_national_daily;\n",
    "national_daily.C_tilde_score = national_daily.Ct .* (fixN_daily ./ national_daily.Nt) .^ national_daily.ScoreBetaHat;\n",
    "\n",
    "@df filter(:C_tilde_score => C_tilde -> !isnan(C_tilde), national_daily) plot(:Date, :C_tilde_score, yaxis = :log, \n",
    "    label = \"Score Adjusted log(Ct)\", xlabel = \"Date\", ylabel = \"Ct values\")\n",
    "@df filter(:C_tilde_score => C_tilde -> !isnan(C_tilde), national_daily) plot!(:Date, :Ct, yaxis = :log, \n",
    "    label = \"Observed log(Ct)\", leg = :bottomright)"
   ]
  },
  {
   "cell_type": "markdown",
   "id": "85fa665d",
   "metadata": {},
   "source": [
    "### Section 2.4.2: Weekly"
   ]
  },
  {
   "cell_type": "code",
   "execution_count": null,
   "id": "5d673d14",
   "metadata": {
    "scrolled": false
   },
   "outputs": [],
   "source": [
    "national_weekly.ScoreBetaHat = ScoreBetaHat_national_weekly;\n",
    "national_weekly.C_tilde_score = national_weekly.Ct .* (fixN_weekly ./ national_weekly.Nt) .^ national_weekly.ScoreBetaHat;\n",
    "\n",
    "@df filter(:C_tilde_score => C_tilde -> !isnan(C_tilde), national_weekly) plot(:Date, :C_tilde_score, yaxis = :log, \n",
    "    label = \"Score Adjusted log(Ct)\", xlabel = \"Date\", ylabel = \"Ct values\")\n",
    "@df filter(:C_tilde_score => C_tilde -> !isnan(C_tilde), national_weekly) plot!(:Date, :Ct, yaxis = :log, \n",
    "    label = \"Observed log(Ct)\", leg = :bottomright)"
   ]
  },
  {
   "cell_type": "markdown",
   "id": "e90b9019",
   "metadata": {},
   "source": [
    "### Section 2.4.3: Weekday"
   ]
  },
  {
   "cell_type": "code",
   "execution_count": null,
   "id": "8ca39601",
   "metadata": {},
   "outputs": [],
   "source": [
    "national_7dd.ScoreBetaHat = ScoreBetaHat_national_7dd;\n",
    "national_7dd.C_tilde_score = national_7dd.Ct .* (fixN_7dd ./ national_7dd.Nt) .^ national_7dd.ScoreBetaHat;\n",
    "\n",
    "@df filter(:C_tilde_score => C_tilde -> !isnan(C_tilde), national_7dd) plot(:Date, :C_tilde_score, yaxis = :log, \n",
    "    label = \"Score Adjusted\", xlabel = \"Date\", ylabel = \"log(Ct)\")\n",
    "@df filter(:C_tilde_score => C_tilde -> !isnan(C_tilde), national_7dd) plot!(:Date, :logCt, \n",
    "    label = \"Observed\", leg = :bottomright)"
   ]
  },
  {
   "cell_type": "markdown",
   "id": "a3adde63",
   "metadata": {},
   "source": [
    "## Section 2.5: Autocorrelation Investigation<a class=\"anchor\" id=\"dynamic_auto\"></a>"
   ]
  },
  {
   "cell_type": "markdown",
   "id": "a10f4887",
   "metadata": {},
   "source": [
    "### Section 2.5.1:Daily"
   ]
  },
  {
   "cell_type": "code",
   "execution_count": null,
   "id": "029cff85",
   "metadata": {},
   "outputs": [],
   "source": [
    "p1 = plot(bar(autocor(national_daily.diff_logCt, 1:30),  label = :none), \n",
    "    xlabel = \"lag\", title = \"ACF of Δ ct\");\n",
    "p2 = plot(bar(autocor(national_daily.diff_logNt, 1:30),  label = :none), \n",
    "    xlabel = \"lag\", title = \"ACF of Δ nt\");\n",
    "national_daily.ut = national_daily.diff_logCt .- national_daily.diff_logNt .* national_daily.ScoreBetaHat;\n",
    "p3 = plot(bar(autocor(national_daily.ut, 1:30),  label = :none), \n",
    "    xlabel = \"lag\", title = \"ACF of ut\");\n",
    "plot(p1, p2, p3, layout = (1, 3), ylims = (-0.5, 0.8), size = (900, 400))"
   ]
  },
  {
   "cell_type": "markdown",
   "id": "040c9ddb",
   "metadata": {},
   "source": [
    "### Section 2.5.2: Weekly"
   ]
  },
  {
   "cell_type": "code",
   "execution_count": null,
   "id": "52767088",
   "metadata": {},
   "outputs": [],
   "source": [
    "p1 = plot(bar(autocor(national_weekly.diff_logCt, 1:30),  label = :none), \n",
    "    xlabel = \"lag\", title = \"ACF of Δ ct\");\n",
    "p2 = plot(bar(autocor(national_weekly.diff_logNt, 1:30),  label = :none), \n",
    "    xlabel = \"lag\", title = \"ACF of Δ nt\");\n",
    "national_weekly.ut = national_weekly.diff_logCt .- national_weekly.diff_logNt .* national_weekly.ScoreBetaHat;\n",
    "p3 = plot(bar(autocor(national_weekly.ut, 1:30),  label = :none), \n",
    "    xlabel = \"lag\", title = \"ACF of ut\");\n",
    "plot(p1, p2, p3, layout = (1, 3), ylims = (-0.2, 0.85), size = (900, 400))"
   ]
  },
  {
   "cell_type": "markdown",
   "id": "925f32a0",
   "metadata": {},
   "source": [
    "### Section 2.5.3: Weekday"
   ]
  },
  {
   "cell_type": "code",
   "execution_count": null,
   "id": "961f5ca1",
   "metadata": {},
   "outputs": [],
   "source": [
    "p1 = plot(bar(autocor(national_daily.diff_logCt, 1:30),  label = :none), \n",
    "    xlabel = \"lag\", title = \"ACF of Δ ct\");\n",
    "p2 = plot(bar(autocor(national_daily.diff_logNt, 1:30),  label = :none), \n",
    "    xlabel = \"lag\", title = \"ACF of Δ nt\");\n",
    "national_daily.ut = national_daily.diff_logCt .- national_daily.diff_logNt .* national_daily.ScoreBetaHat;\n",
    "p3 = plot(bar(autocor(national_daily.ut, 1:30),  label = :none), \n",
    "    xlabel = \"lag\", title = \"ACF of ut\");\n",
    "plot(p1, p2, p3, layout = (1, 3), ylims = (-0.2, 0.85), size = (900, 400))"
   ]
  },
  {
   "cell_type": "markdown",
   "id": "126441eb",
   "metadata": {},
   "source": [
    "# Section 3: Municipality Data Analysis, Panel Data<a class=\"anchor\" id=\"muni_analysis\"></a>"
   ]
  },
  {
   "cell_type": "code",
   "execution_count": null,
   "id": "ef82508d",
   "metadata": {},
   "outputs": [],
   "source": [
    "# Remove Municipalities with too few Nt (< 100 on average)\n",
    "drop_cities = [\"Christiansø\", \"Ærø\", \"Fanø\", \"Samsø\", \"Læsø\", \"NA\"]\n",
    "\n",
    "muni_Ct = @pipe CSV.File(\"Municipality_Ct.csv\") |>\n",
    "DataFrame |>\n",
    "rename!(_, :SampleDate => :Date) |>\n",
    "select(_, Not(drop_cities));\n",
    "muni_Nt = @pipe CSV.File(\"Municipality_Nt.csv\") |> \n",
    "DataFrame |>\n",
    "rename!(_, :PrDate_adjusted => :Date) |>\n",
    "select(_, Not(drop_cities));\n",
    "muni_daily_level = @pipe innerjoin(muni_Ct, muni_Nt, on = :Date, makeunique=true);\n",
    "## Notes: The orders of the columns in the two files are different.\n",
    "\n",
    "\n",
    "\n",
    "# create daily data for model\n",
    "df1 = @pipe muni_daily_level |>\n",
    "transform(_, names(_, Not(:Date)) .=> (x -> log.(x)); renamecols=false);\n",
    "for col in eachcol(df1)\n",
    "    replace!(col, -Inf => 0)  # When initial numbers are 0, replace log of it to be 0 instead of -inf.\n",
    "end\n",
    "muni_daily = @pipe df1 |> \n",
    "transform(_, names(_, Not(:Date)) .=> (x -> x - lag(x)); renamecols=false)|>\n",
    "subset(_, :Date => ByRow(D -> D >= date_of_first_obs));\n",
    "\n",
    "# create weekly data for model\n",
    "muni_weekly_level = mapcols!(v -> runmean(v, windowsize) * windowsize, muni_daily_level[:, Not(:Date)]);\n",
    "insertcols!(muni_weekly_level, 1, :Date => muni_daily_level.Date);\n",
    "delete!(muni_weekly_level, 1: (windowsize - 1));\n",
    "df2 = @pipe muni_weekly_level |>\n",
    "transform(_, names(_, Not(:Date)) .=> (x -> log.(x)); renamecols=false);\n",
    "for col in eachcol(df2)\n",
    "    replace!(col, -Inf => 0)  # When initial numbers are 0, replace log of it to be 0 instead of -inf.\n",
    "end\n",
    "muni_weekly = @pipe df2 |> \n",
    "transform(_, names(_, Not(:Date)) .=> (x -> x - lag(x)); renamecols=false)|>\n",
    "subset(_, :Date => ByRow(D -> D >= date_of_first_obs));\n",
    "\n",
    "# create weekday data for model\n",
    "muni_7dd = @pipe df1 |> \n",
    "transform(_, names(_, Not(:Date)) .=> (x -> x - lag(x, 7)); renamecols=false)|>\n",
    "subset(_, :Date => ByRow(D -> D >= date_of_first_obs));"
   ]
  },
  {
   "cell_type": "markdown",
   "id": "601a9b19",
   "metadata": {},
   "source": [
    "## Section 3.1: Static Analysis<a class=\"anchor\" id=\"muni_static_analysis\"></a>"
   ]
  },
  {
   "cell_type": "markdown",
   "id": "2537bd59",
   "metadata": {},
   "source": [
    "### Section 3.1.1: Daily"
   ]
  },
  {
   "cell_type": "code",
   "execution_count": null,
   "id": "6f1ec4ad",
   "metadata": {},
   "outputs": [],
   "source": [
    "ols_muni_daily_coef = DataFrame(City = [], OlS_Intercept = [], OLS_Slope = Float64[], OLS_Slope_sd = []);\n",
    "for i in 1 : Int((ncol(muni_daily)-1)/2)\n",
    "    diff_logCt = muni_daily[:, i + 1]\n",
    "    # to match Ct and Nt for the same city ---->\n",
    "    city_name = names(muni_daily)[i + 1]  \n",
    "    diff_logNt = muni_daily[:, string(city_name, \"_1\")]\n",
    "    data = DataFrame(diff_logCt = diff_logCt, diff_logNt = diff_logNt)\n",
    "    OLS = lm(@formula(diff_logCt ~ diff_logNt), data)\n",
    "    coef_w_name = @pipe round.(coef(OLS), digits = 4) |> \n",
    "    vcat(_, round.(stderror(OLS)[2], digits = 4)) |>\n",
    "    vcat([city_name], _)\n",
    "    push!(ols_muni_daily_coef, coef_w_name);\n",
    "end\n",
    "ols_muni_daily_coef"
   ]
  },
  {
   "cell_type": "markdown",
   "id": "720d4150",
   "metadata": {},
   "source": [
    "### Section 3.1.2: Weekly"
   ]
  },
  {
   "cell_type": "code",
   "execution_count": null,
   "id": "63462533",
   "metadata": {},
   "outputs": [],
   "source": [
    "ols_muni_weekly_coef = DataFrame(City = [], OlS_Intercept = [], OLS_Slope = Float64[], OLS_Slope_sd = []);\n",
    "for i in 1 : Int((ncol(muni_weekly)-1)/2)\n",
    "    diff_logCt = muni_weekly[:, i + 1]\n",
    "    # to match Ct and Nt for the same city ---->\n",
    "    city_name = names(muni_weekly)[i + 1]  \n",
    "    diff_logNt = muni_weekly[:, string(city_name, \"_1\")]\n",
    "    data = DataFrame(diff_logCt = diff_logCt, diff_logNt = diff_logNt)\n",
    "    OLS = lm(@formula(diff_logCt ~ diff_logNt), data)\n",
    "    coef_w_name = @pipe round.(coef(OLS), digits = 4) |> \n",
    "    vcat(_, round.(stderror(OLS)[2], digits = 4)) |>\n",
    "    vcat([city_name], _)\n",
    "    push!(ols_muni_weekly_coef, coef_w_name);\n",
    "end\n",
    "ols_muni_weekly_coef"
   ]
  },
  {
   "cell_type": "markdown",
   "id": "a794a2db",
   "metadata": {},
   "source": [
    "### Section 3.1.3: Weekday"
   ]
  },
  {
   "cell_type": "code",
   "execution_count": null,
   "id": "3b23213f",
   "metadata": {},
   "outputs": [],
   "source": [
    "ols_muni_7dd_coef = DataFrame(City = [], OlS_Intercept = [], OLS_Slope = Float64[], OLS_Slope_sd = []);\n",
    "for i in 1 : Int((ncol(muni_7dd)-1)/2)\n",
    "    diff_logCt = muni_7dd[:, i + 1]\n",
    "    # to match Ct and Nt for the same city ---->\n",
    "    city_name = names(muni_7dd)[i + 1]  \n",
    "    diff_logNt = muni_7dd[:, string(city_name, \"_1\")]\n",
    "    data = DataFrame(diff_logCt = diff_logCt, diff_logNt = diff_logNt)\n",
    "    OLS = lm(@formula(diff_logCt ~ diff_logNt), data)\n",
    "    coef_w_name = @pipe round.(coef(OLS), digits = 4) |> \n",
    "    vcat(_, round.(stderror(OLS)[2], digits = 4)) |>\n",
    "    vcat([city_name], _)\n",
    "    push!(ols_muni_7dd_coef, coef_w_name);\n",
    "end\n",
    "ols_muni_7dd_coef"
   ]
  },
  {
   "cell_type": "markdown",
   "id": "7771a1e9",
   "metadata": {},
   "source": [
    "## Section 3.2: Dynamic Analysis<a class=\"anchor\" id=\"muni_dynamic_analysis\"></a>\n",
    "First restrict the intercept and slope in the socre equation to be 0 and 1 respectively.\n",
    "\n",
    "The $\\beta_0$ is also part of the parameters now."
   ]
  },
  {
   "cell_type": "code",
   "execution_count": null,
   "id": "7289e470",
   "metadata": {},
   "outputs": [],
   "source": [
    "# Restrict ω = 0, and ϕ = 1.\n",
    "function Restricted_ScoreBeta(θ, data)\n",
    "    x = data.diff_logNt;\n",
    "    y = data.diff_logCt;\n",
    "    T = nrow(data);\n",
    "    ω = 0;\n",
    "    ϕ = 1;   \n",
    "    α = θ[1]; \n",
    "    σ = θ[2];\n",
    "    β0 = θ[3];\n",
    "    β = [];\n",
    "    push!(β, β0)  \n",
    "    \n",
    "    for i in 1:(T-1)\n",
    "    v = ω + ϕ * β[i] + α * sign(x[i]) * (y[i] - β[i] * x[i]) / σ\n",
    "    push!(β, v)\n",
    "    end\n",
    "    \n",
    "    return β\n",
    "end\n",
    "\n",
    "function Restricted_logL(θ, data)\n",
    "    x = data.diff_logNt;\n",
    "    y = data.diff_logCt;\n",
    "    T = nrow(data);\n",
    "    β = Restricted_ScoreBeta(θ, data);\n",
    "    σ = θ[2];\n",
    "    sum((y .- β .* x).^2)/(σ^2) + T*log(σ^2)   # Note: This is negative logL, not logL.\n",
    "end"
   ]
  },
  {
   "cell_type": "markdown",
   "id": "ecc57a73",
   "metadata": {},
   "source": [
    "### Section 3.2.1: Daily"
   ]
  },
  {
   "cell_type": "code",
   "execution_count": null,
   "id": "1bead54d",
   "metadata": {},
   "outputs": [],
   "source": [
    "muni_daily_score_coef_restricted = DataFrame(City = String[], α = String[], σ = String[], β0 = String[]);\n",
    "muni_daily_score_beta_restricted = DataFrame();\n",
    "θ = [1, 0.2, 0.6];\n",
    "for i in 1 : Int((ncol(muni_daily)-1)/2)\n",
    "    diff_logCt = muni_daily[:, i + 1]\n",
    "    # to match Ct and Nt for the same city ---->\n",
    "    city_name = names(muni_daily)[i + 1]  \n",
    "    diff_logNt = muni_daily[:, string(city_name, \"_1\")]\n",
    "    data = DataFrame(diff_logCt = diff_logCt, diff_logNt = diff_logNt)\n",
    "    obj = θ -> Restricted_logL(θ, data);\n",
    "    res = optimize(obj, θ);\n",
    "    coef_w_name = @pipe Optim.minimizer(res) |> round.(_, digits = 4) |> string.(_) |> append!([city_name],  _);\n",
    "    push!(muni_daily_score_coef_restricted, coef_w_name);\n",
    "    muni_daily_score_beta_restricted[!, city_name] = Restricted_ScoreBeta(Optim.minimizer(res), data);\n",
    "end\n",
    "insertcols!(muni_daily_score_beta_restricted, 1, :Date => muni_daily.Date);"
   ]
  },
  {
   "cell_type": "code",
   "execution_count": null,
   "id": "3a620847",
   "metadata": {},
   "outputs": [],
   "source": [
    "muni_daily_score_coef_restricted"
   ]
  },
  {
   "cell_type": "code",
   "execution_count": null,
   "id": "a95c6d6c",
   "metadata": {},
   "outputs": [],
   "source": [
    "muni_daily_score_beta_restricted"
   ]
  },
  {
   "cell_type": "markdown",
   "id": "fdf1c1d1",
   "metadata": {},
   "source": [
    "### Section 3.2.2: Weekly"
   ]
  },
  {
   "cell_type": "code",
   "execution_count": null,
   "id": "f5d4a5aa",
   "metadata": {},
   "outputs": [],
   "source": [
    "muni_weekly_score_coef_restricted = DataFrame(City = String[], α = String[], σ = String[], β0 = String[]);\n",
    "muni_weekly_score_beta_restricted = DataFrame();\n",
    "θ = [1, 0.2, 0.6];\n",
    "for i in 1 : Int((ncol(muni_weekly)-1)/2)\n",
    "    diff_logCt = muni_weekly[:, i + 1]\n",
    "    # to match Ct and Nt for the same city ---->\n",
    "    city_name = names(muni_weekly)[i + 1]  \n",
    "    diff_logNt = muni_weekly[:, string(city_name, \"_1\")]\n",
    "    data = DataFrame(diff_logCt = diff_logCt, diff_logNt = diff_logNt)\n",
    "    obj = θ -> Restricted_logL(θ, data);\n",
    "    res = optimize(obj, θ);\n",
    "    coef_w_name = @pipe Optim.minimizer(res) |> round.(_, digits = 4) |> string.(_) |> append!([city_name],  _);\n",
    "    push!(muni_weekly_score_coef_restricted, coef_w_name);\n",
    "    muni_weekly_score_beta_restricted[!, city_name] = Restricted_ScoreBeta(Optim.minimizer(res), data);\n",
    "end\n",
    "insertcols!(muni_weekly_score_beta_restricted, 1, :Date => muni_weekly.Date);"
   ]
  },
  {
   "cell_type": "code",
   "execution_count": null,
   "id": "38eb389c",
   "metadata": {},
   "outputs": [],
   "source": [
    "muni_weekly_score_coef_restricted"
   ]
  },
  {
   "cell_type": "code",
   "execution_count": null,
   "id": "e1da3903",
   "metadata": {},
   "outputs": [],
   "source": [
    "muni_weekly_score_beta_restricted"
   ]
  },
  {
   "cell_type": "markdown",
   "id": "d20baab2",
   "metadata": {},
   "source": [
    "### Section 3.2.3: Weekday"
   ]
  },
  {
   "cell_type": "code",
   "execution_count": null,
   "id": "c1abdacc",
   "metadata": {},
   "outputs": [],
   "source": [
    "muni_7dd_score_coef_restricted = DataFrame(City = String[], α = String[], σ = String[], β0 = String[]);\n",
    "muni_7dd_score_beta_restricted = DataFrame();\n",
    "θ = [1, 0.2, 0.6];\n",
    "for i in 1 : Int((ncol(muni_7dd)-1)/2)\n",
    "    diff_logCt = muni_7dd[:, i + 1]\n",
    "    # to match Ct and Nt for the same city ---->\n",
    "    city_name = names(muni_7dd)[i + 1]  \n",
    "    diff_logNt = muni_7dd[:, string(city_name, \"_1\")]\n",
    "    data = DataFrame(diff_logCt = diff_logCt, diff_logNt = diff_logNt)\n",
    "    obj = θ -> Restricted_logL(θ, data);\n",
    "    res = optimize(obj, θ);\n",
    "    coef_w_name = @pipe Optim.minimizer(res) |> round.(_, digits = 4) |> string.(_) |> append!([city_name],  _);\n",
    "    push!(muni_7dd_score_coef_restricted, coef_w_name);\n",
    "    muni_7dd_score_beta_restricted[!, city_name] = Restricted_ScoreBeta(Optim.minimizer(res), data);\n",
    "end\n",
    "insertcols!(muni_7dd_score_beta_restricted, 1, :Date => muni_7dd.Date);"
   ]
  },
  {
   "cell_type": "code",
   "execution_count": null,
   "id": "d2cbae42",
   "metadata": {},
   "outputs": [],
   "source": [
    "muni_7dd_score_coef_restricted"
   ]
  },
  {
   "cell_type": "code",
   "execution_count": null,
   "id": "9d462aa5",
   "metadata": {},
   "outputs": [],
   "source": [
    "muni_7dd_score_beta_restricted"
   ]
  },
  {
   "cell_type": "markdown",
   "id": "76939d39",
   "metadata": {},
   "source": [
    "## Section 3.3: Explore Correlation between $\\beta$ and Data <a class=\"anchor\" id=\"beta_and_data\"></a>"
   ]
  },
  {
   "cell_type": "markdown",
   "id": "595aa50e",
   "metadata": {},
   "source": [
    "### Section 3.3.1: Daily"
   ]
  },
  {
   "cell_type": "code",
   "execution_count": null,
   "id": "215ce294",
   "metadata": {},
   "outputs": [],
   "source": [
    "# Calculate positive-ratio for each municipality, panel data\n",
    "muni_daily_PosRatio = DataFrame(); \n",
    "for i in 1 : Int((ncol(muni_daily_level)-1)/2)\n",
    "    Ct = muni_daily_level[:, i+1];\n",
    "    city_name = names(muni_daily_level)[i + 1];\n",
    "    Nt = muni_daily_level[:, string(city_name, \"_1\")];\n",
    "    ratio = Ct ./ Nt;\n",
    "    muni_daily_PosRatio[!, city_name] = ratio;\n",
    "end\n",
    "insertcols!(muni_daily_PosRatio, 1, :Date => muni_daily_level.Date);\n",
    "for col in eachcol(muni_daily_PosRatio)\n",
    "    replace!(col, NaN => 0, Inf => 0);  # When Nt are 0, replace the ratio to be 0 instead of NaN and Inf.\n",
    "end\n",
    "\n",
    "# Create a dataframe contain averaged Nt and PosRatio and OLS estimates, cross-sectional data\n",
    "d1 = @pipe DataFrame(City = names(muni_Nt, Not(:Date)),\n",
    "          AveNt = mean.(eachcol(muni_Nt[:, Not(:Date)]))); \n",
    "d2 = @pipe DataFrame(City = names(muni_daily_PosRatio, Not(:Date)),\n",
    "          AveRatio = Float64.(mean.(eachcol(muni_daily_PosRatio[:, Not(:Date)]))));\n",
    "ols_nt_ratio_muni_daily = @pipe leftjoin(ols_muni_daily_coef, d1, on = :City) |> \n",
    "leftjoin(_, d2, on = :City);"
   ]
  },
  {
   "cell_type": "markdown",
   "id": "4045abf1",
   "metadata": {},
   "source": [
    "#### Cross-sectional\n",
    "The x-axis in plot below is averaged $N_t$ over time for all cities, and y-aix is the city's corresponding $\\beta$ estimates. I expect there is negative relationship between the two, but the plot shows the opposite.\n",
    "\n",
    "Cross-sectional OLS:\n",
    "\n",
    "$\\beta_i = a_0 + a_1 \\bar{r}_i + a_2 \\log(\\bar{N}_i) + e_i$,\n",
    "\n",
    "where $i$ is each municipality, \n",
    "$\\bar{r}_i$ is averaged positive ratio over time for municipality $i$,\n",
    "$\\bar{N}_i$ is averaged $N_t$ over time for municipality $i$."
   ]
  },
  {
   "cell_type": "code",
   "execution_count": null,
   "id": "f431b3ba",
   "metadata": {},
   "outputs": [],
   "source": [
    "@df ols_nt_ratio_muni_daily scatter(log.(:AveNt), :OLS_Slope, \n",
    "    label = :none, \n",
    "    xlabel = \"log(Ni)\", \n",
    "    ylabel = \"OLS \\\\beta\", title = \"Each point is a municipality\")"
   ]
  },
  {
   "cell_type": "code",
   "execution_count": null,
   "id": "2e0fe5ad",
   "metadata": {},
   "outputs": [],
   "source": [
    "@df ols_nt_ratio_muni_daily scatter(:AveRatio, :OLS_Slope, \n",
    "    label = :none, \n",
    "    xlabel = \"Average Positive Ratio\", \n",
    "    ylabel = \"OLS \\\\beta\", title = \"Each point is a municipality\")"
   ]
  },
  {
   "cell_type": "code",
   "execution_count": null,
   "id": "355894bb",
   "metadata": {},
   "outputs": [],
   "source": [
    "ols_muni_daily_beta_ratio_cross_sectional = lm(@formula(OLS_Slope ~ AveRatio + log(AveNt)), \n",
    "    ols_nt_ratio_muni_daily)"
   ]
  },
  {
   "cell_type": "code",
   "execution_count": null,
   "id": "e629fe34",
   "metadata": {},
   "outputs": [],
   "source": [
    "ols_nt_ratio_muni_daily.cs_ols_res = residuals(ols_muni_daily_beta_ratio_cross_sectional);\n",
    "@df filter(:AveNt => v -> v <= 2000, ols_nt_ratio_muni_daily) scatter(log.(:AveNt), :cs_ols_res,\n",
    "    label = :none, \n",
    "    xlabel = \"log(Ni)\", \n",
    "    ylabel = \"Cross-sectional OLS residuals\", title = \"Each point is a municipality\");"
   ]
  },
  {
   "cell_type": "markdown",
   "id": "7366b46e",
   "metadata": {},
   "source": [
    "#### Time-series"
   ]
  },
  {
   "cell_type": "code",
   "execution_count": null,
   "id": "3adbfb70",
   "metadata": {},
   "outputs": [],
   "source": [
    "Aarhus = @pipe innerjoin(select(muni_Nt, :Date, \"Aarhus\" => \"Nt\"), \n",
    "    select(muni_daily_score_beta_restricted, :Date, \"Aarhus\" => \"ScoreBetaHat\"), \n",
    "    on = :Date => :Date) |> innerjoin(_, \n",
    "    select(muni_Ct, \"Date\" => \"Date\", \"Aarhus\" => \"Ct\"), \n",
    "    on = :Date => :Date);\n",
    "Aarhus.PosRatio = Aarhus.Ct ./ Aarhus.Nt;\n",
    "@df Aarhus plot(:Date, :ScoreBetaHat, label = \"β hat\", \n",
    "    title = \"Aarhus\", color = \"blue\", leg = :bottomright)\n",
    "@df Aarhus plot!(twinx(), :Date, log.(:Nt), label = \"log(Nt)\", \n",
    "    color = \"red\", leg = :topright)"
   ]
  },
  {
   "cell_type": "code",
   "execution_count": null,
   "id": "74c06824",
   "metadata": {},
   "outputs": [],
   "source": [
    "@df Aarhus scatter(log.(:Nt), :ScoreBetaHat, label = :none, \n",
    "    title = \"Aarhus\", xlabel = \"log(Nt)\", ylabel = \"Score beta hat\")"
   ]
  },
  {
   "cell_type": "code",
   "execution_count": null,
   "id": "e9d4b488",
   "metadata": {},
   "outputs": [],
   "source": [
    "Aalborg = @pipe innerjoin(select(muni_Nt, :Date, \"Aalborg\" => \"Nt\"), \n",
    "    select(muni_daily_score_beta_restricted, :Date, \"Aalborg\" => \"ScoreBetaHat\"), \n",
    "    on = :Date => :Date) |> innerjoin(_, \n",
    "    select(muni_Ct, \"Date\" => \"Date\", \"Aalborg\" => \"Ct\"), \n",
    "    on = :Date => :Date);\n",
    "Aalborg.PosRatio = Aalborg.Ct ./ Aalborg.Nt;\n",
    "@df Aalborg plot(:Date, :ScoreBetaHat, label = \"β hat\", \n",
    "    title = \"Aalborg\", color = \"blue\", leg = :bottomright)\n",
    "@df Aalborg plot!(twinx(), :Date, log.(:Nt), label = \"log(Nt)\", \n",
    "    color = \"red\", leg = :topright)"
   ]
  },
  {
   "cell_type": "code",
   "execution_count": null,
   "id": "8e5dee1d",
   "metadata": {},
   "outputs": [],
   "source": [
    "@df Aalborg scatter(log.(:Nt), :ScoreBetaHat, label = :none, \n",
    "    title = \"Aalborg\", xlabel = \"log(Nt)\", ylabel = \"Score beta hat\")"
   ]
  },
  {
   "cell_type": "code",
   "execution_count": null,
   "id": "96bed4ce",
   "metadata": {},
   "outputs": [],
   "source": [
    "Odense = @pipe innerjoin(select(muni_Nt, :Date, \"Odense\" => \"Nt\"), \n",
    "    select(muni_daily_score_beta_restricted, :Date, \"Odense\" => \"ScoreBetaHat\"), \n",
    "    on = :Date => :Date) |> innerjoin(_, \n",
    "    select(muni_Ct, \"Date\" => \"Date\", \"Odense\" => \"Ct\"), \n",
    "    on = :Date => :Date);\n",
    "Odense.PosRatio = Odense.Ct ./ Odense.Nt;\n",
    "@df Odense plot(:Date, :ScoreBetaHat, label = \"β hat\", \n",
    "    title = \"Odense\", color = \"blue\", leg = :bottomright)\n",
    "@df Odense plot!(twinx(), :Date, :Nt, label = \"Nt\", \n",
    "    color = \"red\", leg = :topright)"
   ]
  },
  {
   "cell_type": "code",
   "execution_count": null,
   "id": "54954408",
   "metadata": {},
   "outputs": [],
   "source": [
    "@df Odense scatter(:Nt, :ScoreBetaHat, label = :none, \n",
    "    title = \"Odense\", xlabel = \"Nt\", ylabel = \"Score beta hat\")"
   ]
  },
  {
   "cell_type": "code",
   "execution_count": null,
   "id": "3752903a",
   "metadata": {},
   "outputs": [],
   "source": [
    "Copenhagen = @pipe innerjoin(select(muni_Nt, :Date, \"Copenhagen\" => \"Nt\"), \n",
    "    select(muni_daily_score_beta_restricted, :Date, \"Copenhagen\" => \"ScoreBetaHat\"), \n",
    "    on = :Date => :Date) |> innerjoin(_, \n",
    "    select(muni_Ct, \"Date\" => \"Date\", \"Copenhagen\" => \"Ct\"), \n",
    "    on = :Date => :Date);\n",
    "Copenhagen.PosRatio = Copenhagen.Ct ./ Copenhagen.Nt;\n",
    "@df Copenhagen plot(:Date, :ScoreBetaHat, label = \"β hat\", \n",
    "    title = \"Copenhagen\", color = \"blue\", leg = :bottomright)\n",
    "@df Copenhagen plot!(twinx(), :Date, :Nt, label = \"Nt\", \n",
    "    color = \"red\", leg = :topright)"
   ]
  },
  {
   "cell_type": "code",
   "execution_count": null,
   "id": "8517f999",
   "metadata": {},
   "outputs": [],
   "source": [
    "@df Copenhagen scatter(:Nt, :ScoreBetaHat, label = :none, \n",
    "    title = \"Copenhagen\", xlabel = \"Nt\", ylabel = \"Score beta hat\")"
   ]
  },
  {
   "cell_type": "markdown",
   "id": "d89993fe",
   "metadata": {},
   "source": [
    "### Section 3.3.2: Weekly"
   ]
  },
  {
   "cell_type": "markdown",
   "id": "52b92e3b",
   "metadata": {},
   "source": [
    "#### Cross-sectional"
   ]
  },
  {
   "cell_type": "code",
   "execution_count": null,
   "id": "b9ad73eb",
   "metadata": {},
   "outputs": [],
   "source": [
    "# Calculate positive-ratio for each municipality, panel data\n",
    "muni_weekly_PosRatio = DataFrame(); \n",
    "for i in 1 : Int((ncol(muni_weekly_level)-1)/2)\n",
    "    Ct = muni_weekly_level[:, i+1];\n",
    "    city_name = names(muni_weekly_level)[i + 1];\n",
    "    Nt = muni_weekly_level[:, string(city_name, \"_1\")];\n",
    "    ratio = Ct ./ Nt;\n",
    "    muni_weekly_PosRatio[!, city_name] = ratio;\n",
    "end\n",
    "insertcols!(muni_weekly_PosRatio, 1, :Date => muni_weekly_level.Date);\n",
    "for col in eachcol(muni_weekly_PosRatio)\n",
    "    replace!(col, NaN => 0, Inf => 0);  # When Nt are 0, replace the ratio to be 0 instead of NaN and Inf.\n",
    "end\n",
    "\n",
    "# Create a dataframe contain averaged Nt and PosRatio and OLS estimates, cross-sectional data\n",
    "d1 = @pipe DataFrame(City = names(muni_Nt, Not(:Date)),\n",
    "          AveNt = mean.(eachcol(muni_Nt[:, Not(:Date)]))); \n",
    "d2 = @pipe DataFrame(City = names(muni_weekly_PosRatio, Not(:Date)),\n",
    "          AveRatio = Float64.(mean.(eachcol(muni_weekly_PosRatio[:, Not(:Date)]))));\n",
    "ols_nt_ratio_muni_weekly = @pipe leftjoin(ols_muni_weekly_coef, d1, on = :City) |> \n",
    "leftjoin(_, d2, on = :City);"
   ]
  },
  {
   "cell_type": "code",
   "execution_count": null,
   "id": "c2d08dc9",
   "metadata": {},
   "outputs": [],
   "source": [
    "@df ols_nt_ratio_muni_weekly scatter(log.(:AveNt), :OLS_Slope, \n",
    "    label = :none, \n",
    "    xlabel = \"log(Ni)\", \n",
    "    ylabel = \"OLS \\\\beta\", title = \"Each point is a municipality\")"
   ]
  },
  {
   "cell_type": "code",
   "execution_count": null,
   "id": "e350ecc9",
   "metadata": {},
   "outputs": [],
   "source": [
    "@df ols_nt_ratio_muni_weekly scatter(:AveRatio, :OLS_Slope, \n",
    "    label = :none, \n",
    "    xlabel = \"Average Positive Ratio\", \n",
    "    ylabel = \"OLS \\\\beta\", title = \"Each point is a municipality\")"
   ]
  },
  {
   "cell_type": "code",
   "execution_count": null,
   "id": "d182668f",
   "metadata": {},
   "outputs": [],
   "source": [
    "ols_muni_weekly_beta_ratio_cross_sectional = lm(@formula(OLS_Slope ~ AveRatio + log(AveNt)), \n",
    "    ols_nt_ratio_muni_weekly)"
   ]
  },
  {
   "cell_type": "markdown",
   "id": "33005e32",
   "metadata": {},
   "source": [
    "### Section 3.3.3: Weekday"
   ]
  },
  {
   "cell_type": "markdown",
   "id": "b9c228a1",
   "metadata": {},
   "source": [
    "#### Cross-sectional"
   ]
  },
  {
   "cell_type": "code",
   "execution_count": null,
   "id": "9114c00f",
   "metadata": {},
   "outputs": [],
   "source": [
    "ols_nt_ratio_muni_7dd = @pipe leftjoin(ols_muni_7dd_coef, d1, on = :City) |> \n",
    "leftjoin(_, d2, on = :City);"
   ]
  },
  {
   "cell_type": "code",
   "execution_count": null,
   "id": "36fddc7f",
   "metadata": {},
   "outputs": [],
   "source": [
    "@df ols_nt_ratio_muni_7dd scatter(log.(:AveNt), :OLS_Slope, \n",
    "    label = :none, \n",
    "    xlabel = \"log(Ni)\", \n",
    "    ylabel = \"OLS \\\\beta\", title = \"Each point is a municipality\")"
   ]
  },
  {
   "cell_type": "code",
   "execution_count": null,
   "id": "7e929368",
   "metadata": {},
   "outputs": [],
   "source": [
    "@df ols_nt_ratio_muni_7dd scatter(:AveRatio, :OLS_Slope, \n",
    "    label = :none, \n",
    "    xlabel = \"Average Positive Ratio\", \n",
    "    ylabel = \"OLS \\\\beta\", title = \"Each point is a municipality\")"
   ]
  },
  {
   "cell_type": "code",
   "execution_count": null,
   "id": "b17fde3c",
   "metadata": {},
   "outputs": [],
   "source": [
    "ols_muni_7dd_beta_ratio_cross_sectional = lm(@formula(OLS_Slope ~ AveRatio + log(AveNt)), \n",
    "    ols_nt_ratio_muni_7dd)"
   ]
  },
  {
   "cell_type": "markdown",
   "id": "2db9e240",
   "metadata": {},
   "source": [
    "#### Time-series"
   ]
  },
  {
   "cell_type": "code",
   "execution_count": null,
   "id": "b7b83ae3",
   "metadata": {},
   "outputs": [],
   "source": [
    "Aarhus_7dd = @pipe innerjoin(select(muni_Nt, :Date, \"Aarhus\" => \"Nt\"), \n",
    "    select(muni_7dd_score_beta_restricted, :Date, \"Aarhus\" => \"ScoreBetaHat\"), \n",
    "    on = :Date => :Date) |> innerjoin(_, \n",
    "    select(muni_Ct, \"Date\" => \"Date\", \"Aarhus\" => \"Ct\"), \n",
    "    on = :Date => :Date);\n",
    "Aarhus_7dd.PosRatio = Aarhus_7dd.Ct ./ Aarhus_7dd.Nt;\n",
    "@df Aarhus_7dd plot(:Date, :ScoreBetaHat, label = \"β hat\", \n",
    "    title = \"Aarhus 7dd\", color = \"blue\", leg = :bottomright)\n",
    "@df Aarhus_7dd plot!(twinx(), :Date, log.(:Nt), label = \"log(Nt)\", \n",
    "    color = \"red\", leg = :topright)"
   ]
  },
  {
   "cell_type": "code",
   "execution_count": null,
   "id": "8a69a387",
   "metadata": {},
   "outputs": [],
   "source": [
    "@df Aarhus_7dd scatter(log.(:Nt), :ScoreBetaHat, label = :none, \n",
    "    title = \"Aarhus 7dd\", xlabel = \"log(Nt)\", ylabel = \"Score beta hat\")"
   ]
  },
  {
   "cell_type": "code",
   "execution_count": null,
   "id": "18f6fa0d",
   "metadata": {},
   "outputs": [],
   "source": [
    "Aalborg_7dd = @pipe innerjoin(select(muni_Nt, :Date, \"Aalborg\" => \"Nt\"), \n",
    "    select(muni_7dd_score_beta_restricted, :Date, \"Aalborg\" => \"ScoreBetaHat\"), \n",
    "    on = :Date => :Date) |> innerjoin(_, \n",
    "    select(muni_Ct, \"Date\" => \"Date\", \"Aalborg\" => \"Ct\"), \n",
    "    on = :Date => :Date);\n",
    "Aalborg_7dd.PosRatio = Aalborg_7dd.Ct ./ Aalborg_7dd.Nt;\n",
    "@df Aalborg_7dd plot(:Date, :ScoreBetaHat, label = \"β hat\", \n",
    "    title = \"Aalborg 7dd\", color = \"blue\", leg = :bottomright)\n",
    "@df Aalborg_7dd plot!(twinx(), :Date, log.(:Nt), label = \"log(Nt)\", \n",
    "    color = \"red\", leg = :topright)"
   ]
  },
  {
   "cell_type": "code",
   "execution_count": null,
   "id": "acaf797a",
   "metadata": {},
   "outputs": [],
   "source": [
    "@df Aalborg_7dd scatter(:Nt, :ScoreBetaHat, label = :none, \n",
    "    title = \"Aalborg 7dd\", xlabel = \"Nt\", ylabel = \"Score beta hat\")"
   ]
  },
  {
   "cell_type": "code",
   "execution_count": null,
   "id": "2fceb651",
   "metadata": {},
   "outputs": [],
   "source": [
    "Odense_7dd = @pipe innerjoin(select(muni_Nt, :Date, \"Odense\" => \"Nt\"), \n",
    "    select(muni_7dd_score_beta_restricted, :Date, \"Odense\" => \"ScoreBetaHat\"), \n",
    "    on = :Date => :Date) |> innerjoin(_, \n",
    "    select(muni_Ct, \"Date\" => \"Date\", \"Odense\" => \"Ct\"), \n",
    "    on = :Date => :Date);\n",
    "Odense_7dd.PosRatio = Odense_7dd.Ct ./ Odense_7dd.Nt;\n",
    "@df Odense_7dd plot(:Date, :ScoreBetaHat, label = \"β hat\", \n",
    "    title = \"Odense 7dd\", color = \"blue\", leg = :bottomright)\n",
    "@df Odense_7dd plot!(twinx(), :Date, :Nt, label = \"Nt\", \n",
    "    color = \"red\", leg = :topright)"
   ]
  },
  {
   "cell_type": "code",
   "execution_count": null,
   "id": "dc29f6e1",
   "metadata": {},
   "outputs": [],
   "source": [
    "@df Odense_7dd scatter(:Nt, :ScoreBetaHat, label = :none, \n",
    "    title = \"Odense 7dd\", xlabel = \"Nt\", ylabel = \"Score beta hat\")"
   ]
  },
  {
   "cell_type": "code",
   "execution_count": null,
   "id": "829681de",
   "metadata": {},
   "outputs": [],
   "source": [
    "Copenhagen_7dd = @pipe innerjoin(select(muni_Nt, :Date, \"Copenhagen\" => \"Nt\"), \n",
    "    select(muni_7dd_score_beta_restricted, :Date, \"Copenhagen\" => \"ScoreBetaHat\"), \n",
    "    on = :Date => :Date) |> innerjoin(_, \n",
    "    select(muni_Ct, \"Date\" => \"Date\", \"Copenhagen\" => \"Ct\"), \n",
    "    on = :Date => :Date);\n",
    "Copenhagen_7dd.PosRatio = Copenhagen_7dd.Ct ./ Copenhagen_7dd.Nt;\n",
    "@df Copenhagen_7dd plot(:Date, :ScoreBetaHat, label = \"β hat\", \n",
    "    title = \"Copenhagen 7dd\", color = \"blue\", leg = :bottomright)\n",
    "@df Copenhagen_7dd plot!(twinx(), :Date, :Nt, label = \"Nt\", \n",
    "    color = \"red\", leg = :topright)"
   ]
  },
  {
   "cell_type": "code",
   "execution_count": null,
   "id": "02ad7664",
   "metadata": {},
   "outputs": [],
   "source": [
    "@df Copenhagen_7dd scatter(:Nt, :ScoreBetaHat, label = :none, \n",
    "    title = \"Copenhagen 7dd\", xlabel = \"Nt\", ylabel = \"Score beta hat\")"
   ]
  }
 ],
 "metadata": {
  "kernelspec": {
   "display_name": "Julia 1.7.1",
   "language": "julia",
   "name": "julia-1.7"
  },
  "language_info": {
   "file_extension": ".jl",
   "mimetype": "application/julia",
   "name": "julia",
   "version": "1.7.1"
  }
 },
 "nbformat": 4,
 "nbformat_minor": 5
}
