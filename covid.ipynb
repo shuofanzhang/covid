{
 "cells": [
  {
   "cell_type": "markdown",
   "id": "c64544a1",
   "metadata": {},
   "source": [
    "# Empirical Analysis\n",
    "\n",
    "# Table of Contents\n",
    "\n",
    "* [Section 1: Static Analysis, constant $\\beta$](#static_analysis)\n",
    "\n",
    "    * [Section 1.1: Static OLS](#static_ols)\n",
    "  \n",
    "        * [Section 1.1.1: Daily]\n",
    "    \n",
    "        * [Section 1.1.2: Weekly]\n",
    "    \n",
    "        * [Section 1.1.3: Weekday]\n",
    "        \n",
    "    * [Section 1.2: Subsample Analysis](#subsample)\n",
    "  \n",
    "        * [Section 1.2.1: Daily]\n",
    "    \n",
    "        * [Section 1.2.2: Weekly]\n",
    "    \n",
    "        * [Section 1.2.3: Weekday]\n",
    "        \n",
    "    * [Section 1.3: Autocorrelation Investigation](#static_auto)\n",
    "        \n",
    "        * [Section 1.3.1: Daily]\n",
    "    \n",
    "        * [Section 1.3.2: Weekly]\n",
    "    \n",
    "        * [Section 1.3.3: Weekday]\n",
    "    \n",
    "    * [Section 1.4: Adjusted Case Numbers](#static_adjust_case)\n",
    "        \n",
    "        * [Section 1.4.1: Daily]\n",
    "    \n",
    "        * [Section 1.4.2: Weekly]\n",
    "    \n",
    "        * [Section 1.4.3: Weekday]   \n",
    "        \n",
    "       \n",
    "* [Section 2: Dynamic Analysis, time-varying $\\beta$](#dynamic_analysis)\n",
    "\n",
    "     * [Section 2.1: Rolling OLS](#dynamic_rolling_ols)\n",
    "    \n",
    "        * [Section 2.1.1: Daily]\n",
    "  \n",
    "        * [Section 2.1.2: Weekly]\n",
    "  \n",
    "        * [Section 2.1.3: Weekday]\n",
    "        \n",
    "     * [Section 2.2: Score Model](#dynamic_score_model)\n",
    "\n",
    "        * [Section 2.2.1: Daily]\n",
    "    \n",
    "        * [Section 2.2.2: Weekly]\n",
    "      \n",
    "        * [Section 2.2.3: Weekday]\n",
    "      \n",
    "     * [Section 2.3: Score Out-of-sample Forecast](#dynamic_out_sample)\n",
    "     \n",
    "        * [Section 2.3.1: Daily]\n",
    "   \n",
    "        * [Section 2.3.2: Weekly]\n",
    "  \n",
    "        * [Section 2.3.3: Weekday]\n",
    "      \n",
    "     * [Section 2.4: Score Adjusted Case Numbers](#dynamic_adjust_case)\n",
    "      \n",
    "        * [Section 2.4.1: Daily]\n",
    " \n",
    "        * [Section 2.4.2: Weekly]\n",
    "  \n",
    "        * [Section 2.4.3: Weekday]\n",
    "        \n",
    "     * [Section 2.5: Autocorrelation Investigation](#dynamic_auto)\n",
    "        \n",
    "        * [Section 2.5.1: Daily]\n",
    "        \n",
    "        * [Section 2.5.2: Weekly]\n",
    "        \n",
    "        * [Section 2.5.3: Weekday]\n",
    "  \n",
    "  \n",
    "* [Section 3: Municipality Data Analysis, Panel Data](#muni_analysis)\n",
    "\n",
    "     * [Section 3.1: Static Analysis](#muni_static_analysis)\n",
    "    \n",
    "         * [Section 3.1.1: Daily]\n",
    "  \n",
    "         * [Section 3.1.2: Weekly]\n",
    "  \n",
    "         * [Section 3.1.3: Weekday]\n",
    "    \n",
    "     * [Section 3.2: Dynamic Analysis](#muni_dynamic_analysis)\n",
    "    \n",
    "         * [Section 3.2.1: Daily]\n",
    " \n",
    "         * [Section 3.2.2: Weekly]\n",
    "  \n",
    "         * [Section 3.2.3: Weekday]\n",
    "         \n",
    "     * [Section 3.3: Explore Correlation between $\\beta$ and Data](#beta_and_data)\n",
    "  "
   ]
  },
  {
   "cell_type": "code",
   "execution_count": 1,
   "id": "57414cf6",
   "metadata": {},
   "outputs": [],
   "source": [
    "using CSV, DataFrames, Plots, StatsPlots, Dates, GLM;\n",
    "using Pipe, StatsPlots, Underscores, Statistics, StatsBase, RollingFunctions;"
   ]
  },
  {
   "cell_type": "code",
   "execution_count": 2,
   "id": "10fe2074",
   "metadata": {},
   "outputs": [],
   "source": [
    "# import data and clean\n",
    "date_of_first_obs = Date(\"2020-07-01\");\n",
    "windowsize = 7; # set window size for aggregating data into windowsize-ly data\n",
    "sub_sample_size = 90;  # 3-months\n",
    "fixN_daily = 100000;  # to get adjusted case numbers\n",
    "fixN_weekly = fixN_daily * 7;\n",
    "fixN_7dd = fixN_daily;\n",
    "daily = CSV.File(\"pos.csv\") |> DataFrame;\n",
    "n = nrow(daily);\n",
    "delete!(daily, n-1:n);  # last two rows contain some words instead of data, remomve them\n",
    "daily = rename(daily, :Tested => :Nt, :NewPositive => :Ct) |> DataFrame; # rename Nt and Ct\n",
    "daily.Nt .= replace.(daily.Nt, \".\" => \"\");  # There are dots in numbers, i.e. one thousand is written as 1.000, remove dots\n",
    "daily.Nt .= replace.(daily.Nt, \" \" => \"\");\n",
    "daily.Ct .= replace.(daily.Ct, \".\" => \"\");\n",
    "daily.Ct .= replace.(daily.Ct, \" \" => \"\");\n",
    "daily.Nt = parse.(Int, daily.Nt); # change data type from string to integers\n",
    "daily.Ct = parse.(Int, daily.Ct);\n",
    "daily.logNt = log.(daily.Nt); # create log(Nt)\n",
    "daily.logCt = log.(daily.Ct); # create log(Ct)\n",
    "daily.ratio = daily.Ct ./ daily.Nt; # calculate positive ratio\n",
    "daily.ratio = replace!(daily.ratio, NaN => 0); # NaN are created bc some Nt=0, replace NaN with 0\n",
    "daily.Date = Date.(daily.Date, \"yyyy-mm-dd\"); # change data type of Date from string to Date\n",
    "n = nrow(daily);\n",
    "\n",
    "# create daily data set \n",
    "national_daily = @pipe daily |> \n",
    "subset(_, :logCt => c -> .!isinf.(c)) |> \n",
    "select(_, :Date, :logCt, :logNt, :Ct, :Nt) |>\n",
    "transform(_, :logCt => (x -> x - lag(x)) => :diff_logCt, \n",
    "             :logNt => (x -> x - lag(x)) => :diff_logNt) |>\n",
    "dropmissing(_) |>\n",
    "subset(_, :Date => ByRow(D -> D >= date_of_first_obs)); # drop data before 2020-07-01 ;\n",
    "N_daily = nrow(national_daily);\n",
    "\n",
    "# create rolling weekly data set\n",
    "national_weekly = select(daily,\n",
    "    :Date,\n",
    "    :Nt => (v -> runmean(v, windowsize) * windowsize) => :Nt, \n",
    "    :Ct => (v -> runmean(v, windowsize) * windowsize) => :Ct)\n",
    "delete!(national_weekly, 1: (windowsize - 1));\n",
    "national_weekly = @pipe national_weekly |> \n",
    "transform(_, :Nt => (x -> log.(x)) => :logNt,\n",
    "             :Ct => (x -> log.(x)) => :logCt) |> \n",
    "subset(_, :logCt => c -> .!isinf.(c)) |> \n",
    "transform(_, :logCt => (x -> x - lag(x)) => :diff_logCt, \n",
    "             :logNt => (x -> x - lag(x)) => :diff_logNt) |> \n",
    "dropmissing(_) |>\n",
    "subset(_, :Date => ByRow(D -> D >= date_of_first_obs)); # drop data before 2020-07-01 ;\n",
    "N_weekly = nrow(national_weekly);\n",
    "\n",
    "# create weekday data set, 7-day difference\n",
    "national_7dd = @pipe daily |> \n",
    "subset(_, :logCt => c -> .!isinf.(c)) |> \n",
    "select(_, :Date, :logCt, :logNt, :Ct, :Nt) |>\n",
    "transform(_, :logCt => (x -> x - lag(x, 7)) => :diff_logCt, \n",
    "             :logNt => (x -> x - lag(x, 7)) => :diff_logNt) |>\n",
    "dropmissing(_) |>\n",
    "subset(_, :Date => ByRow(D -> D >= date_of_first_obs)); # drop data before 2020-07-01 ;\n",
    "N_7dd = nrow(national_7dd);\n",
    "\n",
    "# add sub-sample index to data sets\n",
    "national_daily.subsample = string.(Int.(repeat(1:ceil(N_daily/sub_sample_size), \n",
    "            inner = sub_sample_size)[1:N_daily]));\n",
    "national_weekly.subsample = string.(Int.(repeat(1:ceil(N_weekly/sub_sample_size), \n",
    "            inner = sub_sample_size)[1:N_weekly]));\n",
    "national_7dd.subsample = string.(Int.(repeat(1:ceil(N_7dd/sub_sample_size), \n",
    "            inner = sub_sample_size)[1:N_7dd]));\n"
   ]
  },
  {
   "cell_type": "markdown",
   "id": "2af9b390",
   "metadata": {},
   "source": [
    "# Section 1: Static Analysis, constant $\\beta$ <a class=\"anchor\" id=\"static_analysis\"></a>\n",
    "\n",
    "Define $N_t$ as number of tests conducted at day $t$; $C_t$ as number of observed positive cases at day $t$.\n",
    "\n",
    "Let $c_t = \\log C_t$ and $n_t = \\log N_t$, then \n",
    "\n",
    "$$\\Delta c_t = \\beta \\Delta n_t + U_t.$$\n",
    "\n",
    "In each of the subsections below, there will be time plots of the key variables, scatter plots of $\\Delta c_t$ against\n",
    "$\\Delta n_t$, OLS estimation results; where in the scatter plots, the vertical and horizontal lines show the 0.5% and 99.5% quantile of x and y axis respectively."
   ]
  },
  {
   "cell_type": "markdown",
   "id": "08c5e968",
   "metadata": {},
   "source": [
    "## Section 1.1: Static OLS<a class=\"anchor\" id=\"static_ols\"></a>"
   ]
  },
  {
   "cell_type": "markdown",
   "id": "294115c1",
   "metadata": {},
   "source": [
    "### Section 1.1.1: Daily"
   ]
  },
  {
   "cell_type": "code",
   "execution_count": null,
   "id": "352e380c",
   "metadata": {},
   "outputs": [],
   "source": [
    "pnt_daily = @df national_daily plot(:Date, :Nt, yaxis = :log, ylabel = \"Nt values\",\n",
    "    label = \"log(Nt)\", color = \"blue\", leg = :bottomright);\n",
    "pct_daily = @df national_daily plot(:Date, :Ct, yaxis = :log, ylabel = \"Ct values\",\n",
    "    label = \"log(Ct)\", color = \"red\", leg = :bottomright);\n",
    "plot(pnt_daily, pct_daily, layout = (1, 2), size = (700, 300))"
   ]
  },
  {
   "cell_type": "code",
   "execution_count": null,
   "id": "7d0b69dd",
   "metadata": {},
   "outputs": [],
   "source": [
    "@df national_weekly plot(:Date, :Nt, yaxis = :log, ylabel = \"Nt\", xlabel = \"First day of each week\",\n",
    "    label = \"log(Nt)\", color = \"blue\", leg = :topleft)\n",
    "@df national_weekly plot!(twinx(), :Date, :Ct, yaxis = :log, ylabel = \"Ct\",\n",
    "    label = \"log(Ct)\", color = \"red\", leg = :bottomright)"
   ]
  },
  {
   "cell_type": "code",
   "execution_count": null,
   "id": "ec8bcd0b",
   "metadata": {},
   "outputs": [],
   "source": [
    "pdnt_daily = @df national_daily plot(:Date, :diff_logNt, \n",
    "    label = \"Δ nt\", color = \"blue\", leg = :bottomright);\n",
    "pdct_daily = @df national_daily plot(:Date, :diff_logCt, \n",
    "    label = \"Δ ct\", color = \"red\", leg = :bottomright);\n",
    "plot(pdnt_daily, pdct_daily, layout = (1, 2), size = (900, 300))"
   ]
  },
  {
   "cell_type": "code",
   "execution_count": null,
   "id": "bc010a9a",
   "metadata": {},
   "outputs": [],
   "source": [
    "ols_national_daily = lm(@formula(diff_logCt ~ diff_logNt), national_daily)"
   ]
  },
  {
   "cell_type": "code",
   "execution_count": null,
   "id": "96c3bdf3",
   "metadata": {},
   "outputs": [],
   "source": [
    "@df national_daily scatter(:diff_logNt, :diff_logCt, label=:none)\n",
    "@df national_daily plot!(:diff_logNt, :diff_logNt * coef(ols_national_daily)[2], \n",
    "                      label = string(\"(slope = \",round(coef(ols_national_daily)[2], digits=3), \")\"),\n",
    "                       xlabel = \"Δ nt\",\n",
    "                      ylabel = \"Δ ct\",\n",
    "                      title = \"Daily\")\n",
    "@df national_daily hline!([quantile(:diff_logCt, 0.005)], color = :blue, label=:none)\n",
    "@df national_daily hline!([quantile(:diff_logCt, 0.995)], color = :blue, label=:none)\n",
    "@df national_daily vline!([quantile(:diff_logNt, 0.005)], color = :blue, label=:none)\n",
    "@df national_daily vline!([quantile(:diff_logNt, 0.995)], color = :blue, label=:none)"
   ]
  },
  {
   "cell_type": "markdown",
   "id": "68ed9006",
   "metadata": {},
   "source": [
    "### Section 1.1.2: Weekly"
   ]
  },
  {
   "cell_type": "code",
   "execution_count": 3,
   "id": "16802b0d",
   "metadata": {},
   "outputs": [
    {
     "data": {
      "image/svg+xml": "<?xml version=\"1.0\" encoding=\"utf-8\"?>\n<svg xmlns=\"http://www.w3.org/2000/svg\" xmlns:xlink=\"http://www.w3.org/1999/xlink\" width=\"700\" height=\"300\" viewBox=\"0 0 2800 1200\">\n<defs>\n  <clipPath id=\"clip380\">\n    <rect x=\"0\" y=\"0\" width=\"2800\" height=\"1200\"/>\n  </clipPath>\n</defs>\n<path clip-path=\"url(#clip380)\" d=\"\nM0 1200 L2800 1200 L2800 0 L0 0  Z\n  \" fill=\"#ffffff\" fill-rule=\"evenodd\" fill-opacity=\"1\"/>\n<defs>\n  <clipPath id=\"clip381\">\n    <rect x=\"560\" y=\"0\" width=\"1961\" height=\"1200\"/>\n  </clipPath>\n</defs>\n<path clip-path=\"url(#clip380)\" d=\"\nM245.378 1102.79 L1370.59 1102.79 L1370.59 47.2441 L245.378 47.2441  Z\n  \" fill=\"#ffffff\" fill-rule=\"evenodd\" fill-opacity=\"1\"/>\n<defs>\n  <clipPath id=\"clip382\">\n    <rect x=\"245\" y=\"47\" width=\"1126\" height=\"1057\"/>\n  </clipPath>\n</defs>\n<polyline clip-path=\"url(#clip382)\" style=\"stroke:#000000; stroke-linecap:butt; stroke-linejoin:round; stroke-width:2; stroke-opacity:0.1; fill:none\" points=\"\n  277.224,1102.79 277.224,47.2441 \n  \"/>\n<polyline clip-path=\"url(#clip382)\" style=\"stroke:#000000; stroke-linecap:butt; stroke-linejoin:round; stroke-width:2; stroke-opacity:0.1; fill:none\" points=\"\n  564.679,1102.79 564.679,47.2441 \n  \"/>\n<polyline clip-path=\"url(#clip382)\" style=\"stroke:#000000; stroke-linecap:butt; stroke-linejoin:round; stroke-width:2; stroke-opacity:0.1; fill:none\" points=\"\n  848.376,1102.79 848.376,47.2441 \n  \"/>\n<polyline clip-path=\"url(#clip382)\" style=\"stroke:#000000; stroke-linecap:butt; stroke-linejoin:round; stroke-width:2; stroke-opacity:0.1; fill:none\" points=\"\n  1135.83,1102.79 1135.83,47.2441 \n  \"/>\n<polyline clip-path=\"url(#clip380)\" style=\"stroke:#000000; stroke-linecap:butt; stroke-linejoin:round; stroke-width:4; stroke-opacity:1; fill:none\" points=\"\n  245.378,1102.79 1370.59,1102.79 \n  \"/>\n<polyline clip-path=\"url(#clip380)\" style=\"stroke:#000000; stroke-linecap:butt; stroke-linejoin:round; stroke-width:4; stroke-opacity:1; fill:none\" points=\"\n  277.224,1102.79 277.224,1083.89 \n  \"/>\n<polyline clip-path=\"url(#clip380)\" style=\"stroke:#000000; stroke-linecap:butt; stroke-linejoin:round; stroke-width:4; stroke-opacity:1; fill:none\" points=\"\n  564.679,1102.79 564.679,1083.89 \n  \"/>\n<polyline clip-path=\"url(#clip380)\" style=\"stroke:#000000; stroke-linecap:butt; stroke-linejoin:round; stroke-width:4; stroke-opacity:1; fill:none\" points=\"\n  848.376,1102.79 848.376,1083.89 \n  \"/>\n<polyline clip-path=\"url(#clip380)\" style=\"stroke:#000000; stroke-linecap:butt; stroke-linejoin:round; stroke-width:4; stroke-opacity:1; fill:none\" points=\"\n  1135.83,1102.79 1135.83,1083.89 \n  \"/>\n<path clip-path=\"url(#clip380)\" d=\"M149.019 1164.46 L165.338 1164.46 L165.338 1168.39 L143.394 1168.39 L143.394 1164.46 Q146.056 1161.7 150.639 1157.07 Q155.245 1152.42 156.426 1151.08 Q158.671 1148.55 159.551 1146.82 Q160.454 1145.06 160.454 1143.37 Q160.454 1140.61 158.509 1138.88 Q156.588 1137.14 153.486 1137.14 Q151.287 1137.14 148.833 1137.9 Q146.403 1138.67 143.625 1140.22 L143.625 1135.5 Q146.449 1134.36 148.903 1133.78 Q151.357 1133.21 153.394 1133.21 Q158.764 1133.21 161.958 1135.89 Q165.153 1138.58 165.153 1143.07 Q165.153 1145.2 164.343 1147.12 Q163.556 1149.02 161.449 1151.61 Q160.87 1152.28 157.769 1155.5 Q154.667 1158.69 149.019 1164.46 Z\" fill=\"#000000\" fill-rule=\"evenodd\" fill-opacity=\"1\" /><path clip-path=\"url(#clip380)\" d=\"M185.153 1136.91 Q181.542 1136.91 179.713 1140.47 Q177.907 1144.02 177.907 1151.15 Q177.907 1158.25 179.713 1161.82 Q181.542 1165.36 185.153 1165.36 Q188.787 1165.36 190.592 1161.82 Q192.421 1158.25 192.421 1151.15 Q192.421 1144.02 190.592 1140.47 Q188.787 1136.91 185.153 1136.91 M185.153 1133.21 Q190.963 1133.21 194.018 1137.81 Q197.097 1142.4 197.097 1151.15 Q197.097 1159.87 194.018 1164.48 Q190.963 1169.06 185.153 1169.06 Q179.342 1169.06 176.264 1164.48 Q173.208 1159.87 173.208 1151.15 Q173.208 1142.4 176.264 1137.81 Q179.342 1133.21 185.153 1133.21 Z\" fill=\"#000000\" fill-rule=\"evenodd\" fill-opacity=\"1\" /><path clip-path=\"url(#clip380)\" d=\"M209.342 1164.46 L225.662 1164.46 L225.662 1168.39 L203.717 1168.39 L203.717 1164.46 Q206.379 1161.7 210.963 1157.07 Q215.569 1152.42 216.75 1151.08 Q218.995 1148.55 219.875 1146.82 Q220.777 1145.06 220.777 1143.37 Q220.777 1140.61 218.833 1138.88 Q216.912 1137.14 213.81 1137.14 Q211.611 1137.14 209.157 1137.9 Q206.727 1138.67 203.949 1140.22 L203.949 1135.5 Q206.773 1134.36 209.227 1133.78 Q211.68 1133.21 213.717 1133.21 Q219.088 1133.21 222.282 1135.89 Q225.477 1138.58 225.477 1143.07 Q225.477 1145.2 224.666 1147.12 Q223.879 1149.02 221.773 1151.61 Q221.194 1152.28 218.092 1155.5 Q214.99 1158.69 209.342 1164.46 Z\" fill=\"#000000\" fill-rule=\"evenodd\" fill-opacity=\"1\" /><path clip-path=\"url(#clip380)\" d=\"M245.476 1136.91 Q241.865 1136.91 240.037 1140.47 Q238.231 1144.02 238.231 1151.15 Q238.231 1158.25 240.037 1161.82 Q241.865 1165.36 245.476 1165.36 Q249.111 1165.36 250.916 1161.82 Q252.745 1158.25 252.745 1151.15 Q252.745 1144.02 250.916 1140.47 Q249.111 1136.91 245.476 1136.91 M245.476 1133.21 Q251.287 1133.21 254.342 1137.81 Q257.421 1142.4 257.421 1151.15 Q257.421 1159.87 254.342 1164.48 Q251.287 1169.06 245.476 1169.06 Q239.666 1169.06 236.588 1164.48 Q233.532 1159.87 233.532 1151.15 Q233.532 1142.4 236.588 1137.81 Q239.666 1133.21 245.476 1133.21 Z\" fill=\"#000000\" fill-rule=\"evenodd\" fill-opacity=\"1\" /><path clip-path=\"url(#clip380)\" d=\"M262.884 1153.51 L275.36 1153.51 L275.36 1157.3 L262.884 1157.3 L262.884 1153.51 Z\" fill=\"#000000\" fill-rule=\"evenodd\" fill-opacity=\"1\" /><path clip-path=\"url(#clip380)\" d=\"M292.745 1136.91 Q289.134 1136.91 287.305 1140.47 Q285.499 1144.02 285.499 1151.15 Q285.499 1158.25 287.305 1161.82 Q289.134 1165.36 292.745 1165.36 Q296.379 1165.36 298.184 1161.82 Q300.013 1158.25 300.013 1151.15 Q300.013 1144.02 298.184 1140.47 Q296.379 1136.91 292.745 1136.91 M292.745 1133.21 Q298.555 1133.21 301.61 1137.81 Q304.689 1142.4 304.689 1151.15 Q304.689 1159.87 301.61 1164.48 Q298.555 1169.06 292.745 1169.06 Q286.935 1169.06 283.856 1164.48 Q280.8 1159.87 280.8 1151.15 Q280.8 1142.4 283.856 1137.81 Q286.935 1133.21 292.745 1133.21 Z\" fill=\"#000000\" fill-rule=\"evenodd\" fill-opacity=\"1\" /><path clip-path=\"url(#clip380)\" d=\"M311.726 1133.83 L333.948 1133.83 L333.948 1135.82 L321.402 1168.39 L316.518 1168.39 L328.323 1137.77 L311.726 1137.77 L311.726 1133.83 Z\" fill=\"#000000\" fill-rule=\"evenodd\" fill-opacity=\"1\" /><path clip-path=\"url(#clip380)\" d=\"M340.314 1153.51 L352.791 1153.51 L352.791 1157.3 L340.314 1157.3 L340.314 1153.51 Z\" fill=\"#000000\" fill-rule=\"evenodd\" fill-opacity=\"1\" /><path clip-path=\"url(#clip380)\" d=\"M370.175 1136.91 Q366.564 1136.91 364.735 1140.47 Q362.929 1144.02 362.929 1151.15 Q362.929 1158.25 364.735 1161.82 Q366.564 1165.36 370.175 1165.36 Q373.809 1165.36 375.615 1161.82 Q377.443 1158.25 377.443 1151.15 Q377.443 1144.02 375.615 1140.47 Q373.809 1136.91 370.175 1136.91 M370.175 1133.21 Q375.985 1133.21 379.04 1137.81 Q382.119 1142.4 382.119 1151.15 Q382.119 1159.87 379.04 1164.48 Q375.985 1169.06 370.175 1169.06 Q364.365 1169.06 361.286 1164.48 Q358.23 1159.87 358.23 1151.15 Q358.23 1142.4 361.286 1137.81 Q364.365 1133.21 370.175 1133.21 Z\" fill=\"#000000\" fill-rule=\"evenodd\" fill-opacity=\"1\" /><path clip-path=\"url(#clip380)\" d=\"M391.147 1164.46 L398.786 1164.46 L398.786 1138.09 L390.476 1139.76 L390.476 1135.5 L398.739 1133.83 L403.415 1133.83 L403.415 1164.46 L411.054 1164.46 L411.054 1168.39 L391.147 1168.39 L391.147 1164.46 Z\" fill=\"#000000\" fill-rule=\"evenodd\" fill-opacity=\"1\" /><path clip-path=\"url(#clip380)\" d=\"M436.473 1164.46 L452.793 1164.46 L452.793 1168.39 L430.848 1168.39 L430.848 1164.46 Q433.51 1161.7 438.094 1157.07 Q442.7 1152.42 443.881 1151.08 Q446.126 1148.55 447.006 1146.82 Q447.909 1145.06 447.909 1143.37 Q447.909 1140.61 445.964 1138.88 Q444.043 1137.14 440.941 1137.14 Q438.742 1137.14 436.288 1137.9 Q433.858 1138.67 431.08 1140.22 L431.08 1135.5 Q433.904 1134.36 436.358 1133.78 Q438.811 1133.21 440.848 1133.21 Q446.219 1133.21 449.413 1135.89 Q452.608 1138.58 452.608 1143.07 Q452.608 1145.2 451.797 1147.12 Q451.01 1149.02 448.904 1151.61 Q448.325 1152.28 445.223 1155.5 Q442.122 1158.69 436.473 1164.46 Z\" fill=\"#000000\" fill-rule=\"evenodd\" fill-opacity=\"1\" /><path clip-path=\"url(#clip380)\" d=\"M472.607 1136.91 Q468.996 1136.91 467.168 1140.47 Q465.362 1144.02 465.362 1151.15 Q465.362 1158.25 467.168 1161.82 Q468.996 1165.36 472.607 1165.36 Q476.242 1165.36 478.047 1161.82 Q479.876 1158.25 479.876 1151.15 Q479.876 1144.02 478.047 1140.47 Q476.242 1136.91 472.607 1136.91 M472.607 1133.21 Q478.418 1133.21 481.473 1137.81 Q484.552 1142.4 484.552 1151.15 Q484.552 1159.87 481.473 1164.48 Q478.418 1169.06 472.607 1169.06 Q466.797 1169.06 463.719 1164.48 Q460.663 1159.87 460.663 1151.15 Q460.663 1142.4 463.719 1137.81 Q466.797 1133.21 472.607 1133.21 Z\" fill=\"#000000\" fill-rule=\"evenodd\" fill-opacity=\"1\" /><path clip-path=\"url(#clip380)\" d=\"M496.797 1164.46 L513.117 1164.46 L513.117 1168.39 L491.172 1168.39 L491.172 1164.46 Q493.834 1161.7 498.418 1157.07 Q503.024 1152.42 504.205 1151.08 Q506.45 1148.55 507.33 1146.82 Q508.232 1145.06 508.232 1143.37 Q508.232 1140.61 506.288 1138.88 Q504.367 1137.14 501.265 1137.14 Q499.066 1137.14 496.612 1137.9 Q494.181 1138.67 491.404 1140.22 L491.404 1135.5 Q494.228 1134.36 496.681 1133.78 Q499.135 1133.21 501.172 1133.21 Q506.543 1133.21 509.737 1135.89 Q512.931 1138.58 512.931 1143.07 Q512.931 1145.2 512.121 1147.12 Q511.334 1149.02 509.228 1151.61 Q508.649 1152.28 505.547 1155.5 Q502.445 1158.69 496.797 1164.46 Z\" fill=\"#000000\" fill-rule=\"evenodd\" fill-opacity=\"1\" /><path clip-path=\"url(#clip380)\" d=\"M532.931 1136.91 Q529.32 1136.91 527.491 1140.47 Q525.686 1144.02 525.686 1151.15 Q525.686 1158.25 527.491 1161.82 Q529.32 1165.36 532.931 1165.36 Q536.565 1165.36 538.371 1161.82 Q540.2 1158.25 540.2 1151.15 Q540.2 1144.02 538.371 1140.47 Q536.565 1136.91 532.931 1136.91 M532.931 1133.21 Q538.741 1133.21 541.797 1137.81 Q544.876 1142.4 544.876 1151.15 Q544.876 1159.87 541.797 1164.48 Q538.741 1169.06 532.931 1169.06 Q527.121 1169.06 524.042 1164.48 Q520.987 1159.87 520.987 1151.15 Q520.987 1142.4 524.042 1137.81 Q527.121 1133.21 532.931 1133.21 Z\" fill=\"#000000\" fill-rule=\"evenodd\" fill-opacity=\"1\" /><path clip-path=\"url(#clip380)\" d=\"M550.339 1153.51 L562.815 1153.51 L562.815 1157.3 L550.339 1157.3 L550.339 1153.51 Z\" fill=\"#000000\" fill-rule=\"evenodd\" fill-opacity=\"1\" /><path clip-path=\"url(#clip380)\" d=\"M571.01 1164.46 L578.649 1164.46 L578.649 1138.09 L570.338 1139.76 L570.338 1135.5 L578.602 1133.83 L583.278 1133.83 L583.278 1164.46 L590.917 1164.46 L590.917 1168.39 L571.01 1168.39 L571.01 1164.46 Z\" fill=\"#000000\" fill-rule=\"evenodd\" fill-opacity=\"1\" /><path clip-path=\"url(#clip380)\" d=\"M604.389 1164.46 L620.709 1164.46 L620.709 1168.39 L598.764 1168.39 L598.764 1164.46 Q601.426 1161.7 606.01 1157.07 Q610.616 1152.42 611.797 1151.08 Q614.042 1148.55 614.922 1146.82 Q615.824 1145.06 615.824 1143.37 Q615.824 1140.61 613.88 1138.88 Q611.959 1137.14 608.857 1137.14 Q606.658 1137.14 604.204 1137.9 Q601.773 1138.67 598.996 1140.22 L598.996 1135.5 Q601.82 1134.36 604.273 1133.78 Q606.727 1133.21 608.764 1133.21 Q614.135 1133.21 617.329 1135.89 Q620.523 1138.58 620.523 1143.07 Q620.523 1145.2 619.713 1147.12 Q618.926 1149.02 616.82 1151.61 Q616.241 1152.28 613.139 1155.5 Q610.037 1158.69 604.389 1164.46 Z\" fill=\"#000000\" fill-rule=\"evenodd\" fill-opacity=\"1\" /><path clip-path=\"url(#clip380)\" d=\"M627.769 1153.51 L640.245 1153.51 L640.245 1157.3 L627.769 1157.3 L627.769 1153.51 Z\" fill=\"#000000\" fill-rule=\"evenodd\" fill-opacity=\"1\" /><path clip-path=\"url(#clip380)\" d=\"M657.63 1136.91 Q654.019 1136.91 652.19 1140.47 Q650.384 1144.02 650.384 1151.15 Q650.384 1158.25 652.19 1161.82 Q654.019 1165.36 657.63 1165.36 Q661.264 1165.36 663.069 1161.82 Q664.898 1158.25 664.898 1151.15 Q664.898 1144.02 663.069 1140.47 Q661.264 1136.91 657.63 1136.91 M657.63 1133.21 Q663.44 1133.21 666.495 1137.81 Q669.574 1142.4 669.574 1151.15 Q669.574 1159.87 666.495 1164.48 Q663.44 1169.06 657.63 1169.06 Q651.819 1169.06 648.741 1164.48 Q645.685 1159.87 645.685 1151.15 Q645.685 1142.4 648.741 1137.81 Q651.819 1133.21 657.63 1133.21 Z\" fill=\"#000000\" fill-rule=\"evenodd\" fill-opacity=\"1\" /><path clip-path=\"url(#clip380)\" d=\"M678.602 1164.46 L686.241 1164.46 L686.241 1138.09 L677.93 1139.76 L677.93 1135.5 L686.194 1133.83 L690.87 1133.83 L690.87 1164.46 L698.509 1164.46 L698.509 1168.39 L678.602 1168.39 L678.602 1164.46 Z\" fill=\"#000000\" fill-rule=\"evenodd\" fill-opacity=\"1\" /><path clip-path=\"url(#clip380)\" d=\"M720.171 1164.46 L736.49 1164.46 L736.49 1168.39 L714.546 1168.39 L714.546 1164.46 Q717.208 1161.7 721.791 1157.07 Q726.398 1152.42 727.578 1151.08 Q729.823 1148.55 730.703 1146.82 Q731.606 1145.06 731.606 1143.37 Q731.606 1140.61 729.661 1138.88 Q727.74 1137.14 724.638 1137.14 Q722.439 1137.14 719.986 1137.9 Q717.555 1138.67 714.777 1140.22 L714.777 1135.5 Q717.601 1134.36 720.055 1133.78 Q722.509 1133.21 724.546 1133.21 Q729.916 1133.21 733.11 1135.89 Q736.305 1138.58 736.305 1143.07 Q736.305 1145.2 735.495 1147.12 Q734.708 1149.02 732.601 1151.61 Q732.022 1152.28 728.921 1155.5 Q725.819 1158.69 720.171 1164.46 Z\" fill=\"#000000\" fill-rule=\"evenodd\" fill-opacity=\"1\" /><path clip-path=\"url(#clip380)\" d=\"M756.305 1136.91 Q752.694 1136.91 750.865 1140.47 Q749.059 1144.02 749.059 1151.15 Q749.059 1158.25 750.865 1161.82 Q752.694 1165.36 756.305 1165.36 Q759.939 1165.36 761.745 1161.82 Q763.573 1158.25 763.573 1151.15 Q763.573 1144.02 761.745 1140.47 Q759.939 1136.91 756.305 1136.91 M756.305 1133.21 Q762.115 1133.21 765.17 1137.81 Q768.249 1142.4 768.249 1151.15 Q768.249 1159.87 765.17 1164.48 Q762.115 1169.06 756.305 1169.06 Q750.495 1169.06 747.416 1164.48 Q744.36 1159.87 744.36 1151.15 Q744.36 1142.4 747.416 1137.81 Q750.495 1133.21 756.305 1133.21 Z\" fill=\"#000000\" fill-rule=\"evenodd\" fill-opacity=\"1\" /><path clip-path=\"url(#clip380)\" d=\"M780.494 1164.46 L796.814 1164.46 L796.814 1168.39 L774.869 1168.39 L774.869 1164.46 Q777.532 1161.7 782.115 1157.07 Q786.721 1152.42 787.902 1151.08 Q790.147 1148.55 791.027 1146.82 Q791.93 1145.06 791.93 1143.37 Q791.93 1140.61 789.985 1138.88 Q788.064 1137.14 784.962 1137.14 Q782.763 1137.14 780.309 1137.9 Q777.879 1138.67 775.101 1140.22 L775.101 1135.5 Q777.925 1134.36 780.379 1133.78 Q782.832 1133.21 784.869 1133.21 Q790.24 1133.21 793.434 1135.89 Q796.629 1138.58 796.629 1143.07 Q796.629 1145.2 795.818 1147.12 Q795.031 1149.02 792.925 1151.61 Q792.346 1152.28 789.244 1155.5 Q786.143 1158.69 780.494 1164.46 Z\" fill=\"#000000\" fill-rule=\"evenodd\" fill-opacity=\"1\" /><path clip-path=\"url(#clip380)\" d=\"M807.439 1164.46 L815.078 1164.46 L815.078 1138.09 L806.767 1139.76 L806.767 1135.5 L815.031 1133.83 L819.707 1133.83 L819.707 1164.46 L827.346 1164.46 L827.346 1168.39 L807.439 1168.39 L807.439 1164.46 Z\" fill=\"#000000\" fill-rule=\"evenodd\" fill-opacity=\"1\" /><path clip-path=\"url(#clip380)\" d=\"M834.036 1153.51 L846.513 1153.51 L846.513 1157.3 L834.036 1157.3 L834.036 1153.51 Z\" fill=\"#000000\" fill-rule=\"evenodd\" fill-opacity=\"1\" /><path clip-path=\"url(#clip380)\" d=\"M863.897 1136.91 Q860.286 1136.91 858.457 1140.47 Q856.651 1144.02 856.651 1151.15 Q856.651 1158.25 858.457 1161.82 Q860.286 1165.36 863.897 1165.36 Q867.531 1165.36 869.337 1161.82 Q871.165 1158.25 871.165 1151.15 Q871.165 1144.02 869.337 1140.47 Q867.531 1136.91 863.897 1136.91 M863.897 1133.21 Q869.707 1133.21 872.762 1137.81 Q875.841 1142.4 875.841 1151.15 Q875.841 1159.87 872.762 1164.48 Q869.707 1169.06 863.897 1169.06 Q858.087 1169.06 855.008 1164.48 Q851.952 1159.87 851.952 1151.15 Q851.952 1142.4 855.008 1137.81 Q858.087 1133.21 863.897 1133.21 Z\" fill=\"#000000\" fill-rule=\"evenodd\" fill-opacity=\"1\" /><path clip-path=\"url(#clip380)\" d=\"M884.105 1133.83 L902.461 1133.83 L902.461 1137.77 L888.387 1137.77 L888.387 1146.24 Q889.406 1145.89 890.424 1145.73 Q891.443 1145.54 892.461 1145.54 Q898.248 1145.54 901.628 1148.71 Q905.008 1151.89 905.008 1157.3 Q905.008 1162.88 901.535 1165.98 Q898.063 1169.06 891.744 1169.06 Q889.568 1169.06 887.299 1168.69 Q885.054 1168.32 882.647 1167.58 L882.647 1162.88 Q884.73 1164.02 886.952 1164.57 Q889.174 1165.13 891.651 1165.13 Q895.656 1165.13 897.994 1163.02 Q900.332 1160.91 900.332 1157.3 Q900.332 1153.69 897.994 1151.59 Q895.656 1149.48 891.651 1149.48 Q889.776 1149.48 887.901 1149.9 Q886.049 1150.31 884.105 1151.19 L884.105 1133.83 Z\" fill=\"#000000\" fill-rule=\"evenodd\" fill-opacity=\"1\" /><path clip-path=\"url(#clip380)\" d=\"M911.466 1153.51 L923.943 1153.51 L923.943 1157.3 L911.466 1157.3 L911.466 1153.51 Z\" fill=\"#000000\" fill-rule=\"evenodd\" fill-opacity=\"1\" /><path clip-path=\"url(#clip380)\" d=\"M941.327 1136.91 Q937.716 1136.91 935.887 1140.47 Q934.082 1144.02 934.082 1151.15 Q934.082 1158.25 935.887 1161.82 Q937.716 1165.36 941.327 1165.36 Q944.961 1165.36 946.767 1161.82 Q948.595 1158.25 948.595 1151.15 Q948.595 1144.02 946.767 1140.47 Q944.961 1136.91 941.327 1136.91 M941.327 1133.21 Q947.137 1133.21 950.193 1137.81 Q953.271 1142.4 953.271 1151.15 Q953.271 1159.87 950.193 1164.48 Q947.137 1169.06 941.327 1169.06 Q935.517 1169.06 932.438 1164.48 Q929.383 1159.87 929.383 1151.15 Q929.383 1142.4 932.438 1137.81 Q935.517 1133.21 941.327 1133.21 Z\" fill=\"#000000\" fill-rule=\"evenodd\" fill-opacity=\"1\" /><path clip-path=\"url(#clip380)\" d=\"M962.299 1164.46 L969.938 1164.46 L969.938 1138.09 L961.628 1139.76 L961.628 1135.5 L969.892 1133.83 L974.567 1133.83 L974.567 1164.46 L982.206 1164.46 L982.206 1168.39 L962.299 1168.39 L962.299 1164.46 Z\" fill=\"#000000\" fill-rule=\"evenodd\" fill-opacity=\"1\" /><path clip-path=\"url(#clip380)\" d=\"M1007.63 1164.46 L1023.94 1164.46 L1023.94 1168.39 L1002 1168.39 L1002 1164.46 Q1004.66 1161.7 1009.25 1157.07 Q1013.85 1152.42 1015.03 1151.08 Q1017.28 1148.55 1018.16 1146.82 Q1019.06 1145.06 1019.06 1143.37 Q1019.06 1140.61 1017.12 1138.88 Q1015.19 1137.14 1012.09 1137.14 Q1009.89 1137.14 1007.44 1137.9 Q1005.01 1138.67 1002.23 1140.22 L1002.23 1135.5 Q1005.06 1134.36 1007.51 1133.78 Q1009.96 1133.21 1012 1133.21 Q1017.37 1133.21 1020.57 1135.89 Q1023.76 1138.58 1023.76 1143.07 Q1023.76 1145.2 1022.95 1147.12 Q1022.16 1149.02 1020.06 1151.61 Q1019.48 1152.28 1016.38 1155.5 Q1013.27 1158.69 1007.63 1164.46 Z\" fill=\"#000000\" fill-rule=\"evenodd\" fill-opacity=\"1\" /><path clip-path=\"url(#clip380)\" d=\"M1043.76 1136.91 Q1040.15 1136.91 1038.32 1140.47 Q1036.51 1144.02 1036.51 1151.15 Q1036.51 1158.25 1038.32 1161.82 Q1040.15 1165.36 1043.76 1165.36 Q1047.39 1165.36 1049.2 1161.82 Q1051.03 1158.25 1051.03 1151.15 Q1051.03 1144.02 1049.2 1140.47 Q1047.39 1136.91 1043.76 1136.91 M1043.76 1133.21 Q1049.57 1133.21 1052.63 1137.81 Q1055.7 1142.4 1055.7 1151.15 Q1055.7 1159.87 1052.63 1164.48 Q1049.57 1169.06 1043.76 1169.06 Q1037.95 1169.06 1034.87 1164.48 Q1031.82 1159.87 1031.82 1151.15 Q1031.82 1142.4 1034.87 1137.81 Q1037.95 1133.21 1043.76 1133.21 Z\" fill=\"#000000\" fill-rule=\"evenodd\" fill-opacity=\"1\" /><path clip-path=\"url(#clip380)\" d=\"M1067.95 1164.46 L1084.27 1164.46 L1084.27 1168.39 L1062.32 1168.39 L1062.32 1164.46 Q1064.99 1161.7 1069.57 1157.07 Q1074.18 1152.42 1075.36 1151.08 Q1077.6 1148.55 1078.48 1146.82 Q1079.38 1145.06 1079.38 1143.37 Q1079.38 1140.61 1077.44 1138.88 Q1075.52 1137.14 1072.42 1137.14 Q1070.22 1137.14 1067.76 1137.9 Q1065.33 1138.67 1062.56 1140.22 L1062.56 1135.5 Q1065.38 1134.36 1067.83 1133.78 Q1070.29 1133.21 1072.32 1133.21 Q1077.69 1133.21 1080.89 1135.89 Q1084.08 1138.58 1084.08 1143.07 Q1084.08 1145.2 1083.27 1147.12 Q1082.49 1149.02 1080.38 1151.61 Q1079.8 1152.28 1076.7 1155.5 Q1073.6 1158.69 1067.95 1164.46 Z\" fill=\"#000000\" fill-rule=\"evenodd\" fill-opacity=\"1\" /><path clip-path=\"url(#clip380)\" d=\"M1094.89 1164.46 L1102.53 1164.46 L1102.53 1138.09 L1094.22 1139.76 L1094.22 1135.5 L1102.49 1133.83 L1107.16 1133.83 L1107.16 1164.46 L1114.8 1164.46 L1114.8 1168.39 L1094.89 1168.39 L1094.89 1164.46 Z\" fill=\"#000000\" fill-rule=\"evenodd\" fill-opacity=\"1\" /><path clip-path=\"url(#clip380)\" d=\"M1121.49 1153.51 L1133.97 1153.51 L1133.97 1157.3 L1121.49 1157.3 L1121.49 1153.51 Z\" fill=\"#000000\" fill-rule=\"evenodd\" fill-opacity=\"1\" /><path clip-path=\"url(#clip380)\" d=\"M1142.16 1164.46 L1149.8 1164.46 L1149.8 1138.09 L1141.49 1139.76 L1141.49 1135.5 L1149.75 1133.83 L1154.43 1133.83 L1154.43 1164.46 L1162.07 1164.46 L1162.07 1168.39 L1142.16 1168.39 L1142.16 1164.46 Z\" fill=\"#000000\" fill-rule=\"evenodd\" fill-opacity=\"1\" /><path clip-path=\"url(#clip380)\" d=\"M1181.51 1136.91 Q1177.9 1136.91 1176.07 1140.47 Q1174.27 1144.02 1174.27 1151.15 Q1174.27 1158.25 1176.07 1161.82 Q1177.9 1165.36 1181.51 1165.36 Q1185.15 1165.36 1186.95 1161.82 Q1188.78 1158.25 1188.78 1151.15 Q1188.78 1144.02 1186.95 1140.47 Q1185.15 1136.91 1181.51 1136.91 M1181.51 1133.21 Q1187.32 1133.21 1190.38 1137.81 Q1193.46 1142.4 1193.46 1151.15 Q1193.46 1159.87 1190.38 1164.48 Q1187.32 1169.06 1181.51 1169.06 Q1175.7 1169.06 1172.62 1164.48 Q1169.57 1159.87 1169.57 1151.15 Q1169.57 1142.4 1172.62 1137.81 Q1175.7 1133.21 1181.51 1133.21 Z\" fill=\"#000000\" fill-rule=\"evenodd\" fill-opacity=\"1\" /><path clip-path=\"url(#clip380)\" d=\"M1198.92 1153.51 L1211.4 1153.51 L1211.4 1157.3 L1198.92 1157.3 L1198.92 1153.51 Z\" fill=\"#000000\" fill-rule=\"evenodd\" fill-opacity=\"1\" /><path clip-path=\"url(#clip380)\" d=\"M1228.78 1136.91 Q1225.17 1136.91 1223.34 1140.47 Q1221.54 1144.02 1221.54 1151.15 Q1221.54 1158.25 1223.34 1161.82 Q1225.17 1165.36 1228.78 1165.36 Q1232.42 1165.36 1234.22 1161.82 Q1236.05 1158.25 1236.05 1151.15 Q1236.05 1144.02 1234.22 1140.47 Q1232.42 1136.91 1228.78 1136.91 M1228.78 1133.21 Q1234.59 1133.21 1237.65 1137.81 Q1240.73 1142.4 1240.73 1151.15 Q1240.73 1159.87 1237.65 1164.48 Q1234.59 1169.06 1228.78 1169.06 Q1222.97 1169.06 1219.89 1164.48 Q1216.84 1159.87 1216.84 1151.15 Q1216.84 1142.4 1219.89 1137.81 Q1222.97 1133.21 1228.78 1133.21 Z\" fill=\"#000000\" fill-rule=\"evenodd\" fill-opacity=\"1\" /><path clip-path=\"url(#clip380)\" d=\"M1249.75 1164.46 L1257.39 1164.46 L1257.39 1138.09 L1249.08 1139.76 L1249.08 1135.5 L1257.35 1133.83 L1262.02 1133.83 L1262.02 1164.46 L1269.66 1164.46 L1269.66 1168.39 L1249.75 1168.39 L1249.75 1164.46 Z\" fill=\"#000000\" fill-rule=\"evenodd\" fill-opacity=\"1\" /><polyline clip-path=\"url(#clip382)\" style=\"stroke:#000000; stroke-linecap:butt; stroke-linejoin:round; stroke-width:2; stroke-opacity:0.1; fill:none\" points=\"\n  245.378,982.842 1370.59,982.842 \n  \"/>\n<polyline clip-path=\"url(#clip382)\" style=\"stroke:#000000; stroke-linecap:butt; stroke-linejoin:round; stroke-width:2; stroke-opacity:0.1; fill:none\" points=\"\n  245.378,738.771 1370.59,738.771 \n  \"/>\n<polyline clip-path=\"url(#clip382)\" style=\"stroke:#000000; stroke-linecap:butt; stroke-linejoin:round; stroke-width:2; stroke-opacity:0.1; fill:none\" points=\"\n  245.378,494.699 1370.59,494.699 \n  \"/>\n<polyline clip-path=\"url(#clip382)\" style=\"stroke:#000000; stroke-linecap:butt; stroke-linejoin:round; stroke-width:2; stroke-opacity:0.1; fill:none\" points=\"\n  245.378,250.628 1370.59,250.628 \n  \"/>\n<polyline clip-path=\"url(#clip380)\" style=\"stroke:#000000; stroke-linecap:butt; stroke-linejoin:round; stroke-width:4; stroke-opacity:1; fill:none\" points=\"\n  245.378,1102.79 245.378,47.2441 \n  \"/>\n<polyline clip-path=\"url(#clip380)\" style=\"stroke:#000000; stroke-linecap:butt; stroke-linejoin:round; stroke-width:4; stroke-opacity:1; fill:none\" points=\"\n  245.378,982.842 264.276,982.842 \n  \"/>\n<polyline clip-path=\"url(#clip380)\" style=\"stroke:#000000; stroke-linecap:butt; stroke-linejoin:round; stroke-width:4; stroke-opacity:1; fill:none\" points=\"\n  245.378,738.771 264.276,738.771 \n  \"/>\n<polyline clip-path=\"url(#clip380)\" style=\"stroke:#000000; stroke-linecap:butt; stroke-linejoin:round; stroke-width:4; stroke-opacity:1; fill:none\" points=\"\n  245.378,494.699 264.276,494.699 \n  \"/>\n<polyline clip-path=\"url(#clip380)\" style=\"stroke:#000000; stroke-linecap:butt; stroke-linejoin:round; stroke-width:4; stroke-opacity:1; fill:none\" points=\"\n  245.378,250.628 264.276,250.628 \n  \"/>\n<path clip-path=\"url(#clip380)\" d=\"M97.3518 1002.63 L104.991 1002.63 L104.991 976.269 L96.6805 977.936 L96.6805 973.677 L104.944 972.01 L109.62 972.01 L109.62 1002.63 L117.259 1002.63 L117.259 1006.57 L97.3518 1006.57 L97.3518 1002.63 Z\" fill=\"#000000\" fill-rule=\"evenodd\" fill-opacity=\"1\" /><path clip-path=\"url(#clip380)\" d=\"M136.703 975.089 Q133.092 975.089 131.264 978.653 Q129.458 982.195 129.458 989.325 Q129.458 996.431 131.264 999.996 Q133.092 1003.54 136.703 1003.54 Q140.338 1003.54 142.143 999.996 Q143.972 996.431 143.972 989.325 Q143.972 982.195 142.143 978.653 Q140.338 975.089 136.703 975.089 M136.703 971.385 Q142.514 971.385 145.569 975.991 Q148.648 980.575 148.648 989.325 Q148.648 998.051 145.569 1002.66 Q142.514 1007.24 136.703 1007.24 Q130.893 1007.24 127.815 1002.66 Q124.759 998.051 124.759 989.325 Q124.759 980.575 127.815 975.991 Q130.893 971.385 136.703 971.385 Z\" fill=\"#000000\" fill-rule=\"evenodd\" fill-opacity=\"1\" /><path clip-path=\"url(#clip380)\" d=\"M149.833 951.08 L164.747 951.08 L164.747 954.277 L153.312 954.277 L153.312 961.16 Q154.14 960.878 154.967 960.747 Q155.795 960.596 156.622 960.596 Q161.324 960.596 164.07 963.173 Q166.816 965.75 166.816 970.151 Q166.816 974.683 163.995 977.204 Q161.174 979.705 156.039 979.705 Q154.271 979.705 152.428 979.404 Q150.604 979.103 148.648 978.501 L148.648 974.683 Q150.341 975.605 152.146 976.056 Q153.952 976.508 155.964 976.508 Q159.218 976.508 161.117 974.796 Q163.017 973.085 163.017 970.151 Q163.017 967.217 161.117 965.505 Q159.218 963.794 155.964 963.794 Q154.441 963.794 152.917 964.132 Q151.413 964.471 149.833 965.185 L149.833 951.08 Z\" fill=\"#000000\" fill-rule=\"evenodd\" fill-opacity=\"1\" /><path clip-path=\"url(#clip380)\" d=\"M174.302 974.382 L178.27 974.382 L178.27 979.16 L174.302 979.16 L174.302 974.382 Z\" fill=\"#000000\" fill-rule=\"evenodd\" fill-opacity=\"1\" /><path clip-path=\"url(#clip380)\" d=\"M187.204 975.962 L193.41 975.962 L193.41 954.54 L186.658 955.894 L186.658 952.434 L193.373 951.08 L197.172 951.08 L197.172 975.962 L203.378 975.962 L203.378 979.16 L187.204 979.16 L187.204 975.962 Z\" fill=\"#000000\" fill-rule=\"evenodd\" fill-opacity=\"1\" /><path clip-path=\"url(#clip380)\" d=\"M95.96 758.563 L103.599 758.563 L103.599 732.198 L95.2887 733.864 L95.2887 729.605 L103.553 727.938 L108.228 727.938 L108.228 758.563 L115.867 758.563 L115.867 762.498 L95.96 762.498 L95.96 758.563 Z\" fill=\"#000000\" fill-rule=\"evenodd\" fill-opacity=\"1\" /><path clip-path=\"url(#clip380)\" d=\"M135.312 731.017 Q131.701 731.017 129.872 734.582 Q128.066 738.124 128.066 745.253 Q128.066 752.36 129.872 755.924 Q131.701 759.466 135.312 759.466 Q138.946 759.466 140.751 755.924 Q142.58 752.36 142.58 745.253 Q142.58 738.124 140.751 734.582 Q138.946 731.017 135.312 731.017 M135.312 727.313 Q141.122 727.313 144.177 731.92 Q147.256 736.503 147.256 745.253 Q147.256 753.98 144.177 758.586 Q141.122 763.17 135.312 763.17 Q129.502 763.17 126.423 758.586 Q123.367 753.98 123.367 745.253 Q123.367 736.503 126.423 731.92 Q129.502 727.313 135.312 727.313 Z\" fill=\"#000000\" fill-rule=\"evenodd\" fill-opacity=\"1\" /><path clip-path=\"url(#clip380)\" d=\"M148.441 707.008 L163.355 707.008 L163.355 710.205 L151.92 710.205 L151.92 717.089 Q152.748 716.807 153.575 716.675 Q154.403 716.525 155.231 716.525 Q159.932 716.525 162.678 719.101 Q165.424 721.678 165.424 726.079 Q165.424 730.612 162.603 733.132 Q159.782 735.633 154.647 735.633 Q152.88 735.633 151.036 735.333 Q149.212 735.032 147.256 734.43 L147.256 730.612 Q148.949 731.533 150.754 731.985 Q152.56 732.436 154.572 732.436 Q157.826 732.436 159.726 730.725 Q161.625 729.013 161.625 726.079 Q161.625 723.145 159.726 721.434 Q157.826 719.722 154.572 719.722 Q153.049 719.722 151.525 720.061 Q150.021 720.399 148.441 721.114 L148.441 707.008 Z\" fill=\"#000000\" fill-rule=\"evenodd\" fill-opacity=\"1\" /><path clip-path=\"url(#clip380)\" d=\"M172.91 730.311 L176.878 730.311 L176.878 735.088 L172.91 735.088 L172.91 730.311 Z\" fill=\"#000000\" fill-rule=\"evenodd\" fill-opacity=\"1\" /><path clip-path=\"url(#clip380)\" d=\"M195.592 710.318 L186 725.308 L195.592 725.308 L195.592 710.318 M194.595 707.008 L199.372 707.008 L199.372 725.308 L203.378 725.308 L203.378 728.468 L199.372 728.468 L199.372 735.088 L195.592 735.088 L195.592 728.468 L182.916 728.468 L182.916 724.8 L194.595 707.008 Z\" fill=\"#000000\" fill-rule=\"evenodd\" fill-opacity=\"1\" /><path clip-path=\"url(#clip380)\" d=\"M97.0885 514.492 L104.727 514.492 L104.727 488.126 L96.4172 489.793 L96.4172 485.534 L104.681 483.867 L109.357 483.867 L109.357 514.492 L116.996 514.492 L116.996 518.427 L97.0885 518.427 L97.0885 514.492 Z\" fill=\"#000000\" fill-rule=\"evenodd\" fill-opacity=\"1\" /><path clip-path=\"url(#clip380)\" d=\"M136.44 486.946 Q132.829 486.946 131 490.51 Q129.195 494.052 129.195 501.182 Q129.195 508.288 131 511.853 Q132.829 515.395 136.44 515.395 Q140.074 515.395 141.88 511.853 Q143.709 508.288 143.709 501.182 Q143.709 494.052 141.88 490.51 Q140.074 486.946 136.44 486.946 M136.44 483.242 Q142.25 483.242 145.306 487.848 Q148.385 492.432 148.385 501.182 Q148.385 509.909 145.306 514.515 Q142.25 519.098 136.44 519.098 Q130.63 519.098 127.551 514.515 Q124.496 509.909 124.496 501.182 Q124.496 492.432 127.551 487.848 Q130.63 483.242 136.44 483.242 Z\" fill=\"#000000\" fill-rule=\"evenodd\" fill-opacity=\"1\" /><path clip-path=\"url(#clip380)\" d=\"M149.569 462.937 L164.484 462.937 L164.484 466.134 L153.049 466.134 L153.049 473.018 Q153.876 472.735 154.704 472.604 Q155.531 472.453 156.359 472.453 Q161.061 472.453 163.807 475.03 Q166.553 477.607 166.553 482.008 Q166.553 486.54 163.732 489.061 Q160.91 491.562 155.776 491.562 Q154.008 491.562 152.165 491.261 Q150.341 490.96 148.385 490.358 L148.385 486.54 Q150.077 487.462 151.883 487.913 Q153.688 488.365 155.701 488.365 Q158.954 488.365 160.854 486.653 Q162.754 484.942 162.754 482.008 Q162.754 479.074 160.854 477.362 Q158.954 475.651 155.701 475.651 Q154.177 475.651 152.654 475.989 Q151.149 476.328 149.569 477.042 L149.569 462.937 Z\" fill=\"#000000\" fill-rule=\"evenodd\" fill-opacity=\"1\" /><path clip-path=\"url(#clip380)\" d=\"M174.038 486.239 L178.007 486.239 L178.007 491.017 L174.038 491.017 L174.038 486.239 Z\" fill=\"#000000\" fill-rule=\"evenodd\" fill-opacity=\"1\" /><path clip-path=\"url(#clip380)\" d=\"M185.323 462.937 L203.378 462.937 L203.378 464.554 L193.185 491.017 L189.216 491.017 L198.808 466.134 L185.323 466.134 L185.323 462.937 Z\" fill=\"#000000\" fill-rule=\"evenodd\" fill-opacity=\"1\" /><path clip-path=\"url(#clip380)\" d=\"M96.0729 270.42 L103.712 270.42 L103.712 244.055 L95.4016 245.721 L95.4016 241.462 L103.665 239.796 L108.341 239.796 L108.341 270.42 L115.98 270.42 L115.98 274.356 L96.0729 274.356 L96.0729 270.42 Z\" fill=\"#000000\" fill-rule=\"evenodd\" fill-opacity=\"1\" /><path clip-path=\"url(#clip380)\" d=\"M135.425 242.874 Q131.813 242.874 129.985 246.439 Q128.179 249.981 128.179 257.11 Q128.179 264.217 129.985 267.781 Q131.813 271.323 135.425 271.323 Q139.059 271.323 140.864 267.781 Q142.693 264.217 142.693 257.11 Q142.693 249.981 140.864 246.439 Q139.059 242.874 135.425 242.874 M135.425 239.171 Q141.235 239.171 144.29 243.777 Q147.369 248.36 147.369 257.11 Q147.369 265.837 144.29 270.443 Q141.235 275.027 135.425 275.027 Q129.614 275.027 126.536 270.443 Q123.48 265.837 123.48 257.11 Q123.48 248.36 126.536 243.777 Q129.614 239.171 135.425 239.171 Z\" fill=\"#000000\" fill-rule=\"evenodd\" fill-opacity=\"1\" /><path clip-path=\"url(#clip380)\" d=\"M157.393 231.391 Q154.836 231.391 153.331 233.14 Q151.845 234.889 151.845 237.936 Q151.845 240.964 153.331 242.732 Q154.836 244.481 157.393 244.481 Q159.951 244.481 161.437 242.732 Q162.942 240.964 162.942 237.936 Q162.942 234.889 161.437 233.14 Q159.951 231.391 157.393 231.391 M164.935 219.486 L164.935 222.946 Q163.506 222.269 162.039 221.912 Q160.591 221.555 159.161 221.555 Q155.4 221.555 153.406 224.094 Q151.431 226.633 151.149 231.767 Q152.259 230.131 153.933 229.266 Q155.607 228.382 157.619 228.382 Q161.851 228.382 164.296 230.959 Q166.76 233.516 166.76 237.936 Q166.76 242.262 164.202 244.876 Q161.644 247.491 157.393 247.491 Q152.522 247.491 149.946 243.767 Q147.369 240.024 147.369 232.933 Q147.369 226.275 150.529 222.326 Q153.688 218.357 159.011 218.357 Q160.44 218.357 161.888 218.639 Q163.355 218.922 164.935 219.486 Z\" fill=\"#000000\" fill-rule=\"evenodd\" fill-opacity=\"1\" /><path clip-path=\"url(#clip380)\" d=\"M173.305 242.168 L177.273 242.168 L177.273 246.945 L173.305 246.945 L173.305 242.168 Z\" fill=\"#000000\" fill-rule=\"evenodd\" fill-opacity=\"1\" /><path clip-path=\"url(#clip380)\" d=\"M193.674 221.367 Q190.74 221.367 189.254 224.263 Q187.787 227.141 187.787 232.933 Q187.787 238.707 189.254 241.604 Q190.74 244.481 193.674 244.481 Q196.626 244.481 198.093 241.604 Q199.579 238.707 199.579 232.933 Q199.579 227.141 198.093 224.263 Q196.626 221.367 193.674 221.367 M193.674 218.357 Q198.394 218.357 200.877 222.1 Q203.378 225.824 203.378 232.933 Q203.378 240.024 200.877 243.767 Q198.394 247.491 193.674 247.491 Q188.953 247.491 186.451 243.767 Q183.969 240.024 183.969 232.933 Q183.969 225.824 186.451 222.1 Q188.953 218.357 193.674 218.357 Z\" fill=\"#000000\" fill-rule=\"evenodd\" fill-opacity=\"1\" /><path clip-path=\"url(#clip380)\" d=\"M-8.48727 723.752 L-8.48727 715.095 L31.2666 694.024 L-8.48727 694.024 L-8.48727 687.786 L39.0327 687.786 L39.0327 696.443 L-0.721109 717.514 L39.0327 717.514 L39.0327 723.752 L-8.48727 723.752 Z\" fill=\"#000000\" fill-rule=\"evenodd\" fill-opacity=\"1\" /><path clip-path=\"url(#clip380)\" d=\"M-6.7367 669.453 L3.38477 669.453 L3.38477 657.39 L7.93625 657.39 L7.93625 669.453 L27.288 669.453 Q31.6485 669.453 32.8898 668.275 Q34.1311 667.066 34.1311 663.405 L34.1311 657.39 L39.0327 657.39 L39.0327 663.405 Q39.0327 670.185 36.5183 672.763 Q33.972 675.341 27.288 675.341 L7.93625 675.341 L7.93625 679.638 L3.38477 679.638 L3.38477 675.341 L-6.7367 675.341 L-6.7367 669.453 Z\" fill=\"#000000\" fill-rule=\"evenodd\" fill-opacity=\"1\" /><path clip-path=\"url(#clip380)\" d=\"M3.38477 633.168 L3.38477 626.962 L33.3036 615.822 L3.38477 604.682 L3.38477 598.475 L39.0327 611.843 L39.0327 619.8 L3.38477 633.168 Z\" fill=\"#000000\" fill-rule=\"evenodd\" fill-opacity=\"1\" /><path clip-path=\"url(#clip380)\" d=\"M21.1133 574.19 Q21.1133 581.288 22.7365 584.025 Q24.3598 586.762 28.2747 586.762 Q31.3939 586.762 33.2399 584.725 Q35.0542 582.656 35.0542 579.123 Q35.0542 574.254 31.6167 571.325 Q28.1474 568.365 22.4182 568.365 L21.1133 568.365 L21.1133 574.19 M18.6943 562.509 L39.0327 562.509 L39.0327 568.365 L33.6219 568.365 Q36.8684 570.37 38.428 573.362 Q39.9558 576.354 39.9558 580.683 Q39.9558 586.157 36.9002 589.404 Q33.8128 592.619 28.6566 592.619 Q22.641 592.619 19.5855 588.608 Q16.53 584.566 16.53 576.577 L16.53 568.365 L15.957 568.365 Q11.9148 568.365 9.71865 571.039 Q7.49065 573.681 7.49065 578.487 Q7.49065 581.542 8.22271 584.439 Q8.95477 587.335 10.4189 590.009 L5.00803 590.009 Q3.76671 586.794 3.16197 583.77 Q2.5254 580.747 2.5254 577.882 Q2.5254 570.148 6.5358 566.328 Q10.5462 562.509 18.6943 562.509 Z\" fill=\"#000000\" fill-rule=\"evenodd\" fill-opacity=\"1\" /><path clip-path=\"url(#clip380)\" d=\"M-10.4925 550.446 L-10.4925 544.589 L39.0327 544.589 L39.0327 550.446 L-10.4925 550.446 Z\" fill=\"#000000\" fill-rule=\"evenodd\" fill-opacity=\"1\" /><path clip-path=\"url(#clip380)\" d=\"M24.9645 532.94 L3.38477 532.94 L3.38477 527.084 L24.7417 527.084 Q29.8025 527.084 32.3487 525.11 Q34.8632 523.137 34.8632 519.19 Q34.8632 514.448 31.8395 511.71 Q28.8158 508.941 23.5959 508.941 L3.38477 508.941 L3.38477 503.085 L39.0327 503.085 L39.0327 508.941 L33.5582 508.941 Q36.8047 511.074 38.3962 513.907 Q39.9558 516.708 39.9558 520.431 Q39.9558 526.574 36.1363 529.757 Q32.3169 532.94 24.9645 532.94 M2.5254 518.203 L2.5254 518.203 Z\" fill=\"#000000\" fill-rule=\"evenodd\" fill-opacity=\"1\" /><path clip-path=\"url(#clip380)\" d=\"M19.7446 460.53 L22.6092 460.53 L22.6092 487.457 Q28.6566 487.075 31.8395 483.829 Q34.9905 480.55 34.9905 474.726 Q34.9905 471.352 34.163 468.201 Q33.3354 465.018 31.6803 461.899 L37.2185 461.899 Q38.5553 465.05 39.2555 468.36 Q39.9558 471.67 39.9558 475.076 Q39.9558 483.606 34.9905 488.603 Q30.0253 493.568 21.5589 493.568 Q12.806 493.568 7.68162 488.858 Q2.5254 484.115 2.5254 476.094 Q2.5254 468.901 7.17237 464.732 Q11.7875 460.53 19.7446 460.53 M18.0259 466.387 Q13.2198 466.45 10.3552 469.092 Q7.49065 471.702 7.49065 476.031 Q7.49065 480.932 10.2597 483.892 Q13.0288 486.821 18.0577 487.266 L18.0259 466.387 Z\" fill=\"#000000\" fill-rule=\"evenodd\" fill-opacity=\"1\" /><path clip-path=\"url(#clip380)\" d=\"M4.43511 428.192 L9.97328 428.192 Q8.70014 430.675 8.06357 433.349 Q7.427 436.022 7.427 438.887 Q7.427 443.247 8.76379 445.443 Q10.1006 447.608 12.7742 447.608 Q14.8112 447.608 15.9889 446.048 Q17.1347 444.489 18.185 439.778 L18.6306 437.773 Q19.9674 431.534 22.4182 428.924 Q24.8372 426.283 29.1977 426.283 Q34.163 426.283 37.0594 430.229 Q39.9558 434.144 39.9558 441.019 Q39.9558 443.884 39.3828 447.003 Q38.8418 450.09 37.7278 453.528 L31.6803 453.528 Q33.3673 450.281 34.2266 447.13 Q35.0542 443.979 35.0542 440.892 Q35.0542 436.754 33.6537 434.526 Q32.2214 432.298 29.6433 432.298 Q27.2562 432.298 25.983 433.922 Q24.7099 435.513 23.5322 440.956 L23.0548 442.993 Q21.909 448.435 19.5537 450.854 Q17.1665 453.273 13.0288 453.273 Q7.99991 453.273 5.26266 449.708 Q2.5254 446.144 2.5254 439.587 Q2.5254 436.34 3.00283 433.476 Q3.48026 430.611 4.43511 428.192 Z\" fill=\"#000000\" fill-rule=\"evenodd\" fill-opacity=\"1\" /><polyline clip-path=\"url(#clip382)\" style=\"stroke:#0000ff; stroke-linecap:butt; stroke-linejoin:round; stroke-width:4; stroke-opacity:1; fill:none\" points=\"\n  277.224,1044.48 279.103,1049.42 280.981,1054.27 282.86,1053.65 284.739,1052.68 286.618,1055.71 288.497,1060.48 290.375,1066.54 292.254,1070.18 294.133,1070.66 \n  296.012,1070.71 297.891,1072.92 299.769,1071.33 301.648,1070.6 303.527,1068.99 305.406,1065.99 307.285,1065.67 309.163,1062.08 311.042,1055.79 312.921,1056.02 \n  314.8,1056.1 316.679,1055.08 318.557,1052.98 320.436,1046.77 322.315,1043.22 324.194,1037.07 326.072,1028.94 327.951,1017.36 329.83,1006.44 331.709,992.468 \n  333.588,981.656 335.466,974.526 337.345,966.634 339.224,958.368 341.103,946.598 342.982,935.061 344.86,919.928 346.739,903.534 348.618,889.29 350.497,878.231 \n  352.376,863.695 354.254,846.911 356.133,828.536 358.012,816.156 359.891,806.647 361.769,799.122 363.648,791.419 365.527,783.946 367.406,777.054 369.285,770.315 \n  371.163,763.891 373.042,759.172 374.921,754.163 376.8,751.292 378.679,745.859 380.557,743.095 382.436,741.693 384.315,740.752 386.194,741.149 388.073,746.07 \n  389.951,749.413 391.83,748.977 393.709,749.79 395.588,749.841 397.466,749.646 399.345,742.879 401.224,737.523 403.103,731.258 404.982,720.068 406.86,708.13 \n  408.739,696.932 410.618,680.618 412.497,668.381 414.376,653.992 416.254,640.801 418.133,632.487 420.012,624.454 421.891,616.544 423.77,616.653 425.648,615.662 \n  427.527,616.948 429.406,617.877 431.285,619.475 433.163,618.997 435.042,620.017 436.921,618.142 438.8,618.12 440.679,618.562 442.557,619.911 444.436,620.098 \n  446.315,625.994 448.194,633.962 450.073,643.857 451.951,653.019 453.83,659.706 455.709,666.138 457.588,667.7 459.467,664.483 461.345,661.633 463.224,657.671 \n  465.103,661.579 466.982,669.019 468.86,677.414 470.739,691.945 472.618,713.979 474.497,733.327 476.376,751.324 478.254,758.59 480.133,759.062 482.012,753.88 \n  483.891,742.741 485.77,731.005 487.648,715.649 489.527,697.42 491.406,678.162 493.285,656.728 495.164,633.372 497.042,615.234 498.921,587.756 500.8,567.327 \n  502.679,551.687 504.557,540.665 506.436,536.288 508.315,536.361 510.194,532.909 512.073,532.702 513.951,531.781 515.83,529.158 517.709,525.002 519.588,519.096 \n  521.467,514.339 523.345,506.368 525.224,501.287 527.103,497.991 528.982,496.044 530.861,494.24 532.739,496.298 534.618,498.335 536.497,499.774 538.376,498.518 \n  540.254,495.899 542.133,495.071 544.012,494.681 545.891,493.547 547.77,489.576 549.648,490.898 551.527,490.058 553.406,489.82 555.285,486.36 557.164,486.651 \n  559.042,487.428 560.921,489.449 562.8,487.109 564.679,487.929 566.558,484.756 568.436,479.299 570.315,472.807 572.194,468.339 574.073,461.138 575.952,450.037 \n  577.83,433.075 579.709,418.703 581.588,406.824 583.467,395.731 585.345,384.12 587.224,375.127 589.103,363.165 590.982,351.707 592.861,339.253 594.739,328.426 \n  596.618,316.363 598.497,304 600.376,290.268 602.255,272.651 604.133,261.9 606.012,267.79 607.891,304.919 609.77,344.491 611.649,369.438 613.527,397.084 \n  615.406,428.399 617.285,456.128 619.164,461.999 621.042,464.841 622.921,469.643 624.8,462.747 626.679,463.736 628.558,466.915 630.436,475.031 632.315,484.728 \n  634.194,450.799 636.073,424.097 637.952,435.796 639.83,446.008 641.709,461.483 643.588,474.148 645.467,486.449 647.346,472.727 649.224,456.961 651.103,442.171 \n  652.982,426.415 654.861,410.128 656.739,389.125 658.618,369.884 660.497,360.121 662.376,354.271 664.255,352.182 666.133,349.937 668.012,342.717 669.891,343.307 \n  671.77,342.863 673.649,337.398 675.527,335.136 677.406,334.515 679.285,335.641 681.164,335.14 683.043,337.11 684.921,338.227 686.8,333.862 688.679,327.379 \n  690.558,323.839 692.436,323.223 694.315,322.913 696.194,323.259 698.073,319.895 699.952,317.964 701.83,318.495 703.709,318.995 705.588,316.438 707.467,315.64 \n  709.346,313.154 711.224,312.659 713.103,312.294 714.982,313.463 716.861,310.304 718.74,305.33 720.618,297.928 722.497,291.91 724.376,287.269 726.255,281.508 \n  728.133,272.157 730.012,263.747 731.891,256.049 733.77,248.912 735.649,241.421 737.527,234.386 739.406,228.214 741.285,227.591 743.164,229.185 745.043,228.023 \n  746.921,227.52 748.8,229.399 750.679,230.378 752.558,230.558 754.437,228.568 756.315,223.283 758.194,219.027 760.073,213.295 761.952,205.619 763.83,201.225 \n  765.709,198.988 767.588,197.898 769.467,198.161 771.346,197.939 773.224,198.104 775.103,197.798 776.982,196.023 778.861,196.623 780.74,193.527 782.618,196.639 \n  784.497,200.301 786.376,200.362 788.255,196.15 790.134,189.788 792.012,205.669 793.891,225.239 795.77,222.511 797.649,208.788 799.527,211.365 801.406,207.129 \n  803.285,212.878 805.164,196.375 807.043,178.981 808.921,172.441 810.8,175.936 812.679,168.818 814.558,173.718 816.437,171.999 818.315,169.625 820.194,171.004 \n  822.073,173.567 823.952,174.134 825.831,175.383 827.709,175.861 829.588,174.498 831.467,167.953 833.346,164.402 835.225,165.213 837.103,165.056 838.982,166.839 \n  840.861,169.653 842.74,170.269 844.618,169.601 846.497,182.288 848.376,184.832 850.255,185.195 852.134,186.109 854.012,186.582 855.891,183.325 857.77,181.087 \n  859.649,162.999 861.528,159.142 863.406,156.029 865.285,150.872 867.164,145.537 869.043,139.055 870.922,153.788 872.8,162.688 874.679,164.211 876.558,162.709 \n  878.437,164.561 880.315,169.767 882.194,182.793 884.073,172.493 885.952,167.488 887.831,175.055 889.709,185.151 891.588,201.717 893.467,204.159 895.346,211.758 \n  897.225,216.136 899.103,226.778 900.982,232.914 902.861,236.511 904.74,236.003 906.619,250.542 908.497,254.849 910.376,258.951 912.255,262.831 914.134,268.567 \n  916.012,273.653 917.891,282.166 919.77,291.142 921.649,303.278 923.528,317.921 925.406,333.772 927.285,343.213 929.164,356.645 931.043,372.444 932.922,382.071 \n  934.8,392.171 936.679,414.186 938.558,427.343 940.437,431.37 942.316,435.503 944.194,445.916 946.073,456.016 947.952,464.859 949.831,462.867 951.709,460.022 \n  953.588,459.067 955.467,465.048 957.346,464.482 959.225,461.261 961.103,452.445 962.982,442.875 964.861,428.833 966.74,419.38 968.619,410.531 970.497,402.091 \n  972.376,395.567 974.255,394.345 976.134,401.297 978.013,402.135 979.891,398.936 981.77,400.846 983.649,405.524 985.528,409.989 987.406,413.165 989.285,418.651 \n  991.164,424.03 993.043,424.935 994.922,424.589 996.8,426.726 998.679,432.42 1000.56,441.377 1002.44,458.135 1004.32,473.723 1006.19,487.409 1008.07,498.276 \n  1009.95,508.63 1011.83,517.659 1013.71,523.876 1015.59,530.951 1017.47,535.407 1019.35,534.824 1021.22,539.473 1023.1,547.853 1024.98,554.786 1026.86,562.072 \n  1028.74,567.931 1030.62,566.889 1032.5,563.327 1034.38,558.821 1036.26,556.419 1038.13,553.797 1040.01,554.173 1041.89,551.445 1043.77,554.891 1045.65,565.492 \n  1047.53,567.135 1049.41,559.709 1051.29,548.277 1053.16,536.109 1055.04,525.457 1056.92,519.547 1058.8,517.214 1060.68,515.302 1062.56,507.298 1064.44,502.082 \n  1066.32,494.118 1068.19,490.124 1070.07,489.242 1071.95,489.891 1073.83,492.635 1075.71,499.392 1077.59,505.761 1079.47,520.63 1081.35,535.97 1083.22,553.006 \n  1085.1,564.235 1086.98,576.357 1088.86,585.7 1090.74,597.781 1092.62,608.976 1094.5,623.44 1096.38,633.343 1098.26,639.08 1100.13,648.706 1102.01,663.335 \n  1103.89,675.451 1105.77,685.806 1107.65,695.398 1109.53,706.387 1111.41,713.502 1113.29,721.152 1115.16,727.915 1117.04,733.413 1118.92,736.766 1120.8,744.587 \n  1122.68,747.829 1124.56,750.358 1126.44,751.092 1128.32,752.483 1130.19,752.046 1132.07,751.439 1133.95,750.278 1135.83,750.63 1137.71,748.739 1139.59,747.369 \n  1141.47,745.019 1143.35,743.048 1145.22,743.295 1147.1,737.86 1148.98,731.357 1150.86,725.03 1152.74,714.935 1154.62,698.807 1156.5,680.794 1158.38,659.914 \n  1160.26,634.021 1162.13,615.747 1164.01,603.804 1165.89,600.295 1167.77,600.533 1169.65,598.888 1171.53,585.159 1173.41,566.845 1175.29,555.286 1177.16,542.831 \n  1179.04,518.864 1180.92,494.523 1182.8,473.042 1184.68,461.091 1186.56,447.915 1188.44,430.905 1190.32,422.199 1192.19,414.325 1194.07,396.001 1195.95,378.678 \n  1197.83,366.04 1199.71,350.095 1201.59,336.618 1203.47,328.095 1205.35,316.119 1207.22,303.427 1209.1,283.997 1210.98,267.962 1212.86,251.164 1214.74,241.554 \n  1216.62,232.488 1218.5,227.628 1220.38,221.16 1222.26,220.598 1224.13,217.888 1226.01,216.276 1227.89,209.921 1229.77,205.066 1231.65,201.215 1233.53,198.286 \n  1235.41,194.008 1237.29,189.31 1239.16,183.812 1241.04,182.279 1242.92,181.158 1244.8,178.675 1246.68,174.072 1248.56,170.661 1250.44,169.401 1252.32,169.851 \n  1254.19,167.812 1256.07,166.194 1257.95,166.443 1259.83,162.935 1261.71,159.878 1263.59,154.483 1265.47,146.606 1267.35,140.677 1269.22,137.275 1271.1,132.753 \n  1272.98,127.599 1274.86,124.135 1276.74,121.246 1278.62,118.417 1280.5,112.904 1282.38,108.11 1284.26,104.627 1286.13,96.0111 1288.01,88.5742 1289.89,77.1181 \n  1291.77,79.6228 1293.65,116.826 1295.53,142.582 1297.41,169.814 1299.29,194.363 1301.16,214.088 1303.04,232.247 1304.92,238.203 1306.8,238.318 1308.68,237.694 \n  1310.56,213.587 1312.44,202.241 1314.32,198.284 1316.19,207.672 1318.07,212.659 1319.95,179.059 1321.83,161.942 1323.71,163.297 1325.59,166.374 1327.47,169.343 \n  1329.35,168.711 1331.23,165.519 1333.1,159.732 1334.98,154.13 1336.86,148.316 1338.74,183.411 \n  \"/>\n<path clip-path=\"url(#clip380)\" d=\"\nM898.311 1067.61 L1333.08 1067.61 L1333.08 963.926 L898.311 963.926  Z\n  \" fill=\"#ffffff\" fill-rule=\"evenodd\" fill-opacity=\"1\"/>\n<polyline clip-path=\"url(#clip380)\" style=\"stroke:#000000; stroke-linecap:butt; stroke-linejoin:round; stroke-width:4; stroke-opacity:1; fill:none\" points=\"\n  898.311,1067.61 1333.08,1067.61 1333.08,963.926 898.311,963.926 898.311,1067.61 \n  \"/>\n<polyline clip-path=\"url(#clip380)\" style=\"stroke:#0000ff; stroke-linecap:butt; stroke-linejoin:round; stroke-width:4; stroke-opacity:1; fill:none\" points=\"\n  926.311,1015.77 1094.31,1015.77 \n  \"/>\n<path clip-path=\"url(#clip380)\" d=\"M1122.31 997.028 L1126.57 997.028 L1126.57 1033.05 L1122.31 1033.05 L1122.31 997.028 Z\" fill=\"#000000\" fill-rule=\"evenodd\" fill-opacity=\"1\" /><path clip-path=\"url(#clip380)\" d=\"M1145.53 1010.11 Q1142.1 1010.11 1140.11 1012.79 Q1138.12 1015.45 1138.12 1020.11 Q1138.12 1024.76 1140.09 1027.44 Q1142.08 1030.11 1145.53 1030.11 Q1148.93 1030.11 1150.92 1027.42 Q1152.91 1024.74 1152.91 1020.11 Q1152.91 1015.5 1150.92 1012.81 Q1148.93 1010.11 1145.53 1010.11 M1145.53 1006.5 Q1151.08 1006.5 1154.26 1010.11 Q1157.43 1013.72 1157.43 1020.11 Q1157.43 1026.47 1154.26 1030.11 Q1151.08 1033.72 1145.53 1033.72 Q1139.95 1033.72 1136.78 1030.11 Q1133.63 1026.47 1133.63 1020.11 Q1133.63 1013.72 1136.78 1010.11 Q1139.95 1006.5 1145.53 1006.5 Z\" fill=\"#000000\" fill-rule=\"evenodd\" fill-opacity=\"1\" /><path clip-path=\"url(#clip380)\" d=\"M1181.55 1019.78 Q1181.55 1015.15 1179.63 1012.61 Q1177.73 1010.06 1174.28 1010.06 Q1170.85 1010.06 1168.93 1012.61 Q1167.03 1015.15 1167.03 1019.78 Q1167.03 1024.39 1168.93 1026.93 Q1170.85 1029.48 1174.28 1029.48 Q1177.73 1029.48 1179.63 1026.93 Q1181.55 1024.39 1181.55 1019.78 M1185.81 1029.83 Q1185.81 1036.45 1182.87 1039.67 Q1179.93 1042.91 1173.86 1042.91 Q1171.62 1042.91 1169.63 1042.56 Q1167.63 1042.24 1165.76 1041.54 L1165.76 1037.4 Q1167.63 1038.42 1169.46 1038.9 Q1171.29 1039.39 1173.19 1039.39 Q1177.38 1039.39 1179.46 1037.19 Q1181.55 1035.01 1181.55 1030.59 L1181.55 1028.49 Q1180.23 1030.78 1178.17 1031.91 Q1176.11 1033.05 1173.24 1033.05 Q1168.47 1033.05 1165.55 1029.41 Q1162.63 1025.78 1162.63 1019.78 Q1162.63 1013.76 1165.55 1010.13 Q1168.47 1006.5 1173.24 1006.5 Q1176.11 1006.5 1178.17 1007.63 Q1180.23 1008.76 1181.55 1011.06 L1181.55 1007.12 L1185.81 1007.12 L1185.81 1029.83 Z\" fill=\"#000000\" fill-rule=\"evenodd\" fill-opacity=\"1\" /><path clip-path=\"url(#clip380)\" d=\"M1204.81 997.074 Q1201.71 1002.4 1200.2 1007.61 Q1198.7 1012.81 1198.7 1018.16 Q1198.7 1023.51 1200.2 1028.76 Q1201.73 1033.99 1204.81 1039.3 L1201.11 1039.3 Q1197.63 1033.86 1195.9 1028.6 Q1194.19 1023.35 1194.19 1018.16 Q1194.19 1013 1195.9 1007.77 Q1197.61 1002.54 1201.11 997.074 L1204.81 997.074 Z\" fill=\"#000000\" fill-rule=\"evenodd\" fill-opacity=\"1\" /><path clip-path=\"url(#clip380)\" d=\"M1213.26 998.486 L1219.56 998.486 L1234.88 1027.4 L1234.88 998.486 L1239.42 998.486 L1239.42 1033.05 L1233.12 1033.05 L1217.8 1004.13 L1217.8 1033.05 L1213.26 1033.05 L1213.26 998.486 Z\" fill=\"#000000\" fill-rule=\"evenodd\" fill-opacity=\"1\" /><path clip-path=\"url(#clip380)\" d=\"M1252.75 999.759 L1252.75 1007.12 L1261.52 1007.12 L1261.52 1010.43 L1252.75 1010.43 L1252.75 1024.5 Q1252.75 1027.68 1253.61 1028.58 Q1254.49 1029.48 1257.15 1029.48 L1261.52 1029.48 L1261.52 1033.05 L1257.15 1033.05 Q1252.22 1033.05 1250.34 1031.22 Q1248.47 1029.37 1248.47 1024.5 L1248.47 1010.43 L1245.34 1010.43 L1245.34 1007.12 L1248.47 1007.12 L1248.47 999.759 L1252.75 999.759 Z\" fill=\"#000000\" fill-rule=\"evenodd\" fill-opacity=\"1\" /><path clip-path=\"url(#clip380)\" d=\"M1266.45 997.074 L1270.16 997.074 Q1273.63 1002.54 1275.34 1007.77 Q1277.08 1013 1277.08 1018.16 Q1277.08 1023.35 1275.34 1028.6 Q1273.63 1033.86 1270.16 1039.3 L1266.45 1039.3 Q1269.53 1033.99 1271.04 1028.76 Q1272.56 1023.51 1272.56 1018.16 Q1272.56 1012.81 1271.04 1007.61 Q1269.53 1002.4 1266.45 997.074 Z\" fill=\"#000000\" fill-rule=\"evenodd\" fill-opacity=\"1\" /><path clip-path=\"url(#clip380)\" d=\"\nM1627.55 1102.79 L2752.76 1102.79 L2752.76 47.2441 L1627.55 47.2441  Z\n  \" fill=\"#ffffff\" fill-rule=\"evenodd\" fill-opacity=\"1\"/>\n<defs>\n  <clipPath id=\"clip383\">\n    <rect x=\"1627\" y=\"47\" width=\"1126\" height=\"1057\"/>\n  </clipPath>\n</defs>\n<polyline clip-path=\"url(#clip383)\" style=\"stroke:#000000; stroke-linecap:butt; stroke-linejoin:round; stroke-width:2; stroke-opacity:0.1; fill:none\" points=\"\n  1659.39,1102.79 1659.39,47.2441 \n  \"/>\n<polyline clip-path=\"url(#clip383)\" style=\"stroke:#000000; stroke-linecap:butt; stroke-linejoin:round; stroke-width:2; stroke-opacity:0.1; fill:none\" points=\"\n  1946.85,1102.79 1946.85,47.2441 \n  \"/>\n<polyline clip-path=\"url(#clip383)\" style=\"stroke:#000000; stroke-linecap:butt; stroke-linejoin:round; stroke-width:2; stroke-opacity:0.1; fill:none\" points=\"\n  2230.55,1102.79 2230.55,47.2441 \n  \"/>\n<polyline clip-path=\"url(#clip383)\" style=\"stroke:#000000; stroke-linecap:butt; stroke-linejoin:round; stroke-width:2; stroke-opacity:0.1; fill:none\" points=\"\n  2518,1102.79 2518,47.2441 \n  \"/>\n<polyline clip-path=\"url(#clip380)\" style=\"stroke:#000000; stroke-linecap:butt; stroke-linejoin:round; stroke-width:4; stroke-opacity:1; fill:none\" points=\"\n  1627.55,1102.79 2752.76,1102.79 \n  \"/>\n<polyline clip-path=\"url(#clip380)\" style=\"stroke:#000000; stroke-linecap:butt; stroke-linejoin:round; stroke-width:4; stroke-opacity:1; fill:none\" points=\"\n  1659.39,1102.79 1659.39,1083.89 \n  \"/>\n<polyline clip-path=\"url(#clip380)\" style=\"stroke:#000000; stroke-linecap:butt; stroke-linejoin:round; stroke-width:4; stroke-opacity:1; fill:none\" points=\"\n  1946.85,1102.79 1946.85,1083.89 \n  \"/>\n<polyline clip-path=\"url(#clip380)\" style=\"stroke:#000000; stroke-linecap:butt; stroke-linejoin:round; stroke-width:4; stroke-opacity:1; fill:none\" points=\"\n  2230.55,1102.79 2230.55,1083.89 \n  \"/>\n<polyline clip-path=\"url(#clip380)\" style=\"stroke:#000000; stroke-linecap:butt; stroke-linejoin:round; stroke-width:4; stroke-opacity:1; fill:none\" points=\"\n  2518,1102.79 2518,1083.89 \n  \"/>\n<path clip-path=\"url(#clip380)\" d=\"M1531.19 1164.46 L1547.51 1164.46 L1547.51 1168.39 L1525.56 1168.39 L1525.56 1164.46 Q1528.23 1161.7 1532.81 1157.07 Q1537.42 1152.42 1538.6 1151.08 Q1540.84 1148.55 1541.72 1146.82 Q1542.62 1145.06 1542.62 1143.37 Q1542.62 1140.61 1540.68 1138.88 Q1538.76 1137.14 1535.66 1137.14 Q1533.46 1137.14 1531 1137.9 Q1528.57 1138.67 1525.8 1140.22 L1525.8 1135.5 Q1528.62 1134.36 1531.07 1133.78 Q1533.53 1133.21 1535.56 1133.21 Q1540.93 1133.21 1544.13 1135.89 Q1547.32 1138.58 1547.32 1143.07 Q1547.32 1145.2 1546.51 1147.12 Q1545.73 1149.02 1543.62 1151.61 Q1543.04 1152.28 1539.94 1155.5 Q1536.84 1158.69 1531.19 1164.46 Z\" fill=\"#000000\" fill-rule=\"evenodd\" fill-opacity=\"1\" /><path clip-path=\"url(#clip380)\" d=\"M1567.32 1136.91 Q1563.71 1136.91 1561.88 1140.47 Q1560.08 1144.02 1560.08 1151.15 Q1560.08 1158.25 1561.88 1161.82 Q1563.71 1165.36 1567.32 1165.36 Q1570.96 1165.36 1572.76 1161.82 Q1574.59 1158.25 1574.59 1151.15 Q1574.59 1144.02 1572.76 1140.47 Q1570.96 1136.91 1567.32 1136.91 M1567.32 1133.21 Q1573.13 1133.21 1576.19 1137.81 Q1579.27 1142.4 1579.27 1151.15 Q1579.27 1159.87 1576.19 1164.48 Q1573.13 1169.06 1567.32 1169.06 Q1561.51 1169.06 1558.43 1164.48 Q1555.38 1159.87 1555.38 1151.15 Q1555.38 1142.4 1558.43 1137.81 Q1561.51 1133.21 1567.32 1133.21 Z\" fill=\"#000000\" fill-rule=\"evenodd\" fill-opacity=\"1\" /><path clip-path=\"url(#clip380)\" d=\"M1591.51 1164.46 L1607.83 1164.46 L1607.83 1168.39 L1585.89 1168.39 L1585.89 1164.46 Q1588.55 1161.7 1593.13 1157.07 Q1597.74 1152.42 1598.92 1151.08 Q1601.17 1148.55 1602.04 1146.82 Q1602.95 1145.06 1602.95 1143.37 Q1602.95 1140.61 1601 1138.88 Q1599.08 1137.14 1595.98 1137.14 Q1593.78 1137.14 1591.33 1137.9 Q1588.9 1138.67 1586.12 1140.22 L1586.12 1135.5 Q1588.94 1134.36 1591.4 1133.78 Q1593.85 1133.21 1595.89 1133.21 Q1601.26 1133.21 1604.45 1135.89 Q1607.65 1138.58 1607.65 1143.07 Q1607.65 1145.2 1606.84 1147.12 Q1606.05 1149.02 1603.94 1151.61 Q1603.36 1152.28 1600.26 1155.5 Q1597.16 1158.69 1591.51 1164.46 Z\" fill=\"#000000\" fill-rule=\"evenodd\" fill-opacity=\"1\" /><path clip-path=\"url(#clip380)\" d=\"M1627.65 1136.91 Q1624.04 1136.91 1622.21 1140.47 Q1620.4 1144.02 1620.4 1151.15 Q1620.4 1158.25 1622.21 1161.82 Q1624.04 1165.36 1627.65 1165.36 Q1631.28 1165.36 1633.09 1161.82 Q1634.92 1158.25 1634.92 1151.15 Q1634.92 1144.02 1633.09 1140.47 Q1631.28 1136.91 1627.65 1136.91 M1627.65 1133.21 Q1633.46 1133.21 1636.51 1137.81 Q1639.59 1142.4 1639.59 1151.15 Q1639.59 1159.87 1636.51 1164.48 Q1633.46 1169.06 1627.65 1169.06 Q1621.84 1169.06 1618.76 1164.48 Q1615.7 1159.87 1615.7 1151.15 Q1615.7 1142.4 1618.76 1137.81 Q1621.84 1133.21 1627.65 1133.21 Z\" fill=\"#000000\" fill-rule=\"evenodd\" fill-opacity=\"1\" /><path clip-path=\"url(#clip380)\" d=\"M1645.05 1153.51 L1657.53 1153.51 L1657.53 1157.3 L1645.05 1157.3 L1645.05 1153.51 Z\" fill=\"#000000\" fill-rule=\"evenodd\" fill-opacity=\"1\" /><path clip-path=\"url(#clip380)\" d=\"M1674.91 1136.91 Q1671.3 1136.91 1669.48 1140.47 Q1667.67 1144.02 1667.67 1151.15 Q1667.67 1158.25 1669.48 1161.82 Q1671.3 1165.36 1674.91 1165.36 Q1678.55 1165.36 1680.35 1161.82 Q1682.18 1158.25 1682.18 1151.15 Q1682.18 1144.02 1680.35 1140.47 Q1678.55 1136.91 1674.91 1136.91 M1674.91 1133.21 Q1680.73 1133.21 1683.78 1137.81 Q1686.86 1142.4 1686.86 1151.15 Q1686.86 1159.87 1683.78 1164.48 Q1680.73 1169.06 1674.91 1169.06 Q1669.1 1169.06 1666.03 1164.48 Q1662.97 1159.87 1662.97 1151.15 Q1662.97 1142.4 1666.03 1137.81 Q1669.1 1133.21 1674.91 1133.21 Z\" fill=\"#000000\" fill-rule=\"evenodd\" fill-opacity=\"1\" /><path clip-path=\"url(#clip380)\" d=\"M1693.9 1133.83 L1716.12 1133.83 L1716.12 1135.82 L1703.57 1168.39 L1698.69 1168.39 L1710.49 1137.77 L1693.9 1137.77 L1693.9 1133.83 Z\" fill=\"#000000\" fill-rule=\"evenodd\" fill-opacity=\"1\" /><path clip-path=\"url(#clip380)\" d=\"M1722.48 1153.51 L1734.96 1153.51 L1734.96 1157.3 L1722.48 1157.3 L1722.48 1153.51 Z\" fill=\"#000000\" fill-rule=\"evenodd\" fill-opacity=\"1\" /><path clip-path=\"url(#clip380)\" d=\"M1752.35 1136.91 Q1748.73 1136.91 1746.91 1140.47 Q1745.1 1144.02 1745.1 1151.15 Q1745.1 1158.25 1746.91 1161.82 Q1748.73 1165.36 1752.35 1165.36 Q1755.98 1165.36 1757.78 1161.82 Q1759.61 1158.25 1759.61 1151.15 Q1759.61 1144.02 1757.78 1140.47 Q1755.98 1136.91 1752.35 1136.91 M1752.35 1133.21 Q1758.16 1133.21 1761.21 1137.81 Q1764.29 1142.4 1764.29 1151.15 Q1764.29 1159.87 1761.21 1164.48 Q1758.16 1169.06 1752.35 1169.06 Q1746.53 1169.06 1743.46 1164.48 Q1740.4 1159.87 1740.4 1151.15 Q1740.4 1142.4 1743.46 1137.81 Q1746.53 1133.21 1752.35 1133.21 Z\" fill=\"#000000\" fill-rule=\"evenodd\" fill-opacity=\"1\" /><path clip-path=\"url(#clip380)\" d=\"M1773.32 1164.46 L1780.96 1164.46 L1780.96 1138.09 L1772.65 1139.76 L1772.65 1135.5 L1780.91 1133.83 L1785.59 1133.83 L1785.59 1164.46 L1793.22 1164.46 L1793.22 1168.39 L1773.32 1168.39 L1773.32 1164.46 Z\" fill=\"#000000\" fill-rule=\"evenodd\" fill-opacity=\"1\" /><path clip-path=\"url(#clip380)\" d=\"M1818.64 1164.46 L1834.96 1164.46 L1834.96 1168.39 L1813.02 1168.39 L1813.02 1164.46 Q1815.68 1161.7 1820.26 1157.07 Q1824.87 1152.42 1826.05 1151.08 Q1828.3 1148.55 1829.18 1146.82 Q1830.08 1145.06 1830.08 1143.37 Q1830.08 1140.61 1828.13 1138.88 Q1826.21 1137.14 1823.11 1137.14 Q1820.91 1137.14 1818.46 1137.9 Q1816.03 1138.67 1813.25 1140.22 L1813.25 1135.5 Q1816.07 1134.36 1818.53 1133.78 Q1820.98 1133.21 1823.02 1133.21 Q1828.39 1133.21 1831.58 1135.89 Q1834.78 1138.58 1834.78 1143.07 Q1834.78 1145.2 1833.97 1147.12 Q1833.18 1149.02 1831.07 1151.61 Q1830.5 1152.28 1827.39 1155.5 Q1824.29 1158.69 1818.64 1164.46 Z\" fill=\"#000000\" fill-rule=\"evenodd\" fill-opacity=\"1\" /><path clip-path=\"url(#clip380)\" d=\"M1854.78 1136.91 Q1851.17 1136.91 1849.34 1140.47 Q1847.53 1144.02 1847.53 1151.15 Q1847.53 1158.25 1849.34 1161.82 Q1851.17 1165.36 1854.78 1165.36 Q1858.41 1165.36 1860.22 1161.82 Q1862.05 1158.25 1862.05 1151.15 Q1862.05 1144.02 1860.22 1140.47 Q1858.41 1136.91 1854.78 1136.91 M1854.78 1133.21 Q1860.59 1133.21 1863.64 1137.81 Q1866.72 1142.4 1866.72 1151.15 Q1866.72 1159.87 1863.64 1164.48 Q1860.59 1169.06 1854.78 1169.06 Q1848.97 1169.06 1845.89 1164.48 Q1842.83 1159.87 1842.83 1151.15 Q1842.83 1142.4 1845.89 1137.81 Q1848.97 1133.21 1854.78 1133.21 Z\" fill=\"#000000\" fill-rule=\"evenodd\" fill-opacity=\"1\" /><path clip-path=\"url(#clip380)\" d=\"M1878.97 1164.46 L1895.29 1164.46 L1895.29 1168.39 L1873.34 1168.39 L1873.34 1164.46 Q1876 1161.7 1880.59 1157.07 Q1885.19 1152.42 1886.37 1151.08 Q1888.62 1148.55 1889.5 1146.82 Q1890.4 1145.06 1890.4 1143.37 Q1890.4 1140.61 1888.46 1138.88 Q1886.54 1137.14 1883.43 1137.14 Q1881.24 1137.14 1878.78 1137.9 Q1876.35 1138.67 1873.57 1140.22 L1873.57 1135.5 Q1876.4 1134.36 1878.85 1133.78 Q1881.31 1133.21 1883.34 1133.21 Q1888.71 1133.21 1891.91 1135.89 Q1895.1 1138.58 1895.1 1143.07 Q1895.1 1145.2 1894.29 1147.12 Q1893.5 1149.02 1891.4 1151.61 Q1890.82 1152.28 1887.72 1155.5 Q1884.62 1158.69 1878.97 1164.46 Z\" fill=\"#000000\" fill-rule=\"evenodd\" fill-opacity=\"1\" /><path clip-path=\"url(#clip380)\" d=\"M1915.1 1136.91 Q1911.49 1136.91 1909.66 1140.47 Q1907.86 1144.02 1907.86 1151.15 Q1907.86 1158.25 1909.66 1161.82 Q1911.49 1165.36 1915.1 1165.36 Q1918.74 1165.36 1920.54 1161.82 Q1922.37 1158.25 1922.37 1151.15 Q1922.37 1144.02 1920.54 1140.47 Q1918.74 1136.91 1915.1 1136.91 M1915.1 1133.21 Q1920.91 1133.21 1923.97 1137.81 Q1927.05 1142.4 1927.05 1151.15 Q1927.05 1159.87 1923.97 1164.48 Q1920.91 1169.06 1915.1 1169.06 Q1909.29 1169.06 1906.21 1164.48 Q1903.16 1159.87 1903.16 1151.15 Q1903.16 1142.4 1906.21 1137.81 Q1909.29 1133.21 1915.1 1133.21 Z\" fill=\"#000000\" fill-rule=\"evenodd\" fill-opacity=\"1\" /><path clip-path=\"url(#clip380)\" d=\"M1932.51 1153.51 L1944.99 1153.51 L1944.99 1157.3 L1932.51 1157.3 L1932.51 1153.51 Z\" fill=\"#000000\" fill-rule=\"evenodd\" fill-opacity=\"1\" /><path clip-path=\"url(#clip380)\" d=\"M1953.18 1164.46 L1960.82 1164.46 L1960.82 1138.09 L1952.51 1139.76 L1952.51 1135.5 L1960.77 1133.83 L1965.45 1133.83 L1965.45 1164.46 L1973.09 1164.46 L1973.09 1168.39 L1953.18 1168.39 L1953.18 1164.46 Z\" fill=\"#000000\" fill-rule=\"evenodd\" fill-opacity=\"1\" /><path clip-path=\"url(#clip380)\" d=\"M1986.56 1164.46 L2002.88 1164.46 L2002.88 1168.39 L1980.93 1168.39 L1980.93 1164.46 Q1983.6 1161.7 1988.18 1157.07 Q1992.79 1152.42 1993.97 1151.08 Q1996.21 1148.55 1997.09 1146.82 Q1997.99 1145.06 1997.99 1143.37 Q1997.99 1140.61 1996.05 1138.88 Q1994.13 1137.14 1991.03 1137.14 Q1988.83 1137.14 1986.37 1137.9 Q1983.94 1138.67 1981.17 1140.22 L1981.17 1135.5 Q1983.99 1134.36 1986.44 1133.78 Q1988.9 1133.21 1990.93 1133.21 Q1996.3 1133.21 1999.5 1135.89 Q2002.69 1138.58 2002.69 1143.07 Q2002.69 1145.2 2001.88 1147.12 Q2001.1 1149.02 1998.99 1151.61 Q1998.41 1152.28 1995.31 1155.5 Q1992.21 1158.69 1986.56 1164.46 Z\" fill=\"#000000\" fill-rule=\"evenodd\" fill-opacity=\"1\" /><path clip-path=\"url(#clip380)\" d=\"M2009.94 1153.51 L2022.42 1153.51 L2022.42 1157.3 L2009.94 1157.3 L2009.94 1153.51 Z\" fill=\"#000000\" fill-rule=\"evenodd\" fill-opacity=\"1\" /><path clip-path=\"url(#clip380)\" d=\"M2039.8 1136.91 Q2036.19 1136.91 2034.36 1140.47 Q2032.55 1144.02 2032.55 1151.15 Q2032.55 1158.25 2034.36 1161.82 Q2036.19 1165.36 2039.8 1165.36 Q2043.43 1165.36 2045.24 1161.82 Q2047.07 1158.25 2047.07 1151.15 Q2047.07 1144.02 2045.24 1140.47 Q2043.43 1136.91 2039.8 1136.91 M2039.8 1133.21 Q2045.61 1133.21 2048.67 1137.81 Q2051.74 1142.4 2051.74 1151.15 Q2051.74 1159.87 2048.67 1164.48 Q2045.61 1169.06 2039.8 1169.06 Q2033.99 1169.06 2030.91 1164.48 Q2027.86 1159.87 2027.86 1151.15 Q2027.86 1142.4 2030.91 1137.81 Q2033.99 1133.21 2039.8 1133.21 Z\" fill=\"#000000\" fill-rule=\"evenodd\" fill-opacity=\"1\" /><path clip-path=\"url(#clip380)\" d=\"M2060.77 1164.46 L2068.41 1164.46 L2068.41 1138.09 L2060.1 1139.76 L2060.1 1135.5 L2068.36 1133.83 L2073.04 1133.83 L2073.04 1164.46 L2080.68 1164.46 L2080.68 1168.39 L2060.77 1168.39 L2060.77 1164.46 Z\" fill=\"#000000\" fill-rule=\"evenodd\" fill-opacity=\"1\" /><path clip-path=\"url(#clip380)\" d=\"M2102.34 1164.46 L2118.66 1164.46 L2118.66 1168.39 L2096.72 1168.39 L2096.72 1164.46 Q2099.38 1161.7 2103.96 1157.07 Q2108.57 1152.42 2109.75 1151.08 Q2111.99 1148.55 2112.87 1146.82 Q2113.78 1145.06 2113.78 1143.37 Q2113.78 1140.61 2111.83 1138.88 Q2109.91 1137.14 2106.81 1137.14 Q2104.61 1137.14 2102.16 1137.9 Q2099.73 1138.67 2096.95 1140.22 L2096.95 1135.5 Q2099.77 1134.36 2102.23 1133.78 Q2104.68 1133.21 2106.72 1133.21 Q2112.09 1133.21 2115.28 1135.89 Q2118.48 1138.58 2118.48 1143.07 Q2118.48 1145.2 2117.66 1147.12 Q2116.88 1149.02 2114.77 1151.61 Q2114.19 1152.28 2111.09 1155.5 Q2107.99 1158.69 2102.34 1164.46 Z\" fill=\"#000000\" fill-rule=\"evenodd\" fill-opacity=\"1\" /><path clip-path=\"url(#clip380)\" d=\"M2138.47 1136.91 Q2134.86 1136.91 2133.04 1140.47 Q2131.23 1144.02 2131.23 1151.15 Q2131.23 1158.25 2133.04 1161.82 Q2134.86 1165.36 2138.47 1165.36 Q2142.11 1165.36 2143.91 1161.82 Q2145.74 1158.25 2145.74 1151.15 Q2145.74 1144.02 2143.91 1140.47 Q2142.11 1136.91 2138.47 1136.91 M2138.47 1133.21 Q2144.29 1133.21 2147.34 1137.81 Q2150.42 1142.4 2150.42 1151.15 Q2150.42 1159.87 2147.34 1164.48 Q2144.29 1169.06 2138.47 1169.06 Q2132.66 1169.06 2129.59 1164.48 Q2126.53 1159.87 2126.53 1151.15 Q2126.53 1142.4 2129.59 1137.81 Q2132.66 1133.21 2138.47 1133.21 Z\" fill=\"#000000\" fill-rule=\"evenodd\" fill-opacity=\"1\" /><path clip-path=\"url(#clip380)\" d=\"M2162.66 1164.46 L2178.98 1164.46 L2178.98 1168.39 L2157.04 1168.39 L2157.04 1164.46 Q2159.7 1161.7 2164.29 1157.07 Q2168.89 1152.42 2170.07 1151.08 Q2172.32 1148.55 2173.2 1146.82 Q2174.1 1145.06 2174.1 1143.37 Q2174.1 1140.61 2172.16 1138.88 Q2170.23 1137.14 2167.13 1137.14 Q2164.93 1137.14 2162.48 1137.9 Q2160.05 1138.67 2157.27 1140.22 L2157.27 1135.5 Q2160.1 1134.36 2162.55 1133.78 Q2165 1133.21 2167.04 1133.21 Q2172.41 1133.21 2175.6 1135.89 Q2178.8 1138.58 2178.8 1143.07 Q2178.8 1145.2 2177.99 1147.12 Q2177.2 1149.02 2175.1 1151.61 Q2174.52 1152.28 2171.41 1155.5 Q2168.31 1158.69 2162.66 1164.46 Z\" fill=\"#000000\" fill-rule=\"evenodd\" fill-opacity=\"1\" /><path clip-path=\"url(#clip380)\" d=\"M2189.61 1164.46 L2197.25 1164.46 L2197.25 1138.09 L2188.94 1139.76 L2188.94 1135.5 L2197.2 1133.83 L2201.88 1133.83 L2201.88 1164.46 L2209.52 1164.46 L2209.52 1168.39 L2189.61 1168.39 L2189.61 1164.46 Z\" fill=\"#000000\" fill-rule=\"evenodd\" fill-opacity=\"1\" /><path clip-path=\"url(#clip380)\" d=\"M2216.21 1153.51 L2228.68 1153.51 L2228.68 1157.3 L2216.21 1157.3 L2216.21 1153.51 Z\" fill=\"#000000\" fill-rule=\"evenodd\" fill-opacity=\"1\" /><path clip-path=\"url(#clip380)\" d=\"M2246.07 1136.91 Q2242.46 1136.91 2240.63 1140.47 Q2238.82 1144.02 2238.82 1151.15 Q2238.82 1158.25 2240.63 1161.82 Q2242.46 1165.36 2246.07 1165.36 Q2249.7 1165.36 2251.51 1161.82 Q2253.34 1158.25 2253.34 1151.15 Q2253.34 1144.02 2251.51 1140.47 Q2249.7 1136.91 2246.07 1136.91 M2246.07 1133.21 Q2251.88 1133.21 2254.93 1137.81 Q2258.01 1142.4 2258.01 1151.15 Q2258.01 1159.87 2254.93 1164.48 Q2251.88 1169.06 2246.07 1169.06 Q2240.26 1169.06 2237.18 1164.48 Q2234.12 1159.87 2234.12 1151.15 Q2234.12 1142.4 2237.18 1137.81 Q2240.26 1133.21 2246.07 1133.21 Z\" fill=\"#000000\" fill-rule=\"evenodd\" fill-opacity=\"1\" /><path clip-path=\"url(#clip380)\" d=\"M2266.28 1133.83 L2284.63 1133.83 L2284.63 1137.77 L2270.56 1137.77 L2270.56 1146.24 Q2271.58 1145.89 2272.59 1145.73 Q2273.61 1145.54 2274.63 1145.54 Q2280.42 1145.54 2283.8 1148.71 Q2287.18 1151.89 2287.18 1157.3 Q2287.18 1162.88 2283.71 1165.98 Q2280.23 1169.06 2273.91 1169.06 Q2271.74 1169.06 2269.47 1168.69 Q2267.22 1168.32 2264.82 1167.58 L2264.82 1162.88 Q2266.9 1164.02 2269.12 1164.57 Q2271.34 1165.13 2273.82 1165.13 Q2277.83 1165.13 2280.16 1163.02 Q2282.5 1160.91 2282.5 1157.3 Q2282.5 1153.69 2280.16 1151.59 Q2277.83 1149.48 2273.82 1149.48 Q2271.95 1149.48 2270.07 1149.9 Q2268.22 1150.31 2266.28 1151.19 L2266.28 1133.83 Z\" fill=\"#000000\" fill-rule=\"evenodd\" fill-opacity=\"1\" /><path clip-path=\"url(#clip380)\" d=\"M2293.64 1153.51 L2306.11 1153.51 L2306.11 1157.3 L2293.64 1157.3 L2293.64 1153.51 Z\" fill=\"#000000\" fill-rule=\"evenodd\" fill-opacity=\"1\" /><path clip-path=\"url(#clip380)\" d=\"M2323.5 1136.91 Q2319.89 1136.91 2318.06 1140.47 Q2316.25 1144.02 2316.25 1151.15 Q2316.25 1158.25 2318.06 1161.82 Q2319.89 1165.36 2323.5 1165.36 Q2327.13 1165.36 2328.94 1161.82 Q2330.77 1158.25 2330.77 1151.15 Q2330.77 1144.02 2328.94 1140.47 Q2327.13 1136.91 2323.5 1136.91 M2323.5 1133.21 Q2329.31 1133.21 2332.36 1137.81 Q2335.44 1142.4 2335.44 1151.15 Q2335.44 1159.87 2332.36 1164.48 Q2329.31 1169.06 2323.5 1169.06 Q2317.69 1169.06 2314.61 1164.48 Q2311.55 1159.87 2311.55 1151.15 Q2311.55 1142.4 2314.61 1137.81 Q2317.69 1133.21 2323.5 1133.21 Z\" fill=\"#000000\" fill-rule=\"evenodd\" fill-opacity=\"1\" /><path clip-path=\"url(#clip380)\" d=\"M2344.47 1164.46 L2352.11 1164.46 L2352.11 1138.09 L2343.8 1139.76 L2343.8 1135.5 L2352.06 1133.83 L2356.74 1133.83 L2356.74 1164.46 L2364.38 1164.46 L2364.38 1168.39 L2344.47 1168.39 L2344.47 1164.46 Z\" fill=\"#000000\" fill-rule=\"evenodd\" fill-opacity=\"1\" /><path clip-path=\"url(#clip380)\" d=\"M2389.8 1164.46 L2406.12 1164.46 L2406.12 1168.39 L2384.17 1168.39 L2384.17 1164.46 Q2386.83 1161.7 2391.42 1157.07 Q2396.02 1152.42 2397.2 1151.08 Q2399.45 1148.55 2400.33 1146.82 Q2401.23 1145.06 2401.23 1143.37 Q2401.23 1140.61 2399.29 1138.88 Q2397.37 1137.14 2394.26 1137.14 Q2392.06 1137.14 2389.61 1137.9 Q2387.18 1138.67 2384.4 1140.22 L2384.4 1135.5 Q2387.23 1134.36 2389.68 1133.78 Q2392.13 1133.21 2394.17 1133.21 Q2399.54 1133.21 2402.74 1135.89 Q2405.93 1138.58 2405.93 1143.07 Q2405.93 1145.2 2405.12 1147.12 Q2404.33 1149.02 2402.23 1151.61 Q2401.65 1152.28 2398.55 1155.5 Q2395.44 1158.69 2389.8 1164.46 Z\" fill=\"#000000\" fill-rule=\"evenodd\" fill-opacity=\"1\" /><path clip-path=\"url(#clip380)\" d=\"M2425.93 1136.91 Q2422.32 1136.91 2420.49 1140.47 Q2418.68 1144.02 2418.68 1151.15 Q2418.68 1158.25 2420.49 1161.82 Q2422.32 1165.36 2425.93 1165.36 Q2429.56 1165.36 2431.37 1161.82 Q2433.2 1158.25 2433.2 1151.15 Q2433.2 1144.02 2431.37 1140.47 Q2429.56 1136.91 2425.93 1136.91 M2425.93 1133.21 Q2431.74 1133.21 2434.8 1137.81 Q2437.87 1142.4 2437.87 1151.15 Q2437.87 1159.87 2434.8 1164.48 Q2431.74 1169.06 2425.93 1169.06 Q2420.12 1169.06 2417.04 1164.48 Q2413.99 1159.87 2413.99 1151.15 Q2413.99 1142.4 2417.04 1137.81 Q2420.12 1133.21 2425.93 1133.21 Z\" fill=\"#000000\" fill-rule=\"evenodd\" fill-opacity=\"1\" /><path clip-path=\"url(#clip380)\" d=\"M2450.12 1164.46 L2466.44 1164.46 L2466.44 1168.39 L2444.49 1168.39 L2444.49 1164.46 Q2447.16 1161.7 2451.74 1157.07 Q2456.35 1152.42 2457.53 1151.08 Q2459.77 1148.55 2460.65 1146.82 Q2461.55 1145.06 2461.55 1143.37 Q2461.55 1140.61 2459.61 1138.88 Q2457.69 1137.14 2454.59 1137.14 Q2452.39 1137.14 2449.93 1137.9 Q2447.5 1138.67 2444.73 1140.22 L2444.73 1135.5 Q2447.55 1134.36 2450 1133.78 Q2452.46 1133.21 2454.49 1133.21 Q2459.86 1133.21 2463.06 1135.89 Q2466.25 1138.58 2466.25 1143.07 Q2466.25 1145.2 2465.44 1147.12 Q2464.66 1149.02 2462.55 1151.61 Q2461.97 1152.28 2458.87 1155.5 Q2455.77 1158.69 2450.12 1164.46 Z\" fill=\"#000000\" fill-rule=\"evenodd\" fill-opacity=\"1\" /><path clip-path=\"url(#clip380)\" d=\"M2477.06 1164.46 L2484.7 1164.46 L2484.7 1138.09 L2476.39 1139.76 L2476.39 1135.5 L2484.66 1133.83 L2489.33 1133.83 L2489.33 1164.46 L2496.97 1164.46 L2496.97 1168.39 L2477.06 1168.39 L2477.06 1164.46 Z\" fill=\"#000000\" fill-rule=\"evenodd\" fill-opacity=\"1\" /><path clip-path=\"url(#clip380)\" d=\"M2503.66 1153.51 L2516.14 1153.51 L2516.14 1157.3 L2503.66 1157.3 L2503.66 1153.51 Z\" fill=\"#000000\" fill-rule=\"evenodd\" fill-opacity=\"1\" /><path clip-path=\"url(#clip380)\" d=\"M2524.33 1164.46 L2531.97 1164.46 L2531.97 1138.09 L2523.66 1139.76 L2523.66 1135.5 L2531.92 1133.83 L2536.6 1133.83 L2536.6 1164.46 L2544.24 1164.46 L2544.24 1168.39 L2524.33 1168.39 L2524.33 1164.46 Z\" fill=\"#000000\" fill-rule=\"evenodd\" fill-opacity=\"1\" /><path clip-path=\"url(#clip380)\" d=\"M2563.68 1136.91 Q2560.07 1136.91 2558.24 1140.47 Q2556.44 1144.02 2556.44 1151.15 Q2556.44 1158.25 2558.24 1161.82 Q2560.07 1165.36 2563.68 1165.36 Q2567.32 1165.36 2569.12 1161.82 Q2570.95 1158.25 2570.95 1151.15 Q2570.95 1144.02 2569.12 1140.47 Q2567.32 1136.91 2563.68 1136.91 M2563.68 1133.21 Q2569.49 1133.21 2572.55 1137.81 Q2575.63 1142.4 2575.63 1151.15 Q2575.63 1159.87 2572.55 1164.48 Q2569.49 1169.06 2563.68 1169.06 Q2557.87 1169.06 2554.79 1164.48 Q2551.74 1159.87 2551.74 1151.15 Q2551.74 1142.4 2554.79 1137.81 Q2557.87 1133.21 2563.68 1133.21 Z\" fill=\"#000000\" fill-rule=\"evenodd\" fill-opacity=\"1\" /><path clip-path=\"url(#clip380)\" d=\"M2581.09 1153.51 L2593.57 1153.51 L2593.57 1157.3 L2581.09 1157.3 L2581.09 1153.51 Z\" fill=\"#000000\" fill-rule=\"evenodd\" fill-opacity=\"1\" /><path clip-path=\"url(#clip380)\" d=\"M2610.95 1136.91 Q2607.34 1136.91 2605.51 1140.47 Q2603.71 1144.02 2603.71 1151.15 Q2603.71 1158.25 2605.51 1161.82 Q2607.34 1165.36 2610.95 1165.36 Q2614.59 1165.36 2616.39 1161.82 Q2618.22 1158.25 2618.22 1151.15 Q2618.22 1144.02 2616.39 1140.47 Q2614.59 1136.91 2610.95 1136.91 M2610.95 1133.21 Q2616.76 1133.21 2619.82 1137.81 Q2622.9 1142.4 2622.9 1151.15 Q2622.9 1159.87 2619.82 1164.48 Q2616.76 1169.06 2610.95 1169.06 Q2605.14 1169.06 2602.06 1164.48 Q2599.01 1159.87 2599.01 1151.15 Q2599.01 1142.4 2602.06 1137.81 Q2605.14 1133.21 2610.95 1133.21 Z\" fill=\"#000000\" fill-rule=\"evenodd\" fill-opacity=\"1\" /><path clip-path=\"url(#clip380)\" d=\"M2631.92 1164.46 L2639.56 1164.46 L2639.56 1138.09 L2631.25 1139.76 L2631.25 1135.5 L2639.52 1133.83 L2644.19 1133.83 L2644.19 1164.46 L2651.83 1164.46 L2651.83 1168.39 L2631.92 1168.39 L2631.92 1164.46 Z\" fill=\"#000000\" fill-rule=\"evenodd\" fill-opacity=\"1\" /><polyline clip-path=\"url(#clip383)\" style=\"stroke:#000000; stroke-linecap:butt; stroke-linejoin:round; stroke-width:2; stroke-opacity:0.1; fill:none\" points=\"\n  1627.55,1060.47 2752.76,1060.47 \n  \"/>\n<polyline clip-path=\"url(#clip383)\" style=\"stroke:#000000; stroke-linecap:butt; stroke-linejoin:round; stroke-width:2; stroke-opacity:0.1; fill:none\" points=\"\n  1627.55,452.673 2752.76,452.673 \n  \"/>\n<polyline clip-path=\"url(#clip380)\" style=\"stroke:#000000; stroke-linecap:butt; stroke-linejoin:round; stroke-width:4; stroke-opacity:1; fill:none\" points=\"\n  1627.55,1102.79 1627.55,47.2441 \n  \"/>\n<polyline clip-path=\"url(#clip380)\" style=\"stroke:#000000; stroke-linecap:butt; stroke-linejoin:round; stroke-width:4; stroke-opacity:1; fill:none\" points=\"\n  1627.55,1060.47 1646.45,1060.47 \n  \"/>\n<polyline clip-path=\"url(#clip380)\" style=\"stroke:#000000; stroke-linecap:butt; stroke-linejoin:round; stroke-width:4; stroke-opacity:1; fill:none\" points=\"\n  1627.55,452.673 1646.45,452.673 \n  \"/>\n<path clip-path=\"url(#clip380)\" d=\"M1516.42 1080.26 L1524.06 1080.26 L1524.06 1053.9 L1515.75 1055.56 L1515.75 1051.3 L1524.02 1049.64 L1528.69 1049.64 L1528.69 1080.26 L1536.33 1080.26 L1536.33 1084.2 L1516.42 1084.2 L1516.42 1080.26 Z\" fill=\"#000000\" fill-rule=\"evenodd\" fill-opacity=\"1\" /><path clip-path=\"url(#clip380)\" d=\"M1555.77 1052.72 Q1552.16 1052.72 1550.33 1056.28 Q1548.53 1059.82 1548.53 1066.95 Q1548.53 1074.06 1550.33 1077.62 Q1552.16 1081.16 1555.77 1081.16 Q1559.41 1081.16 1561.21 1077.62 Q1563.04 1074.06 1563.04 1066.95 Q1563.04 1059.82 1561.21 1056.28 Q1559.41 1052.72 1555.77 1052.72 M1555.77 1049.01 Q1561.58 1049.01 1564.64 1053.62 Q1567.72 1058.2 1567.72 1066.95 Q1567.72 1075.68 1564.64 1080.29 Q1561.58 1084.87 1555.77 1084.87 Q1549.96 1084.87 1546.89 1080.29 Q1543.83 1075.68 1543.83 1066.95 Q1543.83 1058.2 1546.89 1053.62 Q1549.96 1049.01 1555.77 1049.01 Z\" fill=\"#000000\" fill-rule=\"evenodd\" fill-opacity=\"1\" /><path clip-path=\"url(#clip380)\" d=\"M1572.29 1053.59 L1585.55 1053.59 L1585.55 1056.79 L1567.72 1056.79 L1567.72 1053.59 Q1569.88 1051.35 1573.61 1047.59 Q1577.35 1043.81 1578.31 1042.72 Q1580.13 1040.67 1580.85 1039.26 Q1581.58 1037.83 1581.58 1036.46 Q1581.58 1034.22 1580 1032.81 Q1578.44 1031.4 1575.92 1031.4 Q1574.13 1031.4 1572.14 1032.02 Q1570.16 1032.64 1567.91 1033.9 L1567.91 1030.06 Q1570.2 1029.14 1572.2 1028.67 Q1574.19 1028.2 1575.84 1028.2 Q1580.21 1028.2 1582.8 1030.38 Q1585.4 1032.56 1585.4 1036.21 Q1585.4 1037.94 1584.74 1039.5 Q1584.1 1041.04 1582.39 1043.15 Q1581.92 1043.7 1579.4 1046.31 Q1576.88 1048.91 1572.29 1053.59 Z\" fill=\"#000000\" fill-rule=\"evenodd\" fill-opacity=\"1\" /><path clip-path=\"url(#clip380)\" d=\"M1513.79 472.466 L1521.43 472.466 L1521.43 446.1 L1513.12 447.767 L1513.12 443.508 L1521.38 441.841 L1526.06 441.841 L1526.06 472.466 L1533.7 472.466 L1533.7 476.401 L1513.79 476.401 L1513.79 472.466 Z\" fill=\"#000000\" fill-rule=\"evenodd\" fill-opacity=\"1\" /><path clip-path=\"url(#clip380)\" d=\"M1553.14 444.92 Q1549.53 444.92 1547.7 448.484 Q1545.9 452.026 1545.9 459.156 Q1545.9 466.262 1547.7 469.827 Q1549.53 473.369 1553.14 473.369 Q1556.78 473.369 1558.58 469.827 Q1560.41 466.262 1560.41 459.156 Q1560.41 452.026 1558.58 448.484 Q1556.78 444.92 1553.14 444.92 M1553.14 441.216 Q1558.95 441.216 1562.01 445.822 Q1565.09 450.406 1565.09 459.156 Q1565.09 467.882 1562.01 472.489 Q1558.95 477.072 1553.14 477.072 Q1547.33 477.072 1544.25 472.489 Q1541.2 467.882 1541.2 459.156 Q1541.2 450.406 1544.25 445.822 Q1547.33 441.216 1553.14 441.216 Z\" fill=\"#000000\" fill-rule=\"evenodd\" fill-opacity=\"1\" /><path clip-path=\"url(#clip380)\" d=\"M1577.76 424.221 L1568.17 439.211 L1577.76 439.211 L1577.76 424.221 M1576.77 420.911 L1581.54 420.911 L1581.54 439.211 L1585.55 439.211 L1585.55 442.37 L1581.54 442.37 L1581.54 448.991 L1577.76 448.991 L1577.76 442.37 L1565.09 442.37 L1565.09 438.703 L1576.77 420.911 Z\" fill=\"#000000\" fill-rule=\"evenodd\" fill-opacity=\"1\" /><path clip-path=\"url(#clip380)\" d=\"M1413 685.176 L1419.78 685.176 Q1416.76 688.422 1415.26 692.115 Q1413.77 695.775 1413.77 699.913 Q1413.77 708.061 1418.76 712.389 Q1423.73 716.718 1433.15 716.718 Q1442.54 716.718 1447.54 712.389 Q1452.5 708.061 1452.5 699.913 Q1452.5 695.775 1451.01 692.115 Q1449.51 688.422 1446.49 685.176 L1453.2 685.176 Q1455.49 688.55 1456.64 692.337 Q1457.79 696.093 1457.79 700.295 Q1457.79 711.084 1451.2 717.291 Q1444.58 723.498 1433.15 723.498 Q1421.69 723.498 1415.1 717.291 Q1408.48 711.084 1408.48 700.295 Q1408.48 696.029 1409.63 692.274 Q1410.74 688.486 1413 685.176 Z\" fill=\"#000000\" fill-rule=\"evenodd\" fill-opacity=\"1\" /><path clip-path=\"url(#clip380)\" d=\"M1411.09 669.707 L1421.21 669.707 L1421.21 657.644 L1425.77 657.644 L1425.77 669.707 L1445.12 669.707 Q1449.48 669.707 1450.72 668.53 Q1451.96 667.32 1451.96 663.66 L1451.96 657.644 L1456.86 657.644 L1456.86 663.66 Q1456.86 670.439 1454.35 673.017 Q1451.8 675.596 1445.12 675.596 L1425.77 675.596 L1425.77 679.892 L1421.21 679.892 L1421.21 675.596 L1411.09 675.596 L1411.09 669.707 Z\" fill=\"#000000\" fill-rule=\"evenodd\" fill-opacity=\"1\" /><path clip-path=\"url(#clip380)\" d=\"M1421.21 633.423 L1421.21 627.216 L1451.13 616.076 L1421.21 604.936 L1421.21 598.73 L1456.86 612.098 L1456.86 620.055 L1421.21 633.423 Z\" fill=\"#000000\" fill-rule=\"evenodd\" fill-opacity=\"1\" /><path clip-path=\"url(#clip380)\" d=\"M1438.94 574.444 Q1438.94 581.542 1440.57 584.28 Q1442.19 587.017 1446.1 587.017 Q1449.22 587.017 1451.07 584.98 Q1452.88 582.911 1452.88 579.378 Q1452.88 574.508 1449.45 571.58 Q1445.98 568.62 1440.25 568.62 L1438.94 568.62 L1438.94 574.444 M1436.52 562.763 L1456.86 562.763 L1456.86 568.62 L1451.45 568.62 Q1454.7 570.625 1456.26 573.617 Q1457.79 576.609 1457.79 580.938 Q1457.79 586.412 1454.73 589.659 Q1451.64 592.873 1446.49 592.873 Q1440.47 592.873 1437.42 588.863 Q1434.36 584.821 1434.36 576.832 L1434.36 568.62 L1433.79 568.62 Q1429.74 568.62 1427.55 571.293 Q1425.32 573.935 1425.32 578.741 Q1425.32 581.797 1426.05 584.693 Q1426.78 587.59 1428.25 590.263 L1422.84 590.263 Q1421.6 587.049 1420.99 584.025 Q1420.36 581.001 1420.36 578.137 Q1420.36 570.402 1424.37 566.583 Q1428.38 562.763 1436.52 562.763 Z\" fill=\"#000000\" fill-rule=\"evenodd\" fill-opacity=\"1\" /><path clip-path=\"url(#clip380)\" d=\"M1407.34 550.7 L1407.34 544.844 L1456.86 544.844 L1456.86 550.7 L1407.34 550.7 Z\" fill=\"#000000\" fill-rule=\"evenodd\" fill-opacity=\"1\" /><path clip-path=\"url(#clip380)\" d=\"M1442.79 533.195 L1421.21 533.195 L1421.21 527.338 L1442.57 527.338 Q1447.63 527.338 1450.18 525.365 Q1452.69 523.392 1452.69 519.445 Q1452.69 514.702 1449.67 511.965 Q1446.65 509.196 1441.43 509.196 L1421.21 509.196 L1421.21 503.34 L1456.86 503.34 L1456.86 509.196 L1451.39 509.196 Q1454.63 511.329 1456.23 514.161 Q1457.79 516.962 1457.79 520.686 Q1457.79 526.829 1453.97 530.012 Q1450.15 533.195 1442.79 533.195 M1420.36 518.458 L1420.36 518.458 Z\" fill=\"#000000\" fill-rule=\"evenodd\" fill-opacity=\"1\" /><path clip-path=\"url(#clip380)\" d=\"M1437.57 460.785 L1440.44 460.785 L1440.44 487.712 Q1446.49 487.33 1449.67 484.083 Q1452.82 480.805 1452.82 474.98 Q1452.82 471.607 1451.99 468.455 Q1451.17 465.273 1449.51 462.153 L1455.05 462.153 Q1456.39 465.304 1457.09 468.615 Q1457.79 471.925 1457.79 475.33 Q1457.79 483.86 1452.82 488.858 Q1447.86 493.823 1439.39 493.823 Q1430.64 493.823 1425.51 489.112 Q1420.36 484.37 1420.36 476.349 Q1420.36 469.156 1425 464.986 Q1429.62 460.785 1437.57 460.785 M1435.86 466.641 Q1431.05 466.705 1428.18 469.347 Q1425.32 471.957 1425.32 476.285 Q1425.32 481.187 1428.09 484.147 Q1430.86 487.075 1435.89 487.521 L1435.86 466.641 Z\" fill=\"#000000\" fill-rule=\"evenodd\" fill-opacity=\"1\" /><path clip-path=\"url(#clip380)\" d=\"M1422.26 428.447 L1427.8 428.447 Q1426.53 430.93 1425.89 433.603 Q1425.26 436.277 1425.26 439.141 Q1425.26 443.502 1426.59 445.698 Q1427.93 447.862 1430.6 447.862 Q1432.64 447.862 1433.82 446.303 Q1434.96 444.743 1436.01 440.033 L1436.46 438.027 Q1437.8 431.789 1440.25 429.179 Q1442.67 426.537 1447.03 426.537 Q1451.99 426.537 1454.89 430.484 Q1457.79 434.399 1457.79 441.274 Q1457.79 444.138 1457.21 447.258 Q1456.67 450.345 1455.56 453.783 L1449.51 453.783 Q1451.2 450.536 1452.06 447.385 Q1452.88 444.234 1452.88 441.147 Q1452.88 437.009 1451.48 434.781 Q1450.05 432.553 1447.47 432.553 Q1445.09 432.553 1443.81 434.176 Q1442.54 435.768 1441.36 441.21 L1440.88 443.247 Q1439.74 448.69 1437.38 451.109 Q1435 453.528 1430.86 453.528 Q1425.83 453.528 1423.09 449.963 Q1420.36 446.398 1420.36 439.842 Q1420.36 436.595 1420.83 433.731 Q1421.31 430.866 1422.26 428.447 Z\" fill=\"#000000\" fill-rule=\"evenodd\" fill-opacity=\"1\" /><polyline clip-path=\"url(#clip383)\" style=\"stroke:#ff0000; stroke-linecap:butt; stroke-linejoin:round; stroke-width:4; stroke-opacity:1; fill:none\" points=\"\n  1659.39,1006.08 1661.27,1021.84 1663.15,1026.86 1665.03,1033.15 1666.91,1033.15 1668.79,1057.86 1670.67,1072.92 1672.55,1054.03 1674.42,1024.83 1676.3,1009.62 \n  1678.18,1000.1 1680.06,991.215 1681.94,973.689 1683.82,960.057 1685.7,950.541 1687.58,944.375 1689.45,945.475 1691.33,935.379 1693.21,932.345 1695.09,932.846 \n  1696.97,931.349 1698.85,934.869 1700.73,933.853 1702.61,931.349 1704.49,939.536 1706.36,941.665 1708.24,925.525 1710.12,907.368 1712,895.506 1713.88,884.622 \n  1715.76,877.505 1717.64,865.828 1719.52,850.451 1721.39,836.68 1723.27,826.433 1725.15,815.061 1727.03,797.746 1728.91,783.247 1730.79,779.112 1732.67,771.212 \n  1734.55,765.866 1736.42,763.898 1738.3,758.031 1740.18,766.008 1742.06,770.477 1743.94,765.16 1745.82,770.918 1747.7,779.897 1749.58,783.409 1751.45,795.955 \n  1753.33,801.217 1755.21,805.736 1757.09,813.224 1758.97,816.3 1760.85,820.732 1762.73,827.558 1764.61,829.15 1766.49,832.861 1768.36,828.011 1770.24,828.011 \n  1772.12,821.593 1774,812.013 1775.88,790.212 1777.76,777.401 1779.64,759.642 1781.52,747.272 1783.39,734.503 1785.27,721.741 1787.15,705.008 1789.03,694.046 \n  1790.91,683.393 1792.79,670.614 1794.67,661.124 1796.55,654.626 1798.42,650.309 1800.3,645.33 1802.18,639.224 1804.06,625.579 1805.94,618.623 1807.82,612.768 \n  1809.7,607.589 1811.58,602.769 1813.45,596.539 1815.33,590.666 1817.21,587.146 1819.09,583.896 1820.97,583.504 1822.85,584.468 1824.73,586.417 1826.61,588.395 \n  1828.49,593.704 1830.36,602.276 1832.24,609.61 1834.12,614.917 1836,617.422 1837.88,619.461 1839.76,621.865 1841.64,622.819 1843.52,622.15 1845.39,622.532 \n  1847.27,620.351 1849.15,622.867 1851.03,625.628 1852.91,623.974 1854.79,623.733 1856.67,622.389 1858.55,620.822 1860.42,617.883 1862.3,611.268 1864.18,602.728 \n  1866.06,593.282 1867.94,580.307 1869.82,567.608 1871.7,554.931 1873.58,544.235 1875.45,534.316 1877.33,523.299 1879.21,516.405 1881.09,506.776 1882.97,499.88 \n  1884.85,497.208 1886.73,493.039 1888.61,490.168 1890.49,489.521 1892.36,484.993 1894.24,484.858 1896.12,484.303 1898,483.985 1899.88,486.076 1901.76,488.426 \n  1903.64,492.022 1905.52,495.993 1907.39,499.465 1909.27,502.26 1911.15,501.781 1913.03,498.248 1914.91,494.426 1916.79,490.01 1918.67,486.553 1920.55,482.223 \n  1922.42,478.255 1924.3,475.575 1926.18,474.03 1928.06,474.761 1929.94,474.636 1931.82,475.685 1933.7,475.669 1935.58,476.141 1937.46,475.528 1939.33,474.527 \n  1941.21,472.196 1943.09,469.725 1944.97,464.47 1946.85,459.027 1948.73,451.36 1950.61,443.128 1952.49,434.63 1954.36,428.314 1956.24,419.732 1958.12,407.823 \n  1960,395.164 1961.88,384.415 1963.76,373.979 1965.64,365 1967.52,355.97 1969.39,348.648 1971.27,341.398 1973.15,334.871 1975.03,328.507 1976.91,326.818 \n  1978.79,327.649 1980.67,329.365 1982.55,333.083 1984.42,337.928 1986.3,346.045 1988.18,353.993 1990.06,368.141 1991.94,379.336 1993.82,379.852 1995.7,381.913 \n  1997.58,382.075 1999.46,385.148 2001.33,387.624 2003.21,389.656 2005.09,392.921 2006.97,398.344 2008.85,402.917 2010.73,408.558 2012.61,413.978 2014.49,425.491 \n  2016.36,421.732 2018.24,419.414 2020.12,428.522 2022,436.251 2023.88,449.995 2025.76,459.013 2027.64,466.755 2029.52,475.512 2031.39,484.942 2033.27,493.308 \n  2035.15,499.202 2037.03,507.494 2038.91,514.557 2040.79,521.998 2042.67,525.435 2044.55,528.681 2046.42,531.793 2048.3,535.72 2050.18,541.051 2052.06,547.173 \n  2053.94,553.961 2055.82,564.4 2057.7,574.368 2059.58,582.23 2061.46,586.854 2063.33,595.056 2065.21,603.057 2067.09,607.418 2068.97,610.349 2070.85,610.175 \n  2072.73,607.248 2074.61,607.205 2076.49,609.87 2078.36,611.092 2080.24,610.436 2082.12,613.391 2084,617.652 2085.88,622.198 2087.76,624.507 2089.64,626.561 \n  2091.52,623.54 2093.39,620.445 2095.27,612.68 2097.15,606.483 2099.03,602.358 2100.91,596.972 2102.79,589.693 2104.67,586.672 2106.55,585.619 2108.42,585.656 \n  2110.3,584.182 2112.18,584.361 2114.06,584.289 2115.94,584.11 2117.82,584.217 2119.7,583.753 2121.58,585.764 2123.46,586.854 2125.33,586.018 2127.21,586.745 \n  2129.09,586.599 2130.97,585.186 2132.85,585.259 2134.73,581.913 2136.61,581.352 2138.49,580.898 2140.36,579.822 2142.24,578.446 2144.12,574.966 2146,570.961 \n  2147.88,568.684 2149.76,563.633 2151.64,560.041 2153.52,557.798 2155.39,553.649 2157.27,551.65 2159.15,548.557 2161.03,548.858 2162.91,547.146 2164.79,544.711 \n  2166.67,543.419 2168.55,543.708 2170.42,547.281 2172.3,549.819 2174.18,547.904 2176.06,552.322 2177.94,556.545 2179.82,560.967 2181.7,567.639 2183.58,566.853 \n  2185.46,565.947 2187.33,565.574 2189.21,560.25 2191.09,559.506 2192.97,557.301 2194.85,551.315 2196.73,550.233 2198.61,550.039 2200.49,549.819 2202.36,550.343 \n  2204.24,547.47 2206.12,542.764 2208,540.05 2209.88,537.49 2211.76,538.296 2213.64,540.717 2215.52,542.816 2217.39,545.189 2219.27,548.285 2221.15,550.981 \n  2223.03,549.571 2224.91,546.472 2226.79,542.035 2228.67,538.574 2230.55,535.399 2232.43,532.613 2234.3,526.77 2236.18,525.023 2238.06,519.456 2239.94,517.76 \n  2241.82,514.79 2243.7,511.554 2245.58,509.813 2247.46,507.534 2249.33,501.208 2251.21,499.39 2253.09,499.033 2254.97,499.559 2256.85,497.82 2258.73,495.554 \n  2260.61,495.335 2262.49,497.838 2264.36,498.304 2266.24,496.195 2268.12,497.079 2270,499.955 2271.88,502.26 2273.76,507.814 2275.64,509.123 2277.52,507.894 \n  2279.39,508.296 2281.27,506.359 2283.15,505.904 2285.03,505.568 2286.91,502.684 2288.79,502.51 2290.67,507.774 2292.55,512.735 2294.43,517.328 2296.3,521.441 \n  2298.18,527.745 2300.06,537.164 2301.94,552.913 2303.82,566.197 2305.7,577.117 2307.58,591.117 2309.46,606.187 2311.33,620.163 2313.21,635.585 2315.09,646.93 \n  2316.97,658.336 2318.85,671.651 2320.73,679.656 2322.61,685.148 2324.49,690.558 2326.36,700.444 2328.24,711.787 2330.12,719.829 2332,719.63 2333.88,720.23 \n  2335.76,723.066 2337.64,720.43 2339.52,711.224 2341.39,692.331 2343.27,672.067 2345.15,660.676 2347.03,649.896 2348.91,638.089 2350.79,626.758 2352.67,608.962 \n  2354.55,598.318 2356.43,592.785 2358.3,587.11 2360.18,580.237 2362.06,570.38 2363.94,554.76 2365.82,542.921 2367.7,529.364 2369.58,516.491 2371.46,506.359 \n  2373.33,501.666 2375.21,499.258 2377.09,503.225 2378.97,508.215 2380.85,516.341 2382.73,524.955 2384.61,532.758 2386.49,534.562 2388.36,538.17 2390.24,536.74 \n  2392.12,532.564 2394,528.822 2395.88,524.727 2397.76,520.688 2399.64,518.323 2401.52,515.893 2403.39,514.684 2405.27,517.199 2407.15,519.216 2409.03,520.401 \n  2410.91,519.303 2412.79,517.609 2414.67,515.68 2416.55,512.589 2418.43,508.982 2420.3,505.096 2422.18,503.768 2424.06,502.414 2425.94,501.513 2427.82,501.762 \n  2429.7,502.453 2431.58,502.087 2433.46,502.799 2435.33,503.109 2437.21,502.819 2439.09,502.337 2440.97,503.457 2442.85,502.53 2444.73,503.69 2446.61,503.982 \n  2448.49,504.45 2450.36,504.43 2452.24,509.387 2454.12,511.266 2456,515.637 2457.88,518.497 2459.76,522.984 2461.64,528.259 2463.52,538.7 2465.39,543.866 \n  2467.27,550.676 2469.15,559.388 2471.03,569.194 2472.91,575.702 2474.79,583.291 2476.67,586.745 2478.55,592.519 2480.43,596.814 2482.3,602.563 2484.18,610.218 \n  2486.06,622.389 2487.94,631.379 2489.82,640.971 2491.7,644.933 2493.58,650.781 2495.46,654.14 2497.33,655.79 2499.21,655.605 2501.09,652.39 2502.97,648.55 \n  2504.85,646.128 2506.73,638.899 2508.61,634.377 2510.49,628.948 2512.36,619.742 2514.24,617.744 2516.12,614.646 2518,612.768 2519.88,613.302 2521.76,611.005 \n  2523.64,607.418 2525.52,606.441 2527.4,597.366 2529.27,589.135 2531.15,581.527 2533.03,576.543 2534.91,571.707 2536.79,565.916 2538.67,559.803 2540.55,556.4 \n  2542.43,553.111 2544.3,551.734 2546.18,548.04 2548.06,543.682 2549.94,538.144 2551.82,529.316 2553.7,517.199 2555.58,504.313 2557.46,493.29 2559.33,482.985 \n  2561.21,471.464 2563.09,461.826 2564.97,451.164 2566.85,444.3 2568.73,439.771 2570.61,435.357 2572.49,432.982 2574.36,429.981 2576.24,423.529 2578.12,419.168 \n  2580,414.323 2581.88,408.766 2583.76,403.198 2585.64,398.256 2587.52,390.84 2589.4,381.99 2591.27,372.929 2593.15,364.607 2595.03,357.488 2596.91,352.811 \n  2598.79,347.233 2600.67,344.466 2602.55,337.872 2604.43,334.833 2606.3,332.609 2608.18,328.842 2610.06,323.196 2611.94,319.257 2613.82,316.378 2615.7,316.463 \n  2617.58,313.814 2619.46,313.51 2621.33,313.92 2623.21,313.768 2625.09,313.207 2626.97,312.343 2628.85,309.739 2630.73,306.634 2632.61,304.435 2634.49,302.425 \n  2636.36,298.214 2638.24,293.212 2640.12,289.645 2642,282.25 2643.88,275.696 2645.76,268.624 2647.64,262.161 2649.52,256.946 2651.4,252.395 2653.27,246.042 \n  2655.15,237.2 2657.03,227.503 2658.91,217.743 2660.79,209.822 2662.67,202.027 2664.55,195.298 2666.43,189.313 2668.3,184.003 2670.18,180.632 2672.06,179.2 \n  2673.94,175.135 2675.82,180.987 2677.7,184.71 2679.58,183.349 2681.46,168.15 2683.33,155.071 2685.21,147.408 2687.09,138.99 2688.97,135.735 2690.85,134.815 \n  2692.73,124.597 2694.61,121.314 2696.49,119.457 2698.36,119.129 2700.24,123.248 2702.12,118.18 2704,113.116 2705.88,116.802 2707.76,119.291 2709.64,120.42 \n  2711.52,115.172 2713.4,106.869 2715.27,96.287 2717.15,86.3416 2719.03,77.1181 2720.91,84.3777 \n  \"/>\n<path clip-path=\"url(#clip380)\" d=\"\nM2282.84 1067.61 L2715.25 1067.61 L2715.25 963.926 L2282.84 963.926  Z\n  \" fill=\"#ffffff\" fill-rule=\"evenodd\" fill-opacity=\"1\"/>\n<polyline clip-path=\"url(#clip380)\" style=\"stroke:#000000; stroke-linecap:butt; stroke-linejoin:round; stroke-width:4; stroke-opacity:1; fill:none\" points=\"\n  2282.84,1067.61 2715.25,1067.61 2715.25,963.926 2282.84,963.926 2282.84,1067.61 \n  \"/>\n<polyline clip-path=\"url(#clip380)\" style=\"stroke:#ff0000; stroke-linecap:butt; stroke-linejoin:round; stroke-width:4; stroke-opacity:1; fill:none\" points=\"\n  2310.84,1015.77 2478.84,1015.77 \n  \"/>\n<path clip-path=\"url(#clip380)\" d=\"M2506.84 997.028 L2511.1 997.028 L2511.1 1033.05 L2506.84 1033.05 L2506.84 997.028 Z\" fill=\"#000000\" fill-rule=\"evenodd\" fill-opacity=\"1\" /><path clip-path=\"url(#clip380)\" d=\"M2530.06 1010.11 Q2526.63 1010.11 2524.64 1012.79 Q2522.65 1015.45 2522.65 1020.11 Q2522.65 1024.76 2524.62 1027.44 Q2526.61 1030.11 2530.06 1030.11 Q2533.46 1030.11 2535.45 1027.42 Q2537.44 1024.74 2537.44 1020.11 Q2537.44 1015.5 2535.45 1012.81 Q2533.46 1010.11 2530.06 1010.11 M2530.06 1006.5 Q2535.62 1006.5 2538.79 1010.11 Q2541.96 1013.72 2541.96 1020.11 Q2541.96 1026.47 2538.79 1030.11 Q2535.62 1033.72 2530.06 1033.72 Q2524.48 1033.72 2521.31 1030.11 Q2518.16 1026.47 2518.16 1020.11 Q2518.16 1013.72 2521.31 1010.11 Q2524.48 1006.5 2530.06 1006.5 Z\" fill=\"#000000\" fill-rule=\"evenodd\" fill-opacity=\"1\" /><path clip-path=\"url(#clip380)\" d=\"M2566.08 1019.78 Q2566.08 1015.15 2564.16 1012.61 Q2562.26 1010.06 2558.81 1010.06 Q2555.38 1010.06 2553.46 1012.61 Q2551.56 1015.15 2551.56 1019.78 Q2551.56 1024.39 2553.46 1026.93 Q2555.38 1029.48 2558.81 1029.48 Q2562.26 1029.48 2564.16 1026.93 Q2566.08 1024.39 2566.08 1019.78 M2570.34 1029.83 Q2570.34 1036.45 2567.4 1039.67 Q2564.46 1042.91 2558.39 1042.91 Q2556.15 1042.91 2554.16 1042.56 Q2552.17 1042.24 2550.29 1041.54 L2550.29 1037.4 Q2552.17 1038.42 2553.99 1038.9 Q2555.82 1039.39 2557.72 1039.39 Q2561.91 1039.39 2563.99 1037.19 Q2566.08 1035.01 2566.08 1030.59 L2566.08 1028.49 Q2564.76 1030.78 2562.7 1031.91 Q2560.64 1033.05 2557.77 1033.05 Q2553 1033.05 2550.08 1029.41 Q2547.17 1025.78 2547.17 1019.78 Q2547.17 1013.76 2550.08 1010.13 Q2553 1006.5 2557.77 1006.5 Q2560.64 1006.5 2562.7 1007.63 Q2564.76 1008.76 2566.08 1011.06 L2566.08 1007.12 L2570.34 1007.12 L2570.34 1029.83 Z\" fill=\"#000000\" fill-rule=\"evenodd\" fill-opacity=\"1\" /><path clip-path=\"url(#clip380)\" d=\"M2589.34 997.074 Q2586.24 1002.4 2584.74 1007.61 Q2583.23 1012.81 2583.23 1018.16 Q2583.23 1023.51 2584.74 1028.76 Q2586.26 1033.99 2589.34 1039.3 L2585.64 1039.3 Q2582.17 1033.86 2580.43 1028.6 Q2578.72 1023.35 2578.72 1018.16 Q2578.72 1013 2580.43 1007.77 Q2582.14 1002.54 2585.64 997.074 L2589.34 997.074 Z\" fill=\"#000000\" fill-rule=\"evenodd\" fill-opacity=\"1\" /><path clip-path=\"url(#clip380)\" d=\"M2623.67 1001.15 L2623.67 1006.08 Q2621.31 1003.88 2618.62 1002.79 Q2615.96 1001.7 2612.95 1001.7 Q2607.03 1001.7 2603.88 1005.34 Q2600.73 1008.95 2600.73 1015.8 Q2600.73 1022.63 2603.88 1026.26 Q2607.03 1029.87 2612.95 1029.87 Q2615.96 1029.87 2618.62 1028.79 Q2621.31 1027.7 2623.67 1025.5 L2623.67 1030.38 Q2621.22 1032.05 2618.46 1032.88 Q2615.73 1033.72 2612.68 1033.72 Q2604.83 1033.72 2600.31 1028.93 Q2595.8 1024.11 2595.8 1015.8 Q2595.8 1007.47 2600.31 1002.68 Q2604.83 997.861 2612.68 997.861 Q2615.78 997.861 2618.51 998.694 Q2621.26 999.504 2623.67 1001.15 Z\" fill=\"#000000\" fill-rule=\"evenodd\" fill-opacity=\"1\" /><path clip-path=\"url(#clip380)\" d=\"M2634.92 999.759 L2634.92 1007.12 L2643.69 1007.12 L2643.69 1010.43 L2634.92 1010.43 L2634.92 1024.5 Q2634.92 1027.68 2635.78 1028.58 Q2636.66 1029.48 2639.32 1029.48 L2643.69 1029.48 L2643.69 1033.05 L2639.32 1033.05 Q2634.39 1033.05 2632.51 1031.22 Q2630.64 1029.37 2630.64 1024.5 L2630.64 1010.43 L2627.51 1010.43 L2627.51 1007.12 L2630.64 1007.12 L2630.64 999.759 L2634.92 999.759 Z\" fill=\"#000000\" fill-rule=\"evenodd\" fill-opacity=\"1\" /><path clip-path=\"url(#clip380)\" d=\"M2648.62 997.074 L2652.33 997.074 Q2655.8 1002.54 2657.51 1007.77 Q2659.25 1013 2659.25 1018.16 Q2659.25 1023.35 2657.51 1028.6 Q2655.8 1033.86 2652.33 1039.3 L2648.62 1039.3 Q2651.7 1033.99 2653.21 1028.76 Q2654.74 1023.51 2654.74 1018.16 Q2654.74 1012.81 2653.21 1007.61 Q2651.7 1002.4 2648.62 997.074 Z\" fill=\"#000000\" fill-rule=\"evenodd\" fill-opacity=\"1\" /></svg>\n"
     },
     "execution_count": 3,
     "metadata": {},
     "output_type": "execute_result"
    }
   ],
   "source": [
    "pnt_weekly = @df national_weekly plot(:Date, :Nt, yaxis = :log, ylabel = \"Nt values\",\n",
    "    label = \"log(Nt)\", color = \"blue\", leg = :bottomright);\n",
    "pct_weekly = @df national_weekly plot(:Date, :Ct, yaxis = :log, ylabel = \"Ct values\",\n",
    "    label = \"log(Ct)\", color = \"red\", leg = :bottomright);\n",
    "plot(pnt_weekly, pct_weekly, layout = (1, 2), size = (700, 300))"
   ]
  },
  {
   "cell_type": "code",
   "execution_count": 18,
   "id": "6f587a1e",
   "metadata": {},
   "outputs": [
    {
     "data": {
      "image/svg+xml": "<?xml version=\"1.0\" encoding=\"utf-8\"?>\n<svg xmlns=\"http://www.w3.org/2000/svg\" xmlns:xlink=\"http://www.w3.org/1999/xlink\" width=\"900\" height=\"300\" viewBox=\"0 0 3600 1200\">\n<defs>\n  <clipPath id=\"clip740\">\n    <rect x=\"0\" y=\"0\" width=\"3600\" height=\"1200\"/>\n  </clipPath>\n</defs>\n<path clip-path=\"url(#clip740)\" d=\"\nM0 1200 L3600 1200 L3600 0 L0 0  Z\n  \" fill=\"#ffffff\" fill-rule=\"evenodd\" fill-opacity=\"1\"/>\n<defs>\n  <clipPath id=\"clip741\">\n    <rect x=\"720\" y=\"0\" width=\"2521\" height=\"1200\"/>\n  </clipPath>\n</defs>\n<path clip-path=\"url(#clip740)\" d=\"\nM236.098 1107.73 L1768.45 1107.73 L1768.45 47.2441 L236.098 47.2441  Z\n  \" fill=\"#ffffff\" fill-rule=\"evenodd\" fill-opacity=\"1\"/>\n<defs>\n  <clipPath id=\"clip742\">\n    <rect x=\"236\" y=\"47\" width=\"1533\" height=\"1061\"/>\n  </clipPath>\n</defs>\n<polyline clip-path=\"url(#clip742)\" style=\"stroke:#000000; stroke-linecap:butt; stroke-linejoin:round; stroke-width:2; stroke-opacity:0.1; fill:none\" points=\"\n  279.466,1107.73 279.466,47.2441 \n  \"/>\n<polyline clip-path=\"url(#clip742)\" style=\"stroke:#000000; stroke-linecap:butt; stroke-linejoin:round; stroke-width:2; stroke-opacity:0.1; fill:none\" points=\"\n  670.934,1107.73 670.934,47.2441 \n  \"/>\n<polyline clip-path=\"url(#clip742)\" style=\"stroke:#000000; stroke-linecap:butt; stroke-linejoin:round; stroke-width:2; stroke-opacity:0.1; fill:none\" points=\"\n  1057.28,1107.73 1057.28,47.2441 \n  \"/>\n<polyline clip-path=\"url(#clip742)\" style=\"stroke:#000000; stroke-linecap:butt; stroke-linejoin:round; stroke-width:2; stroke-opacity:0.1; fill:none\" points=\"\n  1448.75,1107.73 1448.75,47.2441 \n  \"/>\n<polyline clip-path=\"url(#clip740)\" style=\"stroke:#000000; stroke-linecap:butt; stroke-linejoin:round; stroke-width:4; stroke-opacity:1; fill:none\" points=\"\n  236.098,1107.73 1768.45,1107.73 \n  \"/>\n<polyline clip-path=\"url(#clip740)\" style=\"stroke:#000000; stroke-linecap:butt; stroke-linejoin:round; stroke-width:4; stroke-opacity:1; fill:none\" points=\"\n  279.466,1107.73 279.466,1088.83 \n  \"/>\n<polyline clip-path=\"url(#clip740)\" style=\"stroke:#000000; stroke-linecap:butt; stroke-linejoin:round; stroke-width:4; stroke-opacity:1; fill:none\" points=\"\n  670.934,1107.73 670.934,1088.83 \n  \"/>\n<polyline clip-path=\"url(#clip740)\" style=\"stroke:#000000; stroke-linecap:butt; stroke-linejoin:round; stroke-width:4; stroke-opacity:1; fill:none\" points=\"\n  1057.28,1107.73 1057.28,1088.83 \n  \"/>\n<polyline clip-path=\"url(#clip740)\" style=\"stroke:#000000; stroke-linecap:butt; stroke-linejoin:round; stroke-width:4; stroke-opacity:1; fill:none\" points=\"\n  1448.75,1107.73 1448.75,1088.83 \n  \"/>\n<path clip-path=\"url(#clip740)\" d=\"M151.261 1175.79 L167.58 1175.79 L167.58 1179.73 L145.636 1179.73 L145.636 1175.79 Q148.298 1173.04 152.881 1168.41 Q157.488 1163.76 158.668 1162.41 Q160.914 1159.89 161.793 1158.15 Q162.696 1156.39 162.696 1154.7 Q162.696 1151.95 160.752 1150.21 Q158.83 1148.48 155.729 1148.48 Q153.53 1148.48 151.076 1149.24 Q148.645 1150.01 145.868 1151.56 L145.868 1146.83 Q148.692 1145.7 151.145 1145.12 Q153.599 1144.54 155.636 1144.54 Q161.006 1144.54 164.201 1147.23 Q167.395 1149.91 167.395 1154.4 Q167.395 1156.53 166.585 1158.45 Q165.798 1160.35 163.691 1162.95 Q163.113 1163.62 160.011 1166.83 Q156.909 1170.03 151.261 1175.79 Z\" fill=\"#000000\" fill-rule=\"evenodd\" fill-opacity=\"1\" /><path clip-path=\"url(#clip740)\" d=\"M187.395 1148.25 Q183.784 1148.25 181.955 1151.81 Q180.15 1155.35 180.15 1162.48 Q180.15 1169.59 181.955 1173.15 Q183.784 1176.7 187.395 1176.7 Q191.029 1176.7 192.835 1173.15 Q194.664 1169.59 194.664 1162.48 Q194.664 1155.35 192.835 1151.81 Q191.029 1148.25 187.395 1148.25 M187.395 1144.54 Q193.205 1144.54 196.261 1149.15 Q199.339 1153.73 199.339 1162.48 Q199.339 1171.21 196.261 1175.82 Q193.205 1180.4 187.395 1180.4 Q181.585 1180.4 178.506 1175.82 Q175.451 1171.21 175.451 1162.48 Q175.451 1153.73 178.506 1149.15 Q181.585 1144.54 187.395 1144.54 Z\" fill=\"#000000\" fill-rule=\"evenodd\" fill-opacity=\"1\" /><path clip-path=\"url(#clip740)\" d=\"M211.585 1175.79 L227.904 1175.79 L227.904 1179.73 L205.96 1179.73 L205.96 1175.79 Q208.622 1173.04 213.205 1168.41 Q217.812 1163.76 218.992 1162.41 Q221.237 1159.89 222.117 1158.15 Q223.02 1156.39 223.02 1154.7 Q223.02 1151.95 221.075 1150.21 Q219.154 1148.48 216.052 1148.48 Q213.853 1148.48 211.4 1149.24 Q208.969 1150.01 206.191 1151.56 L206.191 1146.83 Q209.015 1145.7 211.469 1145.12 Q213.923 1144.54 215.96 1144.54 Q221.33 1144.54 224.525 1147.23 Q227.719 1149.91 227.719 1154.4 Q227.719 1156.53 226.909 1158.45 Q226.122 1160.35 224.015 1162.95 Q223.437 1163.62 220.335 1166.83 Q217.233 1170.03 211.585 1175.79 Z\" fill=\"#000000\" fill-rule=\"evenodd\" fill-opacity=\"1\" /><path clip-path=\"url(#clip740)\" d=\"M247.719 1148.25 Q244.108 1148.25 242.279 1151.81 Q240.473 1155.35 240.473 1162.48 Q240.473 1169.59 242.279 1173.15 Q244.108 1176.7 247.719 1176.7 Q251.353 1176.7 253.159 1173.15 Q254.987 1169.59 254.987 1162.48 Q254.987 1155.35 253.159 1151.81 Q251.353 1148.25 247.719 1148.25 M247.719 1144.54 Q253.529 1144.54 256.585 1149.15 Q259.663 1153.73 259.663 1162.48 Q259.663 1171.21 256.585 1175.82 Q253.529 1180.4 247.719 1180.4 Q241.909 1180.4 238.83 1175.82 Q235.774 1171.21 235.774 1162.48 Q235.774 1153.73 238.83 1149.15 Q241.909 1144.54 247.719 1144.54 Z\" fill=\"#000000\" fill-rule=\"evenodd\" fill-opacity=\"1\" /><path clip-path=\"url(#clip740)\" d=\"M265.126 1164.84 L277.603 1164.84 L277.603 1168.64 L265.126 1168.64 L265.126 1164.84 Z\" fill=\"#000000\" fill-rule=\"evenodd\" fill-opacity=\"1\" /><path clip-path=\"url(#clip740)\" d=\"M294.987 1148.25 Q291.376 1148.25 289.547 1151.81 Q287.742 1155.35 287.742 1162.48 Q287.742 1169.59 289.547 1173.15 Q291.376 1176.7 294.987 1176.7 Q298.621 1176.7 300.427 1173.15 Q302.256 1169.59 302.256 1162.48 Q302.256 1155.35 300.427 1151.81 Q298.621 1148.25 294.987 1148.25 M294.987 1144.54 Q300.797 1144.54 303.853 1149.15 Q306.931 1153.73 306.931 1162.48 Q306.931 1171.21 303.853 1175.82 Q300.797 1180.4 294.987 1180.4 Q289.177 1180.4 286.098 1175.82 Q283.043 1171.21 283.043 1162.48 Q283.043 1153.73 286.098 1149.15 Q289.177 1144.54 294.987 1144.54 Z\" fill=\"#000000\" fill-rule=\"evenodd\" fill-opacity=\"1\" /><path clip-path=\"url(#clip740)\" d=\"M313.968 1145.17 L336.191 1145.17 L336.191 1147.16 L323.644 1179.73 L318.76 1179.73 L330.566 1149.1 L313.968 1149.1 L313.968 1145.17 Z\" fill=\"#000000\" fill-rule=\"evenodd\" fill-opacity=\"1\" /><path clip-path=\"url(#clip740)\" d=\"M342.556 1164.84 L355.033 1164.84 L355.033 1168.64 L342.556 1168.64 L342.556 1164.84 Z\" fill=\"#000000\" fill-rule=\"evenodd\" fill-opacity=\"1\" /><path clip-path=\"url(#clip740)\" d=\"M372.417 1148.25 Q368.806 1148.25 366.977 1151.81 Q365.172 1155.35 365.172 1162.48 Q365.172 1169.59 366.977 1173.15 Q368.806 1176.7 372.417 1176.7 Q376.051 1176.7 377.857 1173.15 Q379.686 1169.59 379.686 1162.48 Q379.686 1155.35 377.857 1151.81 Q376.051 1148.25 372.417 1148.25 M372.417 1144.54 Q378.227 1144.54 381.283 1149.15 Q384.362 1153.73 384.362 1162.48 Q384.362 1171.21 381.283 1175.82 Q378.227 1180.4 372.417 1180.4 Q366.607 1180.4 363.528 1175.82 Q360.473 1171.21 360.473 1162.48 Q360.473 1153.73 363.528 1149.15 Q366.607 1144.54 372.417 1144.54 Z\" fill=\"#000000\" fill-rule=\"evenodd\" fill-opacity=\"1\" /><path clip-path=\"url(#clip740)\" d=\"M393.389 1175.79 L401.028 1175.79 L401.028 1149.43 L392.718 1151.09 L392.718 1146.83 L400.982 1145.17 L405.658 1145.17 L405.658 1175.79 L413.297 1175.79 L413.297 1179.73 L393.389 1179.73 L393.389 1175.79 Z\" fill=\"#000000\" fill-rule=\"evenodd\" fill-opacity=\"1\" /><path clip-path=\"url(#clip740)\" d=\"M542.729 1175.79 L559.048 1175.79 L559.048 1179.73 L537.104 1179.73 L537.104 1175.79 Q539.766 1173.04 544.349 1168.41 Q548.955 1163.76 550.136 1162.41 Q552.381 1159.89 553.261 1158.15 Q554.164 1156.39 554.164 1154.7 Q554.164 1151.95 552.219 1150.21 Q550.298 1148.48 547.196 1148.48 Q544.997 1148.48 542.543 1149.24 Q540.113 1150.01 537.335 1151.56 L537.335 1146.83 Q540.159 1145.7 542.613 1145.12 Q545.067 1144.54 547.104 1144.54 Q552.474 1144.54 555.668 1147.23 Q558.863 1149.91 558.863 1154.4 Q558.863 1156.53 558.053 1158.45 Q557.266 1160.35 555.159 1162.95 Q554.58 1163.62 551.479 1166.83 Q548.377 1170.03 542.729 1175.79 Z\" fill=\"#000000\" fill-rule=\"evenodd\" fill-opacity=\"1\" /><path clip-path=\"url(#clip740)\" d=\"M578.863 1148.25 Q575.252 1148.25 573.423 1151.81 Q571.617 1155.35 571.617 1162.48 Q571.617 1169.59 573.423 1173.15 Q575.252 1176.7 578.863 1176.7 Q582.497 1176.7 584.302 1173.15 Q586.131 1169.59 586.131 1162.48 Q586.131 1155.35 584.302 1151.81 Q582.497 1148.25 578.863 1148.25 M578.863 1144.54 Q584.673 1144.54 587.728 1149.15 Q590.807 1153.73 590.807 1162.48 Q590.807 1171.21 587.728 1175.82 Q584.673 1180.4 578.863 1180.4 Q573.052 1180.4 569.974 1175.82 Q566.918 1171.21 566.918 1162.48 Q566.918 1153.73 569.974 1149.15 Q573.052 1144.54 578.863 1144.54 Z\" fill=\"#000000\" fill-rule=\"evenodd\" fill-opacity=\"1\" /><path clip-path=\"url(#clip740)\" d=\"M603.052 1175.79 L619.372 1175.79 L619.372 1179.73 L597.427 1179.73 L597.427 1175.79 Q600.089 1173.04 604.673 1168.41 Q609.279 1163.76 610.46 1162.41 Q612.705 1159.89 613.585 1158.15 Q614.487 1156.39 614.487 1154.7 Q614.487 1151.95 612.543 1150.21 Q610.622 1148.48 607.52 1148.48 Q605.321 1148.48 602.867 1149.24 Q600.437 1150.01 597.659 1151.56 L597.659 1146.83 Q600.483 1145.7 602.937 1145.12 Q605.39 1144.54 607.427 1144.54 Q612.798 1144.54 615.992 1147.23 Q619.186 1149.91 619.186 1154.4 Q619.186 1156.53 618.376 1158.45 Q617.589 1160.35 615.483 1162.95 Q614.904 1163.62 611.802 1166.83 Q608.7 1170.03 603.052 1175.79 Z\" fill=\"#000000\" fill-rule=\"evenodd\" fill-opacity=\"1\" /><path clip-path=\"url(#clip740)\" d=\"M639.186 1148.25 Q635.575 1148.25 633.747 1151.81 Q631.941 1155.35 631.941 1162.48 Q631.941 1169.59 633.747 1173.15 Q635.575 1176.7 639.186 1176.7 Q642.821 1176.7 644.626 1173.15 Q646.455 1169.59 646.455 1162.48 Q646.455 1155.35 644.626 1151.81 Q642.821 1148.25 639.186 1148.25 M639.186 1144.54 Q644.997 1144.54 648.052 1149.15 Q651.131 1153.73 651.131 1162.48 Q651.131 1171.21 648.052 1175.82 Q644.997 1180.4 639.186 1180.4 Q633.376 1180.4 630.298 1175.82 Q627.242 1171.21 627.242 1162.48 Q627.242 1153.73 630.298 1149.15 Q633.376 1144.54 639.186 1144.54 Z\" fill=\"#000000\" fill-rule=\"evenodd\" fill-opacity=\"1\" /><path clip-path=\"url(#clip740)\" d=\"M656.594 1164.84 L669.07 1164.84 L669.07 1168.64 L656.594 1168.64 L656.594 1164.84 Z\" fill=\"#000000\" fill-rule=\"evenodd\" fill-opacity=\"1\" /><path clip-path=\"url(#clip740)\" d=\"M677.265 1175.79 L684.904 1175.79 L684.904 1149.43 L676.594 1151.09 L676.594 1146.83 L684.857 1145.17 L689.533 1145.17 L689.533 1175.79 L697.172 1175.79 L697.172 1179.73 L677.265 1179.73 L677.265 1175.79 Z\" fill=\"#000000\" fill-rule=\"evenodd\" fill-opacity=\"1\" /><path clip-path=\"url(#clip740)\" d=\"M710.644 1175.79 L726.964 1175.79 L726.964 1179.73 L705.019 1179.73 L705.019 1175.79 Q707.681 1173.04 712.265 1168.41 Q716.871 1163.76 718.052 1162.41 Q720.297 1159.89 721.177 1158.15 Q722.079 1156.39 722.079 1154.7 Q722.079 1151.95 720.135 1150.21 Q718.214 1148.48 715.112 1148.48 Q712.913 1148.48 710.459 1149.24 Q708.029 1150.01 705.251 1151.56 L705.251 1146.83 Q708.075 1145.7 710.529 1145.12 Q712.982 1144.54 715.019 1144.54 Q720.39 1144.54 723.584 1147.23 Q726.778 1149.91 726.778 1154.4 Q726.778 1156.53 725.968 1158.45 Q725.181 1160.35 723.075 1162.95 Q722.496 1163.62 719.394 1166.83 Q716.292 1170.03 710.644 1175.79 Z\" fill=\"#000000\" fill-rule=\"evenodd\" fill-opacity=\"1\" /><path clip-path=\"url(#clip740)\" d=\"M734.024 1164.84 L746.501 1164.84 L746.501 1168.64 L734.024 1168.64 L734.024 1164.84 Z\" fill=\"#000000\" fill-rule=\"evenodd\" fill-opacity=\"1\" /><path clip-path=\"url(#clip740)\" d=\"M763.885 1148.25 Q760.274 1148.25 758.445 1151.81 Q756.639 1155.35 756.639 1162.48 Q756.639 1169.59 758.445 1173.15 Q760.274 1176.7 763.885 1176.7 Q767.519 1176.7 769.325 1173.15 Q771.153 1169.59 771.153 1162.48 Q771.153 1155.35 769.325 1151.81 Q767.519 1148.25 763.885 1148.25 M763.885 1144.54 Q769.695 1144.54 772.75 1149.15 Q775.829 1153.73 775.829 1162.48 Q775.829 1171.21 772.75 1175.82 Q769.695 1180.4 763.885 1180.4 Q758.075 1180.4 754.996 1175.82 Q751.94 1171.21 751.94 1162.48 Q751.94 1153.73 754.996 1149.15 Q758.075 1144.54 763.885 1144.54 Z\" fill=\"#000000\" fill-rule=\"evenodd\" fill-opacity=\"1\" /><path clip-path=\"url(#clip740)\" d=\"M784.857 1175.79 L792.496 1175.79 L792.496 1149.43 L784.186 1151.09 L784.186 1146.83 L792.449 1145.17 L797.125 1145.17 L797.125 1175.79 L804.764 1175.79 L804.764 1179.73 L784.857 1179.73 L784.857 1175.79 Z\" fill=\"#000000\" fill-rule=\"evenodd\" fill-opacity=\"1\" /><path clip-path=\"url(#clip740)\" d=\"M929.079 1175.79 L945.398 1175.79 L945.398 1179.73 L923.454 1179.73 L923.454 1175.79 Q926.116 1173.04 930.699 1168.41 Q935.306 1163.76 936.486 1162.41 Q938.732 1159.89 939.611 1158.15 Q940.514 1156.39 940.514 1154.7 Q940.514 1151.95 938.57 1150.21 Q936.648 1148.48 933.546 1148.48 Q931.347 1148.48 928.894 1149.24 Q926.463 1150.01 923.685 1151.56 L923.685 1146.83 Q926.509 1145.7 928.963 1145.12 Q931.417 1144.54 933.454 1144.54 Q938.824 1144.54 942.019 1147.23 Q945.213 1149.91 945.213 1154.4 Q945.213 1156.53 944.403 1158.45 Q943.616 1160.35 941.509 1162.95 Q940.931 1163.62 937.829 1166.83 Q934.727 1170.03 929.079 1175.79 Z\" fill=\"#000000\" fill-rule=\"evenodd\" fill-opacity=\"1\" /><path clip-path=\"url(#clip740)\" d=\"M965.213 1148.25 Q961.602 1148.25 959.773 1151.81 Q957.968 1155.35 957.968 1162.48 Q957.968 1169.59 959.773 1173.15 Q961.602 1176.7 965.213 1176.7 Q968.847 1176.7 970.653 1173.15 Q972.481 1169.59 972.481 1162.48 Q972.481 1155.35 970.653 1151.81 Q968.847 1148.25 965.213 1148.25 M965.213 1144.54 Q971.023 1144.54 974.079 1149.15 Q977.157 1153.73 977.157 1162.48 Q977.157 1171.21 974.079 1175.82 Q971.023 1180.4 965.213 1180.4 Q959.403 1180.4 956.324 1175.82 Q953.269 1171.21 953.269 1162.48 Q953.269 1153.73 956.324 1149.15 Q959.403 1144.54 965.213 1144.54 Z\" fill=\"#000000\" fill-rule=\"evenodd\" fill-opacity=\"1\" /><path clip-path=\"url(#clip740)\" d=\"M989.403 1175.79 L1005.72 1175.79 L1005.72 1179.73 L983.778 1179.73 L983.778 1175.79 Q986.44 1173.04 991.023 1168.41 Q995.629 1163.76 996.81 1162.41 Q999.055 1159.89 999.935 1158.15 Q1000.84 1156.39 1000.84 1154.7 Q1000.84 1151.95 998.893 1150.21 Q996.972 1148.48 993.87 1148.48 Q991.671 1148.48 989.217 1149.24 Q986.787 1150.01 984.009 1151.56 L984.009 1146.83 Q986.833 1145.7 989.287 1145.12 Q991.741 1144.54 993.778 1144.54 Q999.148 1144.54 1002.34 1147.23 Q1005.54 1149.91 1005.54 1154.4 Q1005.54 1156.53 1004.73 1158.45 Q1003.94 1160.35 1001.83 1162.95 Q1001.25 1163.62 998.153 1166.83 Q995.051 1170.03 989.403 1175.79 Z\" fill=\"#000000\" fill-rule=\"evenodd\" fill-opacity=\"1\" /><path clip-path=\"url(#clip740)\" d=\"M1016.35 1175.79 L1023.99 1175.79 L1023.99 1149.43 L1015.68 1151.09 L1015.68 1146.83 L1023.94 1145.17 L1028.62 1145.17 L1028.62 1175.79 L1036.25 1175.79 L1036.25 1179.73 L1016.35 1179.73 L1016.35 1175.79 Z\" fill=\"#000000\" fill-rule=\"evenodd\" fill-opacity=\"1\" /><path clip-path=\"url(#clip740)\" d=\"M1042.94 1164.84 L1055.42 1164.84 L1055.42 1168.64 L1042.94 1168.64 L1042.94 1164.84 Z\" fill=\"#000000\" fill-rule=\"evenodd\" fill-opacity=\"1\" /><path clip-path=\"url(#clip740)\" d=\"M1072.8 1148.25 Q1069.19 1148.25 1067.37 1151.81 Q1065.56 1155.35 1065.56 1162.48 Q1065.56 1169.59 1067.37 1173.15 Q1069.19 1176.7 1072.8 1176.7 Q1076.44 1176.7 1078.24 1173.15 Q1080.07 1169.59 1080.07 1162.48 Q1080.07 1155.35 1078.24 1151.81 Q1076.44 1148.25 1072.8 1148.25 M1072.8 1144.54 Q1078.62 1144.54 1081.67 1149.15 Q1084.75 1153.73 1084.75 1162.48 Q1084.75 1171.21 1081.67 1175.82 Q1078.62 1180.4 1072.8 1180.4 Q1066.99 1180.4 1063.92 1175.82 Q1060.86 1171.21 1060.86 1162.48 Q1060.86 1153.73 1063.92 1149.15 Q1066.99 1144.54 1072.8 1144.54 Z\" fill=\"#000000\" fill-rule=\"evenodd\" fill-opacity=\"1\" /><path clip-path=\"url(#clip740)\" d=\"M1093.01 1145.17 L1111.37 1145.17 L1111.37 1149.1 L1097.3 1149.1 L1097.3 1157.58 Q1098.31 1157.23 1099.33 1157.07 Q1100.35 1156.88 1101.37 1156.88 Q1107.16 1156.88 1110.54 1160.05 Q1113.92 1163.22 1113.92 1168.64 Q1113.92 1174.22 1110.44 1177.32 Q1106.97 1180.4 1100.65 1180.4 Q1098.48 1180.4 1096.21 1180.03 Q1093.96 1179.66 1091.55 1178.92 L1091.55 1174.22 Q1093.64 1175.35 1095.86 1175.91 Q1098.08 1176.46 1100.56 1176.46 Q1104.56 1176.46 1106.9 1174.36 Q1109.24 1172.25 1109.24 1168.64 Q1109.24 1165.03 1106.9 1162.92 Q1104.56 1160.82 1100.56 1160.82 Q1098.68 1160.82 1096.81 1161.23 Q1094.96 1161.65 1093.01 1162.53 L1093.01 1145.17 Z\" fill=\"#000000\" fill-rule=\"evenodd\" fill-opacity=\"1\" /><path clip-path=\"url(#clip740)\" d=\"M1120.37 1164.84 L1132.85 1164.84 L1132.85 1168.64 L1120.37 1168.64 L1120.37 1164.84 Z\" fill=\"#000000\" fill-rule=\"evenodd\" fill-opacity=\"1\" /><path clip-path=\"url(#clip740)\" d=\"M1150.24 1148.25 Q1146.62 1148.25 1144.8 1151.81 Q1142.99 1155.35 1142.99 1162.48 Q1142.99 1169.59 1144.8 1173.15 Q1146.62 1176.7 1150.24 1176.7 Q1153.87 1176.7 1155.67 1173.15 Q1157.5 1169.59 1157.5 1162.48 Q1157.5 1155.35 1155.67 1151.81 Q1153.87 1148.25 1150.24 1148.25 M1150.24 1144.54 Q1156.05 1144.54 1159.1 1149.15 Q1162.18 1153.73 1162.18 1162.48 Q1162.18 1171.21 1159.1 1175.82 Q1156.05 1180.4 1150.24 1180.4 Q1144.42 1180.4 1141.35 1175.82 Q1138.29 1171.21 1138.29 1162.48 Q1138.29 1153.73 1141.35 1149.15 Q1144.42 1144.54 1150.24 1144.54 Z\" fill=\"#000000\" fill-rule=\"evenodd\" fill-opacity=\"1\" /><path clip-path=\"url(#clip740)\" d=\"M1171.21 1175.79 L1178.85 1175.79 L1178.85 1149.43 L1170.54 1151.09 L1170.54 1146.83 L1178.8 1145.17 L1183.48 1145.17 L1183.48 1175.79 L1191.11 1175.79 L1191.11 1179.73 L1171.21 1179.73 L1171.21 1175.79 Z\" fill=\"#000000\" fill-rule=\"evenodd\" fill-opacity=\"1\" /><path clip-path=\"url(#clip740)\" d=\"M1320.55 1175.79 L1336.87 1175.79 L1336.87 1179.73 L1314.92 1179.73 L1314.92 1175.79 Q1317.58 1173.04 1322.17 1168.41 Q1326.77 1163.76 1327.95 1162.41 Q1330.2 1159.89 1331.08 1158.15 Q1331.98 1156.39 1331.98 1154.7 Q1331.98 1151.95 1330.04 1150.21 Q1328.12 1148.48 1325.01 1148.48 Q1322.81 1148.48 1320.36 1149.24 Q1317.93 1150.01 1315.15 1151.56 L1315.15 1146.83 Q1317.98 1145.7 1320.43 1145.12 Q1322.88 1144.54 1324.92 1144.54 Q1330.29 1144.54 1333.49 1147.23 Q1336.68 1149.91 1336.68 1154.4 Q1336.68 1156.53 1335.87 1158.45 Q1335.08 1160.35 1332.98 1162.95 Q1332.4 1163.62 1329.3 1166.83 Q1326.19 1170.03 1320.55 1175.79 Z\" fill=\"#000000\" fill-rule=\"evenodd\" fill-opacity=\"1\" /><path clip-path=\"url(#clip740)\" d=\"M1356.68 1148.25 Q1353.07 1148.25 1351.24 1151.81 Q1349.44 1155.35 1349.44 1162.48 Q1349.44 1169.59 1351.24 1173.15 Q1353.07 1176.7 1356.68 1176.7 Q1360.31 1176.7 1362.12 1173.15 Q1363.95 1169.59 1363.95 1162.48 Q1363.95 1155.35 1362.12 1151.81 Q1360.31 1148.25 1356.68 1148.25 M1356.68 1144.54 Q1362.49 1144.54 1365.55 1149.15 Q1368.62 1153.73 1368.62 1162.48 Q1368.62 1171.21 1365.55 1175.82 Q1362.49 1180.4 1356.68 1180.4 Q1350.87 1180.4 1347.79 1175.82 Q1344.74 1171.21 1344.74 1162.48 Q1344.74 1153.73 1347.79 1149.15 Q1350.87 1144.54 1356.68 1144.54 Z\" fill=\"#000000\" fill-rule=\"evenodd\" fill-opacity=\"1\" /><path clip-path=\"url(#clip740)\" d=\"M1380.87 1175.79 L1397.19 1175.79 L1397.19 1179.73 L1375.25 1179.73 L1375.25 1175.79 Q1377.91 1173.04 1382.49 1168.41 Q1387.1 1163.76 1388.28 1162.41 Q1390.52 1159.89 1391.4 1158.15 Q1392.31 1156.39 1392.31 1154.7 Q1392.31 1151.95 1390.36 1150.21 Q1388.44 1148.48 1385.34 1148.48 Q1383.14 1148.48 1380.69 1149.24 Q1378.25 1150.01 1375.48 1151.56 L1375.48 1146.83 Q1378.3 1145.7 1380.75 1145.12 Q1383.21 1144.54 1385.25 1144.54 Q1390.62 1144.54 1393.81 1147.23 Q1397 1149.91 1397 1154.4 Q1397 1156.53 1396.19 1158.45 Q1395.41 1160.35 1393.3 1162.95 Q1392.72 1163.62 1389.62 1166.83 Q1386.52 1170.03 1380.87 1175.79 Z\" fill=\"#000000\" fill-rule=\"evenodd\" fill-opacity=\"1\" /><path clip-path=\"url(#clip740)\" d=\"M1407.81 1175.79 L1415.45 1175.79 L1415.45 1149.43 L1407.14 1151.09 L1407.14 1146.83 L1415.41 1145.17 L1420.08 1145.17 L1420.08 1175.79 L1427.72 1175.79 L1427.72 1179.73 L1407.81 1179.73 L1407.81 1175.79 Z\" fill=\"#000000\" fill-rule=\"evenodd\" fill-opacity=\"1\" /><path clip-path=\"url(#clip740)\" d=\"M1434.41 1164.84 L1446.89 1164.84 L1446.89 1168.64 L1434.41 1168.64 L1434.41 1164.84 Z\" fill=\"#000000\" fill-rule=\"evenodd\" fill-opacity=\"1\" /><path clip-path=\"url(#clip740)\" d=\"M1455.08 1175.79 L1462.72 1175.79 L1462.72 1149.43 L1454.41 1151.09 L1454.41 1146.83 L1462.68 1145.17 L1467.35 1145.17 L1467.35 1175.79 L1474.99 1175.79 L1474.99 1179.73 L1455.08 1179.73 L1455.08 1175.79 Z\" fill=\"#000000\" fill-rule=\"evenodd\" fill-opacity=\"1\" /><path clip-path=\"url(#clip740)\" d=\"M1494.43 1148.25 Q1490.82 1148.25 1488.99 1151.81 Q1487.19 1155.35 1487.19 1162.48 Q1487.19 1169.59 1488.99 1173.15 Q1490.82 1176.7 1494.43 1176.7 Q1498.07 1176.7 1499.87 1173.15 Q1501.7 1169.59 1501.7 1162.48 Q1501.7 1155.35 1499.87 1151.81 Q1498.07 1148.25 1494.43 1148.25 M1494.43 1144.54 Q1500.24 1144.54 1503.3 1149.15 Q1506.38 1153.73 1506.38 1162.48 Q1506.38 1171.21 1503.3 1175.82 Q1500.24 1180.4 1494.43 1180.4 Q1488.62 1180.4 1485.55 1175.82 Q1482.49 1171.21 1482.49 1162.48 Q1482.49 1153.73 1485.55 1149.15 Q1488.62 1144.54 1494.43 1144.54 Z\" fill=\"#000000\" fill-rule=\"evenodd\" fill-opacity=\"1\" /><path clip-path=\"url(#clip740)\" d=\"M1511.84 1164.84 L1524.32 1164.84 L1524.32 1168.64 L1511.84 1168.64 L1511.84 1164.84 Z\" fill=\"#000000\" fill-rule=\"evenodd\" fill-opacity=\"1\" /><path clip-path=\"url(#clip740)\" d=\"M1541.7 1148.25 Q1538.09 1148.25 1536.26 1151.81 Q1534.46 1155.35 1534.46 1162.48 Q1534.46 1169.59 1536.26 1173.15 Q1538.09 1176.7 1541.7 1176.7 Q1545.34 1176.7 1547.14 1173.15 Q1548.97 1169.59 1548.97 1162.48 Q1548.97 1155.35 1547.14 1151.81 Q1545.34 1148.25 1541.7 1148.25 M1541.7 1144.54 Q1547.51 1144.54 1550.57 1149.15 Q1553.65 1153.73 1553.65 1162.48 Q1553.65 1171.21 1550.57 1175.82 Q1547.51 1180.4 1541.7 1180.4 Q1535.89 1180.4 1532.81 1175.82 Q1529.76 1171.21 1529.76 1162.48 Q1529.76 1153.73 1532.81 1149.15 Q1535.89 1144.54 1541.7 1144.54 Z\" fill=\"#000000\" fill-rule=\"evenodd\" fill-opacity=\"1\" /><path clip-path=\"url(#clip740)\" d=\"M1562.67 1175.79 L1570.31 1175.79 L1570.31 1149.43 L1562 1151.09 L1562 1146.83 L1570.27 1145.17 L1574.94 1145.17 L1574.94 1175.79 L1582.58 1175.79 L1582.58 1179.73 L1562.67 1179.73 L1562.67 1175.79 Z\" fill=\"#000000\" fill-rule=\"evenodd\" fill-opacity=\"1\" /><polyline clip-path=\"url(#clip742)\" style=\"stroke:#000000; stroke-linecap:butt; stroke-linejoin:round; stroke-width:2; stroke-opacity:0.1; fill:none\" points=\"\n  236.098,1020.01 1768.45,1020.01 \n  \"/>\n<polyline clip-path=\"url(#clip742)\" style=\"stroke:#000000; stroke-linecap:butt; stroke-linejoin:round; stroke-width:2; stroke-opacity:0.1; fill:none\" points=\"\n  236.098,779.543 1768.45,779.543 \n  \"/>\n<polyline clip-path=\"url(#clip742)\" style=\"stroke:#000000; stroke-linecap:butt; stroke-linejoin:round; stroke-width:2; stroke-opacity:0.1; fill:none\" points=\"\n  236.098,539.076 1768.45,539.076 \n  \"/>\n<polyline clip-path=\"url(#clip742)\" style=\"stroke:#000000; stroke-linecap:butt; stroke-linejoin:round; stroke-width:2; stroke-opacity:0.1; fill:none\" points=\"\n  236.098,298.609 1768.45,298.609 \n  \"/>\n<polyline clip-path=\"url(#clip742)\" style=\"stroke:#000000; stroke-linecap:butt; stroke-linejoin:round; stroke-width:2; stroke-opacity:0.1; fill:none\" points=\"\n  236.098,58.1423 1768.45,58.1423 \n  \"/>\n<polyline clip-path=\"url(#clip740)\" style=\"stroke:#000000; stroke-linecap:butt; stroke-linejoin:round; stroke-width:4; stroke-opacity:1; fill:none\" points=\"\n  236.098,1107.73 236.098,47.2441 \n  \"/>\n<polyline clip-path=\"url(#clip740)\" style=\"stroke:#000000; stroke-linecap:butt; stroke-linejoin:round; stroke-width:4; stroke-opacity:1; fill:none\" points=\"\n  236.098,1020.01 254.996,1020.01 \n  \"/>\n<polyline clip-path=\"url(#clip740)\" style=\"stroke:#000000; stroke-linecap:butt; stroke-linejoin:round; stroke-width:4; stroke-opacity:1; fill:none\" points=\"\n  236.098,779.543 254.996,779.543 \n  \"/>\n<polyline clip-path=\"url(#clip740)\" style=\"stroke:#000000; stroke-linecap:butt; stroke-linejoin:round; stroke-width:4; stroke-opacity:1; fill:none\" points=\"\n  236.098,539.076 254.996,539.076 \n  \"/>\n<polyline clip-path=\"url(#clip740)\" style=\"stroke:#000000; stroke-linecap:butt; stroke-linejoin:round; stroke-width:4; stroke-opacity:1; fill:none\" points=\"\n  236.098,298.609 254.996,298.609 \n  \"/>\n<polyline clip-path=\"url(#clip740)\" style=\"stroke:#000000; stroke-linecap:butt; stroke-linejoin:round; stroke-width:4; stroke-opacity:1; fill:none\" points=\"\n  236.098,58.1423 254.996,58.1423 \n  \"/>\n<path clip-path=\"url(#clip740)\" d=\"M44.9921 1020.46 L74.6679 1020.46 L74.6679 1024.4 L44.9921 1024.4 L44.9921 1020.46 Z\" fill=\"#000000\" fill-rule=\"evenodd\" fill-opacity=\"1\" /><path clip-path=\"url(#clip740)\" d=\"M94.7604 1005.81 Q91.1493 1005.81 89.3206 1009.37 Q87.515 1012.92 87.515 1020.04 Q87.515 1027.15 89.3206 1030.72 Q91.1493 1034.26 94.7604 1034.26 Q98.3946 1034.26 100.2 1030.72 Q102.029 1027.15 102.029 1020.04 Q102.029 1012.92 100.2 1009.37 Q98.3946 1005.81 94.7604 1005.81 M94.7604 1002.1 Q100.571 1002.1 103.626 1006.71 Q106.705 1011.29 106.705 1020.04 Q106.705 1028.77 103.626 1033.38 Q100.571 1037.96 94.7604 1037.96 Q88.9502 1037.96 85.8715 1033.38 Q82.816 1028.77 82.816 1020.04 Q82.816 1011.29 85.8715 1006.71 Q88.9502 1002.1 94.7604 1002.1 Z\" fill=\"#000000\" fill-rule=\"evenodd\" fill-opacity=\"1\" /><path clip-path=\"url(#clip740)\" d=\"M114.922 1031.41 L119.807 1031.41 L119.807 1037.29 L114.922 1037.29 L114.922 1031.41 Z\" fill=\"#000000\" fill-rule=\"evenodd\" fill-opacity=\"1\" /><path clip-path=\"url(#clip740)\" d=\"M130.802 1033.35 L138.441 1033.35 L138.441 1006.99 L130.131 1008.66 L130.131 1004.4 L138.394 1002.73 L143.07 1002.73 L143.07 1033.35 L150.709 1033.35 L150.709 1037.29 L130.802 1037.29 L130.802 1033.35 Z\" fill=\"#000000\" fill-rule=\"evenodd\" fill-opacity=\"1\" /><path clip-path=\"url(#clip740)\" d=\"M170.153 1005.81 Q166.542 1005.81 164.714 1009.37 Q162.908 1012.92 162.908 1020.04 Q162.908 1027.15 164.714 1030.72 Q166.542 1034.26 170.153 1034.26 Q173.788 1034.26 175.593 1030.72 Q177.422 1027.15 177.422 1020.04 Q177.422 1012.92 175.593 1009.37 Q173.788 1005.81 170.153 1005.81 M170.153 1002.1 Q175.964 1002.1 179.019 1006.71 Q182.098 1011.29 182.098 1020.04 Q182.098 1028.77 179.019 1033.38 Q175.964 1037.96 170.153 1037.96 Q164.343 1037.96 161.265 1033.38 Q158.209 1028.77 158.209 1020.04 Q158.209 1011.29 161.265 1006.71 Q164.343 1002.1 170.153 1002.1 Z\" fill=\"#000000\" fill-rule=\"evenodd\" fill-opacity=\"1\" /><path clip-path=\"url(#clip740)\" d=\"M45.9875 779.994 L75.6633 779.994 L75.6633 783.93 L45.9875 783.93 L45.9875 779.994 Z\" fill=\"#000000\" fill-rule=\"evenodd\" fill-opacity=\"1\" /><path clip-path=\"url(#clip740)\" d=\"M95.7557 765.342 Q92.1447 765.342 90.316 768.907 Q88.5104 772.448 88.5104 779.578 Q88.5104 786.684 90.316 790.249 Q92.1447 793.791 95.7557 793.791 Q99.39 793.791 101.196 790.249 Q103.024 786.684 103.024 779.578 Q103.024 772.448 101.196 768.907 Q99.39 765.342 95.7557 765.342 M95.7557 761.638 Q101.566 761.638 104.621 766.245 Q107.7 770.828 107.7 779.578 Q107.7 788.305 104.621 792.911 Q101.566 797.494 95.7557 797.494 Q89.9456 797.494 86.8669 792.911 Q83.8114 788.305 83.8114 779.578 Q83.8114 770.828 86.8669 766.245 Q89.9456 761.638 95.7557 761.638 Z\" fill=\"#000000\" fill-rule=\"evenodd\" fill-opacity=\"1\" /><path clip-path=\"url(#clip740)\" d=\"M115.918 790.943 L120.802 790.943 L120.802 796.823 L115.918 796.823 L115.918 790.943 Z\" fill=\"#000000\" fill-rule=\"evenodd\" fill-opacity=\"1\" /><path clip-path=\"url(#clip740)\" d=\"M140.987 765.342 Q137.376 765.342 135.547 768.907 Q133.742 772.448 133.742 779.578 Q133.742 786.684 135.547 790.249 Q137.376 793.791 140.987 793.791 Q144.621 793.791 146.427 790.249 Q148.255 786.684 148.255 779.578 Q148.255 772.448 146.427 768.907 Q144.621 765.342 140.987 765.342 M140.987 761.638 Q146.797 761.638 149.853 766.245 Q152.931 770.828 152.931 779.578 Q152.931 788.305 149.853 792.911 Q146.797 797.494 140.987 797.494 Q135.177 797.494 132.098 792.911 Q129.043 788.305 129.043 779.578 Q129.043 770.828 132.098 766.245 Q135.177 761.638 140.987 761.638 Z\" fill=\"#000000\" fill-rule=\"evenodd\" fill-opacity=\"1\" /><path clip-path=\"url(#clip740)\" d=\"M161.195 762.263 L179.552 762.263 L179.552 766.198 L165.478 766.198 L165.478 774.67 Q166.496 774.323 167.515 774.161 Q168.533 773.976 169.552 773.976 Q175.339 773.976 178.718 777.147 Q182.098 780.319 182.098 785.735 Q182.098 791.314 178.626 794.416 Q175.153 797.494 168.834 797.494 Q166.658 797.494 164.39 797.124 Q162.144 796.754 159.737 796.013 L159.737 791.314 Q161.82 792.448 164.042 793.004 Q166.265 793.559 168.741 793.559 Q172.746 793.559 175.084 791.453 Q177.422 789.346 177.422 785.735 Q177.422 782.124 175.084 780.018 Q172.746 777.911 168.741 777.911 Q166.866 777.911 164.991 778.328 Q163.14 778.744 161.195 779.624 L161.195 762.263 Z\" fill=\"#000000\" fill-rule=\"evenodd\" fill-opacity=\"1\" /><path clip-path=\"url(#clip740)\" d=\"M94.7604 524.875 Q91.1493 524.875 89.3206 528.44 Q87.515 531.981 87.515 539.111 Q87.515 546.217 89.3206 549.782 Q91.1493 553.324 94.7604 553.324 Q98.3946 553.324 100.2 549.782 Q102.029 546.217 102.029 539.111 Q102.029 531.981 100.2 528.44 Q98.3946 524.875 94.7604 524.875 M94.7604 521.171 Q100.571 521.171 103.626 525.778 Q106.705 530.361 106.705 539.111 Q106.705 547.838 103.626 552.444 Q100.571 557.027 94.7604 557.027 Q88.9502 557.027 85.8715 552.444 Q82.816 547.838 82.816 539.111 Q82.816 530.361 85.8715 525.778 Q88.9502 521.171 94.7604 521.171 Z\" fill=\"#000000\" fill-rule=\"evenodd\" fill-opacity=\"1\" /><path clip-path=\"url(#clip740)\" d=\"M114.922 550.477 L119.807 550.477 L119.807 556.356 L114.922 556.356 L114.922 550.477 Z\" fill=\"#000000\" fill-rule=\"evenodd\" fill-opacity=\"1\" /><path clip-path=\"url(#clip740)\" d=\"M139.992 524.875 Q136.381 524.875 134.552 528.44 Q132.746 531.981 132.746 539.111 Q132.746 546.217 134.552 549.782 Q136.381 553.324 139.992 553.324 Q143.626 553.324 145.431 549.782 Q147.26 546.217 147.26 539.111 Q147.26 531.981 145.431 528.44 Q143.626 524.875 139.992 524.875 M139.992 521.171 Q145.802 521.171 148.857 525.778 Q151.936 530.361 151.936 539.111 Q151.936 547.838 148.857 552.444 Q145.802 557.027 139.992 557.027 Q134.181 557.027 131.103 552.444 Q128.047 547.838 128.047 539.111 Q128.047 530.361 131.103 525.778 Q134.181 521.171 139.992 521.171 Z\" fill=\"#000000\" fill-rule=\"evenodd\" fill-opacity=\"1\" /><path clip-path=\"url(#clip740)\" d=\"M170.153 524.875 Q166.542 524.875 164.714 528.44 Q162.908 531.981 162.908 539.111 Q162.908 546.217 164.714 549.782 Q166.542 553.324 170.153 553.324 Q173.788 553.324 175.593 549.782 Q177.422 546.217 177.422 539.111 Q177.422 531.981 175.593 528.44 Q173.788 524.875 170.153 524.875 M170.153 521.171 Q175.964 521.171 179.019 525.778 Q182.098 530.361 182.098 539.111 Q182.098 547.838 179.019 552.444 Q175.964 557.027 170.153 557.027 Q164.343 557.027 161.265 552.444 Q158.209 547.838 158.209 539.111 Q158.209 530.361 161.265 525.778 Q164.343 521.171 170.153 521.171 Z\" fill=\"#000000\" fill-rule=\"evenodd\" fill-opacity=\"1\" /><path clip-path=\"url(#clip740)\" d=\"M95.7557 284.408 Q92.1447 284.408 90.316 287.973 Q88.5104 291.514 88.5104 298.644 Q88.5104 305.75 90.316 309.315 Q92.1447 312.857 95.7557 312.857 Q99.39 312.857 101.196 309.315 Q103.024 305.75 103.024 298.644 Q103.024 291.514 101.196 287.973 Q99.39 284.408 95.7557 284.408 M95.7557 280.704 Q101.566 280.704 104.621 285.311 Q107.7 289.894 107.7 298.644 Q107.7 307.371 104.621 311.977 Q101.566 316.56 95.7557 316.56 Q89.9456 316.56 86.8669 311.977 Q83.8114 307.371 83.8114 298.644 Q83.8114 289.894 86.8669 285.311 Q89.9456 280.704 95.7557 280.704 Z\" fill=\"#000000\" fill-rule=\"evenodd\" fill-opacity=\"1\" /><path clip-path=\"url(#clip740)\" d=\"M115.918 310.01 L120.802 310.01 L120.802 315.889 L115.918 315.889 L115.918 310.01 Z\" fill=\"#000000\" fill-rule=\"evenodd\" fill-opacity=\"1\" /><path clip-path=\"url(#clip740)\" d=\"M140.987 284.408 Q137.376 284.408 135.547 287.973 Q133.742 291.514 133.742 298.644 Q133.742 305.75 135.547 309.315 Q137.376 312.857 140.987 312.857 Q144.621 312.857 146.427 309.315 Q148.255 305.75 148.255 298.644 Q148.255 291.514 146.427 287.973 Q144.621 284.408 140.987 284.408 M140.987 280.704 Q146.797 280.704 149.853 285.311 Q152.931 289.894 152.931 298.644 Q152.931 307.371 149.853 311.977 Q146.797 316.56 140.987 316.56 Q135.177 316.56 132.098 311.977 Q129.043 307.371 129.043 298.644 Q129.043 289.894 132.098 285.311 Q135.177 280.704 140.987 280.704 Z\" fill=\"#000000\" fill-rule=\"evenodd\" fill-opacity=\"1\" /><path clip-path=\"url(#clip740)\" d=\"M161.195 281.329 L179.552 281.329 L179.552 285.264 L165.478 285.264 L165.478 293.737 Q166.496 293.389 167.515 293.227 Q168.533 293.042 169.552 293.042 Q175.339 293.042 178.718 296.213 Q182.098 299.385 182.098 304.801 Q182.098 310.38 178.626 313.482 Q175.153 316.56 168.834 316.56 Q166.658 316.56 164.39 316.19 Q162.144 315.82 159.737 315.079 L159.737 310.38 Q161.82 311.514 164.042 312.07 Q166.265 312.625 168.741 312.625 Q172.746 312.625 175.084 310.519 Q177.422 308.412 177.422 304.801 Q177.422 301.19 175.084 299.084 Q172.746 296.977 168.741 296.977 Q166.866 296.977 164.991 297.394 Q163.14 297.811 161.195 298.69 L161.195 281.329 Z\" fill=\"#000000\" fill-rule=\"evenodd\" fill-opacity=\"1\" /><path clip-path=\"url(#clip740)\" d=\"M94.7604 43.941 Q91.1493 43.941 89.3206 47.5058 Q87.515 51.0474 87.515 58.177 Q87.515 65.2834 89.3206 68.8482 Q91.1493 72.3899 94.7604 72.3899 Q98.3946 72.3899 100.2 68.8482 Q102.029 65.2834 102.029 58.177 Q102.029 51.0474 100.2 47.5058 Q98.3946 43.941 94.7604 43.941 M94.7604 40.2373 Q100.571 40.2373 103.626 44.8437 Q106.705 49.427 106.705 58.177 Q106.705 66.9038 103.626 71.5103 Q100.571 76.0936 94.7604 76.0936 Q88.9502 76.0936 85.8715 71.5103 Q82.816 66.9038 82.816 58.177 Q82.816 49.427 85.8715 44.8437 Q88.9502 40.2373 94.7604 40.2373 Z\" fill=\"#000000\" fill-rule=\"evenodd\" fill-opacity=\"1\" /><path clip-path=\"url(#clip740)\" d=\"M114.922 69.5427 L119.807 69.5427 L119.807 75.4223 L114.922 75.4223 L114.922 69.5427 Z\" fill=\"#000000\" fill-rule=\"evenodd\" fill-opacity=\"1\" /><path clip-path=\"url(#clip740)\" d=\"M130.802 71.4871 L138.441 71.4871 L138.441 45.1215 L130.131 46.7882 L130.131 42.5289 L138.394 40.8623 L143.07 40.8623 L143.07 71.4871 L150.709 71.4871 L150.709 75.4223 L130.802 75.4223 L130.802 71.4871 Z\" fill=\"#000000\" fill-rule=\"evenodd\" fill-opacity=\"1\" /><path clip-path=\"url(#clip740)\" d=\"M170.153 43.941 Q166.542 43.941 164.714 47.5058 Q162.908 51.0474 162.908 58.177 Q162.908 65.2834 164.714 68.8482 Q166.542 72.3899 170.153 72.3899 Q173.788 72.3899 175.593 68.8482 Q177.422 65.2834 177.422 58.177 Q177.422 51.0474 175.593 47.5058 Q173.788 43.941 170.153 43.941 M170.153 40.2373 Q175.964 40.2373 179.019 44.8437 Q182.098 49.427 182.098 58.177 Q182.098 66.9038 179.019 71.5103 Q175.964 76.0936 170.153 76.0936 Q164.343 76.0936 161.265 71.5103 Q158.209 66.9038 158.209 58.177 Q158.209 49.427 161.265 44.8437 Q164.343 40.2373 170.153 40.2373 Z\" fill=\"#000000\" fill-rule=\"evenodd\" fill-opacity=\"1\" /><polyline clip-path=\"url(#clip742)\" style=\"stroke:#0000ff; stroke-linecap:butt; stroke-linejoin:round; stroke-width:4; stroke-opacity:1; fill:none\" points=\"\n  279.466,649.636 282.025,606.404 284.584,605.068 287.142,530.62 289.701,525.884 292.259,580.31 294.818,604.072 297.377,621.539 299.935,588.517 302.494,545.733 \n  305.052,539.762 307.611,569.052 310.17,517.533 312.728,529.026 315.287,517.187 317.846,498.3 320.404,534.631 322.963,490.307 325.521,453.363 328.08,542.224 \n  330.639,540.204 333.197,525.136 335.756,510.618 338.314,454.47 340.873,490.794 343.432,455.286 345.99,428.434 348.549,381.428 351.107,390.555 353.666,348.853 \n  356.225,391.9 358.783,442.022 361.342,431.666 363.901,426.557 366.459,378.875 369.018,382.037 371.576,333.087 374.135,315.934 376.694,345.198 379.252,388.547 \n  381.811,341.221 384.369,310.612 386.928,288.976 389.487,370.557 392.045,409.649 394.604,436.65 397.162,434.228 399.721,437.357 402.28,445.264 404.838,447.352 \n  407.397,451.638 409.956,474.834 412.514,470.899 415.073,499.998 417.631,465.12 420.19,501.464 422.749,519.984 425.307,526.274 427.866,544.47 430.424,606.061 \n  432.983,584.579 435.542,533.141 438.1,550.145 440.659,539.768 443.217,536.43 445.776,446.966 448.335,466.179 450.893,453.791 453.452,386.767 456.011,376.585 \n  458.569,386.656 461.128,317.018 463.686,372.505 466.245,343.223 468.804,359.528 471.362,425.906 473.921,429.74 476.479,431.412 479.038,540.553 481.597,525.584 \n  484.155,556.581 486.714,551.72 489.272,560.828 491.831,532.578 494.39,552.956 496.948,513.56 499.507,538.777 502.066,545.081 504.624,557.45 507.183,541.621 \n  509.741,619.329 512.3,647.529 514.859,673.756 517.417,663.782 519.976,630.1 522.534,626.631 525.093,560.339 527.652,495.278 530.21,500.288 532.769,485.141 \n  535.327,592.272 537.886,640.347 540.445,653.344 543.003,736.862 545.562,838.992 548.121,802.432 550.679,784.048 553.238,637.971 555.796,545.5 558.355,468.542 \n  560.914,387.464 563.472,379.326 566.031,330.068 568.589,290.95 571.148,276.943 573.707,247.331 576.265,221.164 578.824,292.193 581.382,165.058 583.941,261.003 \n  586.5,326.2 589.058,389.054 591.617,479.501 594.176,540.059 596.734,492.092 599.293,536.265 601.851,526.537 604.41,503.378 606.969,482.496 609.527,458.693 \n  612.086,474.327 614.644,430.578 617.203,469.911 619.762,494.216 622.32,512.572 624.879,514.528 627.437,567.084 629.996,566.811 632.555,558.661 635.113,521.973 \n  637.672,503.434 640.231,527.805 642.789,533.757 645.348,523.643 647.906,485.035 650.465,557.061 653.024,527.641 655.582,535.838 658.141,491.986 660.699,543.042 \n  663.258,549.64 665.817,566.595 668.375,507.226 670.934,550.237 673.492,495.883 676.051,464.792 678.61,450.718 681.168,478.257 683.727,441.064 686.286,387.978 \n  688.844,308.189 691.403,343.453 693.961,377.39 696.52,388.078 699.079,381.041 701.637,416.666 704.196,376.252 706.754,383.121 709.313,369.561 711.872,391.698 \n  714.43,374.879 716.989,370.799 719.548,352.167 722.106,299.279 724.665,392.746 727.223,619.239 729.782,1044.46 732.341,1077.71 734.899,878.637 737.458,915.388 \n  740.016,965.311 742.575,916.509 745.134,618.992 747.692,577.765 750.251,604.43 752.809,445.209 755.368,552.542 757.927,582.345 760.485,649.545 763.044,671.071 \n  765.603,77.2578 768.161,175.622 770.72,698.314 773.278,678.083 775.837,749.711 778.396,711.464 780.954,706.508 783.513,352.3 786.071,324.481 788.63,337.766 \n  791.189,324.61 793.747,317.386 796.306,253.197 798.864,277.174 801.423,406.18 803.982,459.455 806.54,510.637 809.099,508.524 811.658,440.795 814.216,547.109 \n  816.775,533.041 819.333,464.678 821.892,508.293 824.451,530.617 827.009,554.413 829.568,532.254 832.126,565.883 834.685,554.292 837.244,479.662 839.802,450.834 \n  842.361,490.881 844.919,530.7 847.478,534.855 850.037,543.788 852.595,493.28 855.154,512.801 857.713,546.291 860.271,545.894 862.83,504.268 865.388,528.207 \n  867.947,505.244 870.506,532.336 873.064,534.109 875.623,554.993 878.181,496.069 880.74,471.378 883.299,438.328 885.857,457.161 888.416,475.904 890.974,460.651 \n  893.533,411.797 896.092,424.603 898.65,434.296 901.209,441.936 903.768,437.107 906.326,443.324 908.885,455.068 911.443,530.593 914.002,560.78 916.561,523.256 \n  919.119,532.224 921.678,564.66 924.236,552.4 926.795,541.52 929.354,511.99 931.912,467.144 934.471,481.138 937.029,461.061 939.588,434.595 942.147,479.266 \n  944.705,508.625 947.264,524.248 949.823,542.653 952.381,536.051 954.94,541.318 957.498,534.92 960.057,514.905 962.616,547.246 965.174,496.936 967.733,581.443 \n  970.291,588.909 972.85,539.906 975.409,481.751 977.967,452.479 980.526,755.247 983.084,805.441 985.643,501.945 988.202,352.284 990.76,574.159 993.319,481.424 \n  995.878,617.317 998.436,314.448 1000.99,302.319 1003.55,450.06 1006.11,586.642 1008.67,442.202 1011.23,605.766 1013.79,515.678 1016.35,506.758 1018.91,557.847 \n  1021.46,573.964 1024.02,546.797 1026.58,556.074 1029.14,545.587 1031.7,520.523 1034.26,449.98 1036.82,490.748 1039.37,550.11 1041.93,536.947 1044.49,563.349 \n  1047.05,577.377 1049.61,547.451 1052.17,529.982 1054.73,711.766 1057.28,573.711 1059.84,544.021 1062.4,551.517 1064.96,545.511 1067.52,494.744 1070.08,508.611 \n  1072.64,292.877 1075.19,486.574 1077.75,496.699 1080.31,468.882 1082.87,466.465 1085.43,450.847 1087.99,739.603 1090.55,660.223 1093.1,559.804 1095.66,518.641 \n  1098.22,564.278 1100.78,609.937 1103.34,716.383 1105.9,398.878 1108.46,470.942 1111.02,642.079 1113.57,676.504 1116.13,764.561 1118.69,572.315 1121.25,642.506 \n  1123.81,598.666 1126.37,683.936 1128.93,622.598 1131.48,588.035 1134.04,532.163 1136.6,736.964 1139.16,597.702 1141.72,594.918 1144.28,591.879 1146.84,617.16 \n  1149.39,608.3 1151.95,654.957 1154.51,661.247 1157.07,704.262 1159.63,738.39 1162.19,754.834 1164.75,667.583 1167.3,721.904 1169.86,754.117 1172.42,670.124 \n  1174.98,676.544 1177.54,838.74 1180.1,718.162 1182.66,593.893 1185.21,595.328 1187.77,680.807 1190.33,676.554 1192.89,659.441 1195.45,511.964 1198.01,500.35 \n  1200.57,526.08 1203.13,620.486 1205.68,531.371 1208.24,495.23 1210.8,419.081 1213.36,408.817 1215.92,347.937 1218.48,410.412 1221.04,418.624 1223.59,424.203 \n  1226.15,450.267 1228.71,522.448 1231.27,633.701 1233.83,550.486 1236.39,495.537 1238.95,565.066 1241.5,602.747 1244.06,599.863 1246.62,582.299 1249.18,613.75 \n  1251.74,612.287 1254.3,551.403 1256.86,534.36 1259.41,568.168 1261.97,616.575 1264.53,660.996 1267.09,767.181 1269.65,751.245 1272.21,725.365 1274.77,686.989 \n  1277.32,680.01 1279.88,661.982 1282.44,623.693 1285,635.384 1287.56,599.723 1290.12,531.136 1292.68,602.356 1295.24,653.142 1297.79,633.453 1300.35,638.244 \n  1302.91,618.833 1305.47,524.883 1308.03,490.589 1310.59,477.754 1313.15,506.374 1315.7,503.395 1318.26,544.183 1320.82,501.953 1323.38,585.975 1325.94,683.377 \n  1328.5,561.44 1331.06,437.996 1333.61,383.474 1336.17,373.449 1338.73,394.088 1341.29,458.631 1343.85,507.318 1346.41,513.047 1348.97,430.136 1351.52,468.074 \n  1354.08,430.672 1356.64,484.711 1359.2,527.071 1361.76,547.919 1364.32,576.423 1366.88,631.047 1369.43,625.766 1371.99,741.465 1374.55,747.876 1377.11,770.962 \n  1379.67,691.924 1382.23,704.07 1384.79,666.245 1387.35,703.521 1389.9,691.462 1392.46,735.947 1395.02,673.868 1397.58,617.177 1400.14,670.092 1402.7,738.206 \n  1405.26,703.981 1407.81,680.029 1410.37,669.631 1412.93,688.658 1415.49,635.917 1418.05,643.205 1420.61,631.136 1423.17,613.905 1425.72,584.721 1428.28,645.526 \n  1430.84,583.208 1433.4,573.497 1435.96,549.078 1438.52,558.007 1441.08,533.129 1443.63,530.813 1446.19,523.266 1448.75,543.865 1451.31,513.346 1453.87,520.423 \n  1456.43,507.088 1458.99,512.258 1461.54,542.43 1464.1,465.101 1466.66,450.56 1469.22,452.951 1471.78,401.667 1474.34,319.553 1476.9,293.894 1479.46,254.87 \n  1482.01,186.631 1484.57,290.345 1487.13,376.518 1489.69,491.304 1492.25,542.325 1494.81,516.678 1497.37,352.208 1499.92,289.801 1502.48,381.729 1505.04,369.551 \n  1507.6,212.852 1510.16,207.751 1512.72,246.689 1515.28,376.414 1517.83,359.722 1520.39,307.552 1522.95,420.571 1525.51,431.906 1528.07,289.653 1530.63,303.279 \n  1533.19,367.056 1535.74,322.05 1538.3,355.629 1540.86,423.06 1543.42,376.072 1545.98,366.326 1548.54,274.602 1551.1,320.811 1553.65,310.432 1556.21,408.269 \n  1558.77,415.679 1561.33,472.918 1563.89,451.046 1566.45,531.419 1569.01,502.191 1571.57,517.137 1574.12,452.57 1576.68,473.001 1579.24,486.646 1581.8,499.215 \n  1584.36,480.843 1586.92,475.131 1589.48,464.237 1592.03,518.215 1594.59,523.821 1597.15,505.273 1599.71,476.424 1602.27,492.642 1604.83,521.936 1607.39,545.202 \n  1609.94,511.323 1612.5,517.049 1615.06,542.463 1617.62,491.328 1620.18,497.46 1622.74,465.646 1625.3,431.856 1627.85,458.373 1630.41,492.776 1632.97,477.527 \n  1635.53,468.918 1638.09,491.921 1640.65,499.753 1643.21,500.575 1645.76,464.038 1648.32,473.82 1650.88,491.668 1653.44,421.801 1656,437.848 1658.56,383.142 \n  1661.12,573.17 1663.68,1045.47 1666.23,889.652 1668.79,909.741 1671.35,873.23 1673.91,807.554 1676.47,786.253 1679.03,620.15 1681.59,540.636 1684.14,530.579 \n  1686.7,210.949 1689.26,384.643 1691.82,485.211 1694.38,666.86 1696.94,606.957 1699.5,81.7367 1702.05,306.09 1704.61,557.517 1707.17,580.955 1709.73,579.488 \n  1712.29,530.475 1714.85,495.631 1717.41,460.303 1719.96,462.82 1722.52,459.947 1725.08,1016.77 \n  \"/>\n<path clip-path=\"url(#clip740)\" d=\"\nM1262.74 1072.38 L1717.37 1072.38 L1717.37 968.698 L1262.74 968.698  Z\n  \" fill=\"#ffffff\" fill-rule=\"evenodd\" fill-opacity=\"1\"/>\n<polyline clip-path=\"url(#clip740)\" style=\"stroke:#000000; stroke-linecap:butt; stroke-linejoin:round; stroke-width:4; stroke-opacity:1; fill:none\" points=\"\n  1262.74,1072.38 1717.37,1072.38 1717.37,968.698 1262.74,968.698 1262.74,1072.38 \n  \"/>\n<polyline clip-path=\"url(#clip740)\" style=\"stroke:#0000ff; stroke-linecap:butt; stroke-linejoin:round; stroke-width:4; stroke-opacity:1; fill:none\" points=\"\n  1298.74,1020.54 1514.74,1020.54 \n  \"/>\n<path clip-path=\"url(#clip740)\" d=\"M1566.58 1007.86 L1557.09 1033.93 L1576.09 1033.93 L1566.58 1007.86 M1550.74 1037.82 L1563.94 1003.26 L1569.24 1003.26 L1582.41 1037.82 L1550.74 1037.82 Z\" fill=\"#000000\" fill-rule=\"evenodd\" fill-opacity=\"1\" /><path clip-path=\"url(#clip740)\" d=\"M1623.89 1022.17 L1623.89 1037.82 L1619.63 1037.82 L1619.63 1022.31 Q1619.63 1018.63 1618.2 1016.8 Q1616.76 1014.97 1613.89 1014.97 Q1610.44 1014.97 1608.45 1017.17 Q1606.46 1019.37 1606.46 1023.17 L1606.46 1037.82 L1602.18 1037.82 L1602.18 1011.89 L1606.46 1011.89 L1606.46 1015.92 Q1607.99 1013.58 1610.05 1012.43 Q1612.13 1011.27 1614.84 1011.27 Q1619.31 1011.27 1621.6 1014.05 Q1623.89 1016.8 1623.89 1022.17 Z\" fill=\"#000000\" fill-rule=\"evenodd\" fill-opacity=\"1\" /><path clip-path=\"url(#clip740)\" d=\"M1636.6 1004.53 L1636.6 1011.89 L1645.37 1011.89 L1645.37 1015.2 L1636.6 1015.2 L1636.6 1029.28 Q1636.6 1032.45 1637.46 1033.35 Q1638.33 1034.25 1641 1034.25 L1645.37 1034.25 L1645.37 1037.82 L1641 1037.82 Q1636.07 1037.82 1634.19 1035.99 Q1632.32 1034.14 1632.32 1029.28 L1632.32 1015.2 L1629.19 1015.2 L1629.19 1011.89 L1632.32 1011.89 L1632.32 1004.53 L1636.6 1004.53 Z\" fill=\"#000000\" fill-rule=\"evenodd\" fill-opacity=\"1\" /><path clip-path=\"url(#clip740)\" d=\"\nM2020.4 1107.73 L3552.76 1107.73 L3552.76 47.2441 L2020.4 47.2441  Z\n  \" fill=\"#ffffff\" fill-rule=\"evenodd\" fill-opacity=\"1\"/>\n<defs>\n  <clipPath id=\"clip743\">\n    <rect x=\"2020\" y=\"47\" width=\"1533\" height=\"1061\"/>\n  </clipPath>\n</defs>\n<polyline clip-path=\"url(#clip743)\" style=\"stroke:#000000; stroke-linecap:butt; stroke-linejoin:round; stroke-width:2; stroke-opacity:0.1; fill:none\" points=\"\n  2063.77,1107.73 2063.77,47.2441 \n  \"/>\n<polyline clip-path=\"url(#clip743)\" style=\"stroke:#000000; stroke-linecap:butt; stroke-linejoin:round; stroke-width:2; stroke-opacity:0.1; fill:none\" points=\"\n  2455.24,1107.73 2455.24,47.2441 \n  \"/>\n<polyline clip-path=\"url(#clip743)\" style=\"stroke:#000000; stroke-linecap:butt; stroke-linejoin:round; stroke-width:2; stroke-opacity:0.1; fill:none\" points=\"\n  2841.59,1107.73 2841.59,47.2441 \n  \"/>\n<polyline clip-path=\"url(#clip743)\" style=\"stroke:#000000; stroke-linecap:butt; stroke-linejoin:round; stroke-width:2; stroke-opacity:0.1; fill:none\" points=\"\n  3233.06,1107.73 3233.06,47.2441 \n  \"/>\n<polyline clip-path=\"url(#clip740)\" style=\"stroke:#000000; stroke-linecap:butt; stroke-linejoin:round; stroke-width:4; stroke-opacity:1; fill:none\" points=\"\n  2020.4,1107.73 3552.76,1107.73 \n  \"/>\n<polyline clip-path=\"url(#clip740)\" style=\"stroke:#000000; stroke-linecap:butt; stroke-linejoin:round; stroke-width:4; stroke-opacity:1; fill:none\" points=\"\n  2063.77,1107.73 2063.77,1088.83 \n  \"/>\n<polyline clip-path=\"url(#clip740)\" style=\"stroke:#000000; stroke-linecap:butt; stroke-linejoin:round; stroke-width:4; stroke-opacity:1; fill:none\" points=\"\n  2455.24,1107.73 2455.24,1088.83 \n  \"/>\n<polyline clip-path=\"url(#clip740)\" style=\"stroke:#000000; stroke-linecap:butt; stroke-linejoin:round; stroke-width:4; stroke-opacity:1; fill:none\" points=\"\n  2841.59,1107.73 2841.59,1088.83 \n  \"/>\n<polyline clip-path=\"url(#clip740)\" style=\"stroke:#000000; stroke-linecap:butt; stroke-linejoin:round; stroke-width:4; stroke-opacity:1; fill:none\" points=\"\n  3233.06,1107.73 3233.06,1088.83 \n  \"/>\n<path clip-path=\"url(#clip740)\" d=\"M1935.57 1175.79 L1951.89 1175.79 L1951.89 1179.73 L1929.94 1179.73 L1929.94 1175.79 Q1932.6 1173.04 1937.19 1168.41 Q1941.79 1163.76 1942.97 1162.41 Q1945.22 1159.89 1946.1 1158.15 Q1947 1156.39 1947 1154.7 Q1947 1151.95 1945.06 1150.21 Q1943.14 1148.48 1940.03 1148.48 Q1937.84 1148.48 1935.38 1149.24 Q1932.95 1150.01 1930.17 1151.56 L1930.17 1146.83 Q1933 1145.7 1935.45 1145.12 Q1937.9 1144.54 1939.94 1144.54 Q1945.31 1144.54 1948.51 1147.23 Q1951.7 1149.91 1951.7 1154.4 Q1951.7 1156.53 1950.89 1158.45 Q1950.1 1160.35 1948 1162.95 Q1947.42 1163.62 1944.32 1166.83 Q1941.21 1170.03 1935.57 1175.79 Z\" fill=\"#000000\" fill-rule=\"evenodd\" fill-opacity=\"1\" /><path clip-path=\"url(#clip740)\" d=\"M1971.7 1148.25 Q1968.09 1148.25 1966.26 1151.81 Q1964.46 1155.35 1964.46 1162.48 Q1964.46 1169.59 1966.26 1173.15 Q1968.09 1176.7 1971.7 1176.7 Q1975.33 1176.7 1977.14 1173.15 Q1978.97 1169.59 1978.97 1162.48 Q1978.97 1155.35 1977.14 1151.81 Q1975.33 1148.25 1971.7 1148.25 M1971.7 1144.54 Q1977.51 1144.54 1980.57 1149.15 Q1983.65 1153.73 1983.65 1162.48 Q1983.65 1171.21 1980.57 1175.82 Q1977.51 1180.4 1971.7 1180.4 Q1965.89 1180.4 1962.81 1175.82 Q1959.76 1171.21 1959.76 1162.48 Q1959.76 1153.73 1962.81 1149.15 Q1965.89 1144.54 1971.7 1144.54 Z\" fill=\"#000000\" fill-rule=\"evenodd\" fill-opacity=\"1\" /><path clip-path=\"url(#clip740)\" d=\"M1995.89 1175.79 L2012.21 1175.79 L2012.21 1179.73 L1990.27 1179.73 L1990.27 1175.79 Q1992.93 1173.04 1997.51 1168.41 Q2002.12 1163.76 2003.3 1162.41 Q2005.54 1159.89 2006.42 1158.15 Q2007.33 1156.39 2007.33 1154.7 Q2007.33 1151.95 2005.38 1150.21 Q2003.46 1148.48 2000.36 1148.48 Q1998.16 1148.48 1995.71 1149.24 Q1993.27 1150.01 1990.5 1151.56 L1990.5 1146.83 Q1993.32 1145.7 1995.77 1145.12 Q1998.23 1144.54 2000.27 1144.54 Q2005.64 1144.54 2008.83 1147.23 Q2012.02 1149.91 2012.02 1154.4 Q2012.02 1156.53 2011.21 1158.45 Q2010.43 1160.35 2008.32 1162.95 Q2007.74 1163.62 2004.64 1166.83 Q2001.54 1170.03 1995.89 1175.79 Z\" fill=\"#000000\" fill-rule=\"evenodd\" fill-opacity=\"1\" /><path clip-path=\"url(#clip740)\" d=\"M2032.02 1148.25 Q2028.41 1148.25 2026.58 1151.81 Q2024.78 1155.35 2024.78 1162.48 Q2024.78 1169.59 2026.58 1173.15 Q2028.41 1176.7 2032.02 1176.7 Q2035.66 1176.7 2037.46 1173.15 Q2039.29 1169.59 2039.29 1162.48 Q2039.29 1155.35 2037.46 1151.81 Q2035.66 1148.25 2032.02 1148.25 M2032.02 1144.54 Q2037.83 1144.54 2040.89 1149.15 Q2043.97 1153.73 2043.97 1162.48 Q2043.97 1171.21 2040.89 1175.82 Q2037.83 1180.4 2032.02 1180.4 Q2026.21 1180.4 2023.14 1175.82 Q2020.08 1171.21 2020.08 1162.48 Q2020.08 1153.73 2023.14 1149.15 Q2026.21 1144.54 2032.02 1144.54 Z\" fill=\"#000000\" fill-rule=\"evenodd\" fill-opacity=\"1\" /><path clip-path=\"url(#clip740)\" d=\"M2049.43 1164.84 L2061.91 1164.84 L2061.91 1168.64 L2049.43 1168.64 L2049.43 1164.84 Z\" fill=\"#000000\" fill-rule=\"evenodd\" fill-opacity=\"1\" /><path clip-path=\"url(#clip740)\" d=\"M2079.29 1148.25 Q2075.68 1148.25 2073.85 1151.81 Q2072.05 1155.35 2072.05 1162.48 Q2072.05 1169.59 2073.85 1173.15 Q2075.68 1176.7 2079.29 1176.7 Q2082.93 1176.7 2084.73 1173.15 Q2086.56 1169.59 2086.56 1162.48 Q2086.56 1155.35 2084.73 1151.81 Q2082.93 1148.25 2079.29 1148.25 M2079.29 1144.54 Q2085.1 1144.54 2088.16 1149.15 Q2091.24 1153.73 2091.24 1162.48 Q2091.24 1171.21 2088.16 1175.82 Q2085.1 1180.4 2079.29 1180.4 Q2073.48 1180.4 2070.4 1175.82 Q2067.35 1171.21 2067.35 1162.48 Q2067.35 1153.73 2070.4 1149.15 Q2073.48 1144.54 2079.29 1144.54 Z\" fill=\"#000000\" fill-rule=\"evenodd\" fill-opacity=\"1\" /><path clip-path=\"url(#clip740)\" d=\"M2098.27 1145.17 L2120.5 1145.17 L2120.5 1147.16 L2107.95 1179.73 L2103.07 1179.73 L2114.87 1149.1 L2098.27 1149.1 L2098.27 1145.17 Z\" fill=\"#000000\" fill-rule=\"evenodd\" fill-opacity=\"1\" /><path clip-path=\"url(#clip740)\" d=\"M2126.86 1164.84 L2139.34 1164.84 L2139.34 1168.64 L2126.86 1168.64 L2126.86 1164.84 Z\" fill=\"#000000\" fill-rule=\"evenodd\" fill-opacity=\"1\" /><path clip-path=\"url(#clip740)\" d=\"M2156.72 1148.25 Q2153.11 1148.25 2151.28 1151.81 Q2149.48 1155.35 2149.48 1162.48 Q2149.48 1169.59 2151.28 1173.15 Q2153.11 1176.7 2156.72 1176.7 Q2160.36 1176.7 2162.16 1173.15 Q2163.99 1169.59 2163.99 1162.48 Q2163.99 1155.35 2162.16 1151.81 Q2160.36 1148.25 2156.72 1148.25 M2156.72 1144.54 Q2162.53 1144.54 2165.59 1149.15 Q2168.67 1153.73 2168.67 1162.48 Q2168.67 1171.21 2165.59 1175.82 Q2162.53 1180.4 2156.72 1180.4 Q2150.91 1180.4 2147.83 1175.82 Q2144.78 1171.21 2144.78 1162.48 Q2144.78 1153.73 2147.83 1149.15 Q2150.91 1144.54 2156.72 1144.54 Z\" fill=\"#000000\" fill-rule=\"evenodd\" fill-opacity=\"1\" /><path clip-path=\"url(#clip740)\" d=\"M2177.69 1175.79 L2185.33 1175.79 L2185.33 1149.43 L2177.02 1151.09 L2177.02 1146.83 L2185.29 1145.17 L2189.96 1145.17 L2189.96 1175.79 L2197.6 1175.79 L2197.6 1179.73 L2177.69 1179.73 L2177.69 1175.79 Z\" fill=\"#000000\" fill-rule=\"evenodd\" fill-opacity=\"1\" /><path clip-path=\"url(#clip740)\" d=\"M2327.03 1175.79 L2343.35 1175.79 L2343.35 1179.73 L2321.41 1179.73 L2321.41 1175.79 Q2324.07 1173.04 2328.65 1168.41 Q2333.26 1163.76 2334.44 1162.41 Q2336.69 1159.89 2337.57 1158.15 Q2338.47 1156.39 2338.47 1154.7 Q2338.47 1151.95 2336.52 1150.21 Q2334.6 1148.48 2331.5 1148.48 Q2329.3 1148.48 2326.85 1149.24 Q2324.42 1150.01 2321.64 1151.56 L2321.64 1146.83 Q2324.46 1145.7 2326.92 1145.12 Q2329.37 1144.54 2331.41 1144.54 Q2336.78 1144.54 2339.97 1147.23 Q2343.17 1149.91 2343.17 1154.4 Q2343.17 1156.53 2342.36 1158.45 Q2341.57 1160.35 2339.46 1162.95 Q2338.89 1163.62 2335.78 1166.83 Q2332.68 1170.03 2327.03 1175.79 Z\" fill=\"#000000\" fill-rule=\"evenodd\" fill-opacity=\"1\" /><path clip-path=\"url(#clip740)\" d=\"M2363.17 1148.25 Q2359.56 1148.25 2357.73 1151.81 Q2355.92 1155.35 2355.92 1162.48 Q2355.92 1169.59 2357.73 1173.15 Q2359.56 1176.7 2363.17 1176.7 Q2366.8 1176.7 2368.61 1173.15 Q2370.44 1169.59 2370.44 1162.48 Q2370.44 1155.35 2368.61 1151.81 Q2366.8 1148.25 2363.17 1148.25 M2363.17 1144.54 Q2368.98 1144.54 2372.03 1149.15 Q2375.11 1153.73 2375.11 1162.48 Q2375.11 1171.21 2372.03 1175.82 Q2368.98 1180.4 2363.17 1180.4 Q2357.36 1180.4 2354.28 1175.82 Q2351.22 1171.21 2351.22 1162.48 Q2351.22 1153.73 2354.28 1149.15 Q2357.36 1144.54 2363.17 1144.54 Z\" fill=\"#000000\" fill-rule=\"evenodd\" fill-opacity=\"1\" /><path clip-path=\"url(#clip740)\" d=\"M2387.36 1175.79 L2403.68 1175.79 L2403.68 1179.73 L2381.73 1179.73 L2381.73 1175.79 Q2384.39 1173.04 2388.98 1168.41 Q2393.58 1163.76 2394.77 1162.41 Q2397.01 1159.89 2397.89 1158.15 Q2398.79 1156.39 2398.79 1154.7 Q2398.79 1151.95 2396.85 1150.21 Q2394.93 1148.48 2391.83 1148.48 Q2389.63 1148.48 2387.17 1149.24 Q2384.74 1150.01 2381.96 1151.56 L2381.96 1146.83 Q2384.79 1145.7 2387.24 1145.12 Q2389.7 1144.54 2391.73 1144.54 Q2397.1 1144.54 2400.3 1147.23 Q2403.49 1149.91 2403.49 1154.4 Q2403.49 1156.53 2402.68 1158.45 Q2401.89 1160.35 2399.79 1162.95 Q2399.21 1163.62 2396.11 1166.83 Q2393.01 1170.03 2387.36 1175.79 Z\" fill=\"#000000\" fill-rule=\"evenodd\" fill-opacity=\"1\" /><path clip-path=\"url(#clip740)\" d=\"M2423.49 1148.25 Q2419.88 1148.25 2418.05 1151.81 Q2416.25 1155.35 2416.25 1162.48 Q2416.25 1169.59 2418.05 1173.15 Q2419.88 1176.7 2423.49 1176.7 Q2427.13 1176.7 2428.93 1173.15 Q2430.76 1169.59 2430.76 1162.48 Q2430.76 1155.35 2428.93 1151.81 Q2427.13 1148.25 2423.49 1148.25 M2423.49 1144.54 Q2429.3 1144.54 2432.36 1149.15 Q2435.44 1153.73 2435.44 1162.48 Q2435.44 1171.21 2432.36 1175.82 Q2429.3 1180.4 2423.49 1180.4 Q2417.68 1180.4 2414.6 1175.82 Q2411.55 1171.21 2411.55 1162.48 Q2411.55 1153.73 2414.6 1149.15 Q2417.68 1144.54 2423.49 1144.54 Z\" fill=\"#000000\" fill-rule=\"evenodd\" fill-opacity=\"1\" /><path clip-path=\"url(#clip740)\" d=\"M2440.9 1164.84 L2453.38 1164.84 L2453.38 1168.64 L2440.9 1168.64 L2440.9 1164.84 Z\" fill=\"#000000\" fill-rule=\"evenodd\" fill-opacity=\"1\" /><path clip-path=\"url(#clip740)\" d=\"M2461.57 1175.79 L2469.21 1175.79 L2469.21 1149.43 L2460.9 1151.09 L2460.9 1146.83 L2469.16 1145.17 L2473.84 1145.17 L2473.84 1175.79 L2481.48 1175.79 L2481.48 1179.73 L2461.57 1179.73 L2461.57 1175.79 Z\" fill=\"#000000\" fill-rule=\"evenodd\" fill-opacity=\"1\" /><path clip-path=\"url(#clip740)\" d=\"M2494.95 1175.79 L2511.27 1175.79 L2511.27 1179.73 L2489.32 1179.73 L2489.32 1175.79 Q2491.99 1173.04 2496.57 1168.41 Q2501.18 1163.76 2502.36 1162.41 Q2504.6 1159.89 2505.48 1158.15 Q2506.39 1156.39 2506.39 1154.7 Q2506.39 1151.95 2504.44 1150.21 Q2502.52 1148.48 2499.42 1148.48 Q2497.22 1148.48 2494.76 1149.24 Q2492.33 1150.01 2489.56 1151.56 L2489.56 1146.83 Q2492.38 1145.7 2494.83 1145.12 Q2497.29 1144.54 2499.32 1144.54 Q2504.7 1144.54 2507.89 1147.23 Q2511.08 1149.91 2511.08 1154.4 Q2511.08 1156.53 2510.27 1158.45 Q2509.49 1160.35 2507.38 1162.95 Q2506.8 1163.62 2503.7 1166.83 Q2500.6 1170.03 2494.95 1175.79 Z\" fill=\"#000000\" fill-rule=\"evenodd\" fill-opacity=\"1\" /><path clip-path=\"url(#clip740)\" d=\"M2518.33 1164.84 L2530.81 1164.84 L2530.81 1168.64 L2518.33 1168.64 L2518.33 1164.84 Z\" fill=\"#000000\" fill-rule=\"evenodd\" fill-opacity=\"1\" /><path clip-path=\"url(#clip740)\" d=\"M2548.19 1148.25 Q2544.58 1148.25 2542.75 1151.81 Q2540.95 1155.35 2540.95 1162.48 Q2540.95 1169.59 2542.75 1173.15 Q2544.58 1176.7 2548.19 1176.7 Q2551.82 1176.7 2553.63 1173.15 Q2555.46 1169.59 2555.46 1162.48 Q2555.46 1155.35 2553.63 1151.81 Q2551.82 1148.25 2548.19 1148.25 M2548.19 1144.54 Q2554 1144.54 2557.06 1149.15 Q2560.13 1153.73 2560.13 1162.48 Q2560.13 1171.21 2557.06 1175.82 Q2554 1180.4 2548.19 1180.4 Q2542.38 1180.4 2539.3 1175.82 Q2536.25 1171.21 2536.25 1162.48 Q2536.25 1153.73 2539.3 1149.15 Q2542.38 1144.54 2548.19 1144.54 Z\" fill=\"#000000\" fill-rule=\"evenodd\" fill-opacity=\"1\" /><path clip-path=\"url(#clip740)\" d=\"M2569.16 1175.79 L2576.8 1175.79 L2576.8 1149.43 L2568.49 1151.09 L2568.49 1146.83 L2576.76 1145.17 L2581.43 1145.17 L2581.43 1175.79 L2589.07 1175.79 L2589.07 1179.73 L2569.16 1179.73 L2569.16 1175.79 Z\" fill=\"#000000\" fill-rule=\"evenodd\" fill-opacity=\"1\" /><path clip-path=\"url(#clip740)\" d=\"M2713.38 1175.79 L2729.7 1175.79 L2729.7 1179.73 L2707.76 1179.73 L2707.76 1175.79 Q2710.42 1173.04 2715 1168.41 Q2719.61 1163.76 2720.79 1162.41 Q2723.04 1159.89 2723.92 1158.15 Q2724.82 1156.39 2724.82 1154.7 Q2724.82 1151.95 2722.88 1150.21 Q2720.95 1148.48 2717.85 1148.48 Q2715.65 1148.48 2713.2 1149.24 Q2710.77 1150.01 2707.99 1151.56 L2707.99 1146.83 Q2710.82 1145.7 2713.27 1145.12 Q2715.72 1144.54 2717.76 1144.54 Q2723.13 1144.54 2726.32 1147.23 Q2729.52 1149.91 2729.52 1154.4 Q2729.52 1156.53 2728.71 1158.45 Q2727.92 1160.35 2725.82 1162.95 Q2725.24 1163.62 2722.13 1166.83 Q2719.03 1170.03 2713.38 1175.79 Z\" fill=\"#000000\" fill-rule=\"evenodd\" fill-opacity=\"1\" /><path clip-path=\"url(#clip740)\" d=\"M2749.52 1148.25 Q2745.91 1148.25 2744.08 1151.81 Q2742.27 1155.35 2742.27 1162.48 Q2742.27 1169.59 2744.08 1173.15 Q2745.91 1176.7 2749.52 1176.7 Q2753.15 1176.7 2754.96 1173.15 Q2756.79 1169.59 2756.79 1162.48 Q2756.79 1155.35 2754.96 1151.81 Q2753.15 1148.25 2749.52 1148.25 M2749.52 1144.54 Q2755.33 1144.54 2758.38 1149.15 Q2761.46 1153.73 2761.46 1162.48 Q2761.46 1171.21 2758.38 1175.82 Q2755.33 1180.4 2749.52 1180.4 Q2743.71 1180.4 2740.63 1175.82 Q2737.57 1171.21 2737.57 1162.48 Q2737.57 1153.73 2740.63 1149.15 Q2743.71 1144.54 2749.52 1144.54 Z\" fill=\"#000000\" fill-rule=\"evenodd\" fill-opacity=\"1\" /><path clip-path=\"url(#clip740)\" d=\"M2773.71 1175.79 L2790.03 1175.79 L2790.03 1179.73 L2768.08 1179.73 L2768.08 1175.79 Q2770.75 1173.04 2775.33 1168.41 Q2779.94 1163.76 2781.12 1162.41 Q2783.36 1159.89 2784.24 1158.15 Q2785.14 1156.39 2785.14 1154.7 Q2785.14 1151.95 2783.2 1150.21 Q2781.28 1148.48 2778.18 1148.48 Q2775.98 1148.48 2773.52 1149.24 Q2771.09 1150.01 2768.31 1151.56 L2768.31 1146.83 Q2771.14 1145.7 2773.59 1145.12 Q2776.05 1144.54 2778.08 1144.54 Q2783.45 1144.54 2786.65 1147.23 Q2789.84 1149.91 2789.84 1154.4 Q2789.84 1156.53 2789.03 1158.45 Q2788.25 1160.35 2786.14 1162.95 Q2785.56 1163.62 2782.46 1166.83 Q2779.36 1170.03 2773.71 1175.79 Z\" fill=\"#000000\" fill-rule=\"evenodd\" fill-opacity=\"1\" /><path clip-path=\"url(#clip740)\" d=\"M2800.65 1175.79 L2808.29 1175.79 L2808.29 1149.43 L2799.98 1151.09 L2799.98 1146.83 L2808.25 1145.17 L2812.92 1145.17 L2812.92 1175.79 L2820.56 1175.79 L2820.56 1179.73 L2800.65 1179.73 L2800.65 1175.79 Z\" fill=\"#000000\" fill-rule=\"evenodd\" fill-opacity=\"1\" /><path clip-path=\"url(#clip740)\" d=\"M2827.25 1164.84 L2839.73 1164.84 L2839.73 1168.64 L2827.25 1168.64 L2827.25 1164.84 Z\" fill=\"#000000\" fill-rule=\"evenodd\" fill-opacity=\"1\" /><path clip-path=\"url(#clip740)\" d=\"M2857.11 1148.25 Q2853.5 1148.25 2851.67 1151.81 Q2849.87 1155.35 2849.87 1162.48 Q2849.87 1169.59 2851.67 1173.15 Q2853.5 1176.7 2857.11 1176.7 Q2860.74 1176.7 2862.55 1173.15 Q2864.38 1169.59 2864.38 1162.48 Q2864.38 1155.35 2862.55 1151.81 Q2860.74 1148.25 2857.11 1148.25 M2857.11 1144.54 Q2862.92 1144.54 2865.98 1149.15 Q2869.05 1153.73 2869.05 1162.48 Q2869.05 1171.21 2865.98 1175.82 Q2862.92 1180.4 2857.11 1180.4 Q2851.3 1180.4 2848.22 1175.82 Q2845.17 1171.21 2845.17 1162.48 Q2845.17 1153.73 2848.22 1149.15 Q2851.3 1144.54 2857.11 1144.54 Z\" fill=\"#000000\" fill-rule=\"evenodd\" fill-opacity=\"1\" /><path clip-path=\"url(#clip740)\" d=\"M2877.32 1145.17 L2895.68 1145.17 L2895.68 1149.1 L2881.6 1149.1 L2881.6 1157.58 Q2882.62 1157.23 2883.64 1157.07 Q2884.66 1156.88 2885.68 1156.88 Q2891.46 1156.88 2894.84 1160.05 Q2898.22 1163.22 2898.22 1168.64 Q2898.22 1174.22 2894.75 1177.32 Q2891.28 1180.4 2884.96 1180.4 Q2882.78 1180.4 2880.51 1180.03 Q2878.27 1179.66 2875.86 1178.92 L2875.86 1174.22 Q2877.94 1175.35 2880.17 1175.91 Q2882.39 1176.46 2884.87 1176.46 Q2888.87 1176.46 2891.21 1174.36 Q2893.55 1172.25 2893.55 1168.64 Q2893.55 1165.03 2891.21 1162.92 Q2888.87 1160.82 2884.87 1160.82 Q2882.99 1160.82 2881.12 1161.23 Q2879.26 1161.65 2877.32 1162.53 L2877.32 1145.17 Z\" fill=\"#000000\" fill-rule=\"evenodd\" fill-opacity=\"1\" /><path clip-path=\"url(#clip740)\" d=\"M2904.68 1164.84 L2917.16 1164.84 L2917.16 1168.64 L2904.68 1168.64 L2904.68 1164.84 Z\" fill=\"#000000\" fill-rule=\"evenodd\" fill-opacity=\"1\" /><path clip-path=\"url(#clip740)\" d=\"M2934.54 1148.25 Q2930.93 1148.25 2929.1 1151.81 Q2927.3 1155.35 2927.3 1162.48 Q2927.3 1169.59 2929.1 1173.15 Q2930.93 1176.7 2934.54 1176.7 Q2938.17 1176.7 2939.98 1173.15 Q2941.81 1169.59 2941.81 1162.48 Q2941.81 1155.35 2939.98 1151.81 Q2938.17 1148.25 2934.54 1148.25 M2934.54 1144.54 Q2940.35 1144.54 2943.41 1149.15 Q2946.49 1153.73 2946.49 1162.48 Q2946.49 1171.21 2943.41 1175.82 Q2940.35 1180.4 2934.54 1180.4 Q2928.73 1180.4 2925.65 1175.82 Q2922.6 1171.21 2922.6 1162.48 Q2922.6 1153.73 2925.65 1149.15 Q2928.73 1144.54 2934.54 1144.54 Z\" fill=\"#000000\" fill-rule=\"evenodd\" fill-opacity=\"1\" /><path clip-path=\"url(#clip740)\" d=\"M2955.51 1175.79 L2963.15 1175.79 L2963.15 1149.43 L2954.84 1151.09 L2954.84 1146.83 L2963.11 1145.17 L2967.78 1145.17 L2967.78 1175.79 L2975.42 1175.79 L2975.42 1179.73 L2955.51 1179.73 L2955.51 1175.79 Z\" fill=\"#000000\" fill-rule=\"evenodd\" fill-opacity=\"1\" /><path clip-path=\"url(#clip740)\" d=\"M3104.85 1175.79 L3121.17 1175.79 L3121.17 1179.73 L3099.23 1179.73 L3099.23 1175.79 Q3101.89 1173.04 3106.47 1168.41 Q3111.08 1163.76 3112.26 1162.41 Q3114.5 1159.89 3115.38 1158.15 Q3116.29 1156.39 3116.29 1154.7 Q3116.29 1151.95 3114.34 1150.21 Q3112.42 1148.48 3109.32 1148.48 Q3107.12 1148.48 3104.67 1149.24 Q3102.24 1150.01 3099.46 1151.56 L3099.46 1146.83 Q3102.28 1145.7 3104.74 1145.12 Q3107.19 1144.54 3109.23 1144.54 Q3114.6 1144.54 3117.79 1147.23 Q3120.99 1149.91 3120.99 1154.4 Q3120.99 1156.53 3120.18 1158.45 Q3119.39 1160.35 3117.28 1162.95 Q3116.7 1163.62 3113.6 1166.83 Q3110.5 1170.03 3104.85 1175.79 Z\" fill=\"#000000\" fill-rule=\"evenodd\" fill-opacity=\"1\" /><path clip-path=\"url(#clip740)\" d=\"M3140.99 1148.25 Q3137.38 1148.25 3135.55 1151.81 Q3133.74 1155.35 3133.74 1162.48 Q3133.74 1169.59 3135.55 1173.15 Q3137.38 1176.7 3140.99 1176.7 Q3144.62 1176.7 3146.43 1173.15 Q3148.25 1169.59 3148.25 1162.48 Q3148.25 1155.35 3146.43 1151.81 Q3144.62 1148.25 3140.99 1148.25 M3140.99 1144.54 Q3146.8 1144.54 3149.85 1149.15 Q3152.93 1153.73 3152.93 1162.48 Q3152.93 1171.21 3149.85 1175.82 Q3146.8 1180.4 3140.99 1180.4 Q3135.18 1180.4 3132.1 1175.82 Q3129.04 1171.21 3129.04 1162.48 Q3129.04 1153.73 3132.1 1149.15 Q3135.18 1144.54 3140.99 1144.54 Z\" fill=\"#000000\" fill-rule=\"evenodd\" fill-opacity=\"1\" /><path clip-path=\"url(#clip740)\" d=\"M3165.18 1175.79 L3181.5 1175.79 L3181.5 1179.73 L3159.55 1179.73 L3159.55 1175.79 Q3162.21 1173.04 3166.8 1168.41 Q3171.4 1163.76 3172.58 1162.41 Q3174.83 1159.89 3175.71 1158.15 Q3176.61 1156.39 3176.61 1154.7 Q3176.61 1151.95 3174.67 1150.21 Q3172.75 1148.48 3169.64 1148.48 Q3167.44 1148.48 3164.99 1149.24 Q3162.56 1150.01 3159.78 1151.56 L3159.78 1146.83 Q3162.61 1145.7 3165.06 1145.12 Q3167.51 1144.54 3169.55 1144.54 Q3174.92 1144.54 3178.12 1147.23 Q3181.31 1149.91 3181.31 1154.4 Q3181.31 1156.53 3180.5 1158.45 Q3179.71 1160.35 3177.61 1162.95 Q3177.03 1163.62 3173.93 1166.83 Q3170.82 1170.03 3165.18 1175.79 Z\" fill=\"#000000\" fill-rule=\"evenodd\" fill-opacity=\"1\" /><path clip-path=\"url(#clip740)\" d=\"M3192.12 1175.79 L3199.76 1175.79 L3199.76 1149.43 L3191.45 1151.09 L3191.45 1146.83 L3199.71 1145.17 L3204.39 1145.17 L3204.39 1175.79 L3212.03 1175.79 L3212.03 1179.73 L3192.12 1179.73 L3192.12 1175.79 Z\" fill=\"#000000\" fill-rule=\"evenodd\" fill-opacity=\"1\" /><path clip-path=\"url(#clip740)\" d=\"M3218.72 1164.84 L3231.19 1164.84 L3231.19 1168.64 L3218.72 1168.64 L3218.72 1164.84 Z\" fill=\"#000000\" fill-rule=\"evenodd\" fill-opacity=\"1\" /><path clip-path=\"url(#clip740)\" d=\"M3239.39 1175.79 L3247.03 1175.79 L3247.03 1149.43 L3238.72 1151.09 L3238.72 1146.83 L3246.98 1145.17 L3251.66 1145.17 L3251.66 1175.79 L3259.3 1175.79 L3259.3 1179.73 L3239.39 1179.73 L3239.39 1175.79 Z\" fill=\"#000000\" fill-rule=\"evenodd\" fill-opacity=\"1\" /><path clip-path=\"url(#clip740)\" d=\"M3278.74 1148.25 Q3275.13 1148.25 3273.3 1151.81 Q3271.49 1155.35 3271.49 1162.48 Q3271.49 1169.59 3273.3 1173.15 Q3275.13 1176.7 3278.74 1176.7 Q3282.37 1176.7 3284.18 1173.15 Q3286.01 1169.59 3286.01 1162.48 Q3286.01 1155.35 3284.18 1151.81 Q3282.37 1148.25 3278.74 1148.25 M3278.74 1144.54 Q3284.55 1144.54 3287.61 1149.15 Q3290.68 1153.73 3290.68 1162.48 Q3290.68 1171.21 3287.61 1175.82 Q3284.55 1180.4 3278.74 1180.4 Q3272.93 1180.4 3269.85 1175.82 Q3266.8 1171.21 3266.8 1162.48 Q3266.8 1153.73 3269.85 1149.15 Q3272.93 1144.54 3278.74 1144.54 Z\" fill=\"#000000\" fill-rule=\"evenodd\" fill-opacity=\"1\" /><path clip-path=\"url(#clip740)\" d=\"M3296.15 1164.84 L3308.62 1164.84 L3308.62 1168.64 L3296.15 1168.64 L3296.15 1164.84 Z\" fill=\"#000000\" fill-rule=\"evenodd\" fill-opacity=\"1\" /><path clip-path=\"url(#clip740)\" d=\"M3326.01 1148.25 Q3322.4 1148.25 3320.57 1151.81 Q3318.76 1155.35 3318.76 1162.48 Q3318.76 1169.59 3320.57 1173.15 Q3322.4 1176.7 3326.01 1176.7 Q3329.64 1176.7 3331.45 1173.15 Q3333.28 1169.59 3333.28 1162.48 Q3333.28 1155.35 3331.45 1151.81 Q3329.64 1148.25 3326.01 1148.25 M3326.01 1144.54 Q3331.82 1144.54 3334.87 1149.15 Q3337.95 1153.73 3337.95 1162.48 Q3337.95 1171.21 3334.87 1175.82 Q3331.82 1180.4 3326.01 1180.4 Q3320.2 1180.4 3317.12 1175.82 Q3314.06 1171.21 3314.06 1162.48 Q3314.06 1153.73 3317.12 1149.15 Q3320.2 1144.54 3326.01 1144.54 Z\" fill=\"#000000\" fill-rule=\"evenodd\" fill-opacity=\"1\" /><path clip-path=\"url(#clip740)\" d=\"M3346.98 1175.79 L3354.62 1175.79 L3354.62 1149.43 L3346.31 1151.09 L3346.31 1146.83 L3354.57 1145.17 L3359.25 1145.17 L3359.25 1175.79 L3366.89 1175.79 L3366.89 1179.73 L3346.98 1179.73 L3346.98 1175.79 Z\" fill=\"#000000\" fill-rule=\"evenodd\" fill-opacity=\"1\" /><polyline clip-path=\"url(#clip743)\" style=\"stroke:#000000; stroke-linecap:butt; stroke-linejoin:round; stroke-width:2; stroke-opacity:0.1; fill:none\" points=\"\n  2020.4,1083.31 3552.76,1083.31 \n  \"/>\n<polyline clip-path=\"url(#clip743)\" style=\"stroke:#000000; stroke-linecap:butt; stroke-linejoin:round; stroke-width:2; stroke-opacity:0.1; fill:none\" points=\"\n  2020.4,844.479 3552.76,844.479 \n  \"/>\n<polyline clip-path=\"url(#clip743)\" style=\"stroke:#000000; stroke-linecap:butt; stroke-linejoin:round; stroke-width:2; stroke-opacity:0.1; fill:none\" points=\"\n  2020.4,605.646 3552.76,605.646 \n  \"/>\n<polyline clip-path=\"url(#clip743)\" style=\"stroke:#000000; stroke-linecap:butt; stroke-linejoin:round; stroke-width:2; stroke-opacity:0.1; fill:none\" points=\"\n  2020.4,366.812 3552.76,366.812 \n  \"/>\n<polyline clip-path=\"url(#clip743)\" style=\"stroke:#000000; stroke-linecap:butt; stroke-linejoin:round; stroke-width:2; stroke-opacity:0.1; fill:none\" points=\"\n  2020.4,127.979 3552.76,127.979 \n  \"/>\n<polyline clip-path=\"url(#clip740)\" style=\"stroke:#000000; stroke-linecap:butt; stroke-linejoin:round; stroke-width:4; stroke-opacity:1; fill:none\" points=\"\n  2020.4,1107.73 2020.4,47.2441 \n  \"/>\n<polyline clip-path=\"url(#clip740)\" style=\"stroke:#000000; stroke-linecap:butt; stroke-linejoin:round; stroke-width:4; stroke-opacity:1; fill:none\" points=\"\n  2020.4,1083.31 2039.3,1083.31 \n  \"/>\n<polyline clip-path=\"url(#clip740)\" style=\"stroke:#000000; stroke-linecap:butt; stroke-linejoin:round; stroke-width:4; stroke-opacity:1; fill:none\" points=\"\n  2020.4,844.479 2039.3,844.479 \n  \"/>\n<polyline clip-path=\"url(#clip740)\" style=\"stroke:#000000; stroke-linecap:butt; stroke-linejoin:round; stroke-width:4; stroke-opacity:1; fill:none\" points=\"\n  2020.4,605.646 2039.3,605.646 \n  \"/>\n<polyline clip-path=\"url(#clip740)\" style=\"stroke:#000000; stroke-linecap:butt; stroke-linejoin:round; stroke-width:4; stroke-opacity:1; fill:none\" points=\"\n  2020.4,366.812 2039.3,366.812 \n  \"/>\n<polyline clip-path=\"url(#clip740)\" style=\"stroke:#000000; stroke-linecap:butt; stroke-linejoin:round; stroke-width:4; stroke-opacity:1; fill:none\" points=\"\n  2020.4,127.979 2039.3,127.979 \n  \"/>\n<path clip-path=\"url(#clip740)\" d=\"M1861.06 1083.76 L1890.73 1083.76 L1890.73 1087.7 L1861.06 1087.7 L1861.06 1083.76 Z\" fill=\"#000000\" fill-rule=\"evenodd\" fill-opacity=\"1\" /><path clip-path=\"url(#clip740)\" d=\"M1910.83 1069.11 Q1907.21 1069.11 1905.39 1072.68 Q1903.58 1076.22 1903.58 1083.35 Q1903.58 1090.45 1905.39 1094.02 Q1907.21 1097.56 1910.83 1097.56 Q1914.46 1097.56 1916.26 1094.02 Q1918.09 1090.45 1918.09 1083.35 Q1918.09 1076.22 1916.26 1072.68 Q1914.46 1069.11 1910.83 1069.11 M1910.83 1065.41 Q1916.64 1065.41 1919.69 1070.01 Q1922.77 1074.6 1922.77 1083.35 Q1922.77 1092.07 1919.69 1096.68 Q1916.64 1101.26 1910.83 1101.26 Q1905.01 1101.26 1901.94 1096.68 Q1898.88 1092.07 1898.88 1083.35 Q1898.88 1074.6 1901.94 1070.01 Q1905.01 1065.41 1910.83 1065.41 Z\" fill=\"#000000\" fill-rule=\"evenodd\" fill-opacity=\"1\" /><path clip-path=\"url(#clip740)\" d=\"M1930.99 1094.71 L1935.87 1094.71 L1935.87 1100.59 L1930.99 1100.59 L1930.99 1094.71 Z\" fill=\"#000000\" fill-rule=\"evenodd\" fill-opacity=\"1\" /><path clip-path=\"url(#clip740)\" d=\"M1950.08 1096.66 L1966.4 1096.66 L1966.4 1100.59 L1944.46 1100.59 L1944.46 1096.66 Q1947.12 1093.9 1951.7 1089.27 Q1956.31 1084.62 1957.49 1083.28 Q1959.74 1080.75 1960.62 1079.02 Q1961.52 1077.26 1961.52 1075.57 Q1961.52 1072.81 1959.57 1071.08 Q1957.65 1069.34 1954.55 1069.34 Q1952.35 1069.34 1949.9 1070.11 Q1947.47 1070.87 1944.69 1072.42 L1944.69 1067.7 Q1947.51 1066.57 1949.97 1065.99 Q1952.42 1065.41 1954.46 1065.41 Q1959.83 1065.41 1963.02 1068.09 Q1966.22 1070.78 1966.22 1075.27 Q1966.22 1077.4 1965.41 1079.32 Q1964.62 1081.22 1962.51 1083.81 Q1961.94 1084.48 1958.83 1087.7 Q1955.73 1090.89 1950.08 1096.66 Z\" fill=\"#000000\" fill-rule=\"evenodd\" fill-opacity=\"1\" /><path clip-path=\"url(#clip740)\" d=\"M1860.69 844.931 L1890.36 844.931 L1890.36 848.866 L1860.69 848.866 L1860.69 844.931 Z\" fill=\"#000000\" fill-rule=\"evenodd\" fill-opacity=\"1\" /><path clip-path=\"url(#clip740)\" d=\"M1910.45 830.278 Q1906.84 830.278 1905.01 833.843 Q1903.21 837.384 1903.21 844.514 Q1903.21 851.62 1905.01 855.185 Q1906.84 858.727 1910.45 858.727 Q1914.09 858.727 1915.89 855.185 Q1917.72 851.62 1917.72 844.514 Q1917.72 837.384 1915.89 833.843 Q1914.09 830.278 1910.45 830.278 M1910.45 826.574 Q1916.26 826.574 1919.32 831.181 Q1922.4 835.764 1922.4 844.514 Q1922.4 853.241 1919.32 857.847 Q1916.26 862.43 1910.45 862.43 Q1904.64 862.43 1901.57 857.847 Q1898.51 853.241 1898.51 844.514 Q1898.51 835.764 1901.57 831.181 Q1904.64 826.574 1910.45 826.574 Z\" fill=\"#000000\" fill-rule=\"evenodd\" fill-opacity=\"1\" /><path clip-path=\"url(#clip740)\" d=\"M1930.62 855.88 L1935.5 855.88 L1935.5 861.759 L1930.62 861.759 L1930.62 855.88 Z\" fill=\"#000000\" fill-rule=\"evenodd\" fill-opacity=\"1\" /><path clip-path=\"url(#clip740)\" d=\"M1946.5 857.824 L1954.14 857.824 L1954.14 831.458 L1945.82 833.125 L1945.82 828.866 L1954.09 827.199 L1958.76 827.199 L1958.76 857.824 L1966.4 857.824 L1966.4 861.759 L1946.5 861.759 L1946.5 857.824 Z\" fill=\"#000000\" fill-rule=\"evenodd\" fill-opacity=\"1\" /><path clip-path=\"url(#clip740)\" d=\"M1909.23 591.444 Q1905.62 591.444 1903.79 595.009 Q1901.98 598.551 1901.98 605.68 Q1901.98 612.787 1903.79 616.352 Q1905.62 619.893 1909.23 619.893 Q1912.86 619.893 1914.67 616.352 Q1916.5 612.787 1916.5 605.68 Q1916.5 598.551 1914.67 595.009 Q1912.86 591.444 1909.23 591.444 M1909.23 587.741 Q1915.04 587.741 1918.09 592.347 Q1921.17 596.93 1921.17 605.68 Q1921.17 614.407 1918.09 619.014 Q1915.04 623.597 1909.23 623.597 Q1903.42 623.597 1900.34 619.014 Q1897.28 614.407 1897.28 605.68 Q1897.28 596.93 1900.34 592.347 Q1903.42 587.741 1909.23 587.741 Z\" fill=\"#000000\" fill-rule=\"evenodd\" fill-opacity=\"1\" /><path clip-path=\"url(#clip740)\" d=\"M1929.39 617.046 L1934.27 617.046 L1934.27 622.926 L1929.39 622.926 L1929.39 617.046 Z\" fill=\"#000000\" fill-rule=\"evenodd\" fill-opacity=\"1\" /><path clip-path=\"url(#clip740)\" d=\"M1954.46 591.444 Q1950.85 591.444 1949.02 595.009 Q1947.21 598.551 1947.21 605.68 Q1947.21 612.787 1949.02 616.352 Q1950.85 619.893 1954.46 619.893 Q1958.09 619.893 1959.9 616.352 Q1961.73 612.787 1961.73 605.68 Q1961.73 598.551 1959.9 595.009 Q1958.09 591.444 1954.46 591.444 M1954.46 587.741 Q1960.27 587.741 1963.32 592.347 Q1966.4 596.93 1966.4 605.68 Q1966.4 614.407 1963.32 619.014 Q1960.27 623.597 1954.46 623.597 Q1948.65 623.597 1945.57 619.014 Q1942.51 614.407 1942.51 605.68 Q1942.51 596.93 1945.57 592.347 Q1948.65 587.741 1954.46 587.741 Z\" fill=\"#000000\" fill-rule=\"evenodd\" fill-opacity=\"1\" /><path clip-path=\"url(#clip740)\" d=\"M1910.45 352.611 Q1906.84 352.611 1905.01 356.176 Q1903.21 359.717 1903.21 366.847 Q1903.21 373.953 1905.01 377.518 Q1906.84 381.06 1910.45 381.06 Q1914.09 381.06 1915.89 377.518 Q1917.72 373.953 1917.72 366.847 Q1917.72 359.717 1915.89 356.176 Q1914.09 352.611 1910.45 352.611 M1910.45 348.907 Q1916.26 348.907 1919.32 353.514 Q1922.4 358.097 1922.4 366.847 Q1922.4 375.574 1919.32 380.18 Q1916.26 384.764 1910.45 384.764 Q1904.64 384.764 1901.57 380.18 Q1898.51 375.574 1898.51 366.847 Q1898.51 358.097 1901.57 353.514 Q1904.64 348.907 1910.45 348.907 Z\" fill=\"#000000\" fill-rule=\"evenodd\" fill-opacity=\"1\" /><path clip-path=\"url(#clip740)\" d=\"M1930.62 378.213 L1935.5 378.213 L1935.5 384.092 L1930.62 384.092 L1930.62 378.213 Z\" fill=\"#000000\" fill-rule=\"evenodd\" fill-opacity=\"1\" /><path clip-path=\"url(#clip740)\" d=\"M1946.5 380.157 L1954.14 380.157 L1954.14 353.791 L1945.82 355.458 L1945.82 351.199 L1954.09 349.532 L1958.76 349.532 L1958.76 380.157 L1966.4 380.157 L1966.4 384.092 L1946.5 384.092 L1946.5 380.157 Z\" fill=\"#000000\" fill-rule=\"evenodd\" fill-opacity=\"1\" /><path clip-path=\"url(#clip740)\" d=\"M1910.83 113.777 Q1907.21 113.777 1905.39 117.342 Q1903.58 120.884 1903.58 128.014 Q1903.58 135.12 1905.39 138.685 Q1907.21 142.226 1910.83 142.226 Q1914.46 142.226 1916.26 138.685 Q1918.09 135.12 1918.09 128.014 Q1918.09 120.884 1916.26 117.342 Q1914.46 113.777 1910.83 113.777 M1910.83 110.074 Q1916.64 110.074 1919.69 114.68 Q1922.77 119.264 1922.77 128.014 Q1922.77 136.74 1919.69 141.347 Q1916.64 145.93 1910.83 145.93 Q1905.01 145.93 1901.94 141.347 Q1898.88 136.74 1898.88 128.014 Q1898.88 119.264 1901.94 114.68 Q1905.01 110.074 1910.83 110.074 Z\" fill=\"#000000\" fill-rule=\"evenodd\" fill-opacity=\"1\" /><path clip-path=\"url(#clip740)\" d=\"M1930.99 139.379 L1935.87 139.379 L1935.87 145.259 L1930.99 145.259 L1930.99 139.379 Z\" fill=\"#000000\" fill-rule=\"evenodd\" fill-opacity=\"1\" /><path clip-path=\"url(#clip740)\" d=\"M1950.08 141.324 L1966.4 141.324 L1966.4 145.259 L1944.46 145.259 L1944.46 141.324 Q1947.12 138.569 1951.7 133.939 Q1956.31 129.287 1957.49 127.944 Q1959.74 125.421 1960.62 123.685 Q1961.52 121.926 1961.52 120.236 Q1961.52 117.481 1959.57 115.745 Q1957.65 114.009 1954.55 114.009 Q1952.35 114.009 1949.9 114.773 Q1947.47 115.537 1944.69 117.088 L1944.69 112.365 Q1947.51 111.231 1949.97 110.652 Q1952.42 110.074 1954.46 110.074 Q1959.83 110.074 1963.02 112.759 Q1966.22 115.444 1966.22 119.935 Q1966.22 122.064 1965.41 123.986 Q1964.62 125.884 1962.51 128.476 Q1961.94 129.148 1958.83 132.365 Q1955.73 135.56 1950.08 141.324 Z\" fill=\"#000000\" fill-rule=\"evenodd\" fill-opacity=\"1\" /><polyline clip-path=\"url(#clip743)\" style=\"stroke:#ff0000; stroke-linecap:butt; stroke-linejoin:round; stroke-width:4; stroke-opacity:1; fill:none\" points=\"\n  2063.77,1077.71 2066.33,890.908 2068.89,696.468 2071.45,719.397 2074.01,605.646 2076.57,1052.77 2079.12,878.186 2081.68,263.873 2084.24,77.2578 2086.8,330.425 \n  2089.36,433.298 2091.92,444.902 2094.48,288.495 2097.03,358.965 2099.59,433.439 2102.15,494.068 2104.71,625.549 2107.27,422.948 2109.83,550.739 2112.39,614.71 \n  2114.94,578.557 2117.5,669.338 2120.06,587.274 2122.62,560.325 2125.18,753.807 2127.74,644.168 2130.3,313.577 2132.85,277.083 2135.41,390.98 2137.97,408.693 \n  2140.53,476.847 2143.09,394.353 2145.65,327.379 2148.21,356.443 2150.76,420.214 2153.32,399.862 2155.88,292.315 2158.44,343.267 2161,530.824 2163.56,462.688 \n  2166.12,508.896 2168.68,570.036 2171.23,499.48 2173.79,749.985 2176.35,686.525 2178.91,509.423 2181.47,709.843 2184.03,768.143 2186.59,669.184 2189.14,832.693 \n  2191.7,700.863 2194.26,687.423 2196.82,741.14 2199.38,661.32 2201.94,685.837 2204.5,729.173 2207.05,634.446 2209.61,672.809 2212.17,517.876 2214.73,605.646 \n  2217.29,489.509 2219.85,432.284 2222.41,211.143 2224.96,373.814 2227.52,284.282 2230.08,381.794 2232.64,374.576 2235.2,374.709 2237.76,302.833 2240.32,407.278 \n  2242.87,412.876 2245.43,374.399 2247.99,433.905 2250.55,488.07 2253.11,527.511 2255.67,515.549 2258.23,495.148 2260.79,358.726 2263.34,479.779 2265.9,499.699 \n  2268.46,511.912 2271.02,518.429 2273.58,492.916 2276.14,499.356 2278.7,541.953 2281.25,546.833 2283.81,598.556 2286.37,623.086 2288.93,640.913 2291.49,641.442 \n  2294.05,701.723 2296.61,760.759 2299.16,738.365 2301.72,701.672 2304.28,650.982 2306.84,642.545 2309.4,649.141 2311.96,622.921 2314.52,593.54 2317.07,612.556 \n  2319.63,566.182 2322.19,651.172 2324.75,655.596 2327.31,575.725 2329.87,601.277 2332.43,581.328 2334.98,577.3 2337.54,552.447 2340.1,485.939 2342.66,451.109 \n  2345.22,434.721 2347.78,370.841 2350.34,375.844 2352.9,376.25 2355.45,412.086 2358.01,426.16 2360.57,406.272 2363.13,480.898 2365.69,431.39 2368.25,480.856 \n  2370.81,557.299 2373.36,530.206 2375.92,553.682 2378.48,593.934 2381.04,523.709 2383.6,603.206 2386.16,595.609 2388.72,599.886 2391.27,643.489 2393.83,648.165 \n  2396.39,670.718 2398.95,677.51 2401.51,668.478 2404.07,656.225 2406.63,596.968 2409.18,541.716 2411.74,536.491 2414.3,525.726 2416.86,543.088 2419.42,527.293 \n  2421.98,533.837 2424.54,557.146 2427.09,577.685 2429.65,618.879 2432.21,603.388 2434.77,624.62 2437.33,605.361 2439.89,614.19 2442.45,594.544 2445.01,587.539 \n  2447.56,563.462 2450.12,560.931 2452.68,510.542 2455.24,507.157 2457.8,466.906 2460.36,456.684 2462.92,451.853 2465.47,491.351 2468.03,450.352 2470.59,390.139 \n  2473.15,376.576 2475.71,411.117 2478.27,416.811 2480.83,443.158 2483.38,442.236 2485.94,473.14 2488.5,474.447 2491.06,487.533 2493.62,490.488 2496.18,575.079 \n  2498.74,620.695 2501.29,636.688 2503.85,672.922 2506.41,693.322 2508.97,752.541 2511.53,749.473 2514.09,861.671 2516.65,808.223 2519.2,614.981 2521.76,642.937 \n  2524.32,608.582 2526.88,661.265 2529.44,650.451 2532,642.401 2534.56,664.746 2537.12,703.769 2539.67,688.399 2542.23,707.727 2544.79,703.719 2547.35,813.992 \n  2549.91,537.619 2552.47,563.698 2555.03,770.477 2557.58,745.508 2560.14,854.355 2562.7,768.836 2565.26,745.744 2567.82,764.112 2570.38,776.293 2572.94,757.042 \n  2575.49,712.299 2578.05,755.689 2580.61,733.47 2583.17,740.296 2585.73,667.833 2588.29,664.392 2590.85,661.956 2593.4,676.721 2595.96,702.116 2598.52,716.418 \n  2601.08,728.486 2603.64,794.543 2606.2,786.027 2608.76,747.924 2611.31,689.319 2613.87,754.071 2616.43,750.438 2618.99,684.556 2621.55,658.687 2624.11,602.493 \n  2626.67,552.673 2629.23,604.875 2631.78,653.881 2634.34,627.753 2636.9,593.777 2639.46,659.121 2642.02,682.748 2644.58,687.908 2647.14,647.425 2649.69,642.812 \n  2652.25,550.982 2654.81,549.65 2657.37,465.115 2659.93,493.519 2662.49,530.992 2665.05,508.179 2667.6,473.928 2670.16,550.969 2672.72,586.605 2675.28,606.3 \n  2677.84,578.975 2680.4,608.882 2682.96,604.351 2685.51,602.411 2688.07,607.586 2690.63,597.249 2693.19,642.03 2695.75,625.368 2698.31,590.511 2700.87,618.801 \n  2703.42,603.009 2705.98,580.088 2708.54,606.95 2711.1,545.113 2713.66,595.493 2716.22,597.429 2718.78,586.164 2721.34,580.741 2723.89,542.687 2726.45,533.158 \n  2729.01,564.451 2731.57,514.231 2734.13,540.657 2736.69,565.047 2739.25,530.564 2741.8,569.477 2744.36,549.682 2746.92,611.084 2749.48,574.663 2752.04,561.591 \n  2754.6,582.256 2757.16,610.877 2759.71,670.304 2762.27,651.572 2764.83,570.996 2767.39,685.597 2769.95,682.062 2772.51,685.673 2775.07,726.381 2777.62,591.421 \n  2780.18,589.25 2782.74,598.894 2785.3,509.296 2787.86,592.193 2790.42,565.737 2792.98,497.324 2795.53,586.059 2798.09,602.147 2800.65,601.654 2803.21,615.138 \n  2805.77,553.653 2808.33,520.485 2810.89,556.525 2813.45,559.331 2816,620.223 2818.56,649.453 2821.12,643.642 2823.68,648.585 2826.24,661.661 2828.8,654.44 \n  2831.36,580.129 2833.91,549.574 2836.47,525.342 2839.03,543.017 2841.59,548.191 2844.15,555.223 2846.71,499.918 2849.27,574.034 2851.82,504.912 2854.38,574.945 \n  2856.94,551.895 2859.5,547.101 2862.06,574.139 2864.62,564.394 2867.18,491.17 2869.73,572.755 2872.29,599.189 2874.85,615.166 2877.41,574.169 2879.97,564.642 \n  2882.53,601.683 2885.09,650.949 2887.64,614.068 2890.2,567.48 2892.76,621.641 2895.32,657.7 2897.88,647.357 2900.44,706.144 2903,629.338 2905.56,583.405 \n  2908.11,612.915 2910.67,570.594 2913.23,597.409 2915.79,599.576 2918.35,553.447 2920.91,602.508 2923.47,700.893 2926.02,695.42 2928.58,688.77 2931.14,680.077 \n  2933.7,719.721 2936.26,776.095 2938.82,890.635 2941.38,846.022 2943.93,803.268 2946.49,858.986 2949.05,878.359 2951.61,858.556 2954.17,884.722 2956.73,810.942 \n  2959.29,812.039 2961.84,846.59 2964.4,750.516 2966.96,705.032 2969.52,703.548 2972.08,784.535 2974.64,810.905 2977.2,751.182 2979.75,602.032 2982.31,616.502 \n  2984.87,656.97 2987.43,557.951 2989.99,439.052 2992.55,263.76 2995.11,238.951 2997.67,399.513 3000.22,410.571 3002.78,391.987 3005.34,400.593 3007.9,283.604 \n  3010.46,413.036 3013.02,505.53 3015.58,502.935 3018.13,481.289 3020.69,427.261 3023.25,322.981 3025.81,391.415 3028.37,360.312 3030.93,372.701 3033.49,422.296 \n  3036.04,520.723 3038.6,562.08 3041.16,677.418 3043.72,695.957 3046.28,752.69 3048.84,761.514 3051.4,746.852 3053.95,638.291 3056.51,670.936 3059.07,579.767 \n  3061.63,530.087 3064.19,537.927 3066.75,531.534 3069.31,532.565 3071.86,562.847 3074.42,561.672 3076.98,583.768 3079.54,651.161 3082.1,642.139 3084.66,627.094 \n  3087.22,585.779 3089.78,574.98 3092.33,570.745 3094.89,549.716 3097.45,540.36 3100.01,535.337 3102.57,581.607 3105.13,581.15 3107.69,589.338 3110.24,610.145 \n  3112.8,618.15 3115.36,599.038 3117.92,618.53 3120.48,611.239 3123.04,600.402 3125.6,596.931 3128.15,625.913 3130.71,588.861 3133.27,626.645 3135.83,610.925 \n  3138.39,614.116 3140.95,605.292 3143.51,695.334 3146.06,639.654 3148.62,684.753 3151.18,657.386 3153.74,686.845 3156.3,701.109 3158.86,794.592 3161.42,699.116 \n  3163.97,728.879 3166.53,763.301 3169.09,783.094 3171.65,723.415 3174.21,742.98 3176.77,668.14 3179.33,710.133 3181.89,683.385 3184.44,709.677 3187,744.172 \n  3189.56,825.883 3192.12,768.326 3194.68,779.227 3197.24,677.336 3199.8,711.485 3202.35,666.415 3204.91,635.507 3207.47,602.309 3210.03,547.458 3212.59,536.166 \n  3215.15,561.803 3217.71,474.828 3220.26,523.829 3222.82,507.392 3225.38,439.052 3227.94,569.503 3230.5,549.583 3233.06,571.665 3235.62,615.305 3238.17,564.067 \n  3240.73,540.743 3243.29,587.968 3245.85,441.429 3248.41,456.694 3250.97,467.976 3253.53,515.439 3256.08,518.134 3258.64,500.862 3261.2,495.027 3263.76,544.063 \n  3266.32,546.122 3268.88,580.727 3271.44,538.8 3274,526.777 3276.55,505.447 3279.11,445.893 3281.67,386.371 3284.23,372.461 3286.79,406.178 3289.35,419.155 \n  3291.91,397.157 3294.46,431.249 3297.02,412.705 3299.58,481.429 3302.14,523.684 3304.7,525.775 3307.26,562.675 3309.82,551.338 3312.37,488.889 3314.93,526.721 \n  3317.49,517.967 3320.05,505.093 3322.61,504.884 3325.17,516.227 3327.73,471.435 3330.28,445.497 3332.84,441.688 3335.4,455.041 3337.96,476.831 3340.52,521.007 \n  3343.08,504.704 3345.64,555.574 3348.19,486.325 3350.75,550.641 3353.31,565.4 3355.87,537.486 3358.43,503.47 3360.99,534.368 3363.55,553.55 3366.11,607.177 \n  3368.66,557.713 3371.22,600.148 3373.78,613.063 3376.34,602.893 3378.9,595.496 3381.46,590.007 3384.02,558.525 3386.57,549.464 3389.13,565.855 3391.69,569.26 \n  3394.25,529.451 3396.81,515.125 3399.37,541.101 3401.93,471.827 3404.48,487.037 3407.04,477.679 3409.6,488.696 3412.16,511.277 3414.72,523.281 3417.28,490.683 \n  3419.84,445.637 3422.39,430.182 3424.95,429.029 3427.51,462.304 3430.07,464.587 3432.63,483.879 3435.19,497.34 3437.75,509.544 3440.3,544.644 3442.86,579.731 \n  3445.42,532.083 3447.98,711.546 3450.54,673.014 3453.1,581.032 3455.66,330.59 3458.22,368.97 3460.77,466.989 3463.33,453.303 3465.89,546.745 3468.45,589.001 \n  3471.01,420.734 3473.57,546.237 3476.13,572.036 3478.68,599.724 3481.24,680.172 3483.8,513.934 3486.36,514.006 3488.92,672.356 3491.48,650.681 3494.04,626.076 \n  3496.59,510.69 3499.15,455.392 3501.71,414.149 3504.27,425.675 3506.83,438.736 3509.39,737.016 \n  \"/>\n<path clip-path=\"url(#clip740)\" d=\"\nM3051.03 1072.38 L3501.68 1072.38 L3501.68 968.698 L3051.03 968.698  Z\n  \" fill=\"#ffffff\" fill-rule=\"evenodd\" fill-opacity=\"1\"/>\n<polyline clip-path=\"url(#clip740)\" style=\"stroke:#000000; stroke-linecap:butt; stroke-linejoin:round; stroke-width:4; stroke-opacity:1; fill:none\" points=\"\n  3051.03,1072.38 3501.68,1072.38 3501.68,968.698 3051.03,968.698 3051.03,1072.38 \n  \"/>\n<polyline clip-path=\"url(#clip740)\" style=\"stroke:#ff0000; stroke-linecap:butt; stroke-linejoin:round; stroke-width:4; stroke-opacity:1; fill:none\" points=\"\n  3087.03,1020.54 3303.03,1020.54 \n  \"/>\n<path clip-path=\"url(#clip740)\" d=\"M3354.86 1007.86 L3345.37 1033.93 L3364.38 1033.93 L3354.86 1007.86 M3339.03 1037.82 L3352.22 1003.26 L3357.53 1003.26 L3370.7 1037.82 L3339.03 1037.82 Z\" fill=\"#000000\" fill-rule=\"evenodd\" fill-opacity=\"1\" /><path clip-path=\"url(#clip740)\" d=\"M3409.28 1012.89 L3409.28 1016.87 Q3407.48 1015.87 3405.65 1015.39 Q3403.84 1014.88 3401.99 1014.88 Q3397.85 1014.88 3395.56 1017.52 Q3393.27 1020.13 3393.27 1024.88 Q3393.27 1029.62 3395.56 1032.26 Q3397.85 1034.88 3401.99 1034.88 Q3403.84 1034.88 3405.65 1034.39 Q3407.48 1033.88 3409.28 1032.89 L3409.28 1036.82 Q3407.5 1037.66 3405.58 1038.07 Q3403.68 1038.49 3401.53 1038.49 Q3395.67 1038.49 3392.22 1034.81 Q3388.77 1031.13 3388.77 1024.88 Q3388.77 1018.54 3392.25 1014.9 Q3395.74 1011.27 3401.81 1011.27 Q3403.77 1011.27 3405.65 1011.68 Q3407.52 1012.08 3409.28 1012.89 Z\" fill=\"#000000\" fill-rule=\"evenodd\" fill-opacity=\"1\" /><path clip-path=\"url(#clip740)\" d=\"M3420.9 1004.53 L3420.9 1011.89 L3429.68 1011.89 L3429.68 1015.2 L3420.9 1015.2 L3420.9 1029.28 Q3420.9 1032.45 3421.76 1033.35 Q3422.64 1034.25 3425.3 1034.25 L3429.68 1034.25 L3429.68 1037.82 L3425.3 1037.82 Q3420.37 1037.82 3418.5 1035.99 Q3416.62 1034.14 3416.62 1029.28 L3416.62 1015.2 L3413.5 1015.2 L3413.5 1011.89 L3416.62 1011.89 L3416.62 1004.53 L3420.9 1004.53 Z\" fill=\"#000000\" fill-rule=\"evenodd\" fill-opacity=\"1\" /></svg>\n"
     },
     "execution_count": 18,
     "metadata": {},
     "output_type": "execute_result"
    }
   ],
   "source": [
    "pdnt_weekly = @df national_weekly plot(:Date, :diff_logNt, \n",
    "    label = \"Δ nt\", color = \"blue\", leg = :bottomright);\n",
    "pdct_weekly = @df national_weekly plot(:Date, :diff_logCt, \n",
    "    label = \"Δ ct\", color = \"red\", leg = :bottomright);\n",
    "plot(pdnt_weekly, pdct_weekly, layout = (1, 2), size = (900, 300))"
   ]
  },
  {
   "cell_type": "code",
   "execution_count": null,
   "id": "345abf9a",
   "metadata": {},
   "outputs": [],
   "source": [
    "ols_national_weekly = lm(@formula(diff_logCt ~ diff_logNt), national_weekly)"
   ]
  },
  {
   "cell_type": "code",
   "execution_count": null,
   "id": "d8f960ab",
   "metadata": {},
   "outputs": [],
   "source": [
    "@df national_weekly scatter(:diff_logNt, :diff_logCt, \n",
    "    label=:none, aspect_ratio=:equal, xlims = (-0.2, 0.2), ylims = (-0.2, 0.2))\n",
    "@df national_weekly plot!(:diff_logNt, :diff_logNt * coef(ols_national_weekly)[2], \n",
    "                      label = string(\"(slope = \",round(coef(ols_national_weekly)[2],digits=3), \")\"),\n",
    "                       xlabel = \"Δ nt\",\n",
    "                      ylabel = \"Δ ct\",\n",
    "                      title = \"Weekly\")\n",
    "@df national_weekly hline!([quantile(:diff_logCt, 0.005)], color = :blue, label=:none)\n",
    "@df national_weekly hline!([quantile(:diff_logCt, 0.995)], color = :blue, label=:none)\n",
    "@df national_weekly vline!([quantile(:diff_logNt, 0.005)], color = :blue, label=:none)\n",
    "@df national_weekly vline!([quantile(:diff_logNt, 0.995)], color = :blue, label=:none)"
   ]
  },
  {
   "cell_type": "code",
   "execution_count": null,
   "id": "0863707e",
   "metadata": {},
   "outputs": [],
   "source": [
    "@df national_weekly scatter(:diff_logNt, :diff_logCt, \n",
    "    label=:none, aspect_ratio=:equal, xlims = (-0.2, 0.2), ylims = (-0.22, 0.25))\n",
    "@df national_weekly plot!(:diff_logNt, :diff_logNt * coef(ols_national_weekly)[2], \n",
    "                      label = :none,\n",
    "                       xlabel = \"Δ nt\",\n",
    "                      ylabel = \"Δ ct\",\n",
    "                      title = \"Slope 0.793\")"
   ]
  },
  {
   "cell_type": "markdown",
   "id": "6531df4a",
   "metadata": {},
   "source": [
    "### Section 1.1.3: Weekday"
   ]
  },
  {
   "cell_type": "code",
   "execution_count": null,
   "id": "087bdfb4",
   "metadata": {},
   "outputs": [],
   "source": [
    "pdnt_7dd = @df national_7dd plot(:Date, :Nt, yaxis = :log, ylabel = \"Nt values\",\n",
    "    label = \"Δ nt\", color = \"blue\", leg = :bottomright);\n",
    "pdct_7dd = @df national_7dd plot(:Date, :Ct, yaxis = :log, ylabel = \"Ct values\",\n",
    "    label = \"Δ ct\", color = \"red\", leg = :bottomright);\n",
    "plot(pdnt_7dd, pdct_7dd, layout = (1, 2), size = (700, 300))"
   ]
  },
  {
   "cell_type": "code",
   "execution_count": null,
   "id": "7b6500b1",
   "metadata": {},
   "outputs": [],
   "source": [
    "ols_national_7dd = lm(@formula(diff_logCt ~ diff_logNt), national_7dd)"
   ]
  },
  {
   "cell_type": "code",
   "execution_count": null,
   "id": "bc127ccb",
   "metadata": {},
   "outputs": [],
   "source": [
    "@df national_7dd scatter(:diff_logNt, :diff_logCt, label=:none)\n",
    "@df national_7dd plot!(:diff_logNt, :diff_logNt * coef(ols_national_7dd)[2], \n",
    "                      label = string(\"(slope = \",round(coef(ols_national_7dd)[2],digits=3), \")\"),\n",
    "                       xlabel = \"Δ7 nt\",\n",
    "                      ylabel = \"Δ7 ct\",\n",
    "                      title = \"Weekday\")\n",
    "@df national_7dd hline!([quantile(:diff_logCt, 0.005)], color = :blue, label=:none)\n",
    "@df national_7dd hline!([quantile(:diff_logCt, 0.995)], color = :blue, label=:none)\n",
    "@df national_7dd vline!([quantile(:diff_logNt, 0.005)], color = :blue, label=:none)\n",
    "@df national_7dd vline!([quantile(:diff_logNt, 0.995)], color = :blue, label=:none)"
   ]
  },
  {
   "cell_type": "markdown",
   "id": "25d3e2b3",
   "metadata": {},
   "source": [
    "## Section 1.2: Subsample Analysis <a class=\"anchor\" id=\"subsample\"></a>\n",
    "\n",
    "In this section, we divide the national data into subsamples, and redo the static analysis."
   ]
  },
  {
   "cell_type": "markdown",
   "id": "93453cf4",
   "metadata": {},
   "source": [
    "### Section 1.2.1: Daily "
   ]
  },
  {
   "cell_type": "code",
   "execution_count": null,
   "id": "894ed66b",
   "metadata": {},
   "outputs": [],
   "source": [
    "lm(@formula(diff_logCt ~ 0 + subsample + diff_logNt & subsample), national_daily)"
   ]
  },
  {
   "cell_type": "code",
   "execution_count": null,
   "id": "9352f916",
   "metadata": {},
   "outputs": [],
   "source": [
    "p = [];\n",
    "national_daily_subsample = groupby(national_daily, :subsample);\n",
    "p_i = 0;\n",
    "for g in national_daily_subsample\n",
    "    p_i = p_i + 1;\n",
    "    start_date = g.Date[1];\n",
    "    ols = lm(@formula(diff_logCt ~ diff_logNt), g);\n",
    "    pg = @df g scatter(:diff_logNt, :diff_logCt, label=:none)\n",
    "         @df g plot!(:diff_logNt, :diff_logNt * coef(ols)[2], \n",
    "                      label = string(\"(slope = \",round(coef(ols)[2],digits=3), \")\"),\n",
    "                       xlabel = \"Δ nt\",\n",
    "                      ylabel = \"Δ ct\",\n",
    "                      title = string(\"Sample \", p_i, \" from \", start_date))\n",
    "    push!(p, pg)\n",
    "end\n",
    "plot(p..., size = (700, 3000), layout = (Int(length(p)), 1))"
   ]
  },
  {
   "cell_type": "markdown",
   "id": "e0e0ef97",
   "metadata": {},
   "source": [
    "### Section 1.2.2: Weekly"
   ]
  },
  {
   "cell_type": "code",
   "execution_count": null,
   "id": "9fcae10f",
   "metadata": {},
   "outputs": [],
   "source": [
    "lm(@formula(diff_logCt ~ 0 + subsample + diff_logNt & subsample), national_weekly)"
   ]
  },
  {
   "cell_type": "code",
   "execution_count": null,
   "id": "dc7e4cf3",
   "metadata": {},
   "outputs": [],
   "source": [
    "pW = [];\n",
    "national_weekly_subsample = groupby(national_weekly, :subsample);\n",
    "p_i = 0;\n",
    "for g in national_weekly_subsample\n",
    "    p_i = p_i + 1;\n",
    "    start_date = g.Date[1];\n",
    "    ols = lm(@formula(diff_logCt ~ diff_logNt), g);\n",
    "    pg = @df g scatter(:diff_logNt, :diff_logCt, label=:none)\n",
    "         @df g plot!(:diff_logNt, :diff_logNt * coef(ols)[2], \n",
    "                      label = string(\"(slope = \",round(coef(ols)[2],digits=3), \")\"),\n",
    "                       xlabel = \"Δ nt\",\n",
    "                      ylabel = \"Δ ct\",\n",
    "                      title = string(\"Sample \", p_i, \" from \", start_date))\n",
    "    push!(pW, pg)\n",
    "end\n",
    "plot(pW..., size = (700, 3000), layout = (Int(length(p)), 1))"
   ]
  },
  {
   "cell_type": "markdown",
   "id": "ebc4112f",
   "metadata": {},
   "source": [
    "### Section 1.2.3: Weekday"
   ]
  },
  {
   "cell_type": "code",
   "execution_count": null,
   "id": "1bb0140c",
   "metadata": {},
   "outputs": [],
   "source": [
    "lm(@formula(diff_logCt ~ 0 + subsample + diff_logNt & subsample), national_7dd)"
   ]
  },
  {
   "cell_type": "code",
   "execution_count": null,
   "id": "9eb930dc",
   "metadata": {},
   "outputs": [],
   "source": [
    "p7dd = [];\n",
    "national_7dd_subsample = groupby(national_7dd, :subsample);\n",
    "p_i = 0;\n",
    "for g in national_7dd_subsample\n",
    "    start_date = g.Date[1];\n",
    "    p_i = p_i + 1;\n",
    "    ols = lm(@formula(diff_logCt ~ diff_logNt), g);\n",
    "    pg = @df g scatter(:diff_logNt, :diff_logCt, label=:none)\n",
    "         @df g plot!(:diff_logNt, :diff_logNt * coef(ols)[2], \n",
    "                      label = string(\"(slope = \",round(coef(ols)[2],digits=3), \")\"),\n",
    "                       xlabel = \"Δ nt\",\n",
    "                      ylabel = \"Δ ct\",\n",
    "                      title = string(\"Sample \", p_i, \" from \", start_date))\n",
    "    push!(p7dd, pg)\n",
    "end\n",
    "plot(p7dd..., size = (600, 3000), layout = (Int(length(p)), 1))"
   ]
  },
  {
   "cell_type": "markdown",
   "id": "0977a7fc",
   "metadata": {},
   "source": [
    "## Section 1.3: Autocorrelation Investigation<a class=\"anchor\" id=\"static_auto\"></a>"
   ]
  },
  {
   "cell_type": "markdown",
   "id": "76ce2c6d",
   "metadata": {},
   "source": [
    "### Section 1.3.1: Daily"
   ]
  },
  {
   "cell_type": "code",
   "execution_count": null,
   "id": "141d4e17",
   "metadata": {},
   "outputs": [],
   "source": [
    "p1 = plot(bar(autocor(national_daily.diff_logCt, 1:30),  label = :none), \n",
    "    xlabel = \"lag\", title = \"ACF of Δ ct\");\n",
    "p2 = plot(bar(autocor(national_daily.diff_logNt, 1:30),  label = :none), \n",
    "    xlabel = \"lag\", title = \"ACF of Δ nt\");\n",
    "national_daily.ut = national_daily.diff_logCt .- national_daily.diff_logNt * coef(ols_national_daily)[2];\n",
    "p3 = plot(bar(autocor(national_daily.ut, 1:30),  label = :none), \n",
    "    xlabel = \"lag\", title = \"ACF of ut\");\n",
    "plot(p1, p2, p3, layout = (1, 3),  ylims = (-0.5, 0.8), size = (900, 400))"
   ]
  },
  {
   "cell_type": "markdown",
   "id": "e802bfe1",
   "metadata": {},
   "source": [
    "### Section 1.3.2: Weekly"
   ]
  },
  {
   "cell_type": "code",
   "execution_count": null,
   "id": "23334382",
   "metadata": {},
   "outputs": [],
   "source": [
    "p1 = plot(bar(autocor(national_weekly.diff_logCt, 1:30),  label = :none), \n",
    "    xlabel = \"lag\", title = \"ACF of Δ ct\");\n",
    "p2 = plot(bar(autocor(national_weekly.diff_logNt, 1:30),  label = :none), \n",
    "    xlabel = \"lag\", title = \"ACF of Δ nt\");\n",
    "national_weekly.ut = national_weekly.diff_logCt .- national_weekly.diff_logNt * coef(ols_national_weekly)[2];\n",
    "p3 = plot(bar(autocor(national_weekly.ut, 1:30),  label = :none), \n",
    "    xlabel = \"lag\", title = \"ACF of ut\");\n",
    "plot(p1, p2, p3, layout = (1, 3), ylims = (-0.1, 0.85), size = (900, 400))"
   ]
  },
  {
   "cell_type": "markdown",
   "id": "eaf1a1cd",
   "metadata": {},
   "source": [
    "### Section 1.3.3: Weekday"
   ]
  },
  {
   "cell_type": "code",
   "execution_count": null,
   "id": "be700920",
   "metadata": {},
   "outputs": [],
   "source": [
    "p1 = plot(bar(autocor(national_7dd.diff_logCt, 1:30),  label = :none), \n",
    "    xlabel = \"lag\", title = \"ACF of Δ ct\");\n",
    "p2 = plot(bar(autocor(national_7dd.diff_logNt, 1:30),  label = :none), \n",
    "    xlabel = \"lag\", title = \"ACF of Δ nt\");\n",
    "national_7dd.ut = national_7dd.diff_logCt .- national_7dd.diff_logNt * coef(ols_national_7dd)[2];\n",
    "p3 = plot(bar(autocor(national_7dd.ut, 1:30),  label = :none), \n",
    "    xlabel = \"lag\", title = \"ACF of ut\");\n",
    "plot(p1, p2, p3, layout = (1, 3), ylims = (-0.1, 0.85), size = (900, 400))"
   ]
  },
  {
   "cell_type": "markdown",
   "id": "535d2ec8",
   "metadata": {},
   "source": [
    "## Section 1.4: Adjusted Case Numbers<a class=\"anchor\" id=\"static_adjust_case\"></a>\n",
    "\n",
    "For a fixed N,\n",
    "\n",
    "$$\\tilde{C} = C \\left( \\frac{N}{N_t} \\right)^{\\hat{\\beta}}.$$"
   ]
  },
  {
   "cell_type": "markdown",
   "id": "eb5776c5",
   "metadata": {},
   "source": [
    "### Section 1.4.1: Daily"
   ]
  },
  {
   "cell_type": "code",
   "execution_count": null,
   "id": "12fa90e1",
   "metadata": {},
   "outputs": [],
   "source": [
    "national_daily.C_tilde = national_daily.Ct .* (fixN_daily ./ national_daily.Nt) .^ coef(ols_national_daily)[2];\n",
    "@df filter(:C_tilde => C_tilde -> !isnan(C_tilde), national_daily) plot(:Date, :C_tilde, yaxis = :log, \n",
    "    label = \"OLS Adjusted log(Ct)\", xlabel = \"Date\", ylabel = \"Values of Ct\")\n",
    "@df filter(:C_tilde => C_tilde -> !isnan(C_tilde), national_daily) plot!(:Date, :Ct, yaxis = :log, \n",
    "    label = \"Observed log(Ct)\", leg = :bottomright)"
   ]
  },
  {
   "cell_type": "markdown",
   "id": "818d1071",
   "metadata": {},
   "source": [
    "### Section 1.4.2: Weekly"
   ]
  },
  {
   "cell_type": "code",
   "execution_count": null,
   "id": "4d9c2008",
   "metadata": {},
   "outputs": [],
   "source": [
    "national_weekly.C_tilde = national_weekly.Ct .* (fixN_weekly ./ national_weekly.Nt) .^ coef(ols_national_weekly)[2];\n",
    "@df filter(:C_tilde => C_tilde -> !isnan(C_tilde), national_weekly) plot(:Date, :C_tilde, yaxis = :log, \n",
    "    label = \"OLS Adjusted log(Ct)\", xlabel = \"Date\", ylabel = \"Values of Ct\")\n",
    "@df filter(:C_tilde => C_tilde -> !isnan(C_tilde), national_weekly) plot!(:Date, :Ct, yaxis = :log, \n",
    "    label = \"Observed log(Ct)\", leg = :bottomright)"
   ]
  },
  {
   "cell_type": "markdown",
   "id": "16f8611a",
   "metadata": {},
   "source": [
    "### Section 1.4.3: Weekday"
   ]
  },
  {
   "cell_type": "code",
   "execution_count": null,
   "id": "f60817a8",
   "metadata": {},
   "outputs": [],
   "source": [
    "national_7dd.C_tilde = national_7dd.Ct .* (fixN_7dd ./ national_7dd.Nt) .^ coef(ols_national_7dd)[2];\n",
    "@df filter(:C_tilde => C_tilde -> !isnan(C_tilde), national_7dd) plot(:Date, :C_tilde, yaxis = :log, \n",
    "    label = \"OLS Adjusted log(Ct)\", xlabel = \"Date\", ylabel = \"Values of Ct\")\n",
    "@df filter(:C_tilde => C_tilde -> !isnan(C_tilde), national_7dd) plot!(:Date, :Ct, yaxis = :log, \n",
    "    label = \"Observed log(Ct)\", leg = :bottomright)"
   ]
  },
  {
   "cell_type": "markdown",
   "id": "b1427a29",
   "metadata": {},
   "source": [
    "# Section 2: Dynamic Analysis, time-varying $\\beta$ <a class=\"anchor\" id=\"dynamic_analysis\"></a>"
   ]
  },
  {
   "cell_type": "markdown",
   "id": "9f818db1",
   "metadata": {},
   "source": [
    "## Section 2.1: Rolling OLS <a class=\"anchor\" id=\"dynamic_rolling_ols\"></a>"
   ]
  },
  {
   "cell_type": "code",
   "execution_count": 5,
   "id": "d6ee387b",
   "metadata": {},
   "outputs": [],
   "source": [
    "nobs = 60;  # Number of observation in each estimation window, bigger window smoother\n",
    "\n",
    "roll_beta_national_daily = [];\n",
    "roll_beta_national_weekly = [];\n",
    "roll_beta_national_7dd = [];\n",
    "\n",
    "for i in 1:(N_daily - nobs + 1)\n",
    "    v = @pipe national_daily[i : i + nobs - 1, :] |>\n",
    "    lm(@formula(diff_logCt ~ diff_logNt), _) |>\n",
    "    coef(_)[2] |>\n",
    "    round(_, digits = 3)\n",
    "    push!(roll_beta_national_daily, v)\n",
    "end\n",
    "\n",
    "\n",
    "for i in 1:(N_weekly - nobs + 1)\n",
    "    v = @pipe national_weekly[i : i + nobs - 1, :] |>\n",
    "    lm(@formula(diff_logCt ~ diff_logNt), _) |>\n",
    "    coef(_)[2] |>\n",
    "    round(_, digits = 3)\n",
    "    push!(roll_beta_national_weekly, v)\n",
    "end\n",
    "\n",
    "for i in 1:(N_7dd - nobs + 1)\n",
    "    v = @pipe national_7dd[i : i + nobs - 1, :] |>\n",
    "    lm(@formula(diff_logCt ~ diff_logNt), _) |>\n",
    "    coef(_)[2] |>\n",
    "    round(_, digits = 3)\n",
    "    push!(roll_beta_national_7dd, v)\n",
    "end"
   ]
  },
  {
   "cell_type": "markdown",
   "id": "70dd3aac",
   "metadata": {},
   "source": [
    "### Section 2.1.1: Daily "
   ]
  },
  {
   "cell_type": "code",
   "execution_count": null,
   "id": "596ec3e7",
   "metadata": {},
   "outputs": [],
   "source": [
    "plot(national_daily.Date[1:(N_daily - nobs + 1)], roll_beta_national_daily, \n",
    "label = :none,\n",
    "xlabel = \"First day of each window\",\n",
    "ylabel = \"Rolling OLS \\\\beta_t\")"
   ]
  },
  {
   "cell_type": "markdown",
   "id": "162b62db",
   "metadata": {},
   "source": [
    "### Section 2.1.2: Weekly"
   ]
  },
  {
   "cell_type": "code",
   "execution_count": 17,
   "id": "35f5c6ef",
   "metadata": {},
   "outputs": [
    {
     "data": {
      "image/svg+xml": "<?xml version=\"1.0\" encoding=\"utf-8\"?>\n<svg xmlns=\"http://www.w3.org/2000/svg\" xmlns:xlink=\"http://www.w3.org/1999/xlink\" width=\"600\" height=\"400\" viewBox=\"0 0 2400 1600\">\n<defs>\n  <clipPath id=\"clip700\">\n    <rect x=\"0\" y=\"0\" width=\"2400\" height=\"1600\"/>\n  </clipPath>\n</defs>\n<path clip-path=\"url(#clip700)\" d=\"\nM0 1600 L2400 1600 L2400 0 L0 0  Z\n  \" fill=\"#ffffff\" fill-rule=\"evenodd\" fill-opacity=\"1\"/>\n<defs>\n  <clipPath id=\"clip701\">\n    <rect x=\"480\" y=\"0\" width=\"1681\" height=\"1600\"/>\n  </clipPath>\n</defs>\n<path clip-path=\"url(#clip700)\" d=\"\nM265.158 1423.18 L2352.76 1423.18 L2352.76 47.2441 L265.158 47.2441  Z\n  \" fill=\"#ffffff\" fill-rule=\"evenodd\" fill-opacity=\"1\"/>\n<defs>\n  <clipPath id=\"clip702\">\n    <rect x=\"265\" y=\"47\" width=\"2089\" height=\"1377\"/>\n  </clipPath>\n</defs>\n<polyline clip-path=\"url(#clip702)\" style=\"stroke:#000000; stroke-linecap:butt; stroke-linejoin:round; stroke-width:2; stroke-opacity:0.1; fill:none\" points=\"\n  324.241,1423.18 324.241,47.2441 \n  \"/>\n<polyline clip-path=\"url(#clip702)\" style=\"stroke:#000000; stroke-linecap:butt; stroke-linejoin:round; stroke-width:2; stroke-opacity:0.1; fill:none\" points=\"\n  802.977,1423.18 802.977,47.2441 \n  \"/>\n<polyline clip-path=\"url(#clip702)\" style=\"stroke:#000000; stroke-linecap:butt; stroke-linejoin:round; stroke-width:2; stroke-opacity:0.1; fill:none\" points=\"\n  1270.04,1423.18 1270.04,47.2441 \n  \"/>\n<polyline clip-path=\"url(#clip702)\" style=\"stroke:#000000; stroke-linecap:butt; stroke-linejoin:round; stroke-width:2; stroke-opacity:0.1; fill:none\" points=\"\n  1744.88,1423.18 1744.88,47.2441 \n  \"/>\n<polyline clip-path=\"url(#clip702)\" style=\"stroke:#000000; stroke-linecap:butt; stroke-linejoin:round; stroke-width:2; stroke-opacity:0.1; fill:none\" points=\"\n  2223.61,1423.18 2223.61,47.2441 \n  \"/>\n<polyline clip-path=\"url(#clip700)\" style=\"stroke:#000000; stroke-linecap:butt; stroke-linejoin:round; stroke-width:4; stroke-opacity:1; fill:none\" points=\"\n  265.158,1423.18 2352.76,1423.18 \n  \"/>\n<polyline clip-path=\"url(#clip700)\" style=\"stroke:#000000; stroke-linecap:butt; stroke-linejoin:round; stroke-width:4; stroke-opacity:1; fill:none\" points=\"\n  324.241,1423.18 324.241,1404.28 \n  \"/>\n<polyline clip-path=\"url(#clip700)\" style=\"stroke:#000000; stroke-linecap:butt; stroke-linejoin:round; stroke-width:4; stroke-opacity:1; fill:none\" points=\"\n  802.977,1423.18 802.977,1404.28 \n  \"/>\n<polyline clip-path=\"url(#clip700)\" style=\"stroke:#000000; stroke-linecap:butt; stroke-linejoin:round; stroke-width:4; stroke-opacity:1; fill:none\" points=\"\n  1270.04,1423.18 1270.04,1404.28 \n  \"/>\n<polyline clip-path=\"url(#clip700)\" style=\"stroke:#000000; stroke-linecap:butt; stroke-linejoin:round; stroke-width:4; stroke-opacity:1; fill:none\" points=\"\n  1744.88,1423.18 1744.88,1404.28 \n  \"/>\n<polyline clip-path=\"url(#clip700)\" style=\"stroke:#000000; stroke-linecap:butt; stroke-linejoin:round; stroke-width:4; stroke-opacity:1; fill:none\" points=\"\n  2223.61,1423.18 2223.61,1404.28 \n  \"/>\n<path clip-path=\"url(#clip700)\" d=\"M196.036 1481.64 L212.355 1481.64 L212.355 1485.58 L190.411 1485.58 L190.411 1481.64 Q193.073 1478.89 197.656 1474.26 Q202.263 1469.61 203.443 1468.27 Q205.689 1465.74 206.568 1464.01 Q207.471 1462.25 207.471 1460.56 Q207.471 1457.8 205.527 1456.07 Q203.605 1454.33 200.503 1454.33 Q198.304 1454.33 195.851 1455.09 Q193.42 1455.86 190.642 1457.41 L190.642 1452.69 Q193.466 1451.55 195.92 1450.97 Q198.374 1450.39 200.411 1450.39 Q205.781 1450.39 208.976 1453.08 Q212.17 1455.77 212.17 1460.26 Q212.17 1462.39 211.36 1464.31 Q210.573 1466.2 208.466 1468.8 Q207.888 1469.47 204.786 1472.69 Q201.684 1475.88 196.036 1481.64 Z\" fill=\"#000000\" fill-rule=\"evenodd\" fill-opacity=\"1\" /><path clip-path=\"url(#clip700)\" d=\"M232.17 1454.1 Q228.559 1454.1 226.73 1457.66 Q224.925 1461.2 224.925 1468.33 Q224.925 1475.44 226.73 1479.01 Q228.559 1482.55 232.17 1482.55 Q235.804 1482.55 237.61 1479.01 Q239.438 1475.44 239.438 1468.33 Q239.438 1461.2 237.61 1457.66 Q235.804 1454.1 232.17 1454.1 M232.17 1450.39 Q237.98 1450.39 241.036 1455 Q244.114 1459.58 244.114 1468.33 Q244.114 1477.06 241.036 1481.67 Q237.98 1486.25 232.17 1486.25 Q226.36 1486.25 223.281 1481.67 Q220.226 1477.06 220.226 1468.33 Q220.226 1459.58 223.281 1455 Q226.36 1450.39 232.17 1450.39 Z\" fill=\"#000000\" fill-rule=\"evenodd\" fill-opacity=\"1\" /><path clip-path=\"url(#clip700)\" d=\"M256.36 1481.64 L272.679 1481.64 L272.679 1485.58 L250.735 1485.58 L250.735 1481.64 Q253.397 1478.89 257.98 1474.26 Q262.586 1469.61 263.767 1468.27 Q266.012 1465.74 266.892 1464.01 Q267.795 1462.25 267.795 1460.56 Q267.795 1457.8 265.85 1456.07 Q263.929 1454.33 260.827 1454.33 Q258.628 1454.33 256.174 1455.09 Q253.744 1455.86 250.966 1457.41 L250.966 1452.69 Q253.79 1451.55 256.244 1450.97 Q258.698 1450.39 260.735 1450.39 Q266.105 1450.39 269.299 1453.08 Q272.494 1455.77 272.494 1460.26 Q272.494 1462.39 271.684 1464.31 Q270.897 1466.2 268.79 1468.8 Q268.211 1469.47 265.11 1472.69 Q262.008 1475.88 256.36 1481.64 Z\" fill=\"#000000\" fill-rule=\"evenodd\" fill-opacity=\"1\" /><path clip-path=\"url(#clip700)\" d=\"M292.494 1454.1 Q288.883 1454.1 287.054 1457.66 Q285.248 1461.2 285.248 1468.33 Q285.248 1475.44 287.054 1479.01 Q288.883 1482.55 292.494 1482.55 Q296.128 1482.55 297.933 1479.01 Q299.762 1475.44 299.762 1468.33 Q299.762 1461.2 297.933 1457.66 Q296.128 1454.1 292.494 1454.1 M292.494 1450.39 Q298.304 1450.39 301.359 1455 Q304.438 1459.58 304.438 1468.33 Q304.438 1477.06 301.359 1481.67 Q298.304 1486.25 292.494 1486.25 Q286.684 1486.25 283.605 1481.67 Q280.549 1477.06 280.549 1468.33 Q280.549 1459.58 283.605 1455 Q286.684 1450.39 292.494 1450.39 Z\" fill=\"#000000\" fill-rule=\"evenodd\" fill-opacity=\"1\" /><path clip-path=\"url(#clip700)\" d=\"M309.901 1470.7 L322.378 1470.7 L322.378 1474.49 L309.901 1474.49 L309.901 1470.7 Z\" fill=\"#000000\" fill-rule=\"evenodd\" fill-opacity=\"1\" /><path clip-path=\"url(#clip700)\" d=\"M339.762 1454.1 Q336.151 1454.1 334.322 1457.66 Q332.517 1461.2 332.517 1468.33 Q332.517 1475.44 334.322 1479.01 Q336.151 1482.55 339.762 1482.55 Q343.396 1482.55 345.202 1479.01 Q347.03 1475.44 347.03 1468.33 Q347.03 1461.2 345.202 1457.66 Q343.396 1454.1 339.762 1454.1 M339.762 1450.39 Q345.572 1450.39 348.628 1455 Q351.706 1459.58 351.706 1468.33 Q351.706 1477.06 348.628 1481.67 Q345.572 1486.25 339.762 1486.25 Q333.952 1486.25 330.873 1481.67 Q327.818 1477.06 327.818 1468.33 Q327.818 1459.58 330.873 1455 Q333.952 1450.39 339.762 1450.39 Z\" fill=\"#000000\" fill-rule=\"evenodd\" fill-opacity=\"1\" /><path clip-path=\"url(#clip700)\" d=\"M358.743 1451.02 L380.965 1451.02 L380.965 1453.01 L368.419 1485.58 L363.535 1485.58 L375.34 1454.96 L358.743 1454.96 L358.743 1451.02 Z\" fill=\"#000000\" fill-rule=\"evenodd\" fill-opacity=\"1\" /><path clip-path=\"url(#clip700)\" d=\"M387.331 1470.7 L399.808 1470.7 L399.808 1474.49 L387.331 1474.49 L387.331 1470.7 Z\" fill=\"#000000\" fill-rule=\"evenodd\" fill-opacity=\"1\" /><path clip-path=\"url(#clip700)\" d=\"M417.192 1454.1 Q413.581 1454.1 411.752 1457.66 Q409.947 1461.2 409.947 1468.33 Q409.947 1475.44 411.752 1479.01 Q413.581 1482.55 417.192 1482.55 Q420.826 1482.55 422.632 1479.01 Q424.461 1475.44 424.461 1468.33 Q424.461 1461.2 422.632 1457.66 Q420.826 1454.1 417.192 1454.1 M417.192 1450.39 Q423.002 1450.39 426.058 1455 Q429.136 1459.58 429.136 1468.33 Q429.136 1477.06 426.058 1481.67 Q423.002 1486.25 417.192 1486.25 Q411.382 1486.25 408.303 1481.67 Q405.248 1477.06 405.248 1468.33 Q405.248 1459.58 408.303 1455 Q411.382 1450.39 417.192 1450.39 Z\" fill=\"#000000\" fill-rule=\"evenodd\" fill-opacity=\"1\" /><path clip-path=\"url(#clip700)\" d=\"M438.164 1481.64 L445.803 1481.64 L445.803 1455.28 L437.493 1456.95 L437.493 1452.69 L445.757 1451.02 L450.433 1451.02 L450.433 1481.64 L458.072 1481.64 L458.072 1485.58 L438.164 1485.58 L438.164 1481.64 Z\" fill=\"#000000\" fill-rule=\"evenodd\" fill-opacity=\"1\" /><path clip-path=\"url(#clip700)\" d=\"M674.771 1481.64 L691.091 1481.64 L691.091 1485.58 L669.146 1485.58 L669.146 1481.64 Q671.808 1478.89 676.392 1474.26 Q680.998 1469.61 682.179 1468.27 Q684.424 1465.74 685.304 1464.01 Q686.206 1462.25 686.206 1460.56 Q686.206 1457.8 684.262 1456.07 Q682.341 1454.33 679.239 1454.33 Q677.04 1454.33 674.586 1455.09 Q672.156 1455.86 669.378 1457.41 L669.378 1452.69 Q672.202 1451.55 674.656 1450.97 Q677.109 1450.39 679.146 1450.39 Q684.517 1450.39 687.711 1453.08 Q690.905 1455.77 690.905 1460.26 Q690.905 1462.39 690.095 1464.31 Q689.308 1466.2 687.202 1468.8 Q686.623 1469.47 683.521 1472.69 Q680.419 1475.88 674.771 1481.64 Z\" fill=\"#000000\" fill-rule=\"evenodd\" fill-opacity=\"1\" /><path clip-path=\"url(#clip700)\" d=\"M710.905 1454.1 Q707.294 1454.1 705.466 1457.66 Q703.66 1461.2 703.66 1468.33 Q703.66 1475.44 705.466 1479.01 Q707.294 1482.55 710.905 1482.55 Q714.54 1482.55 716.345 1479.01 Q718.174 1475.44 718.174 1468.33 Q718.174 1461.2 716.345 1457.66 Q714.54 1454.1 710.905 1454.1 M710.905 1450.39 Q716.715 1450.39 719.771 1455 Q722.85 1459.58 722.85 1468.33 Q722.85 1477.06 719.771 1481.67 Q716.715 1486.25 710.905 1486.25 Q705.095 1486.25 702.016 1481.67 Q698.961 1477.06 698.961 1468.33 Q698.961 1459.58 702.016 1455 Q705.095 1450.39 710.905 1450.39 Z\" fill=\"#000000\" fill-rule=\"evenodd\" fill-opacity=\"1\" /><path clip-path=\"url(#clip700)\" d=\"M735.095 1481.64 L751.414 1481.64 L751.414 1485.58 L729.47 1485.58 L729.47 1481.64 Q732.132 1478.89 736.715 1474.26 Q741.322 1469.61 742.502 1468.27 Q744.748 1465.74 745.627 1464.01 Q746.53 1462.25 746.53 1460.56 Q746.53 1457.8 744.586 1456.07 Q742.664 1454.33 739.563 1454.33 Q737.364 1454.33 734.91 1455.09 Q732.479 1455.86 729.702 1457.41 L729.702 1452.69 Q732.526 1451.55 734.979 1450.97 Q737.433 1450.39 739.47 1450.39 Q744.84 1450.39 748.035 1453.08 Q751.229 1455.77 751.229 1460.26 Q751.229 1462.39 750.419 1464.31 Q749.632 1466.2 747.526 1468.8 Q746.947 1469.47 743.845 1472.69 Q740.743 1475.88 735.095 1481.64 Z\" fill=\"#000000\" fill-rule=\"evenodd\" fill-opacity=\"1\" /><path clip-path=\"url(#clip700)\" d=\"M771.229 1454.1 Q767.618 1454.1 765.789 1457.66 Q763.984 1461.2 763.984 1468.33 Q763.984 1475.44 765.789 1479.01 Q767.618 1482.55 771.229 1482.55 Q774.863 1482.55 776.669 1479.01 Q778.498 1475.44 778.498 1468.33 Q778.498 1461.2 776.669 1457.66 Q774.863 1454.1 771.229 1454.1 M771.229 1450.39 Q777.039 1450.39 780.095 1455 Q783.173 1459.58 783.173 1468.33 Q783.173 1477.06 780.095 1481.67 Q777.039 1486.25 771.229 1486.25 Q765.419 1486.25 762.34 1481.67 Q759.285 1477.06 759.285 1468.33 Q759.285 1459.58 762.34 1455 Q765.419 1450.39 771.229 1450.39 Z\" fill=\"#000000\" fill-rule=\"evenodd\" fill-opacity=\"1\" /><path clip-path=\"url(#clip700)\" d=\"M788.636 1470.7 L801.113 1470.7 L801.113 1474.49 L788.636 1474.49 L788.636 1470.7 Z\" fill=\"#000000\" fill-rule=\"evenodd\" fill-opacity=\"1\" /><path clip-path=\"url(#clip700)\" d=\"M809.308 1481.64 L816.946 1481.64 L816.946 1455.28 L808.636 1456.95 L808.636 1452.69 L816.9 1451.02 L821.576 1451.02 L821.576 1481.64 L829.215 1481.64 L829.215 1485.58 L809.308 1485.58 L809.308 1481.64 Z\" fill=\"#000000\" fill-rule=\"evenodd\" fill-opacity=\"1\" /><path clip-path=\"url(#clip700)\" d=\"M839.469 1481.64 L847.108 1481.64 L847.108 1455.28 L838.798 1456.95 L838.798 1452.69 L847.062 1451.02 L851.738 1451.02 L851.738 1481.64 L859.377 1481.64 L859.377 1485.58 L839.469 1485.58 L839.469 1481.64 Z\" fill=\"#000000\" fill-rule=\"evenodd\" fill-opacity=\"1\" /><path clip-path=\"url(#clip700)\" d=\"M866.067 1470.7 L878.543 1470.7 L878.543 1474.49 L866.067 1474.49 L866.067 1470.7 Z\" fill=\"#000000\" fill-rule=\"evenodd\" fill-opacity=\"1\" /><path clip-path=\"url(#clip700)\" d=\"M895.927 1454.1 Q892.316 1454.1 890.488 1457.66 Q888.682 1461.2 888.682 1468.33 Q888.682 1475.44 890.488 1479.01 Q892.316 1482.55 895.927 1482.55 Q899.562 1482.55 901.367 1479.01 Q903.196 1475.44 903.196 1468.33 Q903.196 1461.2 901.367 1457.66 Q899.562 1454.1 895.927 1454.1 M895.927 1450.39 Q901.738 1450.39 904.793 1455 Q907.872 1459.58 907.872 1468.33 Q907.872 1477.06 904.793 1481.67 Q901.738 1486.25 895.927 1486.25 Q890.117 1486.25 887.039 1481.67 Q883.983 1477.06 883.983 1468.33 Q883.983 1459.58 887.039 1455 Q890.117 1450.39 895.927 1450.39 Z\" fill=\"#000000\" fill-rule=\"evenodd\" fill-opacity=\"1\" /><path clip-path=\"url(#clip700)\" d=\"M916.9 1481.64 L924.538 1481.64 L924.538 1455.28 L916.228 1456.95 L916.228 1452.69 L924.492 1451.02 L929.168 1451.02 L929.168 1481.64 L936.807 1481.64 L936.807 1485.58 L916.9 1485.58 L916.9 1481.64 Z\" fill=\"#000000\" fill-rule=\"evenodd\" fill-opacity=\"1\" /><path clip-path=\"url(#clip700)\" d=\"M1141.83 1481.64 L1158.15 1481.64 L1158.15 1485.58 L1136.21 1485.58 L1136.21 1481.64 Q1138.87 1478.89 1143.45 1474.26 Q1148.06 1469.61 1149.24 1468.27 Q1151.48 1465.74 1152.36 1464.01 Q1153.27 1462.25 1153.27 1460.56 Q1153.27 1457.8 1151.32 1456.07 Q1149.4 1454.33 1146.3 1454.33 Q1144.1 1454.33 1141.64 1455.09 Q1139.21 1455.86 1136.44 1457.41 L1136.44 1452.69 Q1139.26 1451.55 1141.71 1450.97 Q1144.17 1450.39 1146.21 1450.39 Q1151.58 1450.39 1154.77 1453.08 Q1157.96 1455.77 1157.96 1460.26 Q1157.96 1462.39 1157.15 1464.31 Q1156.37 1466.2 1154.26 1468.8 Q1153.68 1469.47 1150.58 1472.69 Q1147.48 1475.88 1141.83 1481.64 Z\" fill=\"#000000\" fill-rule=\"evenodd\" fill-opacity=\"1\" /><path clip-path=\"url(#clip700)\" d=\"M1177.96 1454.1 Q1174.35 1454.1 1172.52 1457.66 Q1170.72 1461.2 1170.72 1468.33 Q1170.72 1475.44 1172.52 1479.01 Q1174.35 1482.55 1177.96 1482.55 Q1181.6 1482.55 1183.4 1479.01 Q1185.23 1475.44 1185.23 1468.33 Q1185.23 1461.2 1183.4 1457.66 Q1181.6 1454.1 1177.96 1454.1 M1177.96 1450.39 Q1183.77 1450.39 1186.83 1455 Q1189.91 1459.58 1189.91 1468.33 Q1189.91 1477.06 1186.83 1481.67 Q1183.77 1486.25 1177.96 1486.25 Q1172.15 1486.25 1169.08 1481.67 Q1166.02 1477.06 1166.02 1468.33 Q1166.02 1459.58 1169.08 1455 Q1172.15 1450.39 1177.96 1450.39 Z\" fill=\"#000000\" fill-rule=\"evenodd\" fill-opacity=\"1\" /><path clip-path=\"url(#clip700)\" d=\"M1202.15 1481.64 L1218.47 1481.64 L1218.47 1485.58 L1196.53 1485.58 L1196.53 1481.64 Q1199.19 1478.89 1203.77 1474.26 Q1208.38 1469.61 1209.56 1468.27 Q1211.81 1465.74 1212.69 1464.01 Q1213.59 1462.25 1213.59 1460.56 Q1213.59 1457.8 1211.64 1456.07 Q1209.72 1454.33 1206.62 1454.33 Q1204.42 1454.33 1201.97 1455.09 Q1199.54 1455.86 1196.76 1457.41 L1196.76 1452.69 Q1199.58 1451.55 1202.04 1450.97 Q1204.49 1450.39 1206.53 1450.39 Q1211.9 1450.39 1215.09 1453.08 Q1218.29 1455.77 1218.29 1460.26 Q1218.29 1462.39 1217.48 1464.31 Q1216.69 1466.2 1214.58 1468.8 Q1214.01 1469.47 1210.9 1472.69 Q1207.8 1475.88 1202.15 1481.64 Z\" fill=\"#000000\" fill-rule=\"evenodd\" fill-opacity=\"1\" /><path clip-path=\"url(#clip700)\" d=\"M1229.1 1481.64 L1236.74 1481.64 L1236.74 1455.28 L1228.43 1456.95 L1228.43 1452.69 L1236.69 1451.02 L1241.37 1451.02 L1241.37 1481.64 L1249.01 1481.64 L1249.01 1485.58 L1229.1 1485.58 L1229.1 1481.64 Z\" fill=\"#000000\" fill-rule=\"evenodd\" fill-opacity=\"1\" /><path clip-path=\"url(#clip700)\" d=\"M1255.7 1470.7 L1268.17 1470.7 L1268.17 1474.49 L1255.7 1474.49 L1255.7 1470.7 Z\" fill=\"#000000\" fill-rule=\"evenodd\" fill-opacity=\"1\" /><path clip-path=\"url(#clip700)\" d=\"M1285.56 1454.1 Q1281.95 1454.1 1280.12 1457.66 Q1278.31 1461.2 1278.31 1468.33 Q1278.31 1475.44 1280.12 1479.01 Q1281.95 1482.55 1285.56 1482.55 Q1289.19 1482.55 1291 1479.01 Q1292.82 1475.44 1292.82 1468.33 Q1292.82 1461.2 1291 1457.66 Q1289.19 1454.1 1285.56 1454.1 M1285.56 1450.39 Q1291.37 1450.39 1294.42 1455 Q1297.5 1459.58 1297.5 1468.33 Q1297.5 1477.06 1294.42 1481.67 Q1291.37 1486.25 1285.56 1486.25 Q1279.75 1486.25 1276.67 1481.67 Q1273.61 1477.06 1273.61 1468.33 Q1273.61 1459.58 1276.67 1455 Q1279.75 1450.39 1285.56 1450.39 Z\" fill=\"#000000\" fill-rule=\"evenodd\" fill-opacity=\"1\" /><path clip-path=\"url(#clip700)\" d=\"M1319.88 1466.95 Q1323.24 1467.66 1325.12 1469.93 Q1327.01 1472.2 1327.01 1475.53 Q1327.01 1480.65 1323.5 1483.45 Q1319.98 1486.25 1313.5 1486.25 Q1311.32 1486.25 1309.01 1485.81 Q1306.71 1485.39 1304.26 1484.54 L1304.26 1480.02 Q1306.2 1481.16 1308.52 1481.74 Q1310.83 1482.32 1313.36 1482.32 Q1317.76 1482.32 1320.05 1480.58 Q1322.36 1478.84 1322.36 1475.53 Q1322.36 1472.48 1320.21 1470.77 Q1318.08 1469.03 1314.26 1469.03 L1310.23 1469.03 L1310.23 1465.19 L1314.44 1465.19 Q1317.89 1465.19 1319.72 1463.82 Q1321.55 1462.43 1321.55 1459.84 Q1321.55 1457.18 1319.65 1455.77 Q1317.78 1454.33 1314.26 1454.33 Q1312.34 1454.33 1310.14 1454.75 Q1307.94 1455.16 1305.3 1456.04 L1305.3 1451.88 Q1307.96 1451.14 1310.28 1450.77 Q1312.62 1450.39 1314.68 1450.39 Q1320 1450.39 1323.1 1452.83 Q1326.2 1455.23 1326.2 1459.35 Q1326.2 1462.22 1324.56 1464.21 Q1322.92 1466.18 1319.88 1466.95 Z\" fill=\"#000000\" fill-rule=\"evenodd\" fill-opacity=\"1\" /><path clip-path=\"url(#clip700)\" d=\"M1333.13 1470.7 L1345.6 1470.7 L1345.6 1474.49 L1333.13 1474.49 L1333.13 1470.7 Z\" fill=\"#000000\" fill-rule=\"evenodd\" fill-opacity=\"1\" /><path clip-path=\"url(#clip700)\" d=\"M1362.99 1454.1 Q1359.38 1454.1 1357.55 1457.66 Q1355.74 1461.2 1355.74 1468.33 Q1355.74 1475.44 1357.55 1479.01 Q1359.38 1482.55 1362.99 1482.55 Q1366.62 1482.55 1368.43 1479.01 Q1370.25 1475.44 1370.25 1468.33 Q1370.25 1461.2 1368.43 1457.66 Q1366.62 1454.1 1362.99 1454.1 M1362.99 1450.39 Q1368.8 1450.39 1371.85 1455 Q1374.93 1459.58 1374.93 1468.33 Q1374.93 1477.06 1371.85 1481.67 Q1368.8 1486.25 1362.99 1486.25 Q1357.18 1486.25 1354.1 1481.67 Q1351.04 1477.06 1351.04 1468.33 Q1351.04 1459.58 1354.1 1455 Q1357.18 1450.39 1362.99 1450.39 Z\" fill=\"#000000\" fill-rule=\"evenodd\" fill-opacity=\"1\" /><path clip-path=\"url(#clip700)\" d=\"M1383.96 1481.64 L1391.6 1481.64 L1391.6 1455.28 L1383.29 1456.95 L1383.29 1452.69 L1391.55 1451.02 L1396.23 1451.02 L1396.23 1481.64 L1403.87 1481.64 L1403.87 1485.58 L1383.96 1485.58 L1383.96 1481.64 Z\" fill=\"#000000\" fill-rule=\"evenodd\" fill-opacity=\"1\" /><path clip-path=\"url(#clip700)\" d=\"M1616.67 1481.64 L1632.99 1481.64 L1632.99 1485.58 L1611.05 1485.58 L1611.05 1481.64 Q1613.71 1478.89 1618.29 1474.26 Q1622.9 1469.61 1624.08 1468.27 Q1626.33 1465.74 1627.21 1464.01 Q1628.11 1462.25 1628.11 1460.56 Q1628.11 1457.8 1626.16 1456.07 Q1624.24 1454.33 1621.14 1454.33 Q1618.94 1454.33 1616.49 1455.09 Q1614.06 1455.86 1611.28 1457.41 L1611.28 1452.69 Q1614.1 1451.55 1616.56 1450.97 Q1619.01 1450.39 1621.05 1450.39 Q1626.42 1450.39 1629.61 1453.08 Q1632.81 1455.77 1632.81 1460.26 Q1632.81 1462.39 1632 1464.31 Q1631.21 1466.2 1629.1 1468.8 Q1628.53 1469.47 1625.42 1472.69 Q1622.32 1475.88 1616.67 1481.64 Z\" fill=\"#000000\" fill-rule=\"evenodd\" fill-opacity=\"1\" /><path clip-path=\"url(#clip700)\" d=\"M1652.81 1454.1 Q1649.2 1454.1 1647.37 1457.66 Q1645.56 1461.2 1645.56 1468.33 Q1645.56 1475.44 1647.37 1479.01 Q1649.2 1482.55 1652.81 1482.55 Q1656.44 1482.55 1658.25 1479.01 Q1660.08 1475.44 1660.08 1468.33 Q1660.08 1461.2 1658.25 1457.66 Q1656.44 1454.1 1652.81 1454.1 M1652.81 1450.39 Q1658.62 1450.39 1661.67 1455 Q1664.75 1459.58 1664.75 1468.33 Q1664.75 1477.06 1661.67 1481.67 Q1658.62 1486.25 1652.81 1486.25 Q1647 1486.25 1643.92 1481.67 Q1640.86 1477.06 1640.86 1468.33 Q1640.86 1459.58 1643.92 1455 Q1647 1450.39 1652.81 1450.39 Z\" fill=\"#000000\" fill-rule=\"evenodd\" fill-opacity=\"1\" /><path clip-path=\"url(#clip700)\" d=\"M1677 1481.64 L1693.32 1481.64 L1693.32 1485.58 L1671.37 1485.58 L1671.37 1481.64 Q1674.03 1478.89 1678.62 1474.26 Q1683.22 1469.61 1684.4 1468.27 Q1686.65 1465.74 1687.53 1464.01 Q1688.43 1462.25 1688.43 1460.56 Q1688.43 1457.8 1686.49 1456.07 Q1684.57 1454.33 1681.46 1454.33 Q1679.27 1454.33 1676.81 1455.09 Q1674.38 1455.86 1671.6 1457.41 L1671.6 1452.69 Q1674.43 1451.55 1676.88 1450.97 Q1679.34 1450.39 1681.37 1450.39 Q1686.74 1450.39 1689.94 1453.08 Q1693.13 1455.77 1693.13 1460.26 Q1693.13 1462.39 1692.32 1464.31 Q1691.53 1466.2 1689.43 1468.8 Q1688.85 1469.47 1685.75 1472.69 Q1682.65 1475.88 1677 1481.64 Z\" fill=\"#000000\" fill-rule=\"evenodd\" fill-opacity=\"1\" /><path clip-path=\"url(#clip700)\" d=\"M1703.94 1481.64 L1711.58 1481.64 L1711.58 1455.28 L1703.27 1456.95 L1703.27 1452.69 L1711.53 1451.02 L1716.21 1451.02 L1716.21 1481.64 L1723.85 1481.64 L1723.85 1485.58 L1703.94 1485.58 L1703.94 1481.64 Z\" fill=\"#000000\" fill-rule=\"evenodd\" fill-opacity=\"1\" /><path clip-path=\"url(#clip700)\" d=\"M1730.54 1470.7 L1743.02 1470.7 L1743.02 1474.49 L1730.54 1474.49 L1730.54 1470.7 Z\" fill=\"#000000\" fill-rule=\"evenodd\" fill-opacity=\"1\" /><path clip-path=\"url(#clip700)\" d=\"M1760.4 1454.1 Q1756.79 1454.1 1754.96 1457.66 Q1753.15 1461.2 1753.15 1468.33 Q1753.15 1475.44 1754.96 1479.01 Q1756.79 1482.55 1760.4 1482.55 Q1764.03 1482.55 1765.84 1479.01 Q1767.67 1475.44 1767.67 1468.33 Q1767.67 1461.2 1765.84 1457.66 Q1764.03 1454.1 1760.4 1454.1 M1760.4 1450.39 Q1766.21 1450.39 1769.27 1455 Q1772.34 1459.58 1772.34 1468.33 Q1772.34 1477.06 1769.27 1481.67 Q1766.21 1486.25 1760.4 1486.25 Q1754.59 1486.25 1751.51 1481.67 Q1748.46 1477.06 1748.46 1468.33 Q1748.46 1459.58 1751.51 1455 Q1754.59 1450.39 1760.4 1450.39 Z\" fill=\"#000000\" fill-rule=\"evenodd\" fill-opacity=\"1\" /><path clip-path=\"url(#clip700)\" d=\"M1779.38 1451.02 L1801.6 1451.02 L1801.6 1453.01 L1789.06 1485.58 L1784.17 1485.58 L1795.98 1454.96 L1779.38 1454.96 L1779.38 1451.02 Z\" fill=\"#000000\" fill-rule=\"evenodd\" fill-opacity=\"1\" /><path clip-path=\"url(#clip700)\" d=\"M1807.97 1470.7 L1820.45 1470.7 L1820.45 1474.49 L1807.97 1474.49 L1807.97 1470.7 Z\" fill=\"#000000\" fill-rule=\"evenodd\" fill-opacity=\"1\" /><path clip-path=\"url(#clip700)\" d=\"M1837.83 1454.1 Q1834.22 1454.1 1832.39 1457.66 Q1830.58 1461.2 1830.58 1468.33 Q1830.58 1475.44 1832.39 1479.01 Q1834.22 1482.55 1837.83 1482.55 Q1841.46 1482.55 1843.27 1479.01 Q1845.1 1475.44 1845.1 1468.33 Q1845.1 1461.2 1843.27 1457.66 Q1841.46 1454.1 1837.83 1454.1 M1837.83 1450.39 Q1843.64 1450.39 1846.7 1455 Q1849.77 1459.58 1849.77 1468.33 Q1849.77 1477.06 1846.7 1481.67 Q1843.64 1486.25 1837.83 1486.25 Q1832.02 1486.25 1828.94 1481.67 Q1825.89 1477.06 1825.89 1468.33 Q1825.89 1459.58 1828.94 1455 Q1832.02 1450.39 1837.83 1450.39 Z\" fill=\"#000000\" fill-rule=\"evenodd\" fill-opacity=\"1\" /><path clip-path=\"url(#clip700)\" d=\"M1858.8 1481.64 L1866.44 1481.64 L1866.44 1455.28 L1858.13 1456.95 L1858.13 1452.69 L1866.39 1451.02 L1871.07 1451.02 L1871.07 1481.64 L1878.71 1481.64 L1878.71 1485.58 L1858.8 1485.58 L1858.8 1481.64 Z\" fill=\"#000000\" fill-rule=\"evenodd\" fill-opacity=\"1\" /><path clip-path=\"url(#clip700)\" d=\"M2095.41 1481.64 L2111.73 1481.64 L2111.73 1485.58 L2089.78 1485.58 L2089.78 1481.64 Q2092.45 1478.89 2097.03 1474.26 Q2101.64 1469.61 2102.82 1468.27 Q2105.06 1465.74 2105.94 1464.01 Q2106.84 1462.25 2106.84 1460.56 Q2106.84 1457.8 2104.9 1456.07 Q2102.98 1454.33 2099.88 1454.33 Q2097.68 1454.33 2095.22 1455.09 Q2092.79 1455.86 2090.02 1457.41 L2090.02 1452.69 Q2092.84 1451.55 2095.29 1450.97 Q2097.75 1450.39 2099.78 1450.39 Q2105.15 1450.39 2108.35 1453.08 Q2111.54 1455.77 2111.54 1460.26 Q2111.54 1462.39 2110.73 1464.31 Q2109.95 1466.2 2107.84 1468.8 Q2107.26 1469.47 2104.16 1472.69 Q2101.06 1475.88 2095.41 1481.64 Z\" fill=\"#000000\" fill-rule=\"evenodd\" fill-opacity=\"1\" /><path clip-path=\"url(#clip700)\" d=\"M2131.54 1454.1 Q2127.93 1454.1 2126.1 1457.66 Q2124.3 1461.2 2124.3 1468.33 Q2124.3 1475.44 2126.1 1479.01 Q2127.93 1482.55 2131.54 1482.55 Q2135.18 1482.55 2136.98 1479.01 Q2138.81 1475.44 2138.81 1468.33 Q2138.81 1461.2 2136.98 1457.66 Q2135.18 1454.1 2131.54 1454.1 M2131.54 1450.39 Q2137.35 1450.39 2140.41 1455 Q2143.49 1459.58 2143.49 1468.33 Q2143.49 1477.06 2140.41 1481.67 Q2137.35 1486.25 2131.54 1486.25 Q2125.73 1486.25 2122.65 1481.67 Q2119.6 1477.06 2119.6 1468.33 Q2119.6 1459.58 2122.65 1455 Q2125.73 1450.39 2131.54 1450.39 Z\" fill=\"#000000\" fill-rule=\"evenodd\" fill-opacity=\"1\" /><path clip-path=\"url(#clip700)\" d=\"M2155.73 1481.64 L2172.05 1481.64 L2172.05 1485.58 L2150.11 1485.58 L2150.11 1481.64 Q2152.77 1478.89 2157.35 1474.26 Q2161.96 1469.61 2163.14 1468.27 Q2165.39 1465.74 2166.26 1464.01 Q2167.17 1462.25 2167.17 1460.56 Q2167.17 1457.8 2165.22 1456.07 Q2163.3 1454.33 2160.2 1454.33 Q2158 1454.33 2155.55 1455.09 Q2153.12 1455.86 2150.34 1457.41 L2150.34 1452.69 Q2153.16 1451.55 2155.62 1450.97 Q2158.07 1450.39 2160.11 1450.39 Q2165.48 1450.39 2168.67 1453.08 Q2171.87 1455.77 2171.87 1460.26 Q2171.87 1462.39 2171.06 1464.31 Q2170.27 1466.2 2168.16 1468.8 Q2167.58 1469.47 2164.48 1472.69 Q2161.38 1475.88 2155.73 1481.64 Z\" fill=\"#000000\" fill-rule=\"evenodd\" fill-opacity=\"1\" /><path clip-path=\"url(#clip700)\" d=\"M2182.68 1481.64 L2190.32 1481.64 L2190.32 1455.28 L2182.01 1456.95 L2182.01 1452.69 L2190.27 1451.02 L2194.95 1451.02 L2194.95 1481.64 L2202.58 1481.64 L2202.58 1485.58 L2182.68 1485.58 L2182.68 1481.64 Z\" fill=\"#000000\" fill-rule=\"evenodd\" fill-opacity=\"1\" /><path clip-path=\"url(#clip700)\" d=\"M2209.27 1470.7 L2221.75 1470.7 L2221.75 1474.49 L2209.27 1474.49 L2209.27 1470.7 Z\" fill=\"#000000\" fill-rule=\"evenodd\" fill-opacity=\"1\" /><path clip-path=\"url(#clip700)\" d=\"M2229.95 1481.64 L2237.58 1481.64 L2237.58 1455.28 L2229.27 1456.95 L2229.27 1452.69 L2237.54 1451.02 L2242.21 1451.02 L2242.21 1481.64 L2249.85 1481.64 L2249.85 1485.58 L2229.95 1485.58 L2229.95 1481.64 Z\" fill=\"#000000\" fill-rule=\"evenodd\" fill-opacity=\"1\" /><path clip-path=\"url(#clip700)\" d=\"M2260.11 1481.64 L2267.75 1481.64 L2267.75 1455.28 L2259.44 1456.95 L2259.44 1452.69 L2267.7 1451.02 L2272.38 1451.02 L2272.38 1481.64 L2280.01 1481.64 L2280.01 1485.58 L2260.11 1485.58 L2260.11 1481.64 Z\" fill=\"#000000\" fill-rule=\"evenodd\" fill-opacity=\"1\" /><path clip-path=\"url(#clip700)\" d=\"M2286.7 1470.7 L2299.18 1470.7 L2299.18 1474.49 L2286.7 1474.49 L2286.7 1470.7 Z\" fill=\"#000000\" fill-rule=\"evenodd\" fill-opacity=\"1\" /><path clip-path=\"url(#clip700)\" d=\"M2316.57 1454.1 Q2312.95 1454.1 2311.13 1457.66 Q2309.32 1461.2 2309.32 1468.33 Q2309.32 1475.44 2311.13 1479.01 Q2312.95 1482.55 2316.57 1482.55 Q2320.2 1482.55 2322 1479.01 Q2323.83 1475.44 2323.83 1468.33 Q2323.83 1461.2 2322 1457.66 Q2320.2 1454.1 2316.57 1454.1 M2316.57 1450.39 Q2322.38 1450.39 2325.43 1455 Q2328.51 1459.58 2328.51 1468.33 Q2328.51 1477.06 2325.43 1481.67 Q2322.38 1486.25 2316.57 1486.25 Q2310.75 1486.25 2307.68 1481.67 Q2304.62 1477.06 2304.62 1468.33 Q2304.62 1459.58 2307.68 1455 Q2310.75 1450.39 2316.57 1450.39 Z\" fill=\"#000000\" fill-rule=\"evenodd\" fill-opacity=\"1\" /><path clip-path=\"url(#clip700)\" d=\"M2337.54 1481.64 L2345.18 1481.64 L2345.18 1455.28 L2336.87 1456.95 L2336.87 1452.69 L2345.13 1451.02 L2349.81 1451.02 L2349.81 1481.64 L2357.44 1481.64 L2357.44 1485.58 L2337.54 1485.58 L2337.54 1481.64 Z\" fill=\"#000000\" fill-rule=\"evenodd\" fill-opacity=\"1\" /><path clip-path=\"url(#clip700)\" d=\"M909.875 1520.52 L937.184 1520.52 L937.184 1525.93 L916.304 1525.93 L916.304 1539.94 L935.147 1539.94 L935.147 1545.35 L916.304 1545.35 L916.304 1568.04 L909.875 1568.04 L909.875 1520.52 Z\" fill=\"#000000\" fill-rule=\"evenodd\" fill-opacity=\"1\" /><path clip-path=\"url(#clip700)\" d=\"M942.372 1532.4 L948.228 1532.4 L948.228 1568.04 L942.372 1568.04 L942.372 1532.4 M942.372 1518.52 L948.228 1518.52 L948.228 1525.93 L942.372 1525.93 L942.372 1518.52 Z\" fill=\"#000000\" fill-rule=\"evenodd\" fill-opacity=\"1\" /><path clip-path=\"url(#clip700)\" d=\"M981.139 1537.87 Q980.152 1537.3 978.975 1537.04 Q977.829 1536.76 976.428 1536.76 Q971.463 1536.76 968.79 1540 Q966.148 1543.22 966.148 1549.27 L966.148 1568.04 L960.26 1568.04 L960.26 1532.4 L966.148 1532.4 L966.148 1537.93 Q967.994 1534.69 970.954 1533.13 Q973.914 1531.54 978.147 1531.54 Q978.752 1531.54 979.484 1531.63 Q980.216 1531.7 981.107 1531.85 L981.139 1537.87 Z\" fill=\"#000000\" fill-rule=\"evenodd\" fill-opacity=\"1\" /><path clip-path=\"url(#clip700)\" d=\"M1010.01 1533.45 L1010.01 1538.98 Q1007.52 1537.71 1004.85 1537.07 Q1002.18 1536.44 999.313 1536.44 Q994.953 1536.44 992.757 1537.77 Q990.592 1539.11 990.592 1541.79 Q990.592 1543.82 992.152 1545 Q993.711 1546.15 998.422 1547.2 L1000.43 1547.64 Q1006.67 1548.98 1009.28 1551.43 Q1011.92 1553.85 1011.92 1558.21 Q1011.92 1563.17 1007.97 1566.07 Q1004.06 1568.97 997.181 1568.97 Q994.316 1568.97 991.197 1568.39 Q988.11 1567.85 984.672 1566.74 L984.672 1560.69 Q987.919 1562.38 991.07 1563.24 Q994.221 1564.07 997.308 1564.07 Q1001.45 1564.07 1003.67 1562.66 Q1005.9 1561.23 1005.9 1558.65 Q1005.9 1556.27 1004.28 1554.99 Q1002.69 1553.72 997.244 1552.54 L995.207 1552.07 Q989.765 1550.92 987.346 1548.56 Q984.927 1546.18 984.927 1542.04 Q984.927 1537.01 988.491 1534.27 Q992.056 1531.54 998.613 1531.54 Q1001.86 1531.54 1004.72 1532.01 Q1007.59 1532.49 1010.01 1533.45 Z\" fill=\"#000000\" fill-rule=\"evenodd\" fill-opacity=\"1\" /><path clip-path=\"url(#clip700)\" d=\"M1027.04 1522.27 L1027.04 1532.4 L1039.1 1532.4 L1039.1 1536.95 L1027.04 1536.95 L1027.04 1556.3 Q1027.04 1560.66 1028.21 1561.9 Q1029.42 1563.14 1033.08 1563.14 L1039.1 1563.14 L1039.1 1568.04 L1033.08 1568.04 Q1026.3 1568.04 1023.73 1565.53 Q1021.15 1562.98 1021.15 1556.3 L1021.15 1536.95 L1016.85 1536.95 L1016.85 1532.4 L1021.15 1532.4 L1021.15 1522.27 L1027.04 1522.27 Z\" fill=\"#000000\" fill-rule=\"evenodd\" fill-opacity=\"1\" /><path clip-path=\"url(#clip700)\" d=\"M1090.98 1537.81 L1090.98 1518.52 L1096.84 1518.52 L1096.84 1568.04 L1090.98 1568.04 L1090.98 1562.7 Q1089.13 1565.88 1086.3 1567.44 Q1083.5 1568.97 1079.55 1568.97 Q1073.09 1568.97 1069.02 1563.81 Q1064.98 1558.65 1064.98 1550.25 Q1064.98 1541.85 1069.02 1536.69 Q1073.09 1531.54 1079.55 1531.54 Q1083.5 1531.54 1086.3 1533.1 Q1089.13 1534.62 1090.98 1537.81 M1071.02 1550.25 Q1071.02 1556.71 1073.66 1560.4 Q1076.34 1564.07 1080.99 1564.07 Q1085.63 1564.07 1088.31 1560.4 Q1090.98 1556.71 1090.98 1550.25 Q1090.98 1543.79 1088.31 1540.13 Q1085.63 1536.44 1080.99 1536.44 Q1076.34 1536.44 1073.66 1540.13 Q1071.02 1543.79 1071.02 1550.25 Z\" fill=\"#000000\" fill-rule=\"evenodd\" fill-opacity=\"1\" /><path clip-path=\"url(#clip700)\" d=\"M1125.1 1550.12 Q1118 1550.12 1115.26 1551.75 Q1112.53 1553.37 1112.53 1557.29 Q1112.53 1560.4 1114.56 1562.25 Q1116.63 1564.07 1120.17 1564.07 Q1125.04 1564.07 1127.96 1560.63 Q1130.92 1557.16 1130.92 1551.43 L1130.92 1550.12 L1125.1 1550.12 M1136.78 1547.71 L1136.78 1568.04 L1130.92 1568.04 L1130.92 1562.63 Q1128.92 1565.88 1125.93 1567.44 Q1122.94 1568.97 1118.61 1568.97 Q1113.13 1568.97 1109.89 1565.91 Q1106.67 1562.82 1106.67 1557.67 Q1106.67 1551.65 1110.68 1548.6 Q1114.72 1545.54 1122.71 1545.54 L1130.92 1545.54 L1130.92 1544.97 Q1130.92 1540.93 1128.25 1538.73 Q1125.61 1536.5 1120.8 1536.5 Q1117.75 1536.5 1114.85 1537.23 Q1111.95 1537.97 1109.28 1539.43 L1109.28 1534.02 Q1112.5 1532.78 1115.52 1532.17 Q1118.54 1531.54 1121.41 1531.54 Q1129.14 1531.54 1132.96 1535.55 Q1136.78 1539.56 1136.78 1547.71 Z\" fill=\"#000000\" fill-rule=\"evenodd\" fill-opacity=\"1\" /><path clip-path=\"url(#clip700)\" d=\"M1163.68 1571.35 Q1161.19 1577.72 1158.84 1579.66 Q1156.48 1581.6 1152.54 1581.6 L1147.86 1581.6 L1147.86 1576.7 L1151.29 1576.7 Q1153.71 1576.7 1155.05 1575.56 Q1156.39 1574.41 1158.01 1570.14 L1159.06 1567.47 L1144.64 1532.4 L1150.85 1532.4 L1161.99 1560.28 L1173.13 1532.4 L1179.34 1532.4 L1163.68 1571.35 Z\" fill=\"#000000\" fill-rule=\"evenodd\" fill-opacity=\"1\" /><path clip-path=\"url(#clip700)\" d=\"M1221.95 1536.5 Q1217.24 1536.5 1214.51 1540.19 Q1211.77 1543.85 1211.77 1550.25 Q1211.77 1556.65 1214.47 1560.34 Q1217.21 1564 1221.95 1564 Q1226.63 1564 1229.37 1560.31 Q1232.11 1556.62 1232.11 1550.25 Q1232.11 1543.92 1229.37 1540.23 Q1226.63 1536.5 1221.95 1536.5 M1221.95 1531.54 Q1229.59 1531.54 1233.95 1536.5 Q1238.31 1541.47 1238.31 1550.25 Q1238.31 1559 1233.95 1564 Q1229.59 1568.97 1221.95 1568.97 Q1214.28 1568.97 1209.92 1564 Q1205.59 1559 1205.59 1550.25 Q1205.59 1541.47 1209.92 1536.5 Q1214.28 1531.54 1221.95 1531.54 Z\" fill=\"#000000\" fill-rule=\"evenodd\" fill-opacity=\"1\" /><path clip-path=\"url(#clip700)\" d=\"M1266.07 1518.52 L1266.07 1523.39 L1260.47 1523.39 Q1257.32 1523.39 1256.07 1524.66 Q1254.86 1525.93 1254.86 1529.24 L1254.86 1532.4 L1264.51 1532.4 L1264.51 1536.95 L1254.86 1536.95 L1254.86 1568.04 L1248.98 1568.04 L1248.98 1536.95 L1243.37 1536.95 L1243.37 1532.4 L1248.98 1532.4 L1248.98 1529.91 Q1248.98 1523.96 1251.75 1521.26 Q1254.51 1518.52 1260.53 1518.52 L1266.07 1518.52 Z\" fill=\"#000000\" fill-rule=\"evenodd\" fill-opacity=\"1\" /><path clip-path=\"url(#clip700)\" d=\"M1322.18 1548.76 L1322.18 1551.62 L1295.25 1551.62 Q1295.64 1557.67 1298.88 1560.85 Q1302.16 1564 1307.99 1564 Q1311.36 1564 1314.51 1563.17 Q1317.69 1562.35 1320.81 1560.69 L1320.81 1566.23 Q1317.66 1567.57 1314.35 1568.27 Q1311.04 1568.97 1307.64 1568.97 Q1299.11 1568.97 1294.11 1564 Q1289.14 1559.04 1289.14 1550.57 Q1289.14 1541.82 1293.85 1536.69 Q1298.6 1531.54 1306.62 1531.54 Q1313.81 1531.54 1317.98 1536.18 Q1322.18 1540.8 1322.18 1548.76 M1316.33 1547.04 Q1316.26 1542.23 1313.62 1539.37 Q1311.01 1536.5 1306.68 1536.5 Q1301.78 1536.5 1298.82 1539.27 Q1295.89 1542.04 1295.45 1547.07 L1316.33 1547.04 Z\" fill=\"#000000\" fill-rule=\"evenodd\" fill-opacity=\"1\" /><path clip-path=\"url(#clip700)\" d=\"M1347.99 1550.12 Q1340.9 1550.12 1338.16 1551.75 Q1335.42 1553.37 1335.42 1557.29 Q1335.42 1560.4 1337.46 1562.25 Q1339.53 1564.07 1343.06 1564.07 Q1347.93 1564.07 1350.86 1560.63 Q1353.82 1557.16 1353.82 1551.43 L1353.82 1550.12 L1347.99 1550.12 M1359.68 1547.71 L1359.68 1568.04 L1353.82 1568.04 L1353.82 1562.63 Q1351.81 1565.88 1348.82 1567.44 Q1345.83 1568.97 1341.5 1568.97 Q1336.03 1568.97 1332.78 1565.91 Q1329.57 1562.82 1329.57 1557.67 Q1329.57 1551.65 1333.58 1548.6 Q1337.62 1545.54 1345.61 1545.54 L1353.82 1545.54 L1353.82 1544.97 Q1353.82 1540.93 1351.15 1538.73 Q1348.5 1536.5 1343.7 1536.5 Q1340.64 1536.5 1337.75 1537.23 Q1334.85 1537.97 1332.18 1539.43 L1332.18 1534.02 Q1335.39 1532.78 1338.41 1532.17 Q1341.44 1531.54 1344.3 1531.54 Q1352.04 1531.54 1355.86 1535.55 Q1359.68 1539.56 1359.68 1547.71 Z\" fill=\"#000000\" fill-rule=\"evenodd\" fill-opacity=\"1\" /><path clip-path=\"url(#clip700)\" d=\"M1397.39 1533.76 L1397.39 1539.24 Q1394.91 1537.87 1392.4 1537.2 Q1389.91 1536.5 1387.37 1536.5 Q1381.67 1536.5 1378.52 1540.13 Q1375.37 1543.73 1375.37 1550.25 Q1375.37 1556.78 1378.52 1560.4 Q1381.67 1564 1387.37 1564 Q1389.91 1564 1392.4 1563.33 Q1394.91 1562.63 1397.39 1561.26 L1397.39 1566.68 Q1394.94 1567.82 1392.3 1568.39 Q1389.69 1568.97 1386.73 1568.97 Q1378.68 1568.97 1373.94 1563.91 Q1369.19 1558.85 1369.19 1550.25 Q1369.19 1541.53 1373.97 1536.53 Q1378.77 1531.54 1387.11 1531.54 Q1389.82 1531.54 1392.4 1532.11 Q1394.97 1532.65 1397.39 1533.76 Z\" fill=\"#000000\" fill-rule=\"evenodd\" fill-opacity=\"1\" /><path clip-path=\"url(#clip700)\" d=\"M1437.21 1546.53 L1437.21 1568.04 L1431.35 1568.04 L1431.35 1546.72 Q1431.35 1541.66 1429.38 1539.14 Q1427.41 1536.63 1423.46 1536.63 Q1418.72 1536.63 1415.98 1539.65 Q1413.24 1542.68 1413.24 1547.9 L1413.24 1568.04 L1407.35 1568.04 L1407.35 1518.52 L1413.24 1518.52 L1413.24 1537.93 Q1415.34 1534.72 1418.18 1533.13 Q1421.04 1531.54 1424.77 1531.54 Q1430.91 1531.54 1434.06 1535.36 Q1437.21 1539.14 1437.21 1546.53 Z\" fill=\"#000000\" fill-rule=\"evenodd\" fill-opacity=\"1\" /><path clip-path=\"url(#clip700)\" d=\"M1466.21 1532.4 L1472.06 1532.4 L1479.38 1560.21 L1486.67 1532.4 L1493.58 1532.4 L1500.9 1560.21 L1508.19 1532.4 L1514.04 1532.4 L1504.72 1568.04 L1497.81 1568.04 L1490.14 1538.83 L1482.44 1568.04 L1475.53 1568.04 L1466.21 1532.4 Z\" fill=\"#000000\" fill-rule=\"evenodd\" fill-opacity=\"1\" /><path clip-path=\"url(#clip700)\" d=\"M1522.92 1532.4 L1528.78 1532.4 L1528.78 1568.04 L1522.92 1568.04 L1522.92 1532.4 M1522.92 1518.52 L1528.78 1518.52 L1528.78 1525.93 L1522.92 1525.93 L1522.92 1518.52 Z\" fill=\"#000000\" fill-rule=\"evenodd\" fill-opacity=\"1\" /><path clip-path=\"url(#clip700)\" d=\"M1570.67 1546.53 L1570.67 1568.04 L1564.81 1568.04 L1564.81 1546.72 Q1564.81 1541.66 1562.84 1539.14 Q1560.86 1536.63 1556.92 1536.63 Q1552.17 1536.63 1549.44 1539.65 Q1546.7 1542.68 1546.7 1547.9 L1546.7 1568.04 L1540.81 1568.04 L1540.81 1532.4 L1546.7 1532.4 L1546.7 1537.93 Q1548.8 1534.72 1551.63 1533.13 Q1554.5 1531.54 1558.22 1531.54 Q1564.37 1531.54 1567.52 1535.36 Q1570.67 1539.14 1570.67 1546.53 Z\" fill=\"#000000\" fill-rule=\"evenodd\" fill-opacity=\"1\" /><path clip-path=\"url(#clip700)\" d=\"M1605.81 1537.81 L1605.81 1518.52 L1611.66 1518.52 L1611.66 1568.04 L1605.81 1568.04 L1605.81 1562.7 Q1603.96 1565.88 1601.13 1567.44 Q1598.33 1568.97 1594.38 1568.97 Q1587.92 1568.97 1583.84 1563.81 Q1579.8 1558.65 1579.8 1550.25 Q1579.8 1541.85 1583.84 1536.69 Q1587.92 1531.54 1594.38 1531.54 Q1598.33 1531.54 1601.13 1533.1 Q1603.96 1534.62 1605.81 1537.81 M1585.85 1550.25 Q1585.85 1556.71 1588.49 1560.4 Q1591.16 1564.07 1595.81 1564.07 Q1600.46 1564.07 1603.13 1560.4 Q1605.81 1556.71 1605.81 1550.25 Q1605.81 1543.79 1603.13 1540.13 Q1600.46 1536.44 1595.81 1536.44 Q1591.16 1536.44 1588.49 1540.13 Q1585.85 1543.79 1585.85 1550.25 Z\" fill=\"#000000\" fill-rule=\"evenodd\" fill-opacity=\"1\" /><path clip-path=\"url(#clip700)\" d=\"M1637.54 1536.5 Q1632.83 1536.5 1630.09 1540.19 Q1627.35 1543.85 1627.35 1550.25 Q1627.35 1556.65 1630.06 1560.34 Q1632.8 1564 1637.54 1564 Q1642.22 1564 1644.95 1560.31 Q1647.69 1556.62 1647.69 1550.25 Q1647.69 1543.92 1644.95 1540.23 Q1642.22 1536.5 1637.54 1536.5 M1637.54 1531.54 Q1645.18 1531.54 1649.54 1536.5 Q1653.9 1541.47 1653.9 1550.25 Q1653.9 1559 1649.54 1564 Q1645.18 1568.97 1637.54 1568.97 Q1629.87 1568.97 1625.51 1564 Q1621.18 1559 1621.18 1550.25 Q1621.18 1541.47 1625.51 1536.5 Q1629.87 1531.54 1637.54 1531.54 Z\" fill=\"#000000\" fill-rule=\"evenodd\" fill-opacity=\"1\" /><path clip-path=\"url(#clip700)\" d=\"M1660.2 1532.4 L1666.06 1532.4 L1673.38 1560.21 L1680.67 1532.4 L1687.57 1532.4 L1694.89 1560.21 L1702.18 1532.4 L1708.04 1532.4 L1698.71 1568.04 L1691.81 1568.04 L1684.14 1538.83 L1676.43 1568.04 L1669.53 1568.04 L1660.2 1532.4 Z\" fill=\"#000000\" fill-rule=\"evenodd\" fill-opacity=\"1\" /><polyline clip-path=\"url(#clip702)\" style=\"stroke:#000000; stroke-linecap:butt; stroke-linejoin:round; stroke-width:2; stroke-opacity:0.1; fill:none\" points=\"\n  265.158,1310.56 2352.76,1310.56 \n  \"/>\n<polyline clip-path=\"url(#clip702)\" style=\"stroke:#000000; stroke-linecap:butt; stroke-linejoin:round; stroke-width:2; stroke-opacity:0.1; fill:none\" points=\"\n  265.158,1114.59 2352.76,1114.59 \n  \"/>\n<polyline clip-path=\"url(#clip702)\" style=\"stroke:#000000; stroke-linecap:butt; stroke-linejoin:round; stroke-width:2; stroke-opacity:0.1; fill:none\" points=\"\n  265.158,918.632 2352.76,918.632 \n  \"/>\n<polyline clip-path=\"url(#clip702)\" style=\"stroke:#000000; stroke-linecap:butt; stroke-linejoin:round; stroke-width:2; stroke-opacity:0.1; fill:none\" points=\"\n  265.158,722.67 2352.76,722.67 \n  \"/>\n<polyline clip-path=\"url(#clip702)\" style=\"stroke:#000000; stroke-linecap:butt; stroke-linejoin:round; stroke-width:2; stroke-opacity:0.1; fill:none\" points=\"\n  265.158,526.708 2352.76,526.708 \n  \"/>\n<polyline clip-path=\"url(#clip702)\" style=\"stroke:#000000; stroke-linecap:butt; stroke-linejoin:round; stroke-width:2; stroke-opacity:0.1; fill:none\" points=\"\n  265.158,330.746 2352.76,330.746 \n  \"/>\n<polyline clip-path=\"url(#clip702)\" style=\"stroke:#000000; stroke-linecap:butt; stroke-linejoin:round; stroke-width:2; stroke-opacity:0.1; fill:none\" points=\"\n  265.158,134.784 2352.76,134.784 \n  \"/>\n<polyline clip-path=\"url(#clip700)\" style=\"stroke:#000000; stroke-linecap:butt; stroke-linejoin:round; stroke-width:4; stroke-opacity:1; fill:none\" points=\"\n  265.158,1423.18 265.158,47.2441 \n  \"/>\n<polyline clip-path=\"url(#clip700)\" style=\"stroke:#000000; stroke-linecap:butt; stroke-linejoin:round; stroke-width:4; stroke-opacity:1; fill:none\" points=\"\n  265.158,1310.56 284.056,1310.56 \n  \"/>\n<polyline clip-path=\"url(#clip700)\" style=\"stroke:#000000; stroke-linecap:butt; stroke-linejoin:round; stroke-width:4; stroke-opacity:1; fill:none\" points=\"\n  265.158,1114.59 284.056,1114.59 \n  \"/>\n<polyline clip-path=\"url(#clip700)\" style=\"stroke:#000000; stroke-linecap:butt; stroke-linejoin:round; stroke-width:4; stroke-opacity:1; fill:none\" points=\"\n  265.158,918.632 284.056,918.632 \n  \"/>\n<polyline clip-path=\"url(#clip700)\" style=\"stroke:#000000; stroke-linecap:butt; stroke-linejoin:round; stroke-width:4; stroke-opacity:1; fill:none\" points=\"\n  265.158,722.67 284.056,722.67 \n  \"/>\n<polyline clip-path=\"url(#clip700)\" style=\"stroke:#000000; stroke-linecap:butt; stroke-linejoin:round; stroke-width:4; stroke-opacity:1; fill:none\" points=\"\n  265.158,526.708 284.056,526.708 \n  \"/>\n<polyline clip-path=\"url(#clip700)\" style=\"stroke:#000000; stroke-linecap:butt; stroke-linejoin:round; stroke-width:4; stroke-opacity:1; fill:none\" points=\"\n  265.158,330.746 284.056,330.746 \n  \"/>\n<polyline clip-path=\"url(#clip700)\" style=\"stroke:#000000; stroke-linecap:butt; stroke-linejoin:round; stroke-width:4; stroke-opacity:1; fill:none\" points=\"\n  265.158,134.784 284.056,134.784 \n  \"/>\n<path clip-path=\"url(#clip700)\" d=\"M123.21 1311.01 L152.886 1311.01 L152.886 1314.94 L123.21 1314.94 L123.21 1311.01 Z\" fill=\"#000000\" fill-rule=\"evenodd\" fill-opacity=\"1\" /><path clip-path=\"url(#clip700)\" d=\"M172.978 1296.36 Q169.367 1296.36 167.538 1299.92 Q165.733 1303.46 165.733 1310.59 Q165.733 1317.7 167.538 1321.26 Q169.367 1324.8 172.978 1324.8 Q176.612 1324.8 178.418 1321.26 Q180.246 1317.7 180.246 1310.59 Q180.246 1303.46 178.418 1299.92 Q176.612 1296.36 172.978 1296.36 M172.978 1292.65 Q178.788 1292.65 181.844 1297.26 Q184.922 1301.84 184.922 1310.59 Q184.922 1319.32 181.844 1323.92 Q178.788 1328.51 172.978 1328.51 Q167.168 1328.51 164.089 1323.92 Q161.034 1319.32 161.034 1310.59 Q161.034 1301.84 164.089 1297.26 Q167.168 1292.65 172.978 1292.65 Z\" fill=\"#000000\" fill-rule=\"evenodd\" fill-opacity=\"1\" /><path clip-path=\"url(#clip700)\" d=\"M193.14 1321.96 L198.024 1321.96 L198.024 1327.84 L193.14 1327.84 L193.14 1321.96 Z\" fill=\"#000000\" fill-rule=\"evenodd\" fill-opacity=\"1\" /><path clip-path=\"url(#clip700)\" d=\"M208.256 1293.28 L226.612 1293.28 L226.612 1297.21 L212.538 1297.21 L212.538 1305.68 Q213.556 1305.34 214.575 1305.17 Q215.594 1304.99 216.612 1304.99 Q222.399 1304.99 225.779 1308.16 Q229.158 1311.33 229.158 1316.75 Q229.158 1322.33 225.686 1325.43 Q222.214 1328.51 215.894 1328.51 Q213.719 1328.51 211.45 1328.14 Q209.205 1327.77 206.797 1327.03 L206.797 1322.33 Q208.881 1323.46 211.103 1324.02 Q213.325 1324.57 215.802 1324.57 Q219.806 1324.57 222.144 1322.47 Q224.482 1320.36 224.482 1316.75 Q224.482 1313.14 222.144 1311.03 Q219.806 1308.92 215.802 1308.92 Q213.927 1308.92 212.052 1309.34 Q210.2 1309.76 208.256 1310.64 L208.256 1293.28 Z\" fill=\"#000000\" fill-rule=\"evenodd\" fill-opacity=\"1\" /><path clip-path=\"url(#clip700)\" d=\"M171.983 1100.39 Q168.372 1100.39 166.543 1103.96 Q164.737 1107.5 164.737 1114.63 Q164.737 1121.74 166.543 1125.3 Q168.372 1128.84 171.983 1128.84 Q175.617 1128.84 177.422 1125.3 Q179.251 1121.74 179.251 1114.63 Q179.251 1107.5 177.422 1103.96 Q175.617 1100.39 171.983 1100.39 M171.983 1096.69 Q177.793 1096.69 180.848 1101.3 Q183.927 1105.88 183.927 1114.63 Q183.927 1123.36 180.848 1127.96 Q177.793 1132.55 171.983 1132.55 Q166.172 1132.55 163.094 1127.96 Q160.038 1123.36 160.038 1114.63 Q160.038 1105.88 163.094 1101.3 Q166.172 1096.69 171.983 1096.69 Z\" fill=\"#000000\" fill-rule=\"evenodd\" fill-opacity=\"1\" /><path clip-path=\"url(#clip700)\" d=\"M192.145 1125.99 L197.029 1125.99 L197.029 1131.87 L192.145 1131.87 L192.145 1125.99 Z\" fill=\"#000000\" fill-rule=\"evenodd\" fill-opacity=\"1\" /><path clip-path=\"url(#clip700)\" d=\"M217.214 1100.39 Q213.603 1100.39 211.774 1103.96 Q209.969 1107.5 209.969 1114.63 Q209.969 1121.74 211.774 1125.3 Q213.603 1128.84 217.214 1128.84 Q220.848 1128.84 222.654 1125.3 Q224.482 1121.74 224.482 1114.63 Q224.482 1107.5 222.654 1103.96 Q220.848 1100.39 217.214 1100.39 M217.214 1096.69 Q223.024 1096.69 226.08 1101.3 Q229.158 1105.88 229.158 1114.63 Q229.158 1123.36 226.08 1127.96 Q223.024 1132.55 217.214 1132.55 Q211.404 1132.55 208.325 1127.96 Q205.27 1123.36 205.27 1114.63 Q205.27 1105.88 208.325 1101.3 Q211.404 1096.69 217.214 1096.69 Z\" fill=\"#000000\" fill-rule=\"evenodd\" fill-opacity=\"1\" /><path clip-path=\"url(#clip700)\" d=\"M172.978 904.431 Q169.367 904.431 167.538 907.996 Q165.733 911.538 165.733 918.667 Q165.733 925.774 167.538 929.338 Q169.367 932.88 172.978 932.88 Q176.612 932.88 178.418 929.338 Q180.246 925.774 180.246 918.667 Q180.246 911.538 178.418 907.996 Q176.612 904.431 172.978 904.431 M172.978 900.727 Q178.788 900.727 181.844 905.334 Q184.922 909.917 184.922 918.667 Q184.922 927.394 181.844 932 Q178.788 936.584 172.978 936.584 Q167.168 936.584 164.089 932 Q161.034 927.394 161.034 918.667 Q161.034 909.917 164.089 905.334 Q167.168 900.727 172.978 900.727 Z\" fill=\"#000000\" fill-rule=\"evenodd\" fill-opacity=\"1\" /><path clip-path=\"url(#clip700)\" d=\"M193.14 930.033 L198.024 930.033 L198.024 935.912 L193.14 935.912 L193.14 930.033 Z\" fill=\"#000000\" fill-rule=\"evenodd\" fill-opacity=\"1\" /><path clip-path=\"url(#clip700)\" d=\"M208.256 901.352 L226.612 901.352 L226.612 905.288 L212.538 905.288 L212.538 913.76 Q213.556 913.413 214.575 913.251 Q215.594 913.065 216.612 913.065 Q222.399 913.065 225.779 916.237 Q229.158 919.408 229.158 924.825 Q229.158 930.403 225.686 933.505 Q222.214 936.584 215.894 936.584 Q213.719 936.584 211.45 936.213 Q209.205 935.843 206.797 935.102 L206.797 930.403 Q208.881 931.537 211.103 932.093 Q213.325 932.649 215.802 932.649 Q219.806 932.649 222.144 930.542 Q224.482 928.436 224.482 924.825 Q224.482 921.213 222.144 919.107 Q219.806 917.001 215.802 917.001 Q213.927 917.001 212.052 917.417 Q210.2 917.834 208.256 918.713 L208.256 901.352 Z\" fill=\"#000000\" fill-rule=\"evenodd\" fill-opacity=\"1\" /><path clip-path=\"url(#clip700)\" d=\"M162.793 736.015 L170.432 736.015 L170.432 709.65 L162.122 711.316 L162.122 707.057 L170.385 705.39 L175.061 705.39 L175.061 736.015 L182.7 736.015 L182.7 739.95 L162.793 739.95 L162.793 736.015 Z\" fill=\"#000000\" fill-rule=\"evenodd\" fill-opacity=\"1\" /><path clip-path=\"url(#clip700)\" d=\"M192.145 734.071 L197.029 734.071 L197.029 739.95 L192.145 739.95 L192.145 734.071 Z\" fill=\"#000000\" fill-rule=\"evenodd\" fill-opacity=\"1\" /><path clip-path=\"url(#clip700)\" d=\"M217.214 708.469 Q213.603 708.469 211.774 712.034 Q209.969 715.576 209.969 722.705 Q209.969 729.812 211.774 733.376 Q213.603 736.918 217.214 736.918 Q220.848 736.918 222.654 733.376 Q224.482 729.812 224.482 722.705 Q224.482 715.576 222.654 712.034 Q220.848 708.469 217.214 708.469 M217.214 704.765 Q223.024 704.765 226.08 709.372 Q229.158 713.955 229.158 722.705 Q229.158 731.432 226.08 736.038 Q223.024 740.622 217.214 740.622 Q211.404 740.622 208.325 736.038 Q205.27 731.432 205.27 722.705 Q205.27 713.955 208.325 709.372 Q211.404 704.765 217.214 704.765 Z\" fill=\"#000000\" fill-rule=\"evenodd\" fill-opacity=\"1\" /><path clip-path=\"url(#clip700)\" d=\"M163.788 540.053 L171.427 540.053 L171.427 513.688 L163.117 515.354 L163.117 511.095 L171.381 509.428 L176.057 509.428 L176.057 540.053 L183.696 540.053 L183.696 543.988 L163.788 543.988 L163.788 540.053 Z\" fill=\"#000000\" fill-rule=\"evenodd\" fill-opacity=\"1\" /><path clip-path=\"url(#clip700)\" d=\"M193.14 538.109 L198.024 538.109 L198.024 543.988 L193.14 543.988 L193.14 538.109 Z\" fill=\"#000000\" fill-rule=\"evenodd\" fill-opacity=\"1\" /><path clip-path=\"url(#clip700)\" d=\"M208.256 509.428 L226.612 509.428 L226.612 513.364 L212.538 513.364 L212.538 521.836 Q213.556 521.488 214.575 521.326 Q215.594 521.141 216.612 521.141 Q222.399 521.141 225.779 524.313 Q229.158 527.484 229.158 532.9 Q229.158 538.479 225.686 541.581 Q222.214 544.66 215.894 544.66 Q213.719 544.66 211.45 544.289 Q209.205 543.919 206.797 543.178 L206.797 538.479 Q208.881 539.613 211.103 540.169 Q213.325 540.724 215.802 540.724 Q219.806 540.724 222.144 538.618 Q224.482 536.512 224.482 532.9 Q224.482 529.289 222.144 527.183 Q219.806 525.076 215.802 525.076 Q213.927 525.076 212.052 525.493 Q210.2 525.91 208.256 526.789 L208.256 509.428 Z\" fill=\"#000000\" fill-rule=\"evenodd\" fill-opacity=\"1\" /><path clip-path=\"url(#clip700)\" d=\"M166.01 344.091 L182.33 344.091 L182.33 348.026 L160.385 348.026 L160.385 344.091 Q163.048 341.337 167.631 336.707 Q172.237 332.054 173.418 330.712 Q175.663 328.188 176.543 326.452 Q177.446 324.693 177.446 323.003 Q177.446 320.249 175.501 318.513 Q173.58 316.776 170.478 316.776 Q168.279 316.776 165.825 317.54 Q163.395 318.304 160.617 319.855 L160.617 315.133 Q163.441 313.999 165.895 313.42 Q168.348 312.841 170.385 312.841 Q175.756 312.841 178.95 315.526 Q182.145 318.212 182.145 322.702 Q182.145 324.832 181.334 326.753 Q180.547 328.651 178.441 331.244 Q177.862 331.915 174.76 335.133 Q171.659 338.327 166.01 344.091 Z\" fill=\"#000000\" fill-rule=\"evenodd\" fill-opacity=\"1\" /><path clip-path=\"url(#clip700)\" d=\"M192.145 342.147 L197.029 342.147 L197.029 348.026 L192.145 348.026 L192.145 342.147 Z\" fill=\"#000000\" fill-rule=\"evenodd\" fill-opacity=\"1\" /><path clip-path=\"url(#clip700)\" d=\"M217.214 316.545 Q213.603 316.545 211.774 320.11 Q209.969 323.651 209.969 330.781 Q209.969 337.887 211.774 341.452 Q213.603 344.994 217.214 344.994 Q220.848 344.994 222.654 341.452 Q224.482 337.887 224.482 330.781 Q224.482 323.651 222.654 320.11 Q220.848 316.545 217.214 316.545 M217.214 312.841 Q223.024 312.841 226.08 317.448 Q229.158 322.031 229.158 330.781 Q229.158 339.508 226.08 344.114 Q223.024 348.698 217.214 348.698 Q211.404 348.698 208.325 344.114 Q205.27 339.508 205.27 330.781 Q205.27 322.031 208.325 317.448 Q211.404 312.841 217.214 312.841 Z\" fill=\"#000000\" fill-rule=\"evenodd\" fill-opacity=\"1\" /><path clip-path=\"url(#clip700)\" d=\"M167.006 148.129 L183.325 148.129 L183.325 152.064 L161.381 152.064 L161.381 148.129 Q164.043 145.374 168.626 140.745 Q173.233 136.092 174.413 134.75 Q176.659 132.226 177.538 130.49 Q178.441 128.731 178.441 127.041 Q178.441 124.287 176.497 122.551 Q174.575 120.814 171.473 120.814 Q169.274 120.814 166.821 121.578 Q164.39 122.342 161.612 123.893 L161.612 119.171 Q164.436 118.037 166.89 117.458 Q169.344 116.879 171.381 116.879 Q176.751 116.879 179.946 119.564 Q183.14 122.25 183.14 126.74 Q183.14 128.87 182.33 130.791 Q181.543 132.689 179.436 135.282 Q178.858 135.953 175.756 139.171 Q172.654 142.365 167.006 148.129 Z\" fill=\"#000000\" fill-rule=\"evenodd\" fill-opacity=\"1\" /><path clip-path=\"url(#clip700)\" d=\"M193.14 146.185 L198.024 146.185 L198.024 152.064 L193.14 152.064 L193.14 146.185 Z\" fill=\"#000000\" fill-rule=\"evenodd\" fill-opacity=\"1\" /><path clip-path=\"url(#clip700)\" d=\"M208.256 117.504 L226.612 117.504 L226.612 121.439 L212.538 121.439 L212.538 129.912 Q213.556 129.564 214.575 129.402 Q215.594 129.217 216.612 129.217 Q222.399 129.217 225.779 132.388 Q229.158 135.56 229.158 140.976 Q229.158 146.555 225.686 149.657 Q222.214 152.736 215.894 152.736 Q213.719 152.736 211.45 152.365 Q209.205 151.995 206.797 151.254 L206.797 146.555 Q208.881 147.689 211.103 148.245 Q213.325 148.8 215.802 148.8 Q219.806 148.8 222.144 146.694 Q224.482 144.587 224.482 140.976 Q224.482 137.365 222.144 135.259 Q219.806 133.152 215.802 133.152 Q213.927 133.152 212.052 133.569 Q210.2 133.986 208.256 134.865 L208.256 117.504 Z\" fill=\"#000000\" fill-rule=\"evenodd\" fill-opacity=\"1\" /><path clip-path=\"url(#clip700)\" d=\"M39.1502 928.776 Q39.8504 926.707 42.1421 924.766 Q44.4337 922.792 48.4441 920.819 L61.4302 914.294 L61.4302 921.201 L49.2398 927.28 Q44.4655 929.636 42.906 931.864 Q41.3464 934.06 41.3464 937.879 L41.3464 944.881 L61.4302 944.881 L61.4302 951.311 L13.9102 951.311 L13.9102 936.797 Q13.9102 928.649 17.3158 924.638 Q20.7215 920.628 27.5964 920.628 Q32.0842 920.628 35.0443 922.729 Q38.0044 924.798 39.1502 928.776 M19.1937 944.881 L36.0628 944.881 L36.0628 936.797 Q36.0628 932.15 33.9303 929.795 Q31.766 927.408 27.5964 927.408 Q23.4269 927.408 21.3262 929.795 Q19.1937 932.15 19.1937 936.797 L19.1937 944.881 Z\" fill=\"#000000\" fill-rule=\"evenodd\" fill-opacity=\"1\" /><path clip-path=\"url(#clip700)\" d=\"M29.8881 895.388 Q29.8881 900.099 33.5802 902.836 Q37.2405 905.573 43.638 905.573 Q50.0355 905.573 53.7277 902.868 Q57.3879 900.131 57.3879 895.388 Q57.3879 890.709 53.6958 887.972 Q50.0037 885.235 43.638 885.235 Q37.3041 885.235 33.612 887.972 Q29.8881 890.709 29.8881 895.388 M24.9228 895.388 Q24.9228 887.749 29.8881 883.389 Q34.8533 879.028 43.638 879.028 Q52.3909 879.028 57.3879 883.389 Q62.3532 887.749 62.3532 895.388 Q62.3532 903.059 57.3879 907.419 Q52.3909 911.748 43.638 911.748 Q34.8533 911.748 29.8881 907.419 Q24.9228 903.059 24.9228 895.388 Z\" fill=\"#000000\" fill-rule=\"evenodd\" fill-opacity=\"1\" /><path clip-path=\"url(#clip700)\" d=\"M11.905 869.32 L11.905 863.464 L61.4302 863.464 L61.4302 869.32 L11.905 869.32 Z\" fill=\"#000000\" fill-rule=\"evenodd\" fill-opacity=\"1\" /><path clip-path=\"url(#clip700)\" d=\"M11.905 851.21 L11.905 845.354 L61.4302 845.354 L61.4302 851.21 L11.905 851.21 Z\" fill=\"#000000\" fill-rule=\"evenodd\" fill-opacity=\"1\" /><path clip-path=\"url(#clip700)\" d=\"M25.7822 833.1 L25.7822 827.243 L61.4302 827.243 L61.4302 833.1 L25.7822 833.1 M11.905 833.1 L11.905 827.243 L19.321 827.243 L19.321 833.1 L11.905 833.1 Z\" fill=\"#000000\" fill-rule=\"evenodd\" fill-opacity=\"1\" /><path clip-path=\"url(#clip700)\" d=\"M39.9141 785.357 L61.4302 785.357 L61.4302 791.213 L40.105 791.213 Q35.0443 791.213 32.5298 793.187 Q30.0154 795.16 30.0154 799.107 Q30.0154 803.849 33.0391 806.586 Q36.0628 809.324 41.2827 809.324 L61.4302 809.324 L61.4302 815.212 L25.7822 815.212 L25.7822 809.324 L31.3204 809.324 Q28.1057 807.223 26.5143 804.39 Q24.9228 801.526 24.9228 797.802 Q24.9228 791.659 28.7423 788.508 Q32.5298 785.357 39.9141 785.357 Z\" fill=\"#000000\" fill-rule=\"evenodd\" fill-opacity=\"1\" /><path clip-path=\"url(#clip700)\" d=\"M43.1924 750.218 Q36.8267 750.218 33.3256 752.86 Q29.8244 755.47 29.8244 760.212 Q29.8244 764.923 33.3256 767.565 Q36.8267 770.175 43.1924 770.175 Q49.5263 770.175 53.0274 767.565 Q56.5286 764.923 56.5286 760.212 Q56.5286 755.47 53.0274 752.86 Q49.5263 750.218 43.1924 750.218 M57.006 744.362 Q66.109 744.362 70.5331 748.404 Q74.9891 752.446 74.9891 760.785 Q74.9891 763.873 74.5117 766.61 Q74.0661 769.347 73.1112 771.925 L67.4139 771.925 Q68.8144 769.347 69.4828 766.833 Q70.1512 764.318 70.1512 761.708 Q70.1512 755.947 67.1275 753.083 Q64.1356 750.218 58.0563 750.218 L55.1599 750.218 Q58.311 752.032 59.8706 754.865 Q61.4302 757.698 61.4302 761.645 Q61.4302 768.201 56.4331 772.212 Q51.436 776.222 43.1924 776.222 Q34.917 776.222 29.9199 772.212 Q24.9228 768.201 24.9228 761.645 Q24.9228 757.698 26.4824 754.865 Q28.042 752.032 31.1931 750.218 L25.7822 750.218 L25.7822 744.362 L57.006 744.362 Z\" fill=\"#000000\" fill-rule=\"evenodd\" fill-opacity=\"1\" /><path clip-path=\"url(#clip700)\" d=\"M18.2707 692.036 Q18.2707 699.038 23.4905 703.176 Q28.7104 707.281 37.7179 707.281 Q46.6935 707.281 51.9134 703.176 Q57.1333 699.038 57.1333 692.036 Q57.1333 685.033 51.9134 680.959 Q46.6935 676.853 37.7179 676.853 Q28.7104 676.853 23.4905 680.959 Q18.2707 685.033 18.2707 692.036 M13.0508 692.036 Q13.0508 682.041 19.7666 676.058 Q26.4506 670.074 37.7179 670.074 Q48.9534 670.074 55.6692 676.058 Q62.3532 682.041 62.3532 692.036 Q62.3532 702.062 55.6692 708.077 Q48.9852 714.061 37.7179 714.061 Q26.4506 714.061 19.7666 708.077 Q13.0508 702.062 13.0508 692.036 Z\" fill=\"#000000\" fill-rule=\"evenodd\" fill-opacity=\"1\" /><path clip-path=\"url(#clip700)\" d=\"M13.9102 660.016 L13.9102 653.587 L56.0193 653.587 L56.0193 630.447 L61.4302 630.447 L61.4302 660.016 L13.9102 660.016 Z\" fill=\"#000000\" fill-rule=\"evenodd\" fill-opacity=\"1\" /><path clip-path=\"url(#clip700)\" d=\"M15.4698 595.213 L21.74 595.213 Q19.9894 598.873 19.13 602.12 Q18.2707 605.366 18.2707 608.39 Q18.2707 613.642 20.3077 616.506 Q22.3447 619.339 26.1005 619.339 Q29.2515 619.339 30.8748 617.461 Q32.4662 615.552 33.4529 610.268 L34.2486 606.385 Q35.6172 599.192 39.0865 595.786 Q42.524 592.349 48.3168 592.349 Q55.2236 592.349 58.7884 596.996 Q62.3532 601.611 62.3532 610.555 Q62.3532 613.928 61.5893 617.748 Q60.8254 621.535 59.3295 625.609 L52.7091 625.609 Q54.9053 621.695 56.0193 617.939 Q57.1333 614.183 57.1333 610.555 Q57.1333 605.048 54.969 602.056 Q52.8046 599.064 48.7942 599.064 Q45.2931 599.064 43.3197 601.229 Q41.3464 603.361 40.3597 608.263 L39.5958 612.178 Q38.1635 619.371 35.108 622.586 Q32.0524 625.8 26.6097 625.8 Q20.3077 625.8 16.6792 621.376 Q13.0508 616.92 13.0508 609.122 Q13.0508 605.78 13.6555 602.311 Q14.2603 598.842 15.4698 595.213 Z\" fill=\"#000000\" fill-rule=\"evenodd\" fill-opacity=\"1\" /><path clip-path=\"url(#clip700)\" d=\"M59.234 562.111 L74.9891 562.111 L74.9891 568 L26.005 568 Q11.4912 568 11.4912 554.441 Q11.4912 540.627 23.7452 540.627 Q32.4662 540.627 35.649 546.102 Q38.5136 537.19 47.0118 537.19 Q62.0986 537.19 62.0986 552.531 Q62.0986 559.279 59.234 562.111 M51.5951 562.111 Q57.1015 558.579 57.1015 552.308 Q57.1015 543.142 47.1073 543.142 Q38.1317 543.142 38.8319 557.91 L33.421 557.91 Q33.421 546.356 23.2359 546.356 Q16.2655 546.356 16.2655 553.804 Q16.2655 562.111 26.196 562.111 L51.5951 562.111 Z\" fill=\"#000000\" fill-rule=\"evenodd\" fill-opacity=\"1\" /><path clip-path=\"url(#clip700)\" d=\"M42.9832 528.914 L51.2069 528.914 L51.2069 519.113 L54.905 519.113 L54.905 528.914 L70.6283 528.914 Q74.1712 528.914 75.1797 527.957 Q76.1883 526.975 76.1883 524.001 L76.1883 519.113 L80.1709 519.113 L80.1709 524.001 Q80.1709 529.509 78.1279 531.604 Q76.059 533.699 70.6283 533.699 L54.905 533.699 L54.905 537.19 L51.2069 537.19 L51.2069 533.699 L42.9832 533.699 L42.9832 528.914 Z\" fill=\"#000000\" fill-rule=\"evenodd\" fill-opacity=\"1\" /><polyline clip-path=\"url(#clip702)\" style=\"stroke:#009af9; stroke-linecap:butt; stroke-linejoin:round; stroke-width:4; stroke-opacity:1; fill:none\" points=\"\n  324.241,567.86 328.133,731.293 332.026,821.827 335.918,908.05 339.81,953.122 343.702,994.274 347.594,1106.76 351.486,1215.71 355.378,1132.23 359.271,965.663 \n  363.163,907.659 367.055,874.345 370.947,815.948 374.839,766.958 378.731,735.212 382.624,725.414 386.516,719.143 390.408,733.644 394.3,716.4 398.192,737.564 \n  402.084,761.863 405.977,781.459 409.869,815.948 413.761,840.248 417.653,848.87 421.545,872.777 425.437,872.385 429.329,864.939 433.222,875.521 437.114,866.507 \n  441.006,864.155 444.898,825.746 448.79,773.621 452.682,743.442 456.575,731.685 460.467,734.036 464.359,741.875 468.251,775.188 472.143,809.678 476.035,803.015 \n  479.928,812.421 483.82,817.124 487.712,783.811 491.604,766.958 495.496,744.618 499.388,770.485 503.28,808.11 507.173,813.205 511.065,792.433 514.957,778.324 \n  518.849,740.307 522.741,715.224 526.633,688.573 530.526,663.098 534.418,654.868 538.31,651.34 542.202,663.098 546.094,677.207 549.986,693.276 553.879,716.4 \n  557.771,734.036 561.663,744.618 565.555,746.97 569.447,735.212 573.339,728.549 577.231,721.103 581.124,722.67 585.016,723.846 588.908,726.982 592.8,739.915 \n  596.692,748.537 600.584,756.376 604.477,774.404 608.369,782.635 612.261,783.419 616.153,780.675 620.045,781.459 623.937,784.986 627.83,797.136 631.722,796.352 \n  635.614,795.96 639.506,793.609 643.398,792.041 647.29,788.514 651.182,786.946 655.075,786.554 658.967,785.378 662.859,785.378 666.751,785.378 670.643,787.338 \n  674.535,788.906 678.428,796.352 682.32,811.245 686.212,824.963 690.104,837.504 693.996,842.207 697.888,844.559 701.781,845.343 705.673,844.559 709.565,841.815 \n  713.457,832.017 717.349,817.908 721.241,816.732 725.133,818.692 729.026,803.799 732.918,774.796 736.81,739.523 740.702,695.628 744.594,677.991 748.486,667.017 \n  752.379,669.761 756.271,686.613 760.163,711.305 764.055,749.321 767.947,811.637 771.839,844.559 775.731,824.571 779.624,787.73 783.516,790.473 787.408,820.259 \n  791.3,840.64 795.192,864.939 799.084,872.385 802.977,870.034 806.869,868.858 810.761,867.29 814.653,872.777 818.545,871.602 822.437,868.466 826.33,862.195 \n  830.222,847.694 834.114,864.547 838.006,872.385 841.898,861.412 845.79,853.965 849.682,837.896 853.575,830.841 857.467,824.571 861.359,838.68 865.251,855.925 \n  869.143,869.642 873.035,881.4 876.928,894.725 880.82,910.794 884.712,924.511 888.604,926.863 892.496,927.647 896.388,927.255 900.281,927.255 904.173,929.214 \n  908.065,927.647 911.957,926.079 915.849,926.471 919.741,926.079 923.633,923.336 927.526,923.336 931.418,924.903 935.31,926.471 939.202,928.039 943.094,932.35 \n  946.986,940.972 950.879,956.257 954.771,969.191 958.663,980.165 962.555,989.571 966.447,998.977 970.339,1006.03 974.232,1015.83 978.124,1025.24 982.016,1035.03 \n  985.908,1040.13 989.8,1042.09 993.692,1044.44 997.584,1043.66 1001.48,1041.7 1005.37,1033.86 1009.26,1030.72 1013.15,1050.71 1017.05,1072.27 1020.94,1056.2 \n  1024.83,1040.91 1028.72,1002.11 1032.61,976.245 1036.51,969.583 1040.4,964.488 1044.29,960.176 1048.18,956.257 1052.07,956.649 1055.97,960.96 1059.86,968.407 \n  1063.75,992.314 1067.64,1022.1 1071.54,1054.24 1075.43,1089.51 1079.32,1124 1083.21,1226.68 1087.1,1298.8 1091,1384.24 1094.89,1355.24 1098.78,1301.93 \n  1102.67,1261.96 1106.56,1237.66 1110.46,1185.92 1114.35,1097.35 1118.24,917.065 1122.13,891.59 1126.03,883.751 1129.92,891.59 1133.81,897.469 1137.7,841.423 \n  1141.59,910.01 1145.49,956.649 1149.38,895.509 1153.27,910.402 1157.16,959.393 1161.06,1058.16 1164.95,1004.86 1168.84,1031.9 1172.73,1091.86 1176.62,1062.86 \n  1180.52,1060.51 1184.41,1066 1188.3,1075.01 1192.19,1046.79 1196.08,1050.32 1199.98,1055.41 1203.87,1045.22 1207.76,1054.63 1211.65,1062.08 1215.55,1062.08 \n  1219.44,1061.68 1223.33,1066 1227.22,1069.52 1231.11,1066 1235.01,1059.33 1238.9,1059.73 1242.79,1073.05 1246.68,1090.3 1250.57,1090.3 1254.47,1087.16 \n  1258.36,1079.71 1262.25,1084.42 1266.14,1084.02 1270.04,1083.24 1273.93,1102.05 1277.82,1103.23 1281.71,1103.23 1285.6,1099.31 1289.5,1099.7 1293.39,1094.61 \n  1297.28,1093.82 1301.17,1082.85 1305.06,1080.11 1308.96,1080.89 1312.85,1078.15 1316.74,1069.52 1320.63,1067.17 1324.53,1064.82 1328.42,1059.33 1332.31,1064.82 \n  1336.2,1067.96 1340.09,1067.96 1343.99,1061.29 1347.88,1056.59 1351.77,1054.63 1355.66,1057.37 1359.56,1047.97 1363.45,1040.91 1367.34,1015.44 1371.23,1014.65 \n  1375.12,1015.83 1379.02,1014.26 1382.91,1020.92 1386.8,1015.05 1390.69,1006.82 1394.58,993.098 1398.48,1016.61 1402.37,1003.68 1406.26,963.312 1410.15,962.528 \n  1414.05,953.906 1417.94,943.324 1421.83,897.86 1425.72,861.02 1429.61,809.286 1433.51,772.837 1437.4,737.564 1441.29,705.034 1445.18,669.761 1449.07,628.609 \n  1452.97,613.716 1456.86,599.998 1460.75,591.768 1464.64,591.376 1468.54,594.903 1472.43,593.335 1476.32,566.293 1480.21,546.305 1484.1,540.034 1488,536.898 \n  1491.89,540.034 1495.78,547.872 1499.67,554.927 1503.56,547.088 1507.46,477.326 1511.35,421.673 1515.24,406.78 1519.13,409.131 1523.03,394.238 1526.92,384.832 \n  1530.81,351.518 1534.7,273.525 1538.59,266.471 1542.49,268.822 1546.38,253.929 1550.27,243.347 1554.16,214.737 1558.06,185.342 1561.95,181.031 1565.84,177.112 \n  1569.73,177.112 1573.62,177.896 1577.52,178.68 1581.41,169.274 1585.3,124.202 1589.19,92.4565 1593.08,86.1857 1596.98,97.9434 1600.87,105.782 1604.76,119.107 \n  1608.65,129.689 1612.55,146.15 1616.44,143.015 1620.33,144.582 1624.22,148.502 1628.11,144.974 1632.01,120.675 1635.9,119.891 1639.79,119.891 1643.68,118.323 \n  1647.57,119.891 1651.47,121.067 1655.36,135.568 1659.25,166.922 1663.14,199.06 1667.04,213.953 1670.93,239.036 1674.82,264.511 1678.71,300.568 1682.6,333.882 \n  1686.5,361.708 1690.39,385.616 1694.28,440.877 1698.17,520.046 1702.07,581.186 1705.96,624.297 1709.85,666.233 1713.74,707.385 1717.63,734.82 1721.53,754.416 \n  1725.42,759.903 1729.31,776.364 1733.2,782.243 1737.09,788.122 1740.99,805.366 1744.88,848.086 1748.77,862.979 1752.66,880.224 1756.56,889.238 1760.45,873.169 \n  1764.34,910.01 1768.23,917.457 1772.12,899.036 1776.02,871.993 1779.91,862.979 1783.8,866.507 1787.69,873.169 1791.58,862.195 1795.48,857.492 1799.37,855.141 \n  1803.26,838.288 1807.15,816.34 1811.05,810.853 1814.94,797.528 1818.83,795.568 1822.72,795.176 1826.61,801.447 1830.51,809.678 1834.4,798.312 1838.29,793.217 \n  1842.18,789.689 1846.07,771.661 1849.97,755.2 1853.86,744.618 1857.75,731.685 1861.64,717.575 1865.54,717.967 1869.43,712.088 1873.32,708.169 1877.21,708.561 \n  1881.1,703.074 1885,694.452 1888.89,695.628 1892.78,688.573 1896.67,674.856 1900.57,664.666 1904.46,662.706 1908.35,661.922 1912.24,668.585 1916.13,675.248 \n  1920.03,693.276 1923.92,729.333 1927.81,743.834 1931.7,734.036 1935.59,720.319 1939.49,710.913 1943.38,703.858 1947.27,683.87 1951.16,666.233 1955.06,646.245 \n  1958.95,633.704 1962.84,627.825 1966.73,634.879 1970.62,634.096 1974.52,633.704 1978.41,639.191 1982.3,648.597 1986.19,653.3 1990.08,653.692 1993.98,669.369 \n  1997.87,674.072 2001.76,681.91 2005.65,695.236 2009.55,709.737 2013.44,716.792 2017.33,726.198 2021.22,721.495 2025.11,729.333 2029.01,734.82 2032.9,746.186 \n  2036.79,762.647 2040.68,798.704 2044.57,827.314 2048.47,863.371 2052.36,882.184 2056.25,907.267 2060.14,928.431 2064.04,946.459 2067.93,957.433 2071.82,956.257 \n  2075.71,943.716 2079.6,944.891 2083.5,924.119 2087.39,914.321 2091.28,896.685 2095.17,870.426 2099.07,867.29 2102.96,864.939 2106.85,866.898 2110.74,874.345 \n  2114.63,874.345 2118.53,876.305 2122.42,887.279 2126.31,868.466 2130.2,870.426 2134.09,873.561 2137.99,877.088 2141.88,877.872 2145.77,876.697 2149.66,875.129 \n  2153.56,859.06 2157.45,822.611 2161.34,806.15 2165.23,813.989 2169.12,822.219 2173.02,817.516 2176.91,806.15 2180.8,821.827 2184.69,843.383 2188.58,851.221 \n  2192.48,867.682 2196.37,896.293 2200.26,883.359 2204.15,883.359 2208.05,910.01 2211.94,987.219 2215.83,1025.63 2219.72,1038.56 2223.61,1042.87 2227.51,1043.66 \n  2231.4,1039.35 2235.29,1025.63 2239.18,1027.98 2243.07,1028.76 2246.97,1022.49 2250.86,1017.01 2254.75,1031.9 2258.64,1040.52 2262.54,1043.26 2266.43,1043.66 \n  2270.32,1040.91 2274.21,1042.48 2278.1,1040.13 2282,1037.78 2285.89,1033.86 2289.78,1030.33 2293.67,992.706 \n  \"/>\n<polyline clip-path=\"url(#clip702)\" style=\"stroke:#ff0000; stroke-linecap:butt; stroke-linejoin:round; stroke-width:4; stroke-opacity:1; fill:none\" points=\"\n  -1822.44,722.67 4440.35,722.67 \n  \"/>\n<polyline clip-path=\"url(#clip702)\" style=\"stroke:#ff0000; stroke-linecap:butt; stroke-linejoin:round; stroke-width:4; stroke-opacity:1; fill:none\" points=\"\n  -1822.44,1114.59 4440.35,1114.59 \n  \"/>\n</svg>\n"
     },
     "execution_count": 17,
     "metadata": {},
     "output_type": "execute_result"
    }
   ],
   "source": [
    "plot(national_weekly.Date[1:(N_weekly - nobs + 1)], roll_beta_national_weekly, \n",
    "label = :none,\n",
    "xlabel = \"First day of each window\",\n",
    "ylabel = \"Rolling OLS \\\\beta_t\")\n",
    "hline!([1], label = :none, color = :red)\n",
    "hline!([0], label = :none, color = :red)"
   ]
  },
  {
   "cell_type": "markdown",
   "id": "87489a2a",
   "metadata": {},
   "source": [
    "### Section 2.1.3: Weekday"
   ]
  },
  {
   "cell_type": "code",
   "execution_count": null,
   "id": "fdb49094",
   "metadata": {},
   "outputs": [],
   "source": [
    "plot(national_7dd.Date[1:(N_7dd - nobs + 1)], roll_beta_national_7dd, \n",
    "label = :none,\n",
    "xlabel = \"First day of each window\",\n",
    "ylabel = \"Rolling OLS \\\\beta_t\")"
   ]
  },
  {
   "cell_type": "markdown",
   "id": "667be386",
   "metadata": {},
   "source": [
    "## Section 2.2: First score model\n",
    "\n",
    "If we assume $\\beta_t$ and $\\log (\\pi^*_t)$ are locally constant, the model can be simplified to,\n",
    "\n",
    "$$\n",
    "\\Delta c_t = \n",
    "\\beta_t\n",
    "\\Delta n_t +\n",
    "U_t\n",
    "$$\n",
    "\n",
    "Assume a constant $\\sigma$ for the new error term for now to simplify further...\n",
    "\n",
    "Simplify notation, $y_t = \\Delta c_t$ and $x_t = \\Delta n_t$.\n",
    "\n",
    "The log-likelihood is:\n",
    "\n",
    "$$\\ell(\\beta_t) \\propto - T \\log(\\sigma^2) - \\sum_{t=1}^T \\frac{(y_t - \\beta_t x_t)^2}{\\sigma^2};$$\n",
    "\n",
    "The score is:\n",
    "\n",
    "$$\\frac{\\partial \\ell}{\\partial \\beta_t} = \\frac{1}{\\sigma^2} (y_t - \\beta_t x_t) x_t;$$\n",
    "\n",
    "The hessian is:\n",
    "\n",
    "$$\\frac{\\partial^2 \\ell}{\\partial \\beta_t^2} = - \\frac{1}{\\sigma^2} x_t^2;$$\n",
    "\n",
    "Define\n",
    "$$\\psi(\\beta_t) =\n",
    "\\frac{\\frac{\\partial \\ell}{\\partial \\beta_t}}{\\sqrt{- \\frac{\\partial^2 \\ell}{\\partial \\beta_t^2}}}\n",
    "=\n",
    "\\frac{\\frac{1}{\\sigma^2} (y_t - \\beta_t x_t) x_t}{\\sqrt{\\frac{1}{\\sigma^2} x_t^2}}\n",
    "= \n",
    "\\frac{1}{\\sigma} \\text{sign}(x_t) (y_t - \\beta_t x_t)\n",
    "$$\n",
    "\n",
    "The model is (new version):\n",
    "\n",
    "$$\\beta_{t+1} = \\omega + \\phi \\beta_t + \\alpha \\psi(\\beta_t)\n",
    "=\n",
    "\\omega + \\phi \\beta_t + \\alpha \\frac{\\text{sign}(x_t) (y_t - \\beta_t x_t)}{\\sigma} \n",
    "$$"
   ]
  },
  {
   "cell_type": "code",
   "execution_count": 3,
   "id": "aa179ef9",
   "metadata": {},
   "outputs": [
    {
     "data": {
      "text/plain": [
       "logL (generic function with 1 method)"
      ]
     },
     "metadata": {},
     "output_type": "display_data"
    }
   ],
   "source": [
    "using Optim;\n",
    "function ScoreBeta(θ, data)\n",
    "    x = data.diff_logNt;\n",
    "    y = data.diff_logCt;\n",
    "    T = nrow(data);\n",
    "    ω = θ[1]; \n",
    "    ϕ = θ[2];\n",
    "    α = θ[3]; \n",
    "    σ = θ[4];\n",
    "    θ0 = θ[5];\n",
    "    β0 = 1/(1 + exp(-θ0));\n",
    "    β = [];  \n",
    "    # Checked by CS people, this step is totally fine, wouldn't make any difference to memory or speed.\n",
    "    # During optimazition process, this beta will be cleared after every update.\n",
    "    push!(β, β0)  \n",
    "    \n",
    "    for i in 1:(T-1)\n",
    "        v = ω + ϕ * β[i] + α * sign(x[i]) * (y[i] - β[i] * x[i]) / σ\n",
    "        push!(β, v)\n",
    "    end\n",
    "\n",
    "    \n",
    "    return β\n",
    "end\n",
    "\n",
    "function logL(θ, data)\n",
    "    x = data.diff_logNt;\n",
    "    y = data.diff_logCt;\n",
    "    T = nrow(data);\n",
    "    β = ScoreBeta(θ, data);\n",
    "    σ = θ[4];\n",
    "    sum((y .- β .* x).^2)/(σ^2) + T*log(σ^2)   # Note: This is negative logL, not logL.\n",
    "end"
   ]
  },
  {
   "cell_type": "markdown",
   "id": "af8b96d2",
   "metadata": {},
   "source": [
    "## Second Score Model\n",
    "\n",
    "Assume normal errors, $\\Delta \\log \\hat{C_t^*} \\sim N(0, \\sigma^2)$. \n",
    "\n",
    "Simplify notation, $y_t = \\Delta \\log C_t$ and $x_t = \\Delta \\log N_t$.\n",
    "\n",
    "To ensure $\\beta$ is between 0 to 1, re-parameterize it as $$\\beta_t = \\frac{1}{1 + \\exp(-\\theta_t)}.$$\n",
    "\n",
    "The log-likelihood is:\n",
    "\n",
    "$$\n",
    "\\ell(\\theta_t) \\propto - T \\log(\\sigma^2) \n",
    "- \n",
    "\\frac{1}{\\sigma^2} \n",
    "\\sum_{t=1}^T \\left(y_t - \\frac{x_t}{1 + \\exp(-\\theta_t)}\\right)^2\n",
    ";$$\n",
    "\n",
    "The score is:\n",
    "\n",
    "$$\n",
    "\\frac{\\partial \\ell}{\\partial \\theta_t} \n",
    "= \n",
    "\\frac{x_t}{\\sigma^2  \\exp(\\theta_t) \\left( 1 + \\exp(-\\theta_t) \\right)^2}\n",
    "\\left(  y_t - \\frac{x_t}{1 + \\exp(-\\theta_t)}  \\right) \n",
    ";$$\n",
    "\n",
    "The wrong hessian is (didn't take expectation):\n",
    "\n",
    "$$\n",
    "\\frac{\\partial^2 \\ell}{\\partial \\theta_t^2} \n",
    "= \n",
    "\\frac{x_t}{\\sigma^2  \\exp(\\theta_t) (1 + \\exp(-\\theta_t))^2}\n",
    "\\left(\n",
    "\\frac{2 y_t}{\\exp(\\theta_t)  (1 + \\exp(-\\theta_t))}\n",
    "-\n",
    "y_t\n",
    "-\n",
    "\\frac{3 x_t}{\\exp(\\theta_t) (1 + \\exp(-\\theta_t))^2}\n",
    "+\n",
    "\\frac{x_t}{1 + \\exp(-\\theta_t)}\n",
    "\\right)\n",
    ";$$\n",
    "\n",
    "The right hessian is:\n",
    "$$\n",
    "\\frac{\\partial^2 \\ell}{\\partial \\theta_t^2} \n",
    "=\n",
    "- \\frac{x_t^2}{\\sigma^2   \\exp(2 \\theta_t)   (1 + \\exp(-\\theta_t))^4}\n",
    "$$\n",
    "\n",
    "Define\n",
    "$$\n",
    "\\psi(\\theta_t) =\n",
    "\\frac{\\frac{\\partial \\ell}{\\partial \\theta_t}}{\\sqrt{- \\frac{\\partial^2 \\ell}{\\partial \\theta_t^2}}}\n",
    "=\n",
    "\\frac{1}{\\sigma} \\text{sign}(x_t) \\left(y_t -  \\frac{x_t}{1 + \\exp(-\\theta_t)} \\right)\n",
    ",$$\n",
    "\n",
    "The model is (new version):\n",
    "\n",
    "$$\n",
    "\\theta_{t+1} = \\omega + \\phi \\theta_t + \\alpha \\psi(\\theta_t)\n",
    ".$$"
   ]
  },
  {
   "cell_type": "code",
   "execution_count": 19,
   "id": "9ec44391",
   "metadata": {},
   "outputs": [
    {
     "data": {
      "text/plain": [
       "logL (generic function with 1 method)"
      ]
     },
     "execution_count": 19,
     "metadata": {},
     "output_type": "execute_result"
    }
   ],
   "source": [
    "using Optim;\n",
    "function logL(θstatic, data)    # Note: This function returns negative logL, not logL.\n",
    "    x = data.diff_logNt;\n",
    "    y = data.diff_logCt;\n",
    "    T = nrow(data);\n",
    "    ω = θstatic[1]; \n",
    "    ϕ = θstatic[2];\n",
    "    α = θstatic[3]; \n",
    "    σ = θstatic[4];\n",
    "    θ0 = θstatic[5];\n",
    "    θ = [];\n",
    "    push!(θ, θ0);\n",
    "    \n",
    "    for i in 1:(T-1)\n",
    "        #score = x[i] / (σ^2 * exp(θ[i]) * (1 + exp(-θ[i]))^2) * (y[i] - x[i] / (1 + exp(-θ[i])));\n",
    "        newθ = ω + ϕ * θ[i] + α *  sign(x[i]) * (y[i] - x[i] / (1 + exp(-θ[i]))) / σ;\n",
    "        push!(θ, newθ); \n",
    "    end\n",
    "    \n",
    "    ll = T * log(σ^2) + sum( ( y .- x ./ ( 1 .+ exp.(-θ) ) ).^2 ) / (σ^2);\n",
    "    return ll     \n",
    "end"
   ]
  },
  {
   "cell_type": "markdown",
   "id": "68a44581",
   "metadata": {},
   "source": [
    "Coding notes: \n",
    "\n",
    "Checked by CS people, this function is totally fine, no efficiency issues. No is any memory wasted at all. The vector $\\beta$ is just a middle product, so $\\beta$ will not be kept anywhere in the system but will be destroyed after implementing the function because logL does not return $\\beta$.\n",
    "\n",
    "Even if the function is implemented many times during optimization, there is always at most only one $\\beta$ in the system. On the other hand, if a global $\\beta$ is created outside the function and then get updated, it will always be kept in the system, i.e. always takes some memory, though the space taken is small.\n",
    "\n",
    "The two chunks below are just to show that even if the function logL is called and successfully operated, the middle-product variable $\\beta$ will not be kept, but rather be dropped. "
   ]
  },
  {
   "cell_type": "code",
   "execution_count": null,
   "id": "3751cb7c",
   "metadata": {},
   "outputs": [],
   "source": [
    "logL([0, 0.1, 0.1, 0.2, 0.6, 1], national_weekly)"
   ]
  },
  {
   "cell_type": "code",
   "execution_count": null,
   "id": "ea9aff67",
   "metadata": {},
   "outputs": [],
   "source": [
    "β"
   ]
  },
  {
   "cell_type": "code",
   "execution_count": 20,
   "id": "aea11b34",
   "metadata": {},
   "outputs": [
    {
     "data": {
      "text/plain": [
       "recoverBeta (generic function with 1 method)"
      ]
     },
     "execution_count": 20,
     "metadata": {},
     "output_type": "execute_result"
    }
   ],
   "source": [
    "function recoverBeta(θstatic, data)\n",
    "    x = data.diff_logNt;\n",
    "    y = data.diff_logCt;\n",
    "    T = nrow(data);\n",
    "    ω = θstatic[1]; \n",
    "    ϕ = θstatic[2];\n",
    "    α = θstatic[3]; \n",
    "    σ = θstatic[4];\n",
    "    θ0 = θstatic[5];\n",
    "    θ = [];\n",
    "    push!(θ, θ0);\n",
    "    \n",
    "    for i in 1:(T-1)\n",
    "        #score = x[i] / (σ^2 * exp(θ[i]) * (1 + exp(-θ[i]))^2) * (y[i] - x[i] / (1 + exp(-θ[i])));\n",
    "        newθ = ω + ϕ * θ[i] + α *  sign(x[i]) * (y[i] - x[i] / (1 + exp(-θ[i]))) / σ;\n",
    "        push!(θ, newθ); \n",
    "    end\n",
    "    \n",
    "    β = 1 ./ (1 .+ exp.(-θ));\n",
    "    return(β)\n",
    "end"
   ]
  },
  {
   "cell_type": "markdown",
   "id": "39e8665b",
   "metadata": {},
   "source": [
    "### Section 2.2.1: Daily"
   ]
  },
  {
   "cell_type": "code",
   "execution_count": null,
   "id": "be75133e",
   "metadata": {},
   "outputs": [],
   "source": [
    "θ_national_daily = [0, 1, 0.5, 0.9, 0];\n",
    "obj_national_daily = θ_national_daily -> logL(θ_national_daily, national_daily) \n",
    "res_national_daily = optimize(obj_national_daily, θ_national_daily)\n",
    "Optim.minimizer(res_national_daily)  # Estimated static parameters"
   ]
  },
  {
   "cell_type": "code",
   "execution_count": null,
   "id": "2efbbec3",
   "metadata": {},
   "outputs": [],
   "source": [
    "ScoreBetaHat_national_daily = recoverBeta(Optim.minimizer(res_national_daily), national_daily);\n",
    "plot(national_daily.Date, ScoreBetaHat_national_daily, \n",
    "label = :none,\n",
    "xlabel = \"Date\",\n",
    "ylabel = \"Score \\\\beta_t\")"
   ]
  },
  {
   "cell_type": "markdown",
   "id": "284572c3",
   "metadata": {},
   "source": [
    "### Section 2.2.2: Weekly"
   ]
  },
  {
   "cell_type": "code",
   "execution_count": 23,
   "id": "02cc531a",
   "metadata": {},
   "outputs": [
    {
     "data": {
      "text/plain": [
       "5-element Vector{Float64}:\n",
       "  -0.09508529687255218\n",
       "   0.5023472824956535\n",
       "   3.6034078012953845\n",
       "   0.04350331072804711\n",
       " 197.96279628881777"
      ]
     },
     "execution_count": 23,
     "metadata": {},
     "output_type": "execute_result"
    }
   ],
   "source": [
    "# different initial values result in different results \n",
    "# θ_national_weekly = [0, 1, 0.1, 0.2, 0];\n",
    "θ_national_weekly = [0, 0.1, 0.1, 0.9, 0];\n",
    "obj_national_weekly = θ_national_weekly -> logL(θ_national_weekly, national_weekly) \n",
    "res_national_weekly = optimize(obj_national_weekly, θ_national_weekly)\n",
    "Optim.minimizer(res_national_weekly)  # Estimated parameters"
   ]
  },
  {
   "cell_type": "code",
   "execution_count": 24,
   "id": "7ffe808c",
   "metadata": {},
   "outputs": [
    {
     "data": {
      "image/svg+xml": "<?xml version=\"1.0\" encoding=\"utf-8\"?>\n<svg xmlns=\"http://www.w3.org/2000/svg\" xmlns:xlink=\"http://www.w3.org/1999/xlink\" width=\"600\" height=\"400\" viewBox=\"0 0 2400 1600\">\n<defs>\n  <clipPath id=\"clip820\">\n    <rect x=\"0\" y=\"0\" width=\"2400\" height=\"1600\"/>\n  </clipPath>\n</defs>\n<path clip-path=\"url(#clip820)\" d=\"\nM0 1600 L2400 1600 L2400 0 L0 0  Z\n  \" fill=\"#ffffff\" fill-rule=\"evenodd\" fill-opacity=\"1\"/>\n<defs>\n  <clipPath id=\"clip821\">\n    <rect x=\"480\" y=\"0\" width=\"1681\" height=\"1600\"/>\n  </clipPath>\n</defs>\n<path clip-path=\"url(#clip820)\" d=\"\nM258.492 1423.18 L2352.76 1423.18 L2352.76 47.2441 L258.492 47.2441  Z\n  \" fill=\"#ffffff\" fill-rule=\"evenodd\" fill-opacity=\"1\"/>\n<defs>\n  <clipPath id=\"clip822\">\n    <rect x=\"258\" y=\"47\" width=\"2095\" height=\"1377\"/>\n  </clipPath>\n</defs>\n<polyline clip-path=\"url(#clip822)\" style=\"stroke:#000000; stroke-linecap:butt; stroke-linejoin:round; stroke-width:2; stroke-opacity:0.1; fill:none\" points=\"\n  317.763,1423.18 317.763,47.2441 \n  \"/>\n<polyline clip-path=\"url(#clip822)\" style=\"stroke:#000000; stroke-linecap:butt; stroke-linejoin:round; stroke-width:2; stroke-opacity:0.1; fill:none\" points=\"\n  852.782,1423.18 852.782,47.2441 \n  \"/>\n<polyline clip-path=\"url(#clip822)\" style=\"stroke:#000000; stroke-linecap:butt; stroke-linejoin:round; stroke-width:2; stroke-opacity:0.1; fill:none\" points=\"\n  1380.81,1423.18 1380.81,47.2441 \n  \"/>\n<polyline clip-path=\"url(#clip822)\" style=\"stroke:#000000; stroke-linecap:butt; stroke-linejoin:round; stroke-width:2; stroke-opacity:0.1; fill:none\" points=\"\n  1915.82,1423.18 1915.82,47.2441 \n  \"/>\n<polyline clip-path=\"url(#clip820)\" style=\"stroke:#000000; stroke-linecap:butt; stroke-linejoin:round; stroke-width:4; stroke-opacity:1; fill:none\" points=\"\n  258.492,1423.18 2352.76,1423.18 \n  \"/>\n<polyline clip-path=\"url(#clip820)\" style=\"stroke:#000000; stroke-linecap:butt; stroke-linejoin:round; stroke-width:4; stroke-opacity:1; fill:none\" points=\"\n  317.763,1423.18 317.763,1404.28 \n  \"/>\n<polyline clip-path=\"url(#clip820)\" style=\"stroke:#000000; stroke-linecap:butt; stroke-linejoin:round; stroke-width:4; stroke-opacity:1; fill:none\" points=\"\n  852.782,1423.18 852.782,1404.28 \n  \"/>\n<polyline clip-path=\"url(#clip820)\" style=\"stroke:#000000; stroke-linecap:butt; stroke-linejoin:round; stroke-width:4; stroke-opacity:1; fill:none\" points=\"\n  1380.81,1423.18 1380.81,1404.28 \n  \"/>\n<polyline clip-path=\"url(#clip820)\" style=\"stroke:#000000; stroke-linecap:butt; stroke-linejoin:round; stroke-width:4; stroke-opacity:1; fill:none\" points=\"\n  1915.82,1423.18 1915.82,1404.28 \n  \"/>\n<path clip-path=\"url(#clip820)\" d=\"M189.558 1481.64 L205.877 1481.64 L205.877 1485.58 L183.933 1485.58 L183.933 1481.64 Q186.595 1478.89 191.178 1474.26 Q195.785 1469.61 196.965 1468.27 Q199.211 1465.74 200.09 1464.01 Q200.993 1462.25 200.993 1460.56 Q200.993 1457.8 199.049 1456.07 Q197.127 1454.33 194.026 1454.33 Q191.826 1454.33 189.373 1455.09 Q186.942 1455.86 184.164 1457.41 L184.164 1452.69 Q186.989 1451.55 189.442 1450.97 Q191.896 1450.39 193.933 1450.39 Q199.303 1450.39 202.498 1453.08 Q205.692 1455.77 205.692 1460.26 Q205.692 1462.39 204.882 1464.31 Q204.095 1466.2 201.988 1468.8 Q201.41 1469.47 198.308 1472.69 Q195.206 1475.88 189.558 1481.64 Z\" fill=\"#000000\" fill-rule=\"evenodd\" fill-opacity=\"1\" /><path clip-path=\"url(#clip820)\" d=\"M225.692 1454.1 Q222.081 1454.1 220.252 1457.66 Q218.447 1461.2 218.447 1468.33 Q218.447 1475.44 220.252 1479.01 Q222.081 1482.55 225.692 1482.55 Q229.326 1482.55 231.132 1479.01 Q232.96 1475.44 232.96 1468.33 Q232.96 1461.2 231.132 1457.66 Q229.326 1454.1 225.692 1454.1 M225.692 1450.39 Q231.502 1450.39 234.558 1455 Q237.636 1459.58 237.636 1468.33 Q237.636 1477.06 234.558 1481.67 Q231.502 1486.25 225.692 1486.25 Q219.882 1486.25 216.803 1481.67 Q213.748 1477.06 213.748 1468.33 Q213.748 1459.58 216.803 1455 Q219.882 1450.39 225.692 1450.39 Z\" fill=\"#000000\" fill-rule=\"evenodd\" fill-opacity=\"1\" /><path clip-path=\"url(#clip820)\" d=\"M249.882 1481.64 L266.201 1481.64 L266.201 1485.58 L244.257 1485.58 L244.257 1481.64 Q246.919 1478.89 251.502 1474.26 Q256.109 1469.61 257.289 1468.27 Q259.534 1465.74 260.414 1464.01 Q261.317 1462.25 261.317 1460.56 Q261.317 1457.8 259.372 1456.07 Q257.451 1454.33 254.349 1454.33 Q252.15 1454.33 249.696 1455.09 Q247.266 1455.86 244.488 1457.41 L244.488 1452.69 Q247.312 1451.55 249.766 1450.97 Q252.22 1450.39 254.257 1450.39 Q259.627 1450.39 262.821 1453.08 Q266.016 1455.77 266.016 1460.26 Q266.016 1462.39 265.206 1464.31 Q264.419 1466.2 262.312 1468.8 Q261.733 1469.47 258.632 1472.69 Q255.53 1475.88 249.882 1481.64 Z\" fill=\"#000000\" fill-rule=\"evenodd\" fill-opacity=\"1\" /><path clip-path=\"url(#clip820)\" d=\"M286.016 1454.1 Q282.405 1454.1 280.576 1457.66 Q278.77 1461.2 278.77 1468.33 Q278.77 1475.44 280.576 1479.01 Q282.405 1482.55 286.016 1482.55 Q289.65 1482.55 291.456 1479.01 Q293.284 1475.44 293.284 1468.33 Q293.284 1461.2 291.456 1457.66 Q289.65 1454.1 286.016 1454.1 M286.016 1450.39 Q291.826 1450.39 294.881 1455 Q297.96 1459.58 297.96 1468.33 Q297.96 1477.06 294.881 1481.67 Q291.826 1486.25 286.016 1486.25 Q280.206 1486.25 277.127 1481.67 Q274.071 1477.06 274.071 1468.33 Q274.071 1459.58 277.127 1455 Q280.206 1450.39 286.016 1450.39 Z\" fill=\"#000000\" fill-rule=\"evenodd\" fill-opacity=\"1\" /><path clip-path=\"url(#clip820)\" d=\"M303.423 1470.7 L315.9 1470.7 L315.9 1474.49 L303.423 1474.49 L303.423 1470.7 Z\" fill=\"#000000\" fill-rule=\"evenodd\" fill-opacity=\"1\" /><path clip-path=\"url(#clip820)\" d=\"M333.284 1454.1 Q329.673 1454.1 327.844 1457.66 Q326.039 1461.2 326.039 1468.33 Q326.039 1475.44 327.844 1479.01 Q329.673 1482.55 333.284 1482.55 Q336.918 1482.55 338.724 1479.01 Q340.552 1475.44 340.552 1468.33 Q340.552 1461.2 338.724 1457.66 Q336.918 1454.1 333.284 1454.1 M333.284 1450.39 Q339.094 1450.39 342.15 1455 Q345.228 1459.58 345.228 1468.33 Q345.228 1477.06 342.15 1481.67 Q339.094 1486.25 333.284 1486.25 Q327.474 1486.25 324.395 1481.67 Q321.34 1477.06 321.34 1468.33 Q321.34 1459.58 324.395 1455 Q327.474 1450.39 333.284 1450.39 Z\" fill=\"#000000\" fill-rule=\"evenodd\" fill-opacity=\"1\" /><path clip-path=\"url(#clip820)\" d=\"M352.265 1451.02 L374.487 1451.02 L374.487 1453.01 L361.941 1485.58 L357.057 1485.58 L368.863 1454.96 L352.265 1454.96 L352.265 1451.02 Z\" fill=\"#000000\" fill-rule=\"evenodd\" fill-opacity=\"1\" /><path clip-path=\"url(#clip820)\" d=\"M380.853 1470.7 L393.33 1470.7 L393.33 1474.49 L380.853 1474.49 L380.853 1470.7 Z\" fill=\"#000000\" fill-rule=\"evenodd\" fill-opacity=\"1\" /><path clip-path=\"url(#clip820)\" d=\"M410.714 1454.1 Q407.103 1454.1 405.274 1457.66 Q403.469 1461.2 403.469 1468.33 Q403.469 1475.44 405.274 1479.01 Q407.103 1482.55 410.714 1482.55 Q414.348 1482.55 416.154 1479.01 Q417.983 1475.44 417.983 1468.33 Q417.983 1461.2 416.154 1457.66 Q414.348 1454.1 410.714 1454.1 M410.714 1450.39 Q416.524 1450.39 419.58 1455 Q422.659 1459.58 422.659 1468.33 Q422.659 1477.06 419.58 1481.67 Q416.524 1486.25 410.714 1486.25 Q404.904 1486.25 401.825 1481.67 Q398.77 1477.06 398.77 1468.33 Q398.77 1459.58 401.825 1455 Q404.904 1450.39 410.714 1450.39 Z\" fill=\"#000000\" fill-rule=\"evenodd\" fill-opacity=\"1\" /><path clip-path=\"url(#clip820)\" d=\"M431.686 1481.64 L439.325 1481.64 L439.325 1455.28 L431.015 1456.95 L431.015 1452.69 L439.279 1451.02 L443.955 1451.02 L443.955 1481.64 L451.594 1481.64 L451.594 1485.58 L431.686 1485.58 L431.686 1481.64 Z\" fill=\"#000000\" fill-rule=\"evenodd\" fill-opacity=\"1\" /><path clip-path=\"url(#clip820)\" d=\"M724.576 1481.64 L740.896 1481.64 L740.896 1485.58 L718.951 1485.58 L718.951 1481.64 Q721.613 1478.89 726.197 1474.26 Q730.803 1469.61 731.984 1468.27 Q734.229 1465.74 735.109 1464.01 Q736.011 1462.25 736.011 1460.56 Q736.011 1457.8 734.067 1456.07 Q732.146 1454.33 729.044 1454.33 Q726.845 1454.33 724.391 1455.09 Q721.96 1455.86 719.183 1457.41 L719.183 1452.69 Q722.007 1451.55 724.46 1450.97 Q726.914 1450.39 728.951 1450.39 Q734.322 1450.39 737.516 1453.08 Q740.71 1455.77 740.71 1460.26 Q740.71 1462.39 739.9 1464.31 Q739.113 1466.2 737.007 1468.8 Q736.428 1469.47 733.326 1472.69 Q730.224 1475.88 724.576 1481.64 Z\" fill=\"#000000\" fill-rule=\"evenodd\" fill-opacity=\"1\" /><path clip-path=\"url(#clip820)\" d=\"M760.71 1454.1 Q757.099 1454.1 755.27 1457.66 Q753.465 1461.2 753.465 1468.33 Q753.465 1475.44 755.27 1479.01 Q757.099 1482.55 760.71 1482.55 Q764.344 1482.55 766.15 1479.01 Q767.979 1475.44 767.979 1468.33 Q767.979 1461.2 766.15 1457.66 Q764.344 1454.1 760.71 1454.1 M760.71 1450.39 Q766.52 1450.39 769.576 1455 Q772.655 1459.58 772.655 1468.33 Q772.655 1477.06 769.576 1481.67 Q766.52 1486.25 760.71 1486.25 Q754.9 1486.25 751.821 1481.67 Q748.766 1477.06 748.766 1468.33 Q748.766 1459.58 751.821 1455 Q754.9 1450.39 760.71 1450.39 Z\" fill=\"#000000\" fill-rule=\"evenodd\" fill-opacity=\"1\" /><path clip-path=\"url(#clip820)\" d=\"M784.9 1481.64 L801.219 1481.64 L801.219 1485.58 L779.275 1485.58 L779.275 1481.64 Q781.937 1478.89 786.52 1474.26 Q791.127 1469.61 792.307 1468.27 Q794.553 1465.74 795.432 1464.01 Q796.335 1462.25 796.335 1460.56 Q796.335 1457.8 794.391 1456.07 Q792.469 1454.33 789.368 1454.33 Q787.168 1454.33 784.715 1455.09 Q782.284 1455.86 779.506 1457.41 L779.506 1452.69 Q782.331 1451.55 784.784 1450.97 Q787.238 1450.39 789.275 1450.39 Q794.645 1450.39 797.84 1453.08 Q801.034 1455.77 801.034 1460.26 Q801.034 1462.39 800.224 1464.31 Q799.437 1466.2 797.33 1468.8 Q796.752 1469.47 793.65 1472.69 Q790.548 1475.88 784.9 1481.64 Z\" fill=\"#000000\" fill-rule=\"evenodd\" fill-opacity=\"1\" /><path clip-path=\"url(#clip820)\" d=\"M821.034 1454.1 Q817.423 1454.1 815.594 1457.66 Q813.789 1461.2 813.789 1468.33 Q813.789 1475.44 815.594 1479.01 Q817.423 1482.55 821.034 1482.55 Q824.668 1482.55 826.474 1479.01 Q828.302 1475.44 828.302 1468.33 Q828.302 1461.2 826.474 1457.66 Q824.668 1454.1 821.034 1454.1 M821.034 1450.39 Q826.844 1450.39 829.9 1455 Q832.978 1459.58 832.978 1468.33 Q832.978 1477.06 829.9 1481.67 Q826.844 1486.25 821.034 1486.25 Q815.224 1486.25 812.145 1481.67 Q809.09 1477.06 809.09 1468.33 Q809.09 1459.58 812.145 1455 Q815.224 1450.39 821.034 1450.39 Z\" fill=\"#000000\" fill-rule=\"evenodd\" fill-opacity=\"1\" /><path clip-path=\"url(#clip820)\" d=\"M838.441 1470.7 L850.918 1470.7 L850.918 1474.49 L838.441 1474.49 L838.441 1470.7 Z\" fill=\"#000000\" fill-rule=\"evenodd\" fill-opacity=\"1\" /><path clip-path=\"url(#clip820)\" d=\"M859.113 1481.64 L866.751 1481.64 L866.751 1455.28 L858.441 1456.95 L858.441 1452.69 L866.705 1451.02 L871.381 1451.02 L871.381 1481.64 L879.02 1481.64 L879.02 1485.58 L859.113 1485.58 L859.113 1481.64 Z\" fill=\"#000000\" fill-rule=\"evenodd\" fill-opacity=\"1\" /><path clip-path=\"url(#clip820)\" d=\"M892.492 1481.64 L908.811 1481.64 L908.811 1485.58 L886.867 1485.58 L886.867 1481.64 Q889.529 1478.89 894.112 1474.26 Q898.719 1469.61 899.899 1468.27 Q902.145 1465.74 903.024 1464.01 Q903.927 1462.25 903.927 1460.56 Q903.927 1457.8 901.983 1456.07 Q900.061 1454.33 896.96 1454.33 Q894.76 1454.33 892.307 1455.09 Q889.876 1455.86 887.098 1457.41 L887.098 1452.69 Q889.923 1451.55 892.376 1450.97 Q894.83 1450.39 896.867 1450.39 Q902.237 1450.39 905.432 1453.08 Q908.626 1455.77 908.626 1460.26 Q908.626 1462.39 907.816 1464.31 Q907.029 1466.2 904.922 1468.8 Q904.344 1469.47 901.242 1472.69 Q898.14 1475.88 892.492 1481.64 Z\" fill=\"#000000\" fill-rule=\"evenodd\" fill-opacity=\"1\" /><path clip-path=\"url(#clip820)\" d=\"M915.871 1470.7 L928.348 1470.7 L928.348 1474.49 L915.871 1474.49 L915.871 1470.7 Z\" fill=\"#000000\" fill-rule=\"evenodd\" fill-opacity=\"1\" /><path clip-path=\"url(#clip820)\" d=\"M945.732 1454.1 Q942.121 1454.1 940.293 1457.66 Q938.487 1461.2 938.487 1468.33 Q938.487 1475.44 940.293 1479.01 Q942.121 1482.55 945.732 1482.55 Q949.367 1482.55 951.172 1479.01 Q953.001 1475.44 953.001 1468.33 Q953.001 1461.2 951.172 1457.66 Q949.367 1454.1 945.732 1454.1 M945.732 1450.39 Q951.543 1450.39 954.598 1455 Q957.677 1459.58 957.677 1468.33 Q957.677 1477.06 954.598 1481.67 Q951.543 1486.25 945.732 1486.25 Q939.922 1486.25 936.844 1481.67 Q933.788 1477.06 933.788 1468.33 Q933.788 1459.58 936.844 1455 Q939.922 1450.39 945.732 1450.39 Z\" fill=\"#000000\" fill-rule=\"evenodd\" fill-opacity=\"1\" /><path clip-path=\"url(#clip820)\" d=\"M966.705 1481.64 L974.343 1481.64 L974.343 1455.28 L966.033 1456.95 L966.033 1452.69 L974.297 1451.02 L978.973 1451.02 L978.973 1481.64 L986.612 1481.64 L986.612 1485.58 L966.705 1485.58 L966.705 1481.64 Z\" fill=\"#000000\" fill-rule=\"evenodd\" fill-opacity=\"1\" /><path clip-path=\"url(#clip820)\" d=\"M1252.6 1481.64 L1268.92 1481.64 L1268.92 1485.58 L1246.98 1485.58 L1246.98 1481.64 Q1249.64 1478.89 1254.22 1474.26 Q1258.83 1469.61 1260.01 1468.27 Q1262.25 1465.74 1263.13 1464.01 Q1264.04 1462.25 1264.04 1460.56 Q1264.04 1457.8 1262.09 1456.07 Q1260.17 1454.33 1257.07 1454.33 Q1254.87 1454.33 1252.42 1455.09 Q1249.99 1455.86 1247.21 1457.41 L1247.21 1452.69 Q1250.03 1451.55 1252.49 1450.97 Q1254.94 1450.39 1256.98 1450.39 Q1262.35 1450.39 1265.54 1453.08 Q1268.73 1455.77 1268.73 1460.26 Q1268.73 1462.39 1267.92 1464.31 Q1267.14 1466.2 1265.03 1468.8 Q1264.45 1469.47 1261.35 1472.69 Q1258.25 1475.88 1252.6 1481.64 Z\" fill=\"#000000\" fill-rule=\"evenodd\" fill-opacity=\"1\" /><path clip-path=\"url(#clip820)\" d=\"M1288.73 1454.1 Q1285.12 1454.1 1283.3 1457.66 Q1281.49 1461.2 1281.49 1468.33 Q1281.49 1475.44 1283.3 1479.01 Q1285.12 1482.55 1288.73 1482.55 Q1292.37 1482.55 1294.17 1479.01 Q1296 1475.44 1296 1468.33 Q1296 1461.2 1294.17 1457.66 Q1292.37 1454.1 1288.73 1454.1 M1288.73 1450.39 Q1294.54 1450.39 1297.6 1455 Q1300.68 1459.58 1300.68 1468.33 Q1300.68 1477.06 1297.6 1481.67 Q1294.54 1486.25 1288.73 1486.25 Q1282.92 1486.25 1279.85 1481.67 Q1276.79 1477.06 1276.79 1468.33 Q1276.79 1459.58 1279.85 1455 Q1282.92 1450.39 1288.73 1450.39 Z\" fill=\"#000000\" fill-rule=\"evenodd\" fill-opacity=\"1\" /><path clip-path=\"url(#clip820)\" d=\"M1312.92 1481.64 L1329.24 1481.64 L1329.24 1485.58 L1307.3 1485.58 L1307.3 1481.64 Q1309.96 1478.89 1314.54 1474.26 Q1319.15 1469.61 1320.33 1468.27 Q1322.58 1465.74 1323.46 1464.01 Q1324.36 1462.25 1324.36 1460.56 Q1324.36 1457.8 1322.42 1456.07 Q1320.49 1454.33 1317.39 1454.33 Q1315.19 1454.33 1312.74 1455.09 Q1310.31 1455.86 1307.53 1457.41 L1307.53 1452.69 Q1310.36 1451.55 1312.81 1450.97 Q1315.26 1450.39 1317.3 1450.39 Q1322.67 1450.39 1325.86 1453.08 Q1329.06 1455.77 1329.06 1460.26 Q1329.06 1462.39 1328.25 1464.31 Q1327.46 1466.2 1325.35 1468.8 Q1324.78 1469.47 1321.67 1472.69 Q1318.57 1475.88 1312.92 1481.64 Z\" fill=\"#000000\" fill-rule=\"evenodd\" fill-opacity=\"1\" /><path clip-path=\"url(#clip820)\" d=\"M1339.87 1481.64 L1347.51 1481.64 L1347.51 1455.28 L1339.2 1456.95 L1339.2 1452.69 L1347.46 1451.02 L1352.14 1451.02 L1352.14 1481.64 L1359.78 1481.64 L1359.78 1485.58 L1339.87 1485.58 L1339.87 1481.64 Z\" fill=\"#000000\" fill-rule=\"evenodd\" fill-opacity=\"1\" /><path clip-path=\"url(#clip820)\" d=\"M1366.47 1470.7 L1378.94 1470.7 L1378.94 1474.49 L1366.47 1474.49 L1366.47 1470.7 Z\" fill=\"#000000\" fill-rule=\"evenodd\" fill-opacity=\"1\" /><path clip-path=\"url(#clip820)\" d=\"M1396.33 1454.1 Q1392.72 1454.1 1390.89 1457.66 Q1389.08 1461.2 1389.08 1468.33 Q1389.08 1475.44 1390.89 1479.01 Q1392.72 1482.55 1396.33 1482.55 Q1399.96 1482.55 1401.77 1479.01 Q1403.6 1475.44 1403.6 1468.33 Q1403.6 1461.2 1401.77 1457.66 Q1399.96 1454.1 1396.33 1454.1 M1396.33 1450.39 Q1402.14 1450.39 1405.19 1455 Q1408.27 1459.58 1408.27 1468.33 Q1408.27 1477.06 1405.19 1481.67 Q1402.14 1486.25 1396.33 1486.25 Q1390.52 1486.25 1387.44 1481.67 Q1384.38 1477.06 1384.38 1468.33 Q1384.38 1459.58 1387.44 1455 Q1390.52 1450.39 1396.33 1450.39 Z\" fill=\"#000000\" fill-rule=\"evenodd\" fill-opacity=\"1\" /><path clip-path=\"url(#clip820)\" d=\"M1416.54 1451.02 L1434.89 1451.02 L1434.89 1454.96 L1420.82 1454.96 L1420.82 1463.43 Q1421.84 1463.08 1422.85 1462.92 Q1423.87 1462.73 1424.89 1462.73 Q1430.68 1462.73 1434.06 1465.9 Q1437.44 1469.08 1437.44 1474.49 Q1437.44 1480.07 1433.97 1483.17 Q1430.49 1486.25 1424.17 1486.25 Q1422 1486.25 1419.73 1485.88 Q1417.48 1485.51 1415.08 1484.77 L1415.08 1480.07 Q1417.16 1481.2 1419.38 1481.76 Q1421.6 1482.32 1424.08 1482.32 Q1428.09 1482.32 1430.42 1480.21 Q1432.76 1478.1 1432.76 1474.49 Q1432.76 1470.88 1430.42 1468.77 Q1428.09 1466.67 1424.08 1466.67 Q1422.21 1466.67 1420.33 1467.08 Q1418.48 1467.5 1416.54 1468.38 L1416.54 1451.02 Z\" fill=\"#000000\" fill-rule=\"evenodd\" fill-opacity=\"1\" /><path clip-path=\"url(#clip820)\" d=\"M1443.9 1470.7 L1456.37 1470.7 L1456.37 1474.49 L1443.9 1474.49 L1443.9 1470.7 Z\" fill=\"#000000\" fill-rule=\"evenodd\" fill-opacity=\"1\" /><path clip-path=\"url(#clip820)\" d=\"M1473.76 1454.1 Q1470.15 1454.1 1468.32 1457.66 Q1466.51 1461.2 1466.51 1468.33 Q1466.51 1475.44 1468.32 1479.01 Q1470.15 1482.55 1473.76 1482.55 Q1477.39 1482.55 1479.2 1479.01 Q1481.03 1475.44 1481.03 1468.33 Q1481.03 1461.2 1479.2 1457.66 Q1477.39 1454.1 1473.76 1454.1 M1473.76 1450.39 Q1479.57 1450.39 1482.62 1455 Q1485.7 1459.58 1485.7 1468.33 Q1485.7 1477.06 1482.62 1481.67 Q1479.57 1486.25 1473.76 1486.25 Q1467.95 1486.25 1464.87 1481.67 Q1461.81 1477.06 1461.81 1468.33 Q1461.81 1459.58 1464.87 1455 Q1467.95 1450.39 1473.76 1450.39 Z\" fill=\"#000000\" fill-rule=\"evenodd\" fill-opacity=\"1\" /><path clip-path=\"url(#clip820)\" d=\"M1494.73 1481.64 L1502.37 1481.64 L1502.37 1455.28 L1494.06 1456.95 L1494.06 1452.69 L1502.32 1451.02 L1507 1451.02 L1507 1481.64 L1514.64 1481.64 L1514.64 1485.58 L1494.73 1485.58 L1494.73 1481.64 Z\" fill=\"#000000\" fill-rule=\"evenodd\" fill-opacity=\"1\" /><path clip-path=\"url(#clip820)\" d=\"M1787.62 1481.64 L1803.94 1481.64 L1803.94 1485.58 L1781.99 1485.58 L1781.99 1481.64 Q1784.66 1478.89 1789.24 1474.26 Q1793.85 1469.61 1795.03 1468.27 Q1797.27 1465.74 1798.15 1464.01 Q1799.05 1462.25 1799.05 1460.56 Q1799.05 1457.8 1797.11 1456.07 Q1795.19 1454.33 1792.09 1454.33 Q1789.89 1454.33 1787.43 1455.09 Q1785 1455.86 1782.23 1457.41 L1782.23 1452.69 Q1785.05 1451.55 1787.5 1450.97 Q1789.96 1450.39 1791.99 1450.39 Q1797.36 1450.39 1800.56 1453.08 Q1803.75 1455.77 1803.75 1460.26 Q1803.75 1462.39 1802.94 1464.31 Q1802.16 1466.2 1800.05 1468.8 Q1799.47 1469.47 1796.37 1472.69 Q1793.27 1475.88 1787.62 1481.64 Z\" fill=\"#000000\" fill-rule=\"evenodd\" fill-opacity=\"1\" /><path clip-path=\"url(#clip820)\" d=\"M1823.75 1454.1 Q1820.14 1454.1 1818.31 1457.66 Q1816.51 1461.2 1816.51 1468.33 Q1816.51 1475.44 1818.31 1479.01 Q1820.14 1482.55 1823.75 1482.55 Q1827.39 1482.55 1829.19 1479.01 Q1831.02 1475.44 1831.02 1468.33 Q1831.02 1461.2 1829.19 1457.66 Q1827.39 1454.1 1823.75 1454.1 M1823.75 1450.39 Q1829.56 1450.39 1832.62 1455 Q1835.7 1459.58 1835.7 1468.33 Q1835.7 1477.06 1832.62 1481.67 Q1829.56 1486.25 1823.75 1486.25 Q1817.94 1486.25 1814.86 1481.67 Q1811.81 1477.06 1811.81 1468.33 Q1811.81 1459.58 1814.86 1455 Q1817.94 1450.39 1823.75 1450.39 Z\" fill=\"#000000\" fill-rule=\"evenodd\" fill-opacity=\"1\" /><path clip-path=\"url(#clip820)\" d=\"M1847.94 1481.64 L1864.26 1481.64 L1864.26 1485.58 L1842.32 1485.58 L1842.32 1481.64 Q1844.98 1478.89 1849.56 1474.26 Q1854.17 1469.61 1855.35 1468.27 Q1857.6 1465.74 1858.48 1464.01 Q1859.38 1462.25 1859.38 1460.56 Q1859.38 1457.8 1857.43 1456.07 Q1855.51 1454.33 1852.41 1454.33 Q1850.21 1454.33 1847.76 1455.09 Q1845.33 1455.86 1842.55 1457.41 L1842.55 1452.69 Q1845.37 1451.55 1847.83 1450.97 Q1850.28 1450.39 1852.32 1450.39 Q1857.69 1450.39 1860.88 1453.08 Q1864.08 1455.77 1864.08 1460.26 Q1864.08 1462.39 1863.27 1464.31 Q1862.48 1466.2 1860.37 1468.8 Q1859.79 1469.47 1856.69 1472.69 Q1853.59 1475.88 1847.94 1481.64 Z\" fill=\"#000000\" fill-rule=\"evenodd\" fill-opacity=\"1\" /><path clip-path=\"url(#clip820)\" d=\"M1874.89 1481.64 L1882.53 1481.64 L1882.53 1455.28 L1874.22 1456.95 L1874.22 1452.69 L1882.48 1451.02 L1887.16 1451.02 L1887.16 1481.64 L1894.79 1481.64 L1894.79 1485.58 L1874.89 1485.58 L1874.89 1481.64 Z\" fill=\"#000000\" fill-rule=\"evenodd\" fill-opacity=\"1\" /><path clip-path=\"url(#clip820)\" d=\"M1901.48 1470.7 L1913.96 1470.7 L1913.96 1474.49 L1901.48 1474.49 L1901.48 1470.7 Z\" fill=\"#000000\" fill-rule=\"evenodd\" fill-opacity=\"1\" /><path clip-path=\"url(#clip820)\" d=\"M1922.16 1481.64 L1929.79 1481.64 L1929.79 1455.28 L1921.48 1456.95 L1921.48 1452.69 L1929.75 1451.02 L1934.42 1451.02 L1934.42 1481.64 L1942.06 1481.64 L1942.06 1485.58 L1922.16 1485.58 L1922.16 1481.64 Z\" fill=\"#000000\" fill-rule=\"evenodd\" fill-opacity=\"1\" /><path clip-path=\"url(#clip820)\" d=\"M1961.51 1454.1 Q1957.9 1454.1 1956.07 1457.66 Q1954.26 1461.2 1954.26 1468.33 Q1954.26 1475.44 1956.07 1479.01 Q1957.9 1482.55 1961.51 1482.55 Q1965.14 1482.55 1966.95 1479.01 Q1968.78 1475.44 1968.78 1468.33 Q1968.78 1461.2 1966.95 1457.66 Q1965.14 1454.1 1961.51 1454.1 M1961.51 1450.39 Q1967.32 1450.39 1970.37 1455 Q1973.45 1459.58 1973.45 1468.33 Q1973.45 1477.06 1970.37 1481.67 Q1967.32 1486.25 1961.51 1486.25 Q1955.7 1486.25 1952.62 1481.67 Q1949.56 1477.06 1949.56 1468.33 Q1949.56 1459.58 1952.62 1455 Q1955.7 1450.39 1961.51 1450.39 Z\" fill=\"#000000\" fill-rule=\"evenodd\" fill-opacity=\"1\" /><path clip-path=\"url(#clip820)\" d=\"M1978.91 1470.7 L1991.39 1470.7 L1991.39 1474.49 L1978.91 1474.49 L1978.91 1470.7 Z\" fill=\"#000000\" fill-rule=\"evenodd\" fill-opacity=\"1\" /><path clip-path=\"url(#clip820)\" d=\"M2008.78 1454.1 Q2005.16 1454.1 2003.34 1457.66 Q2001.53 1461.2 2001.53 1468.33 Q2001.53 1475.44 2003.34 1479.01 Q2005.16 1482.55 2008.78 1482.55 Q2012.41 1482.55 2014.22 1479.01 Q2016.04 1475.44 2016.04 1468.33 Q2016.04 1461.2 2014.22 1457.66 Q2012.41 1454.1 2008.78 1454.1 M2008.78 1450.39 Q2014.59 1450.39 2017.64 1455 Q2020.72 1459.58 2020.72 1468.33 Q2020.72 1477.06 2017.64 1481.67 Q2014.59 1486.25 2008.78 1486.25 Q2002.97 1486.25 1999.89 1481.67 Q1996.83 1477.06 1996.83 1468.33 Q1996.83 1459.58 1999.89 1455 Q2002.97 1450.39 2008.78 1450.39 Z\" fill=\"#000000\" fill-rule=\"evenodd\" fill-opacity=\"1\" /><path clip-path=\"url(#clip820)\" d=\"M2029.75 1481.64 L2037.39 1481.64 L2037.39 1455.28 L2029.08 1456.95 L2029.08 1452.69 L2037.34 1451.02 L2042.02 1451.02 L2042.02 1481.64 L2049.65 1481.64 L2049.65 1485.58 L2029.75 1485.58 L2029.75 1481.64 Z\" fill=\"#000000\" fill-rule=\"evenodd\" fill-opacity=\"1\" /><path clip-path=\"url(#clip820)\" d=\"M1239.09 1525.81 L1239.09 1562.76 L1246.85 1562.76 Q1256.69 1562.76 1261.24 1558.3 Q1265.82 1553.85 1265.82 1544.24 Q1265.82 1534.69 1261.24 1530.26 Q1256.69 1525.81 1246.85 1525.81 L1239.09 1525.81 M1232.66 1520.52 L1245.87 1520.52 Q1259.68 1520.52 1266.14 1526.28 Q1272.6 1532.01 1272.6 1544.24 Q1272.6 1556.52 1266.11 1562.28 Q1259.62 1568.04 1245.87 1568.04 L1232.66 1568.04 L1232.66 1520.52 Z\" fill=\"#000000\" fill-rule=\"evenodd\" fill-opacity=\"1\" /><path clip-path=\"url(#clip820)\" d=\"M1298.8 1550.12 Q1291.7 1550.12 1288.96 1551.75 Q1286.22 1553.37 1286.22 1557.29 Q1286.22 1560.4 1288.26 1562.25 Q1290.33 1564.07 1293.86 1564.07 Q1298.73 1564.07 1301.66 1560.63 Q1304.62 1557.16 1304.62 1551.43 L1304.62 1550.12 L1298.8 1550.12 M1310.48 1547.71 L1310.48 1568.04 L1304.62 1568.04 L1304.62 1562.63 Q1302.62 1565.88 1299.62 1567.44 Q1296.63 1568.97 1292.3 1568.97 Q1286.83 1568.97 1283.58 1565.91 Q1280.37 1562.82 1280.37 1557.67 Q1280.37 1551.65 1284.38 1548.6 Q1288.42 1545.54 1296.41 1545.54 L1304.62 1545.54 L1304.62 1544.97 Q1304.62 1540.93 1301.95 1538.73 Q1299.31 1536.5 1294.5 1536.5 Q1291.44 1536.5 1288.55 1537.23 Q1285.65 1537.97 1282.98 1539.43 L1282.98 1534.02 Q1286.19 1532.78 1289.22 1532.17 Q1292.24 1531.54 1295.1 1531.54 Q1302.84 1531.54 1306.66 1535.55 Q1310.48 1539.56 1310.48 1547.71 Z\" fill=\"#000000\" fill-rule=\"evenodd\" fill-opacity=\"1\" /><path clip-path=\"url(#clip820)\" d=\"M1328.33 1522.27 L1328.33 1532.4 L1340.4 1532.4 L1340.4 1536.95 L1328.33 1536.95 L1328.33 1556.3 Q1328.33 1560.66 1329.51 1561.9 Q1330.72 1563.14 1334.38 1563.14 L1340.4 1563.14 L1340.4 1568.04 L1334.38 1568.04 Q1327.6 1568.04 1325.02 1565.53 Q1322.45 1562.98 1322.45 1556.3 L1322.45 1536.95 L1318.15 1536.95 L1318.15 1532.4 L1322.45 1532.4 L1322.45 1522.27 L1328.33 1522.27 Z\" fill=\"#000000\" fill-rule=\"evenodd\" fill-opacity=\"1\" /><path clip-path=\"url(#clip820)\" d=\"M1378.59 1548.76 L1378.59 1551.62 L1351.66 1551.62 Q1352.05 1557.67 1355.29 1560.85 Q1358.57 1564 1364.4 1564 Q1367.77 1564 1370.92 1563.17 Q1374.1 1562.35 1377.22 1560.69 L1377.22 1566.23 Q1374.07 1567.57 1370.76 1568.27 Q1367.45 1568.97 1364.05 1568.97 Q1355.51 1568.97 1350.52 1564 Q1345.55 1559.04 1345.55 1550.57 Q1345.55 1541.82 1350.26 1536.69 Q1355.01 1531.54 1363.03 1531.54 Q1370.22 1531.54 1374.39 1536.18 Q1378.59 1540.8 1378.59 1548.76 M1372.73 1547.04 Q1372.67 1542.23 1370.03 1539.37 Q1367.42 1536.5 1363.09 1536.5 Q1358.19 1536.5 1355.23 1539.27 Q1352.3 1542.04 1351.85 1547.07 L1372.73 1547.04 Z\" fill=\"#000000\" fill-rule=\"evenodd\" fill-opacity=\"1\" /><polyline clip-path=\"url(#clip822)\" style=\"stroke:#000000; stroke-linecap:butt; stroke-linejoin:round; stroke-width:2; stroke-opacity:0.1; fill:none\" points=\"\n  258.492,1384.24 2352.76,1384.24 \n  \"/>\n<polyline clip-path=\"url(#clip822)\" style=\"stroke:#000000; stroke-linecap:butt; stroke-linejoin:round; stroke-width:2; stroke-opacity:0.1; fill:none\" points=\"\n  258.492,1059.73 2352.76,1059.73 \n  \"/>\n<polyline clip-path=\"url(#clip822)\" style=\"stroke:#000000; stroke-linecap:butt; stroke-linejoin:round; stroke-width:2; stroke-opacity:0.1; fill:none\" points=\"\n  258.492,735.212 2352.76,735.212 \n  \"/>\n<polyline clip-path=\"url(#clip822)\" style=\"stroke:#000000; stroke-linecap:butt; stroke-linejoin:round; stroke-width:2; stroke-opacity:0.1; fill:none\" points=\"\n  258.492,410.699 2352.76,410.699 \n  \"/>\n<polyline clip-path=\"url(#clip822)\" style=\"stroke:#000000; stroke-linecap:butt; stroke-linejoin:round; stroke-width:2; stroke-opacity:0.1; fill:none\" points=\"\n  258.492,86.1857 2352.76,86.1857 \n  \"/>\n<polyline clip-path=\"url(#clip820)\" style=\"stroke:#000000; stroke-linecap:butt; stroke-linejoin:round; stroke-width:4; stroke-opacity:1; fill:none\" points=\"\n  258.492,1423.18 258.492,47.2441 \n  \"/>\n<polyline clip-path=\"url(#clip820)\" style=\"stroke:#000000; stroke-linecap:butt; stroke-linejoin:round; stroke-width:4; stroke-opacity:1; fill:none\" points=\"\n  258.492,1384.24 277.389,1384.24 \n  \"/>\n<polyline clip-path=\"url(#clip820)\" style=\"stroke:#000000; stroke-linecap:butt; stroke-linejoin:round; stroke-width:4; stroke-opacity:1; fill:none\" points=\"\n  258.492,1059.73 277.389,1059.73 \n  \"/>\n<polyline clip-path=\"url(#clip820)\" style=\"stroke:#000000; stroke-linecap:butt; stroke-linejoin:round; stroke-width:4; stroke-opacity:1; fill:none\" points=\"\n  258.492,735.212 277.389,735.212 \n  \"/>\n<polyline clip-path=\"url(#clip820)\" style=\"stroke:#000000; stroke-linecap:butt; stroke-linejoin:round; stroke-width:4; stroke-opacity:1; fill:none\" points=\"\n  258.492,410.699 277.389,410.699 \n  \"/>\n<polyline clip-path=\"url(#clip820)\" style=\"stroke:#000000; stroke-linecap:butt; stroke-linejoin:round; stroke-width:4; stroke-opacity:1; fill:none\" points=\"\n  258.492,86.1857 277.389,86.1857 \n  \"/>\n<path clip-path=\"url(#clip820)\" d=\"M135.154 1370.04 Q131.543 1370.04 129.714 1373.6 Q127.909 1377.14 127.909 1384.27 Q127.909 1391.38 129.714 1394.94 Q131.543 1398.49 135.154 1398.49 Q138.788 1398.49 140.594 1394.94 Q142.423 1391.38 142.423 1384.27 Q142.423 1377.14 140.594 1373.6 Q138.788 1370.04 135.154 1370.04 M135.154 1366.33 Q140.964 1366.33 144.02 1370.94 Q147.099 1375.52 147.099 1384.27 Q147.099 1393 144.02 1397.61 Q140.964 1402.19 135.154 1402.19 Q129.344 1402.19 126.265 1397.61 Q123.21 1393 123.21 1384.27 Q123.21 1375.52 126.265 1370.94 Q129.344 1366.33 135.154 1366.33 Z\" fill=\"#000000\" fill-rule=\"evenodd\" fill-opacity=\"1\" /><path clip-path=\"url(#clip820)\" d=\"M155.316 1395.64 L160.2 1395.64 L160.2 1401.52 L155.316 1401.52 L155.316 1395.64 Z\" fill=\"#000000\" fill-rule=\"evenodd\" fill-opacity=\"1\" /><path clip-path=\"url(#clip820)\" d=\"M180.385 1370.04 Q176.774 1370.04 174.946 1373.6 Q173.14 1377.14 173.14 1384.27 Q173.14 1391.38 174.946 1394.94 Q176.774 1398.49 180.385 1398.49 Q184.02 1398.49 185.825 1394.94 Q187.654 1391.38 187.654 1384.27 Q187.654 1377.14 185.825 1373.6 Q184.02 1370.04 180.385 1370.04 M180.385 1366.33 Q186.196 1366.33 189.251 1370.94 Q192.33 1375.52 192.33 1384.27 Q192.33 1393 189.251 1397.61 Q186.196 1402.19 180.385 1402.19 Q174.575 1402.19 171.497 1397.61 Q168.441 1393 168.441 1384.27 Q168.441 1375.52 171.497 1370.94 Q174.575 1366.33 180.385 1366.33 Z\" fill=\"#000000\" fill-rule=\"evenodd\" fill-opacity=\"1\" /><path clip-path=\"url(#clip820)\" d=\"M210.547 1370.04 Q206.936 1370.04 205.107 1373.6 Q203.302 1377.14 203.302 1384.27 Q203.302 1391.38 205.107 1394.94 Q206.936 1398.49 210.547 1398.49 Q214.181 1398.49 215.987 1394.94 Q217.816 1391.38 217.816 1384.27 Q217.816 1377.14 215.987 1373.6 Q214.181 1370.04 210.547 1370.04 M210.547 1366.33 Q216.357 1366.33 219.413 1370.94 Q222.492 1375.52 222.492 1384.27 Q222.492 1393 219.413 1397.61 Q216.357 1402.19 210.547 1402.19 Q204.737 1402.19 201.658 1397.61 Q198.603 1393 198.603 1384.27 Q198.603 1375.52 201.658 1370.94 Q204.737 1366.33 210.547 1366.33 Z\" fill=\"#000000\" fill-rule=\"evenodd\" fill-opacity=\"1\" /><path clip-path=\"url(#clip820)\" d=\"M136.15 1045.52 Q132.538 1045.52 130.71 1049.09 Q128.904 1052.63 128.904 1059.76 Q128.904 1066.87 130.71 1070.43 Q132.538 1073.97 136.15 1073.97 Q139.784 1073.97 141.589 1070.43 Q143.418 1066.87 143.418 1059.76 Q143.418 1052.63 141.589 1049.09 Q139.784 1045.52 136.15 1045.52 M136.15 1041.82 Q141.96 1041.82 145.015 1046.43 Q148.094 1051.01 148.094 1059.76 Q148.094 1068.49 145.015 1073.09 Q141.96 1077.68 136.15 1077.68 Q130.339 1077.68 127.261 1073.09 Q124.205 1068.49 124.205 1059.76 Q124.205 1051.01 127.261 1046.43 Q130.339 1041.82 136.15 1041.82 Z\" fill=\"#000000\" fill-rule=\"evenodd\" fill-opacity=\"1\" /><path clip-path=\"url(#clip820)\" d=\"M156.311 1071.13 L161.196 1071.13 L161.196 1077.01 L156.311 1077.01 L156.311 1071.13 Z\" fill=\"#000000\" fill-rule=\"evenodd\" fill-opacity=\"1\" /><path clip-path=\"url(#clip820)\" d=\"M175.409 1073.07 L191.728 1073.07 L191.728 1077.01 L169.784 1077.01 L169.784 1073.07 Q172.446 1070.32 177.029 1065.69 Q181.635 1061.03 182.816 1059.69 Q185.061 1057.17 185.941 1055.43 Q186.844 1053.67 186.844 1051.98 Q186.844 1049.23 184.899 1047.49 Q182.978 1045.76 179.876 1045.76 Q177.677 1045.76 175.223 1046.52 Q172.793 1047.28 170.015 1048.83 L170.015 1044.11 Q172.839 1042.98 175.293 1042.4 Q177.747 1041.82 179.784 1041.82 Q185.154 1041.82 188.348 1044.51 Q191.543 1047.19 191.543 1051.68 Q191.543 1053.81 190.733 1055.73 Q189.946 1057.63 187.839 1060.22 Q187.26 1060.89 184.159 1064.11 Q181.057 1067.31 175.409 1073.07 Z\" fill=\"#000000\" fill-rule=\"evenodd\" fill-opacity=\"1\" /><path clip-path=\"url(#clip820)\" d=\"M201.589 1042.45 L219.945 1042.45 L219.945 1046.38 L205.871 1046.38 L205.871 1054.85 Q206.89 1054.51 207.908 1054.34 Q208.927 1054.16 209.945 1054.16 Q215.732 1054.16 219.112 1057.33 Q222.492 1060.5 222.492 1065.92 Q222.492 1071.5 219.019 1074.6 Q215.547 1077.68 209.228 1077.68 Q207.052 1077.68 204.783 1077.31 Q202.538 1076.94 200.131 1076.19 L200.131 1071.5 Q202.214 1072.63 204.436 1073.19 Q206.658 1073.74 209.135 1073.74 Q213.14 1073.74 215.478 1071.63 Q217.816 1069.53 217.816 1065.92 Q217.816 1062.31 215.478 1060.2 Q213.14 1058.09 209.135 1058.09 Q207.26 1058.09 205.385 1058.51 Q203.533 1058.93 201.589 1059.81 L201.589 1042.45 Z\" fill=\"#000000\" fill-rule=\"evenodd\" fill-opacity=\"1\" /><path clip-path=\"url(#clip820)\" d=\"M135.154 721.011 Q131.543 721.011 129.714 724.575 Q127.909 728.117 127.909 735.247 Q127.909 742.353 129.714 745.918 Q131.543 749.46 135.154 749.46 Q138.788 749.46 140.594 745.918 Q142.423 742.353 142.423 735.247 Q142.423 728.117 140.594 724.575 Q138.788 721.011 135.154 721.011 M135.154 717.307 Q140.964 717.307 144.02 721.913 Q147.099 726.497 147.099 735.247 Q147.099 743.973 144.02 748.58 Q140.964 753.163 135.154 753.163 Q129.344 753.163 126.265 748.58 Q123.21 743.973 123.21 735.247 Q123.21 726.497 126.265 721.913 Q129.344 717.307 135.154 717.307 Z\" fill=\"#000000\" fill-rule=\"evenodd\" fill-opacity=\"1\" /><path clip-path=\"url(#clip820)\" d=\"M155.316 746.612 L160.2 746.612 L160.2 752.492 L155.316 752.492 L155.316 746.612 Z\" fill=\"#000000\" fill-rule=\"evenodd\" fill-opacity=\"1\" /><path clip-path=\"url(#clip820)\" d=\"M170.432 717.932 L188.788 717.932 L188.788 721.867 L174.714 721.867 L174.714 730.339 Q175.733 729.992 176.751 729.83 Q177.77 729.645 178.788 729.645 Q184.575 729.645 187.955 732.816 Q191.334 735.987 191.334 741.404 Q191.334 746.983 187.862 750.085 Q184.39 753.163 178.071 753.163 Q175.895 753.163 173.626 752.793 Q171.381 752.423 168.973 751.682 L168.973 746.983 Q171.057 748.117 173.279 748.673 Q175.501 749.228 177.978 749.228 Q181.983 749.228 184.321 747.122 Q186.658 745.015 186.658 741.404 Q186.658 737.793 184.321 735.687 Q181.983 733.58 177.978 733.58 Q176.103 733.58 174.228 733.997 Q172.376 734.413 170.432 735.293 L170.432 717.932 Z\" fill=\"#000000\" fill-rule=\"evenodd\" fill-opacity=\"1\" /><path clip-path=\"url(#clip820)\" d=\"M210.547 721.011 Q206.936 721.011 205.107 724.575 Q203.302 728.117 203.302 735.247 Q203.302 742.353 205.107 745.918 Q206.936 749.46 210.547 749.46 Q214.181 749.46 215.987 745.918 Q217.816 742.353 217.816 735.247 Q217.816 728.117 215.987 724.575 Q214.181 721.011 210.547 721.011 M210.547 717.307 Q216.357 717.307 219.413 721.913 Q222.492 726.497 222.492 735.247 Q222.492 743.973 219.413 748.58 Q216.357 753.163 210.547 753.163 Q204.737 753.163 201.658 748.58 Q198.603 743.973 198.603 735.247 Q198.603 726.497 201.658 721.913 Q204.737 717.307 210.547 717.307 Z\" fill=\"#000000\" fill-rule=\"evenodd\" fill-opacity=\"1\" /><path clip-path=\"url(#clip820)\" d=\"M136.15 396.498 Q132.538 396.498 130.71 400.062 Q128.904 403.604 128.904 410.734 Q128.904 417.84 130.71 421.405 Q132.538 424.946 136.15 424.946 Q139.784 424.946 141.589 421.405 Q143.418 417.84 143.418 410.734 Q143.418 403.604 141.589 400.062 Q139.784 396.498 136.15 396.498 M136.15 392.794 Q141.96 392.794 145.015 397.4 Q148.094 401.984 148.094 410.734 Q148.094 419.46 145.015 424.067 Q141.96 428.65 136.15 428.65 Q130.339 428.65 127.261 424.067 Q124.205 419.46 124.205 410.734 Q124.205 401.984 127.261 397.4 Q130.339 392.794 136.15 392.794 Z\" fill=\"#000000\" fill-rule=\"evenodd\" fill-opacity=\"1\" /><path clip-path=\"url(#clip820)\" d=\"M156.311 422.099 L161.196 422.099 L161.196 427.979 L156.311 427.979 L156.311 422.099 Z\" fill=\"#000000\" fill-rule=\"evenodd\" fill-opacity=\"1\" /><path clip-path=\"url(#clip820)\" d=\"M170.2 393.419 L192.422 393.419 L192.422 395.41 L179.876 427.979 L174.992 427.979 L186.797 397.354 L170.2 397.354 L170.2 393.419 Z\" fill=\"#000000\" fill-rule=\"evenodd\" fill-opacity=\"1\" /><path clip-path=\"url(#clip820)\" d=\"M201.589 393.419 L219.945 393.419 L219.945 397.354 L205.871 397.354 L205.871 405.826 Q206.89 405.479 207.908 405.317 Q208.927 405.132 209.945 405.132 Q215.732 405.132 219.112 408.303 Q222.492 411.474 222.492 416.891 Q222.492 422.47 219.019 425.571 Q215.547 428.65 209.228 428.65 Q207.052 428.65 204.783 428.28 Q202.538 427.909 200.131 427.169 L200.131 422.47 Q202.214 423.604 204.436 424.159 Q206.658 424.715 209.135 424.715 Q213.14 424.715 215.478 422.608 Q217.816 420.502 217.816 416.891 Q217.816 413.28 215.478 411.173 Q213.14 409.067 209.135 409.067 Q207.26 409.067 205.385 409.484 Q203.533 409.9 201.589 410.78 L201.589 393.419 Z\" fill=\"#000000\" fill-rule=\"evenodd\" fill-opacity=\"1\" /><path clip-path=\"url(#clip820)\" d=\"M125.964 99.5305 L133.603 99.5305 L133.603 73.1649 L125.293 74.8316 L125.293 70.5723 L133.557 68.9057 L138.233 68.9057 L138.233 99.5305 L145.872 99.5305 L145.872 103.466 L125.964 103.466 L125.964 99.5305 Z\" fill=\"#000000\" fill-rule=\"evenodd\" fill-opacity=\"1\" /><path clip-path=\"url(#clip820)\" d=\"M155.316 97.5861 L160.2 97.5861 L160.2 103.466 L155.316 103.466 L155.316 97.5861 Z\" fill=\"#000000\" fill-rule=\"evenodd\" fill-opacity=\"1\" /><path clip-path=\"url(#clip820)\" d=\"M180.385 71.9844 Q176.774 71.9844 174.946 75.5492 Q173.14 79.0908 173.14 86.2204 Q173.14 93.3268 174.946 96.8916 Q176.774 100.433 180.385 100.433 Q184.02 100.433 185.825 96.8916 Q187.654 93.3268 187.654 86.2204 Q187.654 79.0908 185.825 75.5492 Q184.02 71.9844 180.385 71.9844 M180.385 68.2807 Q186.196 68.2807 189.251 72.8871 Q192.33 77.4704 192.33 86.2204 Q192.33 94.9472 189.251 99.5537 Q186.196 104.137 180.385 104.137 Q174.575 104.137 171.497 99.5537 Q168.441 94.9472 168.441 86.2204 Q168.441 77.4704 171.497 72.8871 Q174.575 68.2807 180.385 68.2807 Z\" fill=\"#000000\" fill-rule=\"evenodd\" fill-opacity=\"1\" /><path clip-path=\"url(#clip820)\" d=\"M210.547 71.9844 Q206.936 71.9844 205.107 75.5492 Q203.302 79.0908 203.302 86.2204 Q203.302 93.3268 205.107 96.8916 Q206.936 100.433 210.547 100.433 Q214.181 100.433 215.987 96.8916 Q217.816 93.3268 217.816 86.2204 Q217.816 79.0908 215.987 75.5492 Q214.181 71.9844 210.547 71.9844 M210.547 68.2807 Q216.357 68.2807 219.413 72.8871 Q222.492 77.4704 222.492 86.2204 Q222.492 94.9472 219.413 99.5537 Q216.357 104.137 210.547 104.137 Q204.737 104.137 201.658 99.5537 Q198.603 94.9472 198.603 86.2204 Q198.603 77.4704 201.658 72.8871 Q204.737 68.2807 210.547 68.2807 Z\" fill=\"#000000\" fill-rule=\"evenodd\" fill-opacity=\"1\" /><path clip-path=\"url(#clip820)\" d=\"M15.4698 828.564 L21.74 828.564 Q19.9894 832.224 19.13 835.471 Q18.2707 838.717 18.2707 841.741 Q18.2707 846.993 20.3077 849.857 Q22.3447 852.69 26.1005 852.69 Q29.2515 852.69 30.8748 850.812 Q32.4662 848.902 33.4529 843.619 L34.2486 839.736 Q35.6172 832.543 39.0865 829.137 Q42.524 825.699 48.3168 825.699 Q55.2236 825.699 58.7884 830.346 Q62.3532 834.962 62.3532 843.905 Q62.3532 847.279 61.5893 851.099 Q60.8254 854.886 59.3295 858.96 L52.7091 858.96 Q54.9053 855.045 56.0193 851.29 Q57.1333 847.534 57.1333 843.905 Q57.1333 838.399 54.969 835.407 Q52.8046 832.415 48.7942 832.415 Q45.2931 832.415 43.3197 834.58 Q41.3464 836.712 40.3597 841.614 L39.5958 845.529 Q38.1635 852.722 35.108 855.937 Q32.0524 859.151 26.6097 859.151 Q20.3077 859.151 16.6792 854.727 Q13.0508 850.271 13.0508 842.473 Q13.0508 839.131 13.6555 835.662 Q14.2603 832.193 15.4698 828.564 Z\" fill=\"#000000\" fill-rule=\"evenodd\" fill-opacity=\"1\" /><path clip-path=\"url(#clip820)\" d=\"M27.1508 790.274 L32.6253 790.274 Q31.2567 792.757 30.5883 795.271 Q29.8881 797.754 29.8881 800.3 Q29.8881 805.998 33.5165 809.149 Q37.1132 812.3 43.638 812.3 Q50.1629 812.3 53.7913 809.149 Q57.3879 805.998 57.3879 800.3 Q57.3879 797.754 56.7195 795.271 Q56.0193 792.757 54.6507 790.274 L60.0615 790.274 Q61.2074 792.725 61.7803 795.367 Q62.3532 797.977 62.3532 800.937 Q62.3532 808.99 57.2924 813.732 Q52.2317 818.474 43.638 818.474 Q34.917 818.474 29.9199 813.7 Q24.9228 808.894 24.9228 800.555 Q24.9228 797.85 25.4957 795.271 Q26.0368 792.693 27.1508 790.274 Z\" fill=\"#000000\" fill-rule=\"evenodd\" fill-opacity=\"1\" /><path clip-path=\"url(#clip820)\" d=\"M29.8881 766.276 Q29.8881 770.986 33.5802 773.723 Q37.2405 776.461 43.638 776.461 Q50.0355 776.461 53.7277 773.755 Q57.3879 771.018 57.3879 766.276 Q57.3879 761.597 53.6958 758.86 Q50.0037 756.122 43.638 756.122 Q37.3041 756.122 33.612 758.86 Q29.8881 761.597 29.8881 766.276 M24.9228 766.276 Q24.9228 758.637 29.8881 754.276 Q34.8533 749.916 43.638 749.916 Q52.3909 749.916 57.3879 754.276 Q62.3532 758.637 62.3532 766.276 Q62.3532 773.946 57.3879 778.307 Q52.3909 782.635 43.638 782.635 Q34.8533 782.635 29.8881 778.307 Q24.9228 773.946 24.9228 766.276 Z\" fill=\"#000000\" fill-rule=\"evenodd\" fill-opacity=\"1\" /><path clip-path=\"url(#clip820)\" d=\"M31.2567 719.551 Q30.6838 720.538 30.4292 721.716 Q30.1427 722.862 30.1427 724.262 Q30.1427 729.227 33.3892 731.901 Q36.6039 734.543 42.6513 734.543 L61.4302 734.543 L61.4302 740.431 L25.7822 740.431 L25.7822 734.543 L31.3204 734.543 Q28.0739 732.697 26.5143 729.736 Q24.9228 726.776 24.9228 722.543 Q24.9228 721.938 25.0183 721.206 Q25.082 720.474 25.2411 719.583 L31.2567 719.551 Z\" fill=\"#000000\" fill-rule=\"evenodd\" fill-opacity=\"1\" /><path clip-path=\"url(#clip820)\" d=\"M42.1421 684.349 L45.0066 684.349 L45.0066 711.276 Q51.0541 710.894 54.2369 707.647 Q57.3879 704.369 57.3879 698.545 Q57.3879 695.171 56.5604 692.02 Q55.7329 688.837 54.0778 685.718 L59.6159 685.718 Q60.9527 688.869 61.653 692.179 Q62.3532 695.489 62.3532 698.895 Q62.3532 707.425 57.3879 712.422 Q52.4227 717.387 43.9563 717.387 Q35.2034 717.387 30.0791 712.676 Q24.9228 707.934 24.9228 699.913 Q24.9228 692.72 29.5698 688.55 Q34.1849 684.349 42.1421 684.349 M40.4233 690.205 Q35.6172 690.269 32.7526 692.911 Q29.8881 695.521 29.8881 699.849 Q29.8881 704.751 32.6572 707.711 Q35.4262 710.639 40.4552 711.085 L40.4233 690.205 Z\" fill=\"#000000\" fill-rule=\"evenodd\" fill-opacity=\"1\" /><path clip-path=\"url(#clip820)\" d=\"M59.234 654.271 L74.9891 654.271 L74.9891 660.159 L26.005 660.159 Q11.4912 660.159 11.4912 646.6 Q11.4912 632.787 23.7452 632.787 Q32.4662 632.787 35.649 638.261 Q38.5136 629.349 47.0118 629.349 Q62.0986 629.349 62.0986 644.691 Q62.0986 651.438 59.234 654.271 M51.5951 654.271 Q57.1015 650.738 57.1015 644.468 Q57.1015 635.301 47.1073 635.301 Q38.1317 635.301 38.8319 650.07 L33.421 650.07 Q33.421 638.516 23.2359 638.516 Q16.2655 638.516 16.2655 645.964 Q16.2655 654.271 26.196 654.271 L51.5951 654.271 Z\" fill=\"#000000\" fill-rule=\"evenodd\" fill-opacity=\"1\" /><path clip-path=\"url(#clip820)\" d=\"M42.9832 621.074 L51.2069 621.074 L51.2069 611.273 L54.905 611.273 L54.905 621.074 L70.6283 621.074 Q74.1712 621.074 75.1797 620.117 Q76.1883 619.134 76.1883 616.16 L76.1883 611.273 L80.1709 611.273 L80.1709 616.16 Q80.1709 621.669 78.1279 623.763 Q76.059 625.858 70.6283 625.858 L54.905 625.858 L54.905 629.349 L51.2069 629.349 L51.2069 625.858 L42.9832 625.858 L42.9832 621.074 Z\" fill=\"#000000\" fill-rule=\"evenodd\" fill-opacity=\"1\" /><polyline clip-path=\"url(#clip822)\" style=\"stroke:#009af9; stroke-linecap:butt; stroke-linejoin:round; stroke-width:4; stroke-opacity:1; fill:none\" points=\"\n  317.763,86.1857 321.26,86.1857 324.757,86.1857 328.254,86.1857 331.751,86.1877 335.248,88.3338 338.744,86.1857 342.241,86.1857 345.738,1372.64 349.235,1384.24 \n  352.732,1384.24 356.229,1384.24 359.725,1384.24 363.222,110.059 366.719,86.2298 370.216,86.2159 373.713,86.4684 377.21,129.186 380.707,87.2307 384.203,111.62 \n  387.7,223.853 391.197,729.08 394.694,1277.82 398.191,956.87 401.688,534.491 405.185,1378.72 408.681,1364.65 412.178,86.6636 415.675,86.1902 419.172,86.2053 \n  422.669,86.3403 426.166,88.3905 429.663,86.3878 433.159,86.1928 436.656,86.1897 440.153,86.2474 443.65,86.3 447.147,86.1944 450.644,86.2044 454.14,97.2067 \n  457.637,98.0761 461.134,211.449 464.631,1104.4 468.128,239.635 471.625,1382.56 475.122,1381.72 478.618,702.152 482.115,1371.4 485.612,1383.83 489.109,1381.97 \n  492.606,1384.22 496.103,1384.08 499.6,1383.49 503.096,1383.98 506.593,1381.9 510.09,1381.19 513.587,1383.46 517.084,1373.87 520.581,1374.14 524.077,1379.34 \n  527.574,1316.55 531.071,1379.55 534.568,142.492 538.065,1384.23 541.562,1384.24 545.059,113.687 548.555,86.6035 552.052,86.2148 555.549,86.1952 559.046,86.1871 \n  562.543,86.2101 566.04,86.2898 569.537,86.374 573.033,86.9533 576.53,102.805 580.027,279.216 583.524,210.312 587.021,138.874 590.518,86.5153 594.015,840.458 \n  597.511,131.583 601.008,1225.41 604.505,1363.82 608.002,1381.3 611.499,566.41 614.996,1253.26 618.492,488.186 621.989,561.127 625.486,511.037 628.983,369.228 \n  632.48,277.767 635.977,151.378 639.474,94.9847 642.97,97.7786 646.467,125.271 649.964,286.51 653.461,498.701 656.958,313.962 660.455,905.98 663.952,797.355 \n  667.448,995.891 670.945,1250.67 674.442,665.211 677.939,529.679 681.436,1325.31 684.933,1231.02 688.43,1284.32 691.926,1298.65 695.423,1341.66 698.92,1380.87 \n  702.417,207.49 705.914,99.0136 709.411,86.8105 712.907,86.5741 716.404,86.7944 719.901,89.5409 723.398,107.146 726.895,124.345 730.392,260.884 733.889,362.33 \n  737.385,405.586 740.882,930.225 744.379,362.867 747.876,312.366 751.373,649.288 754.87,191.97 758.367,395.554 761.863,524.942 765.36,723.75 768.857,1213.23 \n  772.354,1302.45 775.851,1355.22 779.348,1370.35 782.844,1370.81 786.341,1364.06 789.838,1213.17 793.335,405.683 796.832,1265.4 800.329,1362.3 803.826,1367.06 \n  807.322,590.829 810.819,210.243 814.316,181.041 817.813,232.164 821.31,655.197 824.807,867.997 828.304,660.489 831.8,760.786 835.297,881.232 838.794,817.304 \n  842.291,1003.85 845.788,1236.69 849.285,1304.87 852.782,270.7 856.278,1307.89 859.775,133.258 863.272,91.5442 866.769,88.1757 870.266,89.1562 873.763,87.8472 \n  877.259,86.5697 880.756,86.6407 884.253,87.0797 887.75,87.0376 891.247,87.9097 894.744,88.8655 898.241,91.4616 901.737,101.533 905.234,121.724 908.731,156.989 \n  912.228,735.798 915.725,1233.63 919.222,1288.29 922.719,1359.38 926.215,1377.06 929.712,1383.71 933.209,443.459 936.706,150.003 940.203,864.001 943.7,1267.8 \n  947.197,908.491 950.693,1320.21 954.19,726.476 957.687,495.62 961.184,407.268 964.681,292.449 968.178,1361.36 971.674,502.347 975.171,131.643 978.668,140.237 \n  982.165,88.0816 985.662,1276.18 989.159,852.842 992.656,103.314 996.152,99.6194 999.649,87.1243 1003.15,88.7363 1006.64,94.7407 1010.14,1381.78 1013.64,1384.1 \n  1017.13,1384.18 1020.63,1384.04 1024.13,1384.16 1027.62,1384.13 1031.12,1384.14 1034.62,1383.08 1038.11,1379.74 1041.61,1374.58 1045.11,1375.74 1048.61,1380.95 \n  1052.1,504.066 1055.6,1362.05 1059.1,1384.02 1062.59,1384.21 1066.09,1384.2 1069.59,1278.8 1073.08,1382.23 1076.58,290.932 1080.08,134.062 1083.57,1102.14 \n  1087.07,1024.76 1090.57,427.658 1094.06,625.052 1097.56,1173.04 1101.06,788.495 1104.55,776.736 1108.05,1257.74 1111.55,333.081 1115.05,128.493 1118.54,869.784 \n  1122.04,1178.53 1125.54,469.539 1129.03,215.435 1132.53,90.0732 1136.03,1114.79 1139.52,292.294 1143.02,139.938 1146.52,102.115 1150.01,174.932 1153.51,471.117 \n  1157.01,934.328 1160.5,815.403 1164,1082.87 1167.5,1052.71 1170.99,1021.63 1174.49,1067.08 1177.99,974.548 1181.49,1255.04 1184.98,1215.35 1188.48,1170.34 \n  1191.98,1129.84 1195.47,963.787 1198.97,1146.25 1202.47,993.477 1205.96,1296.99 1209.46,1059 1212.96,945.116 1216.45,765.708 1219.95,708.895 1223.45,388.281 \n  1226.94,212.464 1230.44,243.765 1233.94,113.36 1237.44,887.343 1240.93,421.918 1244.43,1254.6 1247.93,719.753 1251.42,294.152 1254.92,486.514 1258.42,465.891 \n  1261.91,1182.98 1265.41,1214.04 1268.91,999.775 1272.4,1326.36 1275.9,1337.79 1279.4,1327.46 1282.89,454.1 1286.39,1305.33 1289.89,1369.13 1293.38,261.939 \n  1296.88,585.088 1300.38,1096.65 1303.88,1116.87 1307.37,281.868 1310.87,755.363 1314.37,1216.41 1317.86,185.767 1321.36,919.851 1324.86,867.004 1328.35,858.727 \n  1331.85,764.501 1335.35,1258.27 1338.84,1364.72 1342.34,1358.58 1345.84,1351.82 1349.33,1281.08 1352.83,1320.7 1356.33,1319.31 1359.82,765.786 1363.32,1242.95 \n  1366.82,577.653 1370.32,1069.95 1373.81,1298.41 1377.31,353.531 1380.81,1359.74 1384.3,1362.73 1387.8,1358.4 1391.3,1380.01 1394.79,1362.38 1398.29,354.993 \n  1401.79,380.22 1405.28,1007.37 1408.78,381.185 1412.28,423.073 1415.77,443.758 1419.27,125.94 1422.77,362.415 1426.27,1274.34 1429.76,1069.08 1433.26,1207.08 \n  1436.76,622.082 1440.25,835.153 1443.75,487.535 1447.25,1149.12 1450.74,724.404 1454.24,1090.55 1457.74,519.437 1461.23,695.725 1464.73,344.691 1468.23,443.717 \n  1471.72,1178.81 1475.22,994.182 1478.72,1284.39 1482.21,1190.37 1485.71,1107.43 1489.21,426.663 1492.71,1254.6 1496.2,240.524 1499.7,138.154 1503.2,123.838 \n  1506.69,151.109 1510.19,105.221 1513.69,89.5144 1517.18,86.2154 1520.68,86.2131 1524.18,86.3947 1527.67,86.2971 1531.17,86.1949 1534.67,86.1991 1538.16,86.197 \n  1541.66,86.2174 1545.16,86.2429 1548.65,86.5646 1552.15,89.6128 1555.65,92.0733 1559.15,94.5007 1562.64,88.769 1566.14,86.7259 1569.64,87.6438 1573.13,149.234 \n  1576.63,610.77 1580.13,1202.22 1583.62,1313.71 1587.12,104.616 1590.62,86.1882 1594.11,86.1857 1597.61,86.1876 1601.11,86.2377 1604.6,86.2346 1608.1,86.2412 \n  1611.6,86.1866 1615.1,86.1925 1618.59,86.3167 1622.09,943.369 1625.59,1373.73 1629.08,118.44 1632.58,1383.97 1636.08,1384.23 1639.57,1384.24 1643.07,1384.24 \n  1646.57,1384.24 1650.06,1384.19 1653.56,1382.68 1657.06,1380.9 1660.55,721.947 1664.05,102.822 1667.55,91.9071 1671.04,120.257 1674.54,955.222 1678.04,501.43 \n  1681.54,1270.84 1685.03,1363.21 1688.53,1370.54 1692.03,1375.21 1695.52,1376.63 1699.02,1364.38 1702.52,943.131 1706.01,1158.43 1709.51,619.904 1713.01,609.023 \n  1716.5,791.333 1720,1147.17 1723.5,679.865 1726.99,503.179 1730.49,322.293 1733.99,188.013 1737.48,146.897 1740.98,575.724 1744.48,543.69 1747.98,1003.17 \n  1751.47,1062.43 1754.97,836.404 1758.47,970.221 1761.96,1196.57 1765.46,1165.2 1768.96,1068.64 1772.45,953.578 1775.95,1112.99 1779.45,824.007 1782.94,1195.56 \n  1786.44,1116.12 1789.94,1137.72 1793.43,1032.41 1796.93,1354.66 1800.43,983.81 1803.93,234.949 1807.42,358.989 1810.92,214.875 1814.42,390.329 1817.91,103.577 \n  1821.41,350.029 1824.91,162.899 1828.4,107.573 1831.9,89.5288 1835.4,106.174 1838.89,105.89 1842.39,480.568 1845.89,201.385 1849.38,180.615 1852.88,167.996 \n  1856.38,157.054 1859.87,88.5876 1863.37,88.6038 1866.87,87.577 1870.37,134.524 1873.86,120.587 1877.36,230.739 1880.86,553.619 1884.35,966.852 1887.85,1305.58 \n  1891.35,1360.72 1894.84,1350.88 1898.34,1382.24 1901.84,1381.57 1905.33,1382.49 1908.83,197.985 1912.33,213.95 1915.82,166.684 1919.32,730.799 1922.82,937.95 \n  1926.31,458.252 1929.81,213.259 1933.31,382.759 1936.81,1377.28 1940.3,190.267 1943.8,100.407 1947.3,113.811 1950.79,180.469 1954.29,361.534 1957.79,416.85 \n  1961.28,1052.21 1964.78,774.067 1968.28,1107.29 1971.77,442.888 1975.27,181.871 1978.77,1271.27 1982.26,104.786 1985.76,88.208 1989.26,87.4263 1992.76,86.83 \n  1996.25,87.0831 1999.75,93.4786 2003.25,155.237 2006.74,133.495 2010.24,139.086 2013.74,348.975 2017.23,675.848 2020.73,615.393 2024.23,466.005 2027.72,351.544 \n  2031.22,704.781 2034.72,334.406 2038.21,411.928 2041.71,307.485 2045.21,222.414 2048.7,140.897 2052.2,105.777 2055.7,136.835 2059.2,140.813 2062.69,219.199 \n  2066.19,253.844 2069.69,183.422 2073.18,262.539 2076.68,118.675 2080.18,123.367 2083.67,188.946 2087.17,139.346 2090.67,120.582 2094.16,143.253 2097.66,194.611 \n  2101.16,599.048 2104.65,392.566 2108.15,785.647 2111.65,1041.47 2115.14,927.059 2118.64,781.128 2122.14,700.976 2125.64,429.149 2129.13,273.589 2132.63,251.257 \n  2136.13,888.503 2139.62,224.919 2143.12,115.378 2146.62,892.879 2150.11,109.865 2153.61,92.5253 2157.11,90.282 2160.6,94.7765 2164.1,103.317 2167.6,106.493 \n  2171.09,95.5065 2174.59,87.7332 2178.09,86.4343 2181.59,86.269 2185.08,86.3361 2188.58,86.5967 2192.08,87.3084 2195.57,88.3652 2199.07,101.464 2202.57,182.566 \n  2206.06,868.003 2209.56,1327.66 2213.06,296 2216.55,1228.65 2220.05,1303.67 2223.55,1384.22 2227.04,1384.24 2230.54,1384.23 2234.04,1384.22 2237.53,1383.73 \n  2241.03,1344.79 2244.53,101.826 2248.03,313.234 2251.52,414.182 2255.02,1127.55 2258.52,312.54 2262.01,1297.49 2265.51,324.826 2269.01,167.314 2272.5,221.495 \n  2276,417.577 2279.5,119.86 2282.99,88.7927 2286.49,86.5046 2289.99,86.3445 2293.48,86.3706 \n  \"/>\n</svg>\n"
     },
     "execution_count": 24,
     "metadata": {},
     "output_type": "execute_result"
    }
   ],
   "source": [
    "ScoreBetaHat_national_weekly = recoverBeta(Optim.minimizer(res_national_weekly), national_weekly);\n",
    "plot(national_weekly.Date, ScoreBetaHat_national_weekly, \n",
    "label = :none,\n",
    "xlabel = \"Date\",\n",
    "ylabel = \"Score \\\\beta_t\")"
   ]
  },
  {
   "cell_type": "markdown",
   "id": "01f47135",
   "metadata": {},
   "source": [
    "### Section 2.2.3: Weekday"
   ]
  },
  {
   "cell_type": "code",
   "execution_count": null,
   "id": "b6390bfa",
   "metadata": {},
   "outputs": [],
   "source": [
    "# θ_national_7dd = [0, 1, 0, 0.2, 0.6];\n",
    "θ_national_7dd = [0, 1, 0.5, 0.2, 0.6];\n",
    "obj_national_7dd = θ_national_7dd -> logL(θ_national_7dd, national_7dd) \n",
    "res_national_7dd = optimize(obj_national_7dd, θ_national_7dd)\n",
    "Optim.minimizer(res_national_7dd)  # Estimated parameters"
   ]
  },
  {
   "cell_type": "code",
   "execution_count": null,
   "id": "553e8e3d",
   "metadata": {},
   "outputs": [],
   "source": [
    "ScoreBetaHat_national_7dd = recoverBeta(Optim.minimizer(res_national_7dd), national_7dd);\n",
    "plot(national_7dd.Date, ScoreBetaHat_national_7dd, \n",
    "label = :none,\n",
    "xlabel = \"Date\",\n",
    "ylabel = \"Score \\\\beta_t\")"
   ]
  },
  {
   "cell_type": "markdown",
   "id": "6b070b53",
   "metadata": {},
   "source": [
    "## Section 2.3: Score Out-of-sample Forecast<a class=\"anchor\" id=\"dynamic_out_sample\"></a>\n",
    "\n",
    "The name \"step\" in my code means the sample size of data kept for out-of-sample forecast.\n",
    "\n",
    "If step = 10, I estimate $\\beta$ for 10 times. The first time, I use all data but the last 10 for estimation, and then make one out-of-sample forecast for the last 10th observation; The second time, I use all data but the last 9 for estimation, and only make one step ahead forecast for the last 9th observation; ... Repeat until I have all out-of-sample forecast for the 10 observations.\n",
    "\n",
    "The graph shows observed $\\Delta log C_t$ in blue and predicted in red. "
   ]
  },
  {
   "cell_type": "markdown",
   "id": "d28de796",
   "metadata": {},
   "source": [
    "### Section 2.3.1: Daily"
   ]
  },
  {
   "cell_type": "code",
   "execution_count": null,
   "id": "a5448a8d",
   "metadata": {},
   "outputs": [],
   "source": [
    "# moved to old file\n",
    "# to be added"
   ]
  },
  {
   "cell_type": "markdown",
   "id": "6b4d00e9",
   "metadata": {},
   "source": [
    "### Section 2.3.2: Weekly"
   ]
  },
  {
   "cell_type": "code",
   "execution_count": null,
   "id": "e1508b7e",
   "metadata": {},
   "outputs": [],
   "source": [
    "# moved to old file\n",
    "# to be added"
   ]
  },
  {
   "cell_type": "markdown",
   "id": "a9417c8e",
   "metadata": {},
   "source": [
    "### Section 2.3.3: Weekday"
   ]
  },
  {
   "cell_type": "code",
   "execution_count": null,
   "id": "a3ef3850",
   "metadata": {},
   "outputs": [],
   "source": [
    "# moved to old file\n",
    "# to be added"
   ]
  },
  {
   "cell_type": "markdown",
   "id": "e9383fd7",
   "metadata": {},
   "source": [
    "## Section 2.4: Score Adjusted Case Numbers<a class=\"anchor\" id=\"dynamic_adjust_case\"></a>\n",
    "\n",
    "$$\\tilde{C} = C \\left( \\frac{N}{N_t} \\right)^{\\hat{\\beta_t}}$$"
   ]
  },
  {
   "cell_type": "markdown",
   "id": "7fedf5c9",
   "metadata": {},
   "source": [
    "### Section 2.4.1: Daily"
   ]
  },
  {
   "cell_type": "code",
   "execution_count": null,
   "id": "676e5918",
   "metadata": {},
   "outputs": [],
   "source": [
    "national_daily.ScoreBetaHat = ScoreBetaHat_national_daily;\n",
    "national_daily.C_tilde_score = national_daily.Ct .* (fixN_daily ./ national_daily.Nt) .^ national_daily.ScoreBetaHat;\n",
    "\n",
    "@df filter(:C_tilde_score => C_tilde -> !isnan(C_tilde), national_daily) plot(:Date, :C_tilde_score, yaxis = :log, \n",
    "    label = \"Score Adjusted log(Ct)\", xlabel = \"Date\", ylabel = \"Ct values\")\n",
    "@df filter(:C_tilde_score => C_tilde -> !isnan(C_tilde), national_daily) plot!(:Date, :Ct, yaxis = :log, \n",
    "    label = \"Observed log(Ct)\", leg = :bottomright)"
   ]
  },
  {
   "cell_type": "markdown",
   "id": "85fa665d",
   "metadata": {},
   "source": [
    "### Section 2.4.2: Weekly"
   ]
  },
  {
   "cell_type": "code",
   "execution_count": null,
   "id": "5d673d14",
   "metadata": {},
   "outputs": [],
   "source": [
    "national_weekly.ScoreBetaHat = ScoreBetaHat_national_weekly;\n",
    "national_weekly.C_tilde_score = national_weekly.Ct .* (fixN_weekly ./ national_weekly.Nt) .^ national_weekly.ScoreBetaHat;\n",
    "\n",
    "@df filter(:C_tilde_score => C_tilde -> !isnan(C_tilde), national_weekly) plot(:Date, :C_tilde_score, yaxis = :log, \n",
    "    label = \"Score Adjusted log(Ct)\", xlabel = \"Date\", ylabel = \"Ct values\")\n",
    "@df filter(:C_tilde_score => C_tilde -> !isnan(C_tilde), national_weekly) plot!(:Date, :Ct, yaxis = :log, \n",
    "    label = \"Observed log(Ct)\", leg = :bottomright)"
   ]
  },
  {
   "cell_type": "markdown",
   "id": "e90b9019",
   "metadata": {},
   "source": [
    "### Section 2.4.3: Weekday"
   ]
  },
  {
   "cell_type": "code",
   "execution_count": null,
   "id": "8ca39601",
   "metadata": {},
   "outputs": [],
   "source": [
    "national_7dd.ScoreBetaHat = ScoreBetaHat_national_7dd;\n",
    "national_7dd.C_tilde_score = national_7dd.Ct .* (fixN_7dd ./ national_7dd.Nt) .^ national_7dd.ScoreBetaHat;\n",
    "\n",
    "@df filter(:C_tilde_score => C_tilde -> !isnan(C_tilde), national_7dd) plot(:Date, :C_tilde_score, yaxis = :log, \n",
    "    label = \"Score Adjusted\", xlabel = \"Date\", ylabel = \"log(Ct)\")\n",
    "@df filter(:C_tilde_score => C_tilde -> !isnan(C_tilde), national_7dd) plot!(:Date, :Ct, yaxis = :log, \n",
    "    label = \"Observed\", leg = :bottomright)"
   ]
  },
  {
   "cell_type": "markdown",
   "id": "a3adde63",
   "metadata": {},
   "source": [
    "## Section 2.5: Autocorrelation Investigation<a class=\"anchor\" id=\"dynamic_auto\"></a>"
   ]
  },
  {
   "cell_type": "markdown",
   "id": "a10f4887",
   "metadata": {},
   "source": [
    "### Section 2.5.1:Daily"
   ]
  },
  {
   "cell_type": "code",
   "execution_count": null,
   "id": "029cff85",
   "metadata": {},
   "outputs": [],
   "source": [
    "p1 = plot(bar(autocor(national_daily.diff_logCt, 1:30),  label = :none), \n",
    "    xlabel = \"lag\", title = \"ACF of Δ ct\");\n",
    "p2 = plot(bar(autocor(national_daily.diff_logNt, 1:30),  label = :none), \n",
    "    xlabel = \"lag\", title = \"ACF of Δ nt\");\n",
    "national_daily.ut = national_daily.diff_logCt .- national_daily.diff_logNt .* national_daily.ScoreBetaHat;\n",
    "p3 = plot(bar(autocor(national_daily.ut, 1:30),  label = :none), \n",
    "    xlabel = \"lag\", title = \"ACF of ut\");\n",
    "plot(p1, p2, p3, layout = (1, 3), ylims = (-0.5, 0.8), size = (900, 400))"
   ]
  },
  {
   "cell_type": "markdown",
   "id": "040c9ddb",
   "metadata": {},
   "source": [
    "### Section 2.5.2: Weekly"
   ]
  },
  {
   "cell_type": "code",
   "execution_count": null,
   "id": "52767088",
   "metadata": {},
   "outputs": [],
   "source": [
    "p1 = plot(bar(autocor(national_weekly.diff_logCt, 1:30),  label = :none), \n",
    "    xlabel = \"lag\", title = \"ACF of Δ ct\");\n",
    "p2 = plot(bar(autocor(national_weekly.diff_logNt, 1:30),  label = :none), \n",
    "    xlabel = \"lag\", title = \"ACF of Δ nt\");\n",
    "national_weekly.ut = national_weekly.diff_logCt .- national_weekly.diff_logNt .* national_weekly.ScoreBetaHat;\n",
    "p3 = plot(bar(autocor(national_weekly.ut, 1:30),  label = :none), \n",
    "    xlabel = \"lag\", title = \"ACF of ut\");\n",
    "plot(p1, p2, p3, layout = (1, 3), ylims = (-0.2, 0.85), size = (900, 400))"
   ]
  },
  {
   "cell_type": "markdown",
   "id": "925f32a0",
   "metadata": {},
   "source": [
    "### Section 2.5.3: Weekday"
   ]
  },
  {
   "cell_type": "code",
   "execution_count": null,
   "id": "961f5ca1",
   "metadata": {},
   "outputs": [],
   "source": [
    "p1 = plot(bar(autocor(national_daily.diff_logCt, 1:30),  label = :none), \n",
    "    xlabel = \"lag\", title = \"ACF of Δ ct\");\n",
    "p2 = plot(bar(autocor(national_daily.diff_logNt, 1:30),  label = :none), \n",
    "    xlabel = \"lag\", title = \"ACF of Δ nt\");\n",
    "national_daily.ut = national_daily.diff_logCt .- national_daily.diff_logNt .* national_daily.ScoreBetaHat;\n",
    "p3 = plot(bar(autocor(national_daily.ut, 1:30),  label = :none), \n",
    "    xlabel = \"lag\", title = \"ACF of ut\");\n",
    "plot(p1, p2, p3, layout = (1, 3), ylims = (-0.2, 0.85), size = (900, 400))"
   ]
  },
  {
   "cell_type": "markdown",
   "id": "126441eb",
   "metadata": {},
   "source": [
    "# Section 3: Municipality Data Analysis, Panel Data<a class=\"anchor\" id=\"muni_analysis\"></a>"
   ]
  },
  {
   "cell_type": "code",
   "execution_count": null,
   "id": "ef82508d",
   "metadata": {},
   "outputs": [],
   "source": [
    "# Remove Municipalities with too few Nt (< 100 on average)\n",
    "drop_cities = [\"Christiansø\", \"Ærø\", \"Fanø\", \"Samsø\", \"Læsø\", \"NA\"]\n",
    "\n",
    "muni_Ct = @pipe CSV.File(\"Municipality_Ct.csv\") |>\n",
    "DataFrame |>\n",
    "rename!(_, :SampleDate => :Date) |>\n",
    "select(_, Not(drop_cities));\n",
    "muni_Nt = @pipe CSV.File(\"Municipality_Nt.csv\") |> \n",
    "DataFrame |>\n",
    "rename!(_, :PrDate_adjusted => :Date) |>\n",
    "select(_, Not(drop_cities));\n",
    "muni_daily_level = @pipe innerjoin(muni_Ct, muni_Nt, on = :Date, makeunique=true);\n",
    "## Notes: The orders of the columns in the two files are different.\n",
    "\n",
    "\n",
    "\n",
    "# create daily data for model\n",
    "df1 = @pipe muni_daily_level |>\n",
    "transform(_, names(_, Not(:Date)) .=> (x -> log.(x)); renamecols=false);\n",
    "for col in eachcol(df1)\n",
    "    replace!(col, -Inf => 0)  # When initial numbers are 0, replace log of it to be 0 instead of -inf.\n",
    "end\n",
    "muni_daily = @pipe df1 |> \n",
    "transform(_, names(_, Not(:Date)) .=> (x -> x - lag(x)); renamecols=false)|>\n",
    "subset(_, :Date => ByRow(D -> D >= date_of_first_obs));\n",
    "\n",
    "# create weekly data for model\n",
    "muni_weekly_level = mapcols!(v -> runmean(v, windowsize) * windowsize, muni_daily_level[:, Not(:Date)]);\n",
    "insertcols!(muni_weekly_level, 1, :Date => muni_daily_level.Date);\n",
    "delete!(muni_weekly_level, 1: (windowsize - 1));\n",
    "df2 = @pipe muni_weekly_level |>\n",
    "transform(_, names(_, Not(:Date)) .=> (x -> log.(x)); renamecols=false);\n",
    "for col in eachcol(df2)\n",
    "    replace!(col, -Inf => 0)  # When initial numbers are 0, replace log of it to be 0 instead of -inf.\n",
    "end\n",
    "muni_weekly = @pipe df2 |> \n",
    "transform(_, names(_, Not(:Date)) .=> (x -> x - lag(x)); renamecols=false)|>\n",
    "subset(_, :Date => ByRow(D -> D >= date_of_first_obs));\n",
    "\n",
    "# create weekday data for model\n",
    "muni_7dd = @pipe df1 |> \n",
    "transform(_, names(_, Not(:Date)) .=> (x -> x - lag(x, 7)); renamecols=false)|>\n",
    "subset(_, :Date => ByRow(D -> D >= date_of_first_obs));"
   ]
  },
  {
   "cell_type": "markdown",
   "id": "601a9b19",
   "metadata": {},
   "source": [
    "## Section 3.1: Static Analysis<a class=\"anchor\" id=\"muni_static_analysis\"></a>"
   ]
  },
  {
   "cell_type": "markdown",
   "id": "2537bd59",
   "metadata": {},
   "source": [
    "### Section 3.1.1: Daily"
   ]
  },
  {
   "cell_type": "code",
   "execution_count": null,
   "id": "6f1ec4ad",
   "metadata": {},
   "outputs": [],
   "source": [
    "ols_muni_daily_coef = DataFrame(City = [], OlS_Intercept = [], OLS_Slope = Float64[], OLS_Slope_sd = []);\n",
    "for i in 1 : Int((ncol(muni_daily)-1)/2)\n",
    "    diff_logCt = muni_daily[:, i + 1]\n",
    "    # to match Ct and Nt for the same city ---->\n",
    "    city_name = names(muni_daily)[i + 1]  \n",
    "    diff_logNt = muni_daily[:, string(city_name, \"_1\")]\n",
    "    data = DataFrame(diff_logCt = diff_logCt, diff_logNt = diff_logNt)\n",
    "    OLS = lm(@formula(diff_logCt ~ diff_logNt), data)\n",
    "    coef_w_name = @pipe round.(coef(OLS), digits = 4) |> \n",
    "    vcat(_, round.(stderror(OLS)[2], digits = 4)) |>\n",
    "    vcat([city_name], _)\n",
    "    push!(ols_muni_daily_coef, coef_w_name);\n",
    "end\n",
    "ols_muni_daily_coef"
   ]
  },
  {
   "cell_type": "markdown",
   "id": "720d4150",
   "metadata": {},
   "source": [
    "### Section 3.1.2: Weekly"
   ]
  },
  {
   "cell_type": "code",
   "execution_count": null,
   "id": "63462533",
   "metadata": {},
   "outputs": [],
   "source": [
    "ols_muni_weekly_coef = DataFrame(City = [], OlS_Intercept = [], OLS_Slope = Float64[], OLS_Slope_sd = []);\n",
    "for i in 1 : Int((ncol(muni_weekly)-1)/2)\n",
    "    diff_logCt = muni_weekly[:, i + 1]\n",
    "    # to match Ct and Nt for the same city ---->\n",
    "    city_name = names(muni_weekly)[i + 1]  \n",
    "    diff_logNt = muni_weekly[:, string(city_name, \"_1\")]\n",
    "    data = DataFrame(diff_logCt = diff_logCt, diff_logNt = diff_logNt)\n",
    "    OLS = lm(@formula(diff_logCt ~ diff_logNt), data)\n",
    "    coef_w_name = @pipe round.(coef(OLS), digits = 4) |> \n",
    "    vcat(_, round.(stderror(OLS)[2], digits = 4)) |>\n",
    "    vcat([city_name], _)\n",
    "    push!(ols_muni_weekly_coef, coef_w_name);\n",
    "end\n",
    "ols_muni_weekly_coef"
   ]
  },
  {
   "cell_type": "markdown",
   "id": "a794a2db",
   "metadata": {},
   "source": [
    "### Section 3.1.3: Weekday"
   ]
  },
  {
   "cell_type": "code",
   "execution_count": null,
   "id": "3b23213f",
   "metadata": {},
   "outputs": [],
   "source": [
    "ols_muni_7dd_coef = DataFrame(City = [], OlS_Intercept = [], OLS_Slope = Float64[], OLS_Slope_sd = []);\n",
    "for i in 1 : Int((ncol(muni_7dd)-1)/2)\n",
    "    diff_logCt = muni_7dd[:, i + 1]\n",
    "    # to match Ct and Nt for the same city ---->\n",
    "    city_name = names(muni_7dd)[i + 1]  \n",
    "    diff_logNt = muni_7dd[:, string(city_name, \"_1\")]\n",
    "    data = DataFrame(diff_logCt = diff_logCt, diff_logNt = diff_logNt)\n",
    "    OLS = lm(@formula(diff_logCt ~ diff_logNt), data)\n",
    "    coef_w_name = @pipe round.(coef(OLS), digits = 4) |> \n",
    "    vcat(_, round.(stderror(OLS)[2], digits = 4)) |>\n",
    "    vcat([city_name], _)\n",
    "    push!(ols_muni_7dd_coef, coef_w_name);\n",
    "end\n",
    "ols_muni_7dd_coef"
   ]
  },
  {
   "cell_type": "markdown",
   "id": "7771a1e9",
   "metadata": {},
   "source": [
    "## Section 3.2: Dynamic Analysis<a class=\"anchor\" id=\"muni_dynamic_analysis\"></a>\n"
   ]
  },
  {
   "cell_type": "code",
   "execution_count": null,
   "id": "7289e470",
   "metadata": {},
   "outputs": [],
   "source": [
    "# restricted model moved to old file\n",
    "# First restrict the intercept and slope in the socre equation to be 0 and 1 respectively.\n",
    "# The $\\beta_0$ is also part of the parameters now."
   ]
  },
  {
   "cell_type": "markdown",
   "id": "ecc57a73",
   "metadata": {},
   "source": [
    "### Section 3.2.1: Daily"
   ]
  },
  {
   "cell_type": "code",
   "execution_count": null,
   "id": "1bead54d",
   "metadata": {},
   "outputs": [],
   "source": [
    "muni_daily_score_coef = DataFrame(City = String[], \n",
    "    ω = String[], ϕ = String[], α = String[], σ = String[], θ0 = String[]);\n",
    "muni_daily_score_beta = DataFrame();\n",
    "θ = [0, 1, 1, 0.2, 0.6];\n",
    "for i in 1 : Int((ncol(muni_daily)-1)/2)\n",
    "    diff_logCt = muni_daily[:, i + 1]\n",
    "    # to match Ct and Nt for the same city ---->\n",
    "    city_name = names(muni_daily)[i + 1]  \n",
    "    diff_logNt = muni_daily[:, string(city_name, \"_1\")]\n",
    "    data = DataFrame(diff_logCt = diff_logCt, diff_logNt = diff_logNt)\n",
    "    obj = θ -> logL(θ, data);\n",
    "    res = optimize(obj, θ);\n",
    "    coef_w_name = @pipe Optim.minimizer(res) |> round.(_, digits = 4) |> string.(_) |> append!([city_name],  _);\n",
    "    push!(muni_daily_score_coef, coef_w_name);\n",
    "    muni_daily_score_beta[!, city_name] = recoverBeta(Optim.minimizer(res), data);\n",
    "end\n",
    "insertcols!(muni_daily_score_beta, 1, :Date => muni_daily.Date);"
   ]
  },
  {
   "cell_type": "code",
   "execution_count": null,
   "id": "3a620847",
   "metadata": {},
   "outputs": [],
   "source": [
    "muni_daily_score_coef"
   ]
  },
  {
   "cell_type": "code",
   "execution_count": null,
   "id": "a95c6d6c",
   "metadata": {},
   "outputs": [],
   "source": [
    "muni_daily_score_beta"
   ]
  },
  {
   "cell_type": "markdown",
   "id": "fdf1c1d1",
   "metadata": {},
   "source": [
    "### Section 3.2.2: Weekly"
   ]
  },
  {
   "cell_type": "code",
   "execution_count": null,
   "id": "f5d4a5aa",
   "metadata": {},
   "outputs": [],
   "source": [
    "muni_weekly_score_coef = DataFrame(City = String[], \n",
    "    ω = String[], ϕ = String[], α = String[], σ = String[], θ0 = String[]);\n",
    "muni_weekly_score_beta = DataFrame();\n",
    "θ = [0, 1, 1, 0.2, 0.6];\n",
    "for i in 1 : Int((ncol(muni_weekly)-1)/2)\n",
    "    diff_logCt = muni_weekly[:, i + 1]\n",
    "    # to match Ct and Nt for the same city ---->\n",
    "    city_name = names(muni_weekly)[i + 1]  \n",
    "    diff_logNt = muni_weekly[:, string(city_name, \"_1\")]\n",
    "    data = DataFrame(diff_logCt = diff_logCt, diff_logNt = diff_logNt)\n",
    "    obj = θ -> logL(θ, data);\n",
    "    res = optimize(obj, θ);\n",
    "    coef_w_name = @pipe Optim.minimizer(res) |> round.(_, digits = 4) |> string.(_) |> append!([city_name],  _);\n",
    "    push!(muni_weekly_score_coef, coef_w_name);\n",
    "    muni_weekly_score_beta[!, city_name] = recoverBeta(Optim.minimizer(res), data);\n",
    "end\n",
    "insertcols!(muni_weekly_score_beta, 1, :Date => muni_weekly.Date);"
   ]
  },
  {
   "cell_type": "code",
   "execution_count": null,
   "id": "38eb389c",
   "metadata": {},
   "outputs": [],
   "source": [
    "muni_weekly_score_coef"
   ]
  },
  {
   "cell_type": "code",
   "execution_count": null,
   "id": "e1da3903",
   "metadata": {},
   "outputs": [],
   "source": [
    "muni_weekly_score_beta"
   ]
  },
  {
   "cell_type": "markdown",
   "id": "d20baab2",
   "metadata": {},
   "source": [
    "### Section 3.2.3: Weekday"
   ]
  },
  {
   "cell_type": "code",
   "execution_count": null,
   "id": "c1abdacc",
   "metadata": {},
   "outputs": [],
   "source": [
    "muni_7dd_score_coef = DataFrame(City = String[], \n",
    "    ω = String[], ϕ = String[], α = String[], σ = String[], θ0 = String[]);\n",
    "muni_7dd_score_beta = DataFrame();\n",
    "θ = [0, 1, 1, 0.2, 0.6];\n",
    "for i in 1 : Int((ncol(muni_7dd)-1)/2)\n",
    "    diff_logCt = muni_7dd[:, i + 1]\n",
    "    # to match Ct and Nt for the same city ---->\n",
    "    city_name = names(muni_7dd)[i + 1]  \n",
    "    diff_logNt = muni_7dd[:, string(city_name, \"_1\")]\n",
    "    data = DataFrame(diff_logCt = diff_logCt, diff_logNt = diff_logNt)\n",
    "    obj = θ -> logL(θ, data);\n",
    "    res = optimize(obj, θ);\n",
    "    coef_w_name = @pipe Optim.minimizer(res) |> round.(_, digits = 4) |> string.(_) |> append!([city_name],  _);\n",
    "    push!(muni_7dd_score_coef, coef_w_name);\n",
    "    muni_7dd_score_beta[!, city_name] = recoverBeta(Optim.minimizer(res), data);\n",
    "end\n",
    "insertcols!(muni_7dd_score_beta, 1, :Date => muni_7dd.Date);"
   ]
  },
  {
   "cell_type": "code",
   "execution_count": null,
   "id": "d2cbae42",
   "metadata": {},
   "outputs": [],
   "source": [
    "muni_7dd_score_coef"
   ]
  },
  {
   "cell_type": "code",
   "execution_count": null,
   "id": "9d462aa5",
   "metadata": {},
   "outputs": [],
   "source": [
    "muni_7dd_score_beta"
   ]
  },
  {
   "cell_type": "markdown",
   "id": "76939d39",
   "metadata": {},
   "source": [
    "## Section 3.3: Explore Correlation between $\\beta$ and Data <a class=\"anchor\" id=\"beta_and_data\"></a>"
   ]
  },
  {
   "cell_type": "markdown",
   "id": "595aa50e",
   "metadata": {},
   "source": [
    "### Section 3.3.1: Daily"
   ]
  },
  {
   "cell_type": "code",
   "execution_count": null,
   "id": "215ce294",
   "metadata": {},
   "outputs": [],
   "source": [
    "# Calculate positive-ratio for each municipality, panel data\n",
    "muni_daily_PosRatio = DataFrame(); \n",
    "for i in 1 : Int((ncol(muni_daily_level)-1)/2)\n",
    "    Ct = muni_daily_level[:, i+1];\n",
    "    city_name = names(muni_daily_level)[i + 1];\n",
    "    Nt = muni_daily_level[:, string(city_name, \"_1\")];\n",
    "    ratio = Ct ./ Nt;\n",
    "    muni_daily_PosRatio[!, city_name] = ratio;\n",
    "end\n",
    "insertcols!(muni_daily_PosRatio, 1, :Date => muni_daily_level.Date);\n",
    "for col in eachcol(muni_daily_PosRatio)\n",
    "    replace!(col, NaN => 0, Inf => 0);  # When Nt are 0, replace the ratio to be 0 instead of NaN and Inf.\n",
    "end\n",
    "\n",
    "# Create a dataframe contain averaged Nt and PosRatio and OLS estimates, cross-sectional data\n",
    "d1 = @pipe DataFrame(City = names(muni_Nt, Not(:Date)),\n",
    "          AveNt = mean.(eachcol(muni_Nt[:, Not(:Date)]))); \n",
    "d2 = @pipe DataFrame(City = names(muni_daily_PosRatio, Not(:Date)),\n",
    "          AveRatio = Float64.(mean.(eachcol(muni_daily_PosRatio[:, Not(:Date)]))));\n",
    "ols_nt_ratio_muni_daily = @pipe leftjoin(ols_muni_daily_coef, d1, on = :City) |> \n",
    "leftjoin(_, d2, on = :City);"
   ]
  },
  {
   "cell_type": "markdown",
   "id": "4045abf1",
   "metadata": {},
   "source": [
    "#### Cross-sectional\n",
    "The x-axis in plot below is averaged $N_t$ over time for all cities, and y-aix is the city's corresponding $\\beta$ estimates. I expect there is negative relationship between the two, but the plot shows the opposite.\n",
    "\n",
    "Cross-sectional OLS:\n",
    "\n",
    "$\\beta_i = a_0 + a_1 \\bar{r}_i + a_2 \\log(\\bar{N}_i) + e_i$,\n",
    "\n",
    "where $i$ is each municipality, \n",
    "$\\bar{r}_i$ is averaged positive ratio over time for municipality $i$,\n",
    "$\\bar{N}_i$ is averaged $N_t$ over time for municipality $i$."
   ]
  },
  {
   "cell_type": "code",
   "execution_count": null,
   "id": "f431b3ba",
   "metadata": {},
   "outputs": [],
   "source": [
    "@df ols_nt_ratio_muni_daily scatter(log.(:AveNt), :OLS_Slope, \n",
    "    label = :none, \n",
    "    xlabel = \"log(Ni)\", \n",
    "    ylabel = \"OLS \\\\beta\", title = \"Each point is a municipality\")"
   ]
  },
  {
   "cell_type": "code",
   "execution_count": null,
   "id": "2e0fe5ad",
   "metadata": {},
   "outputs": [],
   "source": [
    "@df ols_nt_ratio_muni_daily scatter(:AveRatio, :OLS_Slope, \n",
    "    label = :none, \n",
    "    xlabel = \"Average Positive Ratio\", \n",
    "    ylabel = \"OLS \\\\beta\", title = \"Each point is a municipality\")"
   ]
  },
  {
   "cell_type": "code",
   "execution_count": null,
   "id": "355894bb",
   "metadata": {},
   "outputs": [],
   "source": [
    "ols_muni_daily_beta_ratio_cross_sectional = lm(@formula(OLS_Slope ~ AveRatio + log(AveNt)), \n",
    "    ols_nt_ratio_muni_daily)"
   ]
  },
  {
   "cell_type": "code",
   "execution_count": null,
   "id": "e629fe34",
   "metadata": {},
   "outputs": [],
   "source": [
    "ols_nt_ratio_muni_daily.cs_ols_res = residuals(ols_muni_daily_beta_ratio_cross_sectional);\n",
    "@df filter(:AveNt => v -> v <= 2000, ols_nt_ratio_muni_daily) scatter(log.(:AveNt), :cs_ols_res,\n",
    "    label = :none, \n",
    "    xlabel = \"log(Ni)\", \n",
    "    ylabel = \"Cross-sectional OLS residuals\", title = \"Each point is a municipality\");"
   ]
  },
  {
   "cell_type": "markdown",
   "id": "7366b46e",
   "metadata": {},
   "source": [
    "#### Time-series"
   ]
  },
  {
   "cell_type": "code",
   "execution_count": null,
   "id": "3adbfb70",
   "metadata": {},
   "outputs": [],
   "source": [
    "Aarhus = @pipe innerjoin(select(muni_Nt, :Date, \"Aarhus\" => \"Nt\"), \n",
    "    select(muni_daily_score_beta, :Date, \"Aarhus\" => \"ScoreBetaHat\"), \n",
    "    on = :Date => :Date) |> innerjoin(_, \n",
    "    select(muni_Ct, \"Date\" => \"Date\", \"Aarhus\" => \"Ct\"), \n",
    "    on = :Date => :Date);\n",
    "Aarhus.PosRatio = Aarhus.Ct ./ Aarhus.Nt;\n",
    "@df Aarhus plot(:Date, :ScoreBetaHat, label = \"β hat\", \n",
    "    title = \"Aarhus\", color = \"blue\", leg = :bottomright)\n",
    "@df Aarhus plot!(twinx(), :Date, log.(:Nt), label = \"log(Nt)\", \n",
    "    color = \"red\", leg = :topright)"
   ]
  },
  {
   "cell_type": "code",
   "execution_count": null,
   "id": "74c06824",
   "metadata": {},
   "outputs": [],
   "source": [
    "@df Aarhus scatter(log.(:Nt), :ScoreBetaHat, label = :none, \n",
    "    title = \"Aarhus\", xlabel = \"log(Nt)\", ylabel = \"Score beta hat\")"
   ]
  },
  {
   "cell_type": "code",
   "execution_count": null,
   "id": "e9d4b488",
   "metadata": {},
   "outputs": [],
   "source": [
    "Aalborg = @pipe innerjoin(select(muni_Nt, :Date, \"Aalborg\" => \"Nt\"), \n",
    "    select(muni_daily_score_beta, :Date, \"Aalborg\" => \"ScoreBetaHat\"), \n",
    "    on = :Date => :Date) |> innerjoin(_, \n",
    "    select(muni_Ct, \"Date\" => \"Date\", \"Aalborg\" => \"Ct\"), \n",
    "    on = :Date => :Date);\n",
    "Aalborg.PosRatio = Aalborg.Ct ./ Aalborg.Nt;\n",
    "@df Aalborg plot(:Date, :ScoreBetaHat, label = \"β hat\", \n",
    "    title = \"Aalborg\", color = \"blue\", leg = :bottomright)\n",
    "@df Aalborg plot!(twinx(), :Date, log.(:Nt), label = \"log(Nt)\", \n",
    "    color = \"red\", leg = :topright)"
   ]
  },
  {
   "cell_type": "code",
   "execution_count": null,
   "id": "8e5dee1d",
   "metadata": {},
   "outputs": [],
   "source": [
    "@df Aalborg scatter(log.(:Nt), :ScoreBetaHat, label = :none, \n",
    "    title = \"Aalborg\", xlabel = \"log(Nt)\", ylabel = \"Score beta hat\")"
   ]
  },
  {
   "cell_type": "code",
   "execution_count": null,
   "id": "96bed4ce",
   "metadata": {},
   "outputs": [],
   "source": [
    "Odense = @pipe innerjoin(select(muni_Nt, :Date, \"Odense\" => \"Nt\"), \n",
    "    select(muni_daily_score_beta, :Date, \"Odense\" => \"ScoreBetaHat\"), \n",
    "    on = :Date => :Date) |> innerjoin(_, \n",
    "    select(muni_Ct, \"Date\" => \"Date\", \"Odense\" => \"Ct\"), \n",
    "    on = :Date => :Date);\n",
    "Odense.PosRatio = Odense.Ct ./ Odense.Nt;\n",
    "@df Odense plot(:Date, :ScoreBetaHat, label = \"β hat\", \n",
    "    title = \"Odense\", color = \"blue\", leg = :bottomright)\n",
    "@df Odense plot!(twinx(), :Date, :Nt, label = \"Nt\", \n",
    "    color = \"red\", leg = :topright)"
   ]
  },
  {
   "cell_type": "code",
   "execution_count": null,
   "id": "54954408",
   "metadata": {},
   "outputs": [],
   "source": [
    "@df Odense scatter(:Nt, :ScoreBetaHat, label = :none, \n",
    "    title = \"Odense\", xlabel = \"Nt\", ylabel = \"Score beta hat\")"
   ]
  },
  {
   "cell_type": "code",
   "execution_count": null,
   "id": "3752903a",
   "metadata": {},
   "outputs": [],
   "source": [
    "Copenhagen = @pipe innerjoin(select(muni_Nt, :Date, \"Copenhagen\" => \"Nt\"), \n",
    "    select(muni_daily_score_beta, :Date, \"Copenhagen\" => \"ScoreBetaHat\"), \n",
    "    on = :Date => :Date) |> innerjoin(_, \n",
    "    select(muni_Ct, \"Date\" => \"Date\", \"Copenhagen\" => \"Ct\"), \n",
    "    on = :Date => :Date);\n",
    "Copenhagen.PosRatio = Copenhagen.Ct ./ Copenhagen.Nt;\n",
    "@df Copenhagen plot(:Date, :ScoreBetaHat, label = \"β hat\", \n",
    "    title = \"Copenhagen\", color = \"blue\", leg = :bottomright)\n",
    "@df Copenhagen plot!(twinx(), :Date, :Nt, label = \"Nt\", \n",
    "    color = \"red\", leg = :topright)"
   ]
  },
  {
   "cell_type": "code",
   "execution_count": null,
   "id": "8517f999",
   "metadata": {},
   "outputs": [],
   "source": [
    "@df Copenhagen scatter(:Nt, :ScoreBetaHat, label = :none, \n",
    "    title = \"Copenhagen\", xlabel = \"Nt\", ylabel = \"Score beta hat\")"
   ]
  },
  {
   "cell_type": "markdown",
   "id": "d89993fe",
   "metadata": {},
   "source": [
    "### Section 3.3.2: Weekly"
   ]
  },
  {
   "cell_type": "markdown",
   "id": "52b92e3b",
   "metadata": {},
   "source": [
    "#### Cross-sectional"
   ]
  },
  {
   "cell_type": "code",
   "execution_count": null,
   "id": "b9ad73eb",
   "metadata": {},
   "outputs": [],
   "source": [
    "# Calculate positive-ratio for each municipality, panel data\n",
    "muni_weekly_PosRatio = DataFrame(); \n",
    "for i in 1 : Int((ncol(muni_weekly_level)-1)/2)\n",
    "    Ct = muni_weekly_level[:, i+1];\n",
    "    city_name = names(muni_weekly_level)[i + 1];\n",
    "    Nt = muni_weekly_level[:, string(city_name, \"_1\")];\n",
    "    ratio = Ct ./ Nt;\n",
    "    muni_weekly_PosRatio[!, city_name] = ratio;\n",
    "end\n",
    "insertcols!(muni_weekly_PosRatio, 1, :Date => muni_weekly_level.Date);\n",
    "for col in eachcol(muni_weekly_PosRatio)\n",
    "    replace!(col, NaN => 0, Inf => 0);  # When Nt are 0, replace the ratio to be 0 instead of NaN and Inf.\n",
    "end\n",
    "\n",
    "# Create a dataframe contain averaged Nt and PosRatio and OLS estimates, cross-sectional data\n",
    "d1 = @pipe DataFrame(City = names(muni_Nt, Not(:Date)),\n",
    "          AveNt = mean.(eachcol(muni_Nt[:, Not(:Date)]))); \n",
    "d2 = @pipe DataFrame(City = names(muni_weekly_PosRatio, Not(:Date)),\n",
    "          AveRatio = Float64.(mean.(eachcol(muni_weekly_PosRatio[:, Not(:Date)]))));\n",
    "ols_nt_ratio_muni_weekly = @pipe leftjoin(ols_muni_weekly_coef, d1, on = :City) |> \n",
    "leftjoin(_, d2, on = :City);"
   ]
  },
  {
   "cell_type": "code",
   "execution_count": null,
   "id": "c2d08dc9",
   "metadata": {},
   "outputs": [],
   "source": [
    "@df ols_nt_ratio_muni_weekly scatter(log.(:AveNt), :OLS_Slope, \n",
    "    label = :none, \n",
    "    xlabel = \"log(Ni)\", \n",
    "    ylabel = \"OLS \\\\beta\", title = \"Each point is a municipality\")"
   ]
  },
  {
   "cell_type": "code",
   "execution_count": null,
   "id": "e350ecc9",
   "metadata": {},
   "outputs": [],
   "source": [
    "@df ols_nt_ratio_muni_weekly scatter(:AveRatio, :OLS_Slope, \n",
    "    label = :none, \n",
    "    xlabel = \"Average Positive Ratio\", \n",
    "    ylabel = \"OLS \\\\beta\", title = \"Each point is a municipality\")"
   ]
  },
  {
   "cell_type": "code",
   "execution_count": null,
   "id": "d182668f",
   "metadata": {},
   "outputs": [],
   "source": [
    "ols_muni_weekly_beta_ratio_cross_sectional = lm(@formula(OLS_Slope ~ AveRatio + log(AveNt)), \n",
    "    ols_nt_ratio_muni_weekly)"
   ]
  },
  {
   "cell_type": "markdown",
   "id": "33005e32",
   "metadata": {},
   "source": [
    "### Section 3.3.3: Weekday"
   ]
  },
  {
   "cell_type": "markdown",
   "id": "b9c228a1",
   "metadata": {},
   "source": [
    "#### Cross-sectional"
   ]
  },
  {
   "cell_type": "code",
   "execution_count": null,
   "id": "9114c00f",
   "metadata": {},
   "outputs": [],
   "source": [
    "ols_nt_ratio_muni_7dd = @pipe leftjoin(ols_muni_7dd_coef, d1, on = :City) |> \n",
    "leftjoin(_, d2, on = :City);"
   ]
  },
  {
   "cell_type": "code",
   "execution_count": null,
   "id": "36fddc7f",
   "metadata": {},
   "outputs": [],
   "source": [
    "@df ols_nt_ratio_muni_7dd scatter(log.(:AveNt), :OLS_Slope, \n",
    "    label = :none, \n",
    "    xlabel = \"log(Ni)\", \n",
    "    ylabel = \"OLS \\\\beta\", title = \"Each point is a municipality\")"
   ]
  },
  {
   "cell_type": "code",
   "execution_count": null,
   "id": "7e929368",
   "metadata": {},
   "outputs": [],
   "source": [
    "@df ols_nt_ratio_muni_7dd scatter(:AveRatio, :OLS_Slope, \n",
    "    label = :none, \n",
    "    xlabel = \"Average Positive Ratio\", \n",
    "    ylabel = \"OLS \\\\beta\", title = \"Each point is a municipality\")"
   ]
  },
  {
   "cell_type": "code",
   "execution_count": null,
   "id": "b17fde3c",
   "metadata": {},
   "outputs": [],
   "source": [
    "ols_muni_7dd_beta_ratio_cross_sectional = lm(@formula(OLS_Slope ~ AveRatio + log(AveNt)), \n",
    "    ols_nt_ratio_muni_7dd)"
   ]
  },
  {
   "cell_type": "markdown",
   "id": "2db9e240",
   "metadata": {},
   "source": [
    "#### Time-series"
   ]
  },
  {
   "cell_type": "code",
   "execution_count": null,
   "id": "b7b83ae3",
   "metadata": {},
   "outputs": [],
   "source": [
    "Aarhus_7dd = @pipe innerjoin(select(muni_Nt, :Date, \"Aarhus\" => \"Nt\"), \n",
    "    select(muni_7dd_score_beta, :Date, \"Aarhus\" => \"ScoreBetaHat\"), \n",
    "    on = :Date => :Date) |> innerjoin(_, \n",
    "    select(muni_Ct, \"Date\" => \"Date\", \"Aarhus\" => \"Ct\"), \n",
    "    on = :Date => :Date);\n",
    "Aarhus_7dd.PosRatio = Aarhus_7dd.Ct ./ Aarhus_7dd.Nt;\n",
    "@df Aarhus_7dd plot(:Date, :ScoreBetaHat, label = \"β hat\", \n",
    "    title = \"Aarhus 7dd\", color = \"blue\", leg = :bottomright)\n",
    "@df Aarhus_7dd plot!(twinx(), :Date, log.(:Nt), label = \"log(Nt)\", \n",
    "    color = \"red\", leg = :topright)"
   ]
  },
  {
   "cell_type": "code",
   "execution_count": null,
   "id": "8a69a387",
   "metadata": {},
   "outputs": [],
   "source": [
    "@df Aarhus_7dd scatter(log.(:Nt), :ScoreBetaHat, label = :none, \n",
    "    title = \"Aarhus 7dd\", xlabel = \"log(Nt)\", ylabel = \"Score beta hat\")"
   ]
  },
  {
   "cell_type": "code",
   "execution_count": null,
   "id": "18f6fa0d",
   "metadata": {},
   "outputs": [],
   "source": [
    "Aalborg_7dd = @pipe innerjoin(select(muni_Nt, :Date, \"Aalborg\" => \"Nt\"), \n",
    "    select(muni_7dd_score_beta, :Date, \"Aalborg\" => \"ScoreBetaHat\"), \n",
    "    on = :Date => :Date) |> innerjoin(_, \n",
    "    select(muni_Ct, \"Date\" => \"Date\", \"Aalborg\" => \"Ct\"), \n",
    "    on = :Date => :Date);\n",
    "Aalborg_7dd.PosRatio = Aalborg_7dd.Ct ./ Aalborg_7dd.Nt;\n",
    "@df Aalborg_7dd plot(:Date, :ScoreBetaHat, label = \"β hat\", \n",
    "    title = \"Aalborg 7dd\", color = \"blue\", leg = :bottomright)\n",
    "@df Aalborg_7dd plot!(twinx(), :Date, log.(:Nt), label = \"log(Nt)\", \n",
    "    color = \"red\", leg = :topright)"
   ]
  },
  {
   "cell_type": "code",
   "execution_count": null,
   "id": "acaf797a",
   "metadata": {},
   "outputs": [],
   "source": [
    "@df Aalborg_7dd scatter(:Nt, :ScoreBetaHat, label = :none, \n",
    "    title = \"Aalborg 7dd\", xlabel = \"Nt\", ylabel = \"Score beta hat\")"
   ]
  },
  {
   "cell_type": "code",
   "execution_count": null,
   "id": "2fceb651",
   "metadata": {},
   "outputs": [],
   "source": [
    "Odense_7dd = @pipe innerjoin(select(muni_Nt, :Date, \"Odense\" => \"Nt\"), \n",
    "    select(muni_7dd_score_beta, :Date, \"Odense\" => \"ScoreBetaHat\"), \n",
    "    on = :Date => :Date) |> innerjoin(_, \n",
    "    select(muni_Ct, \"Date\" => \"Date\", \"Odense\" => \"Ct\"), \n",
    "    on = :Date => :Date);\n",
    "Odense_7dd.PosRatio = Odense_7dd.Ct ./ Odense_7dd.Nt;\n",
    "@df Odense_7dd plot(:Date, :ScoreBetaHat, label = \"β hat\", \n",
    "    title = \"Odense 7dd\", color = \"blue\", leg = :bottomright)\n",
    "@df Odense_7dd plot!(twinx(), :Date, :Nt, label = \"Nt\", \n",
    "    color = \"red\", leg = :topright)"
   ]
  },
  {
   "cell_type": "code",
   "execution_count": null,
   "id": "dc29f6e1",
   "metadata": {},
   "outputs": [],
   "source": [
    "@df Odense_7dd scatter(:Nt, :ScoreBetaHat, label = :none, \n",
    "    title = \"Odense 7dd\", xlabel = \"Nt\", ylabel = \"Score beta hat\")"
   ]
  },
  {
   "cell_type": "code",
   "execution_count": null,
   "id": "829681de",
   "metadata": {},
   "outputs": [],
   "source": [
    "Copenhagen_7dd = @pipe innerjoin(select(muni_Nt, :Date, \"Copenhagen\" => \"Nt\"), \n",
    "    select(muni_7dd_score_beta, :Date, \"Copenhagen\" => \"ScoreBetaHat\"), \n",
    "    on = :Date => :Date) |> innerjoin(_, \n",
    "    select(muni_Ct, \"Date\" => \"Date\", \"Copenhagen\" => \"Ct\"), \n",
    "    on = :Date => :Date);\n",
    "Copenhagen_7dd.PosRatio = Copenhagen_7dd.Ct ./ Copenhagen_7dd.Nt;\n",
    "@df Copenhagen_7dd plot(:Date, :ScoreBetaHat, label = \"β hat\", \n",
    "    title = \"Copenhagen 7dd\", color = \"blue\", leg = :bottomright)\n",
    "@df Copenhagen_7dd plot!(twinx(), :Date, :Nt, label = \"Nt\", \n",
    "    color = \"red\", leg = :topright)"
   ]
  },
  {
   "cell_type": "code",
   "execution_count": null,
   "id": "02ad7664",
   "metadata": {},
   "outputs": [],
   "source": [
    "@df Copenhagen_7dd scatter(:Nt, :ScoreBetaHat, label = :none, \n",
    "    title = \"Copenhagen 7dd\", xlabel = \"Nt\", ylabel = \"Score beta hat\")"
   ]
  }
 ],
 "metadata": {
  "kernelspec": {
   "display_name": "Julia 1.7.1",
   "language": "julia",
   "name": "julia-1.7"
  },
  "language_info": {
   "file_extension": ".jl",
   "mimetype": "application/julia",
   "name": "julia",
   "version": "1.7.1"
  }
 },
 "nbformat": 4,
 "nbformat_minor": 5
}
